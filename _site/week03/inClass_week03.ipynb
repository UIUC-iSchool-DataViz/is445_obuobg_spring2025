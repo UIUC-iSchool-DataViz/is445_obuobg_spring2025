{
 "cells": [
  {
   "cell_type": "markdown",
   "id": "respective-store",
   "metadata": {},
   "source": [
    "# In Class Notebook, Week 03"
   ]
  },
  {
   "cell_type": "markdown",
   "id": "patent-merit",
   "metadata": {},
   "source": [
    "To access this in near-real time try: https://github.com/UIUC-iSchool-DataViz/is445_obuobg_spring2025/blob/master/week03/inClass_week03.ipynb\n",
    "\n",
    "Or paste this URL into the nbviewer interface for a plain-text rendering:\n",
    "\n",
    "https://kokes.github.io/nbviewer.js/viewer.html"
   ]
  },
  {
   "cell_type": "code",
   "execution_count": 1,
   "id": "70c483d7",
   "metadata": {},
   "outputs": [],
   "source": [
    "import matplotlib.pyplot as plt"
   ]
  },
  {
   "cell_type": "code",
   "execution_count": 2,
   "id": "f1e75efd",
   "metadata": {},
   "outputs": [],
   "source": [
    "import PIL.Image as Image # only use the Image function"
   ]
  },
  {
   "cell_type": "markdown",
   "id": "9276bad2-b2ef-4994-baee-77e4fa45635c",
   "metadata": {},
   "source": [
    "The below should work if you are working on the not"
   ]
  },
  {
   "cell_type": "code",
   "execution_count": 4,
   "id": "ba6db112",
   "metadata": {},
   "outputs": [
    {
     "name": "stdout",
     "output_type": "stream",
     "text": [
      "/bin/bash: wget: command not found\n"
     ]
    }
   ],
   "source": [
    "#!wget https://github.com/UIUC-iSchool-DataViz/is445_data/raw/main/stitch_reworked.png"
   ]
  },
  {
   "cell_type": "code",
   "execution_count": null,
   "id": "de389f45-6dd6-46d5-b2f5-1141f6645a78",
   "metadata": {},
   "outputs": [],
   "source": []
  }
 ],
 "metadata": {
  "kernelspec": {
   "display_name": "Python 3 (ipykernel)",
   "language": "python",
   "name": "python3"
  },
  "language_info": {
   "codemirror_mode": {
    "name": "ipython",
    "version": 3
   },
   "file_extension": ".py",
   "mimetype": "text/x-python",
   "name": "python",
   "nbconvert_exporter": "python",
   "pygments_lexer": "ipython3",
   "version": "3.10.14"
  }
 },
 "nbformat": 4,
 "nbformat_minor": 5
}
