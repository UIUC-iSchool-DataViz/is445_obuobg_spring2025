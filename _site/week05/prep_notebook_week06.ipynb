{
 "cells": [
  {
   "cell_type": "markdown",
   "metadata": {},
   "source": [
    "# Week 05: Continuing interactivity in Python with the viz engine bqplot"
   ]
  },
  {
   "cell_type": "markdown",
   "metadata": {},
   "source": [
    "## But first, some hints for the HW"
   ]
  },
  {
   "cell_type": "markdown",
   "metadata": {},
   "source": [
    "Let's look at an example dataset:"
   ]
  },
  {
   "cell_type": "code",
   "execution_count": 1,
   "metadata": {},
   "outputs": [],
   "source": [
    "import pandas as pd\n",
    "\n",
    "bf = pd.read_csv(\"https://raw.githubusercontent.com/UIUC-iSchool-DataViz/is445_data/refs/heads/main/bfro_reports_fall2022.csv\",\n",
    "                  parse_dates = [\"date\"])\n",
    "\n",
    "# you might get a memory warning thing, its just not deprecated correctly\n",
    "#  try not to panic :D"
   ]
  },
  {
   "cell_type": "code",
   "execution_count": 2,
   "metadata": {},
   "outputs": [
    {
     "data": {
      "text/html": [
       "<div>\n",
       "<style scoped>\n",
       "    .dataframe tbody tr th:only-of-type {\n",
       "        vertical-align: middle;\n",
       "    }\n",
       "\n",
       "    .dataframe tbody tr th {\n",
       "        vertical-align: top;\n",
       "    }\n",
       "\n",
       "    .dataframe thead th {\n",
       "        text-align: right;\n",
       "    }\n",
       "</style>\n",
       "<table border=\"1\" class=\"dataframe\">\n",
       "  <thead>\n",
       "    <tr style=\"text-align: right;\">\n",
       "      <th></th>\n",
       "      <th>observed</th>\n",
       "      <th>location_details</th>\n",
       "      <th>county</th>\n",
       "      <th>state</th>\n",
       "      <th>season</th>\n",
       "      <th>title</th>\n",
       "      <th>latitude</th>\n",
       "      <th>longitude</th>\n",
       "      <th>date</th>\n",
       "      <th>number</th>\n",
       "      <th>...</th>\n",
       "      <th>precip_intensity</th>\n",
       "      <th>precip_probability</th>\n",
       "      <th>precip_type</th>\n",
       "      <th>pressure</th>\n",
       "      <th>summary</th>\n",
       "      <th>uv_index</th>\n",
       "      <th>visibility</th>\n",
       "      <th>wind_bearing</th>\n",
       "      <th>wind_speed</th>\n",
       "      <th>location</th>\n",
       "    </tr>\n",
       "  </thead>\n",
       "  <tbody>\n",
       "    <tr>\n",
       "      <th>0</th>\n",
       "      <td>Ed L. was salmon fishing with a companion in P...</td>\n",
       "      <td>East side of Prince William Sound</td>\n",
       "      <td>Valdez-Chitina-Whittier County</td>\n",
       "      <td>Alaska</td>\n",
       "      <td>Fall</td>\n",
       "      <td>NaN</td>\n",
       "      <td>NaN</td>\n",
       "      <td>NaN</td>\n",
       "      <td>NaT</td>\n",
       "      <td>1261.0</td>\n",
       "      <td>...</td>\n",
       "      <td>NaN</td>\n",
       "      <td>NaN</td>\n",
       "      <td>NaN</td>\n",
       "      <td>NaN</td>\n",
       "      <td>NaN</td>\n",
       "      <td>NaN</td>\n",
       "      <td>NaN</td>\n",
       "      <td>NaN</td>\n",
       "      <td>NaN</td>\n",
       "      <td>NaN</td>\n",
       "    </tr>\n",
       "    <tr>\n",
       "      <th>1</th>\n",
       "      <td>heh i kinda feel a little dumb that im reporti...</td>\n",
       "      <td>the road is off us rt 80, i dont know the exit...</td>\n",
       "      <td>Warren County</td>\n",
       "      <td>New Jersey</td>\n",
       "      <td>Fall</td>\n",
       "      <td>NaN</td>\n",
       "      <td>NaN</td>\n",
       "      <td>NaN</td>\n",
       "      <td>NaT</td>\n",
       "      <td>438.0</td>\n",
       "      <td>...</td>\n",
       "      <td>NaN</td>\n",
       "      <td>NaN</td>\n",
       "      <td>NaN</td>\n",
       "      <td>NaN</td>\n",
       "      <td>NaN</td>\n",
       "      <td>NaN</td>\n",
       "      <td>NaN</td>\n",
       "      <td>NaN</td>\n",
       "      <td>NaN</td>\n",
       "      <td>NaN</td>\n",
       "    </tr>\n",
       "    <tr>\n",
       "      <th>2</th>\n",
       "      <td>I was on my way to Claremont from Lebanon on R...</td>\n",
       "      <td>Close to Claremont down 120 not far from Kings...</td>\n",
       "      <td>Sullivan County</td>\n",
       "      <td>New Hampshire</td>\n",
       "      <td>Summer</td>\n",
       "      <td>Report 55269: Dawn sighting at Stevens Brook o...</td>\n",
       "      <td>43.41549</td>\n",
       "      <td>-72.33093</td>\n",
       "      <td>2016-06-07</td>\n",
       "      <td>55269.0</td>\n",
       "      <td>...</td>\n",
       "      <td>0.001</td>\n",
       "      <td>0.7</td>\n",
       "      <td>rain</td>\n",
       "      <td>998.87</td>\n",
       "      <td>Mostly cloudy throughout the day.</td>\n",
       "      <td>6.0</td>\n",
       "      <td>9.70</td>\n",
       "      <td>262.0</td>\n",
       "      <td>0.49</td>\n",
       "      <td>POINT(-72.33093000000001 43.415490000000005)</td>\n",
       "    </tr>\n",
       "    <tr>\n",
       "      <th>3</th>\n",
       "      <td>I was northeast of Macy Nebraska along the Mis...</td>\n",
       "      <td>Latitude &amp; Longitude :  42.158230  -96.344197</td>\n",
       "      <td>Thurston County</td>\n",
       "      <td>Nebraska</td>\n",
       "      <td>Spring</td>\n",
       "      <td>Report 59757: Possible daylight sighting of a ...</td>\n",
       "      <td>42.15685</td>\n",
       "      <td>-96.34203</td>\n",
       "      <td>2018-05-25</td>\n",
       "      <td>59757.0</td>\n",
       "      <td>...</td>\n",
       "      <td>0.000</td>\n",
       "      <td>0.0</td>\n",
       "      <td>NaN</td>\n",
       "      <td>1008.07</td>\n",
       "      <td>Partly cloudy in the morning.</td>\n",
       "      <td>10.0</td>\n",
       "      <td>8.25</td>\n",
       "      <td>193.0</td>\n",
       "      <td>3.33</td>\n",
       "      <td>POINT(-96.34203000000001 42.15685)</td>\n",
       "    </tr>\n",
       "    <tr>\n",
       "      <th>4</th>\n",
       "      <td>While this incident occurred a long time ago, ...</td>\n",
       "      <td>Ward County, Just outside of a the Minuteman T...</td>\n",
       "      <td>Ward County</td>\n",
       "      <td>North Dakota</td>\n",
       "      <td>Spring</td>\n",
       "      <td>Report 751: Hunter describes described being s...</td>\n",
       "      <td>48.25422</td>\n",
       "      <td>-101.31660</td>\n",
       "      <td>2000-04-21</td>\n",
       "      <td>751.0</td>\n",
       "      <td>...</td>\n",
       "      <td>NaN</td>\n",
       "      <td>NaN</td>\n",
       "      <td>rain</td>\n",
       "      <td>1011.47</td>\n",
       "      <td>Partly cloudy until evening.</td>\n",
       "      <td>6.0</td>\n",
       "      <td>10.00</td>\n",
       "      <td>237.0</td>\n",
       "      <td>11.14</td>\n",
       "      <td>POINT(-101.3166 48.254220000000004)</td>\n",
       "    </tr>\n",
       "    <tr>\n",
       "      <th>...</th>\n",
       "      <td>...</td>\n",
       "      <td>...</td>\n",
       "      <td>...</td>\n",
       "      <td>...</td>\n",
       "      <td>...</td>\n",
       "      <td>...</td>\n",
       "      <td>...</td>\n",
       "      <td>...</td>\n",
       "      <td>...</td>\n",
       "      <td>...</td>\n",
       "      <td>...</td>\n",
       "      <td>...</td>\n",
       "      <td>...</td>\n",
       "      <td>...</td>\n",
       "      <td>...</td>\n",
       "      <td>...</td>\n",
       "      <td>...</td>\n",
       "      <td>...</td>\n",
       "      <td>...</td>\n",
       "      <td>...</td>\n",
       "      <td>...</td>\n",
       "    </tr>\n",
       "    <tr>\n",
       "      <th>4742</th>\n",
       "      <td>My cousin and I were camping way out in the wo...</td>\n",
       "      <td>Indiana, Brown County, Elkinsville, Lake Monro...</td>\n",
       "      <td>Brown County</td>\n",
       "      <td>Indiana</td>\n",
       "      <td>Spring</td>\n",
       "      <td>NaN</td>\n",
       "      <td>NaN</td>\n",
       "      <td>NaN</td>\n",
       "      <td>NaT</td>\n",
       "      <td>2460.0</td>\n",
       "      <td>...</td>\n",
       "      <td>NaN</td>\n",
       "      <td>NaN</td>\n",
       "      <td>NaN</td>\n",
       "      <td>NaN</td>\n",
       "      <td>NaN</td>\n",
       "      <td>NaN</td>\n",
       "      <td>NaN</td>\n",
       "      <td>NaN</td>\n",
       "      <td>NaN</td>\n",
       "      <td>NaN</td>\n",
       "    </tr>\n",
       "    <tr>\n",
       "      <th>4743</th>\n",
       "      <td>While backpacking near the horse trails and ac...</td>\n",
       "      <td>Near Bedford south of Brown County in the Hoos...</td>\n",
       "      <td>Brown County</td>\n",
       "      <td>Indiana</td>\n",
       "      <td>Winter</td>\n",
       "      <td>NaN</td>\n",
       "      <td>NaN</td>\n",
       "      <td>NaN</td>\n",
       "      <td>NaT</td>\n",
       "      <td>2461.0</td>\n",
       "      <td>...</td>\n",
       "      <td>NaN</td>\n",
       "      <td>NaN</td>\n",
       "      <td>NaN</td>\n",
       "      <td>NaN</td>\n",
       "      <td>NaN</td>\n",
       "      <td>NaN</td>\n",
       "      <td>NaN</td>\n",
       "      <td>NaN</td>\n",
       "      <td>NaN</td>\n",
       "      <td>NaN</td>\n",
       "    </tr>\n",
       "    <tr>\n",
       "      <th>4744</th>\n",
       "      <td>My wife and I were camping At Yellowood State ...</td>\n",
       "      <td>Yellowood State Park. Off of highway 46 in bet...</td>\n",
       "      <td>Brown County</td>\n",
       "      <td>Indiana</td>\n",
       "      <td>Summer</td>\n",
       "      <td>Report 49480: Campers hear possible vocalizati...</td>\n",
       "      <td>39.17909</td>\n",
       "      <td>-86.33560</td>\n",
       "      <td>2015-08-08</td>\n",
       "      <td>49480.0</td>\n",
       "      <td>...</td>\n",
       "      <td>0.000</td>\n",
       "      <td>0.0</td>\n",
       "      <td>NaN</td>\n",
       "      <td>1014.02</td>\n",
       "      <td>Mostly cloudy in the evening.</td>\n",
       "      <td>9.0</td>\n",
       "      <td>9.22</td>\n",
       "      <td>256.0</td>\n",
       "      <td>0.34</td>\n",
       "      <td>POINT(-86.3356 39.17909)</td>\n",
       "    </tr>\n",
       "    <tr>\n",
       "      <th>4745</th>\n",
       "      <td>My wife and I were driving to Indianapolis to ...</td>\n",
       "      <td>On Interstate 65 in Indiana somewhere around t...</td>\n",
       "      <td>Boone County</td>\n",
       "      <td>Indiana</td>\n",
       "      <td>Winter</td>\n",
       "      <td>NaN</td>\n",
       "      <td>NaN</td>\n",
       "      <td>NaN</td>\n",
       "      <td>NaT</td>\n",
       "      <td>2459.0</td>\n",
       "      <td>...</td>\n",
       "      <td>NaN</td>\n",
       "      <td>NaN</td>\n",
       "      <td>NaN</td>\n",
       "      <td>NaN</td>\n",
       "      <td>NaN</td>\n",
       "      <td>NaN</td>\n",
       "      <td>NaN</td>\n",
       "      <td>NaN</td>\n",
       "      <td>NaN</td>\n",
       "      <td>NaN</td>\n",
       "    </tr>\n",
       "    <tr>\n",
       "      <th>4746</th>\n",
       "      <td>It was about 7:00 PM in September. It was stil...</td>\n",
       "      <td>Blackford County, Indiana located in the south...</td>\n",
       "      <td>Blackford County</td>\n",
       "      <td>Indiana</td>\n",
       "      <td>Summer</td>\n",
       "      <td>NaN</td>\n",
       "      <td>NaN</td>\n",
       "      <td>NaN</td>\n",
       "      <td>NaT</td>\n",
       "      <td>2458.0</td>\n",
       "      <td>...</td>\n",
       "      <td>NaN</td>\n",
       "      <td>NaN</td>\n",
       "      <td>NaN</td>\n",
       "      <td>NaN</td>\n",
       "      <td>NaN</td>\n",
       "      <td>NaN</td>\n",
       "      <td>NaN</td>\n",
       "      <td>NaN</td>\n",
       "      <td>NaN</td>\n",
       "      <td>NaN</td>\n",
       "    </tr>\n",
       "  </tbody>\n",
       "</table>\n",
       "<p>4747 rows × 29 columns</p>\n",
       "</div>"
      ],
      "text/plain": [
       "                                               observed  \\\n",
       "0     Ed L. was salmon fishing with a companion in P...   \n",
       "1     heh i kinda feel a little dumb that im reporti...   \n",
       "2     I was on my way to Claremont from Lebanon on R...   \n",
       "3     I was northeast of Macy Nebraska along the Mis...   \n",
       "4     While this incident occurred a long time ago, ...   \n",
       "...                                                 ...   \n",
       "4742  My cousin and I were camping way out in the wo...   \n",
       "4743  While backpacking near the horse trails and ac...   \n",
       "4744  My wife and I were camping At Yellowood State ...   \n",
       "4745  My wife and I were driving to Indianapolis to ...   \n",
       "4746  It was about 7:00 PM in September. It was stil...   \n",
       "\n",
       "                                       location_details  \\\n",
       "0                     East side of Prince William Sound   \n",
       "1     the road is off us rt 80, i dont know the exit...   \n",
       "2     Close to Claremont down 120 not far from Kings...   \n",
       "3         Latitude & Longitude :  42.158230  -96.344197   \n",
       "4     Ward County, Just outside of a the Minuteman T...   \n",
       "...                                                 ...   \n",
       "4742  Indiana, Brown County, Elkinsville, Lake Monro...   \n",
       "4743  Near Bedford south of Brown County in the Hoos...   \n",
       "4744  Yellowood State Park. Off of highway 46 in bet...   \n",
       "4745  On Interstate 65 in Indiana somewhere around t...   \n",
       "4746  Blackford County, Indiana located in the south...   \n",
       "\n",
       "                              county          state  season  \\\n",
       "0     Valdez-Chitina-Whittier County         Alaska    Fall   \n",
       "1                      Warren County     New Jersey    Fall   \n",
       "2                    Sullivan County  New Hampshire  Summer   \n",
       "3                    Thurston County       Nebraska  Spring   \n",
       "4                        Ward County   North Dakota  Spring   \n",
       "...                              ...            ...     ...   \n",
       "4742                    Brown County        Indiana  Spring   \n",
       "4743                    Brown County        Indiana  Winter   \n",
       "4744                    Brown County        Indiana  Summer   \n",
       "4745                    Boone County        Indiana  Winter   \n",
       "4746                Blackford County        Indiana  Summer   \n",
       "\n",
       "                                                  title  latitude  longitude  \\\n",
       "0                                                   NaN       NaN        NaN   \n",
       "1                                                   NaN       NaN        NaN   \n",
       "2     Report 55269: Dawn sighting at Stevens Brook o...  43.41549  -72.33093   \n",
       "3     Report 59757: Possible daylight sighting of a ...  42.15685  -96.34203   \n",
       "4     Report 751: Hunter describes described being s...  48.25422 -101.31660   \n",
       "...                                                 ...       ...        ...   \n",
       "4742                                                NaN       NaN        NaN   \n",
       "4743                                                NaN       NaN        NaN   \n",
       "4744  Report 49480: Campers hear possible vocalizati...  39.17909  -86.33560   \n",
       "4745                                                NaN       NaN        NaN   \n",
       "4746                                                NaN       NaN        NaN   \n",
       "\n",
       "           date   number  ... precip_intensity precip_probability  \\\n",
       "0           NaT   1261.0  ...              NaN                NaN   \n",
       "1           NaT    438.0  ...              NaN                NaN   \n",
       "2    2016-06-07  55269.0  ...            0.001                0.7   \n",
       "3    2018-05-25  59757.0  ...            0.000                0.0   \n",
       "4    2000-04-21    751.0  ...              NaN                NaN   \n",
       "...         ...      ...  ...              ...                ...   \n",
       "4742        NaT   2460.0  ...              NaN                NaN   \n",
       "4743        NaT   2461.0  ...              NaN                NaN   \n",
       "4744 2015-08-08  49480.0  ...            0.000                0.0   \n",
       "4745        NaT   2459.0  ...              NaN                NaN   \n",
       "4746        NaT   2458.0  ...              NaN                NaN   \n",
       "\n",
       "      precip_type  pressure                            summary  uv_index  \\\n",
       "0             NaN       NaN                                NaN       NaN   \n",
       "1             NaN       NaN                                NaN       NaN   \n",
       "2            rain    998.87  Mostly cloudy throughout the day.       6.0   \n",
       "3             NaN   1008.07      Partly cloudy in the morning.      10.0   \n",
       "4            rain   1011.47       Partly cloudy until evening.       6.0   \n",
       "...           ...       ...                                ...       ...   \n",
       "4742          NaN       NaN                                NaN       NaN   \n",
       "4743          NaN       NaN                                NaN       NaN   \n",
       "4744          NaN   1014.02      Mostly cloudy in the evening.       9.0   \n",
       "4745          NaN       NaN                                NaN       NaN   \n",
       "4746          NaN       NaN                                NaN       NaN   \n",
       "\n",
       "      visibility  wind_bearing  wind_speed  \\\n",
       "0            NaN           NaN         NaN   \n",
       "1            NaN           NaN         NaN   \n",
       "2           9.70         262.0        0.49   \n",
       "3           8.25         193.0        3.33   \n",
       "4          10.00         237.0       11.14   \n",
       "...          ...           ...         ...   \n",
       "4742         NaN           NaN         NaN   \n",
       "4743         NaN           NaN         NaN   \n",
       "4744        9.22         256.0        0.34   \n",
       "4745         NaN           NaN         NaN   \n",
       "4746         NaN           NaN         NaN   \n",
       "\n",
       "                                          location  \n",
       "0                                              NaN  \n",
       "1                                              NaN  \n",
       "2     POINT(-72.33093000000001 43.415490000000005)  \n",
       "3               POINT(-96.34203000000001 42.15685)  \n",
       "4              POINT(-101.3166 48.254220000000004)  \n",
       "...                                            ...  \n",
       "4742                                           NaN  \n",
       "4743                                           NaN  \n",
       "4744                      POINT(-86.3356 39.17909)  \n",
       "4745                                           NaN  \n",
       "4746                                           NaN  \n",
       "\n",
       "[4747 rows x 29 columns]"
      ]
     },
     "execution_count": 2,
     "metadata": {},
     "output_type": "execute_result"
    }
   ],
   "source": [
    "bf"
   ]
  },
  {
   "cell_type": "markdown",
   "metadata": {},
   "source": [
    "Second thing to notice, is this is a pretty darn big dataset!  This can get a little cumbersome if you want to be able to do some quick prototyping of visualizations.  \n",
    "\n",
    "Depending on what sort of computer you are working on, you may want to consider working with a *random subset* of this dataframe for your \"prototyping\" phase, and then only use the full dataset when you are ready for *production*:"
   ]
  },
  {
   "cell_type": "code",
   "execution_count": 3,
   "metadata": {},
   "outputs": [
    {
     "data": {
      "text/plain": [
       "array([ 743, 2554, 3482, 3491, 1042, 4113, 3020, 3711,   30, 3112,  329,\n",
       "       2762, 4497, 3391, 4370, 2934, 4330, 1193, 3357, 1116, 1626, 1077,\n",
       "       3830, 4075, 2964, 4561, 4107, 1878, 3576, 4461, 4635, 1168, 3748,\n",
       "       2990, 3336, 4643, 2445, 2736, 2988, 4672,  259,  706, 1945, 2301,\n",
       "       2790, 1356, 3768, 3398, 3277, 2829, 3146, 2721,  801,  924, 1369,\n",
       "       3071, 1785, 3652, 3624,  193,  631,  429, 1663, 1705, 2183, 1516,\n",
       "       3485,  884, 2644, 1939, 3773, 3266, 2945,  674, 1350, 3974, 3511,\n",
       "         21, 1592,  381,  556,  892, 2794, 4178, 1717, 1259, 4684,  918,\n",
       "       2885, 2356, 4070,  401, 4734, 4306,  384, 2039, 1299, 1437, 3310,\n",
       "       2320, 3433,  312, 2220, 4445, 1873, 2923, 3803, 1740, 3452, 4016,\n",
       "       2778, 2058, 1523, 2788, 3044, 3900, 4025, 3316,  205, 1096, 1465,\n",
       "        313, 2104, 4744, 4721, 1908, 2202, 4336, 3562, 1480,  230, 1285,\n",
       "       3579,  278, 3945, 3029, 4195, 4207,  708, 1371, 2541, 2051, 4671,\n",
       "       2062,  418,  129, 3369, 1762,  915,  951,  463, 1476, 1712, 3873,\n",
       "        192, 4621, 4382, 4453, 4310, 2447,   55, 3896, 1247, 2532, 4102,\n",
       "       1757, 1221,  198, 3260, 3297, 1298, 2837,  374,  997, 2486,  584,\n",
       "       3611, 3214,  675, 4208,  551, 2754, 4273, 4324, 2263, 4449, 3207,\n",
       "       4131, 3698,  656,  202,  603, 4566, 4516, 4053, 1611, 3382, 4435,\n",
       "       3670, 1622, 2171, 3094,    5,  406, 1248, 3430, 1541, 3420, 1819,\n",
       "       3787, 3646, 2325, 1807, 4517, 3275, 1208, 4709, 2519, 1685, 2300,\n",
       "       1417, 1584, 2676, 2227, 4455, 1952,  701, 2654, 4205, 4680,   35,\n",
       "       2136,  776, 4397,  413, 1441, 3722, 2946, 2120, 4591,  403,  302,\n",
       "       3533,  396,  862, 3638, 2259,  358,  201, 2980, 2046,  185, 1179,\n",
       "       2530,  839, 4304,  793, 3979, 4702, 4446,  440, 1929, 1573, 4213,\n",
       "       3294, 3018, 3039,  536, 2798, 3981,  676,  107,  834, 3408, 4326,\n",
       "       3520, 2974,   52,  360, 4532, 4644,  592,  929,  433, 4238, 2591,\n",
       "       2438, 1451, 1065, 1268,  630, 3134, 3592, 2997, 1008, 1590, 4244,\n",
       "       3429, 3672, 3800, 2701,  321,  938, 3546, 4340, 3284, 2256,   50,\n",
       "        527, 3985,  494, 4592, 3716, 1868, 3966, 3758,  294, 2602, 4452,\n",
       "       2977, 2262, 3287, 2515, 1277, 3839,   72, 1475, 2853, 3632, 1856,\n",
       "        317, 3659, 3470,  328, 1653, 2755, 3503, 3217, 3865, 2887, 3323,\n",
       "       2982, 1551, 1777,  533,  535, 4032,  871, 3059, 4704,  385, 4649,\n",
       "       1507, 3609, 2590, 2196, 1236, 2002,  671, 2352, 4443, 1112,  138,\n",
       "       1902, 4398, 2310, 3744, 1875, 4080, 4297,  295,  460, 1215, 2036,\n",
       "       4061, 3875, 4108, 3823, 1446, 4169, 3286, 1470, 1538, 1477, 1570,\n",
       "       4522, 3395, 1864, 1546, 4554, 1701, 1018, 2724, 1621,    9, 4617,\n",
       "       4329, 2133, 4308, 2106, 4640, 2260, 3364, 1526, 3813,  968, 1752,\n",
       "       4598, 3724, 1869,  705,   37, 3971, 1796, 2235,  724,  568,  952,\n",
       "        842, 2890,  482, 2740, 3575,  425,  825,    7, 1068, 2326,  529,\n",
       "       3384, 3416, 1021, 3246, 2559, 4014, 1426,  236, 1342,  254, 2223,\n",
       "       2673, 4418, 2446, 4558,  991, 3703,  525, 1624, 3300,   73, 2024,\n",
       "       3926, 2233, 1880,  888, 2791, 2686, 3173, 3590, 4706, 2158, 4350,\n",
       "        786, 3468, 1309, 3401, 2422, 3017, 4357, 1753, 1725, 3934, 1488,\n",
       "        314, 3509, 2863, 2334,  372, 2180,   10, 3162, 2179, 2292, 2485,\n",
       "       3151,  547, 3332,  264, 3159, 4724, 2348, 1251, 1884,  516, 4293,\n",
       "       1642, 1772, 1385, 3001, 1607])"
      ]
     },
     "execution_count": 3,
     "metadata": {},
     "output_type": "execute_result"
    }
   ],
   "source": [
    "# Lets down sample to 500 samples:\n",
    "import numpy as np\n",
    "\n",
    "nsamples = 500\n",
    "downSampleMask = np.random.choice(range(len(bf)-1), nsamples, replace=False)\n",
    "downSampleMask # take a look"
   ]
  },
  {
   "cell_type": "markdown",
   "metadata": {},
   "source": [
    "Note: I haven't set the \"seed\" for this random pull of indicies so your list might be different!\n",
    "\n",
    "So, downSampleMask is now a list of random indicies for the UFO dataset.  Let's downsample our dataset:"
   ]
  },
  {
   "cell_type": "code",
   "execution_count": 4,
   "metadata": {},
   "outputs": [],
   "source": [
    "bfDS = bf.loc[downSampleMask]"
   ]
  },
  {
   "cell_type": "code",
   "execution_count": 5,
   "metadata": {},
   "outputs": [
    {
     "data": {
      "text/html": [
       "<div>\n",
       "<style scoped>\n",
       "    .dataframe tbody tr th:only-of-type {\n",
       "        vertical-align: middle;\n",
       "    }\n",
       "\n",
       "    .dataframe tbody tr th {\n",
       "        vertical-align: top;\n",
       "    }\n",
       "\n",
       "    .dataframe thead th {\n",
       "        text-align: right;\n",
       "    }\n",
       "</style>\n",
       "<table border=\"1\" class=\"dataframe\">\n",
       "  <thead>\n",
       "    <tr style=\"text-align: right;\">\n",
       "      <th></th>\n",
       "      <th>observed</th>\n",
       "      <th>location_details</th>\n",
       "      <th>county</th>\n",
       "      <th>state</th>\n",
       "      <th>season</th>\n",
       "      <th>title</th>\n",
       "      <th>latitude</th>\n",
       "      <th>longitude</th>\n",
       "      <th>date</th>\n",
       "      <th>number</th>\n",
       "      <th>...</th>\n",
       "      <th>precip_intensity</th>\n",
       "      <th>precip_probability</th>\n",
       "      <th>precip_type</th>\n",
       "      <th>pressure</th>\n",
       "      <th>summary</th>\n",
       "      <th>uv_index</th>\n",
       "      <th>visibility</th>\n",
       "      <th>wind_bearing</th>\n",
       "      <th>wind_speed</th>\n",
       "      <th>location</th>\n",
       "    </tr>\n",
       "  </thead>\n",
       "  <tbody>\n",
       "    <tr>\n",
       "      <th>743</th>\n",
       "      <td>It was at approximately 9:00 - 9:30 p.m.  My m...</td>\n",
       "      <td>Garden State Parkway South, Exit 50 New Gretna...</td>\n",
       "      <td>Burlington County</td>\n",
       "      <td>New Jersey</td>\n",
       "      <td>Summer</td>\n",
       "      <td>Report 14143: Night sighting by motorists near...</td>\n",
       "      <td>39.60835</td>\n",
       "      <td>-74.43445</td>\n",
       "      <td>1998-07-15</td>\n",
       "      <td>14143.0</td>\n",
       "      <td>...</td>\n",
       "      <td>0.0000</td>\n",
       "      <td>0.0</td>\n",
       "      <td>NaN</td>\n",
       "      <td>1018.43</td>\n",
       "      <td>Mostly cloudy until evening.</td>\n",
       "      <td>5.0</td>\n",
       "      <td>8.28</td>\n",
       "      <td>195.0</td>\n",
       "      <td>5.61</td>\n",
       "      <td>POINT(-74.43445 39.60835)</td>\n",
       "    </tr>\n",
       "    <tr>\n",
       "      <th>2554</th>\n",
       "      <td>Mrs. Brenda G., washing the dinner dishes, loo...</td>\n",
       "      <td>Just South of the small community of Yacolt, W...</td>\n",
       "      <td>Clark County</td>\n",
       "      <td>Washington</td>\n",
       "      <td>Summer</td>\n",
       "      <td>Report 933: Family has face to face encounter ...</td>\n",
       "      <td>45.85810</td>\n",
       "      <td>-122.40890</td>\n",
       "      <td>1989-06-14</td>\n",
       "      <td>933.0</td>\n",
       "      <td>...</td>\n",
       "      <td>0.0136</td>\n",
       "      <td>1.0</td>\n",
       "      <td>rain</td>\n",
       "      <td>1016.46</td>\n",
       "      <td>Light rain in the morning and afternoon.</td>\n",
       "      <td>4.0</td>\n",
       "      <td>7.67</td>\n",
       "      <td>128.0</td>\n",
       "      <td>0.94</td>\n",
       "      <td>POINT(-122.4089 45.8581)</td>\n",
       "    </tr>\n",
       "    <tr>\n",
       "      <th>3482</th>\n",
       "      <td>In 1974, I purchased an arce of land in northe...</td>\n",
       "      <td>California Pines--an area boarded on 3 sides b...</td>\n",
       "      <td>Modoc County</td>\n",
       "      <td>California</td>\n",
       "      <td>Summer</td>\n",
       "      <td>Report 875: Man has sighting near Alturas</td>\n",
       "      <td>41.41000</td>\n",
       "      <td>-120.67810</td>\n",
       "      <td>1974-06-01</td>\n",
       "      <td>875.0</td>\n",
       "      <td>...</td>\n",
       "      <td>NaN</td>\n",
       "      <td>NaN</td>\n",
       "      <td>rain</td>\n",
       "      <td>NaN</td>\n",
       "      <td>Clear throughout the day.</td>\n",
       "      <td>8.0</td>\n",
       "      <td>NaN</td>\n",
       "      <td>316.0</td>\n",
       "      <td>4.15</td>\n",
       "      <td>POINT(-120.6781 41.41)</td>\n",
       "    </tr>\n",
       "    <tr>\n",
       "      <th>3491</th>\n",
       "      <td>I believe this event took place in the late 19...</td>\n",
       "      <td>Standish - Hickey State Park. Across the river...</td>\n",
       "      <td>Mendocino County</td>\n",
       "      <td>California</td>\n",
       "      <td>Summer</td>\n",
       "      <td>NaN</td>\n",
       "      <td>NaN</td>\n",
       "      <td>NaN</td>\n",
       "      <td>NaT</td>\n",
       "      <td>4182.0</td>\n",
       "      <td>...</td>\n",
       "      <td>NaN</td>\n",
       "      <td>NaN</td>\n",
       "      <td>NaN</td>\n",
       "      <td>NaN</td>\n",
       "      <td>NaN</td>\n",
       "      <td>NaN</td>\n",
       "      <td>NaN</td>\n",
       "      <td>NaN</td>\n",
       "      <td>NaN</td>\n",
       "      <td>NaN</td>\n",
       "    </tr>\n",
       "    <tr>\n",
       "      <th>1042</th>\n",
       "      <td>It happened when my friend and I were 13. When...</td>\n",
       "      <td>Going out of Belmont, towards Alfred, after th...</td>\n",
       "      <td>Allegany County</td>\n",
       "      <td>New York</td>\n",
       "      <td>Winter</td>\n",
       "      <td>Report 28244: Young girls remember seeing a ha...</td>\n",
       "      <td>42.24542</td>\n",
       "      <td>-77.98756</td>\n",
       "      <td>1999-01-16</td>\n",
       "      <td>28244.0</td>\n",
       "      <td>...</td>\n",
       "      <td>NaN</td>\n",
       "      <td>NaN</td>\n",
       "      <td>NaN</td>\n",
       "      <td>NaN</td>\n",
       "      <td>NaN</td>\n",
       "      <td>NaN</td>\n",
       "      <td>NaN</td>\n",
       "      <td>NaN</td>\n",
       "      <td>NaN</td>\n",
       "      <td>POINT(-77.98756 42.24542)</td>\n",
       "    </tr>\n",
       "    <tr>\n",
       "      <th>...</th>\n",
       "      <td>...</td>\n",
       "      <td>...</td>\n",
       "      <td>...</td>\n",
       "      <td>...</td>\n",
       "      <td>...</td>\n",
       "      <td>...</td>\n",
       "      <td>...</td>\n",
       "      <td>...</td>\n",
       "      <td>...</td>\n",
       "      <td>...</td>\n",
       "      <td>...</td>\n",
       "      <td>...</td>\n",
       "      <td>...</td>\n",
       "      <td>...</td>\n",
       "      <td>...</td>\n",
       "      <td>...</td>\n",
       "      <td>...</td>\n",
       "      <td>...</td>\n",
       "      <td>...</td>\n",
       "      <td>...</td>\n",
       "      <td>...</td>\n",
       "    </tr>\n",
       "    <tr>\n",
       "      <th>1642</th>\n",
       "      <td>This incident happened around 1988-89.  I was ...</td>\n",
       "      <td>NaN</td>\n",
       "      <td>Erie County</td>\n",
       "      <td>Pennsylvania</td>\n",
       "      <td>Fall</td>\n",
       "      <td>NaN</td>\n",
       "      <td>NaN</td>\n",
       "      <td>NaN</td>\n",
       "      <td>NaT</td>\n",
       "      <td>3634.0</td>\n",
       "      <td>...</td>\n",
       "      <td>NaN</td>\n",
       "      <td>NaN</td>\n",
       "      <td>NaN</td>\n",
       "      <td>NaN</td>\n",
       "      <td>NaN</td>\n",
       "      <td>NaN</td>\n",
       "      <td>NaN</td>\n",
       "      <td>NaN</td>\n",
       "      <td>NaN</td>\n",
       "      <td>NaN</td>\n",
       "    </tr>\n",
       "    <tr>\n",
       "      <th>1772</th>\n",
       "      <td>I was sitting at camp and could smell the fami...</td>\n",
       "      <td>NaN</td>\n",
       "      <td>Polk County</td>\n",
       "      <td>Tennessee</td>\n",
       "      <td>Fall</td>\n",
       "      <td>NaN</td>\n",
       "      <td>NaN</td>\n",
       "      <td>NaN</td>\n",
       "      <td>NaT</td>\n",
       "      <td>1947.0</td>\n",
       "      <td>...</td>\n",
       "      <td>NaN</td>\n",
       "      <td>NaN</td>\n",
       "      <td>NaN</td>\n",
       "      <td>NaN</td>\n",
       "      <td>NaN</td>\n",
       "      <td>NaN</td>\n",
       "      <td>NaN</td>\n",
       "      <td>NaN</td>\n",
       "      <td>NaN</td>\n",
       "      <td>NaN</td>\n",
       "    </tr>\n",
       "    <tr>\n",
       "      <th>1385</th>\n",
       "      <td>I was with a group of bow hunters in a canyon ...</td>\n",
       "      <td>This took place off of an old logging road tha...</td>\n",
       "      <td>Umatilla County</td>\n",
       "      <td>Oregon</td>\n",
       "      <td>Fall</td>\n",
       "      <td>Report 31488: Woman describes possible encount...</td>\n",
       "      <td>45.48318</td>\n",
       "      <td>-118.83000</td>\n",
       "      <td>1998-10-15</td>\n",
       "      <td>31488.0</td>\n",
       "      <td>...</td>\n",
       "      <td>0.0012</td>\n",
       "      <td>0.4</td>\n",
       "      <td>rain</td>\n",
       "      <td>1015.79</td>\n",
       "      <td>Mostly cloudy until evening.</td>\n",
       "      <td>3.0</td>\n",
       "      <td>9.77</td>\n",
       "      <td>244.0</td>\n",
       "      <td>6.42</td>\n",
       "      <td>POINT(-118.83 45.48318)</td>\n",
       "    </tr>\n",
       "    <tr>\n",
       "      <th>3001</th>\n",
       "      <td>It was the opening morning of Kentucky black p...</td>\n",
       "      <td>Old reclamation stripped mine. Also called pin...</td>\n",
       "      <td>Harlan County</td>\n",
       "      <td>Kentucky</td>\n",
       "      <td>Fall</td>\n",
       "      <td>Report 40278: Hunter in a ghillie suit on Pine...</td>\n",
       "      <td>37.00633</td>\n",
       "      <td>-83.56467</td>\n",
       "      <td>2006-12-09</td>\n",
       "      <td>40278.0</td>\n",
       "      <td>...</td>\n",
       "      <td>0.0000</td>\n",
       "      <td>0.0</td>\n",
       "      <td>NaN</td>\n",
       "      <td>1033.84</td>\n",
       "      <td>Clear throughout the day.</td>\n",
       "      <td>2.0</td>\n",
       "      <td>9.58</td>\n",
       "      <td>201.0</td>\n",
       "      <td>1.49</td>\n",
       "      <td>POINT(-83.56466999999999 37.00633)</td>\n",
       "    </tr>\n",
       "    <tr>\n",
       "      <th>1607</th>\n",
       "      <td>We were at a campground in the Mt Hood Nat'l F...</td>\n",
       "      <td>(Withheld)</td>\n",
       "      <td>Clackamas County</td>\n",
       "      <td>Oregon</td>\n",
       "      <td>Summer</td>\n",
       "      <td>NaN</td>\n",
       "      <td>NaN</td>\n",
       "      <td>NaN</td>\n",
       "      <td>NaT</td>\n",
       "      <td>41709.0</td>\n",
       "      <td>...</td>\n",
       "      <td>NaN</td>\n",
       "      <td>NaN</td>\n",
       "      <td>NaN</td>\n",
       "      <td>NaN</td>\n",
       "      <td>NaN</td>\n",
       "      <td>NaN</td>\n",
       "      <td>NaN</td>\n",
       "      <td>NaN</td>\n",
       "      <td>NaN</td>\n",
       "      <td>NaN</td>\n",
       "    </tr>\n",
       "  </tbody>\n",
       "</table>\n",
       "<p>500 rows × 29 columns</p>\n",
       "</div>"
      ],
      "text/plain": [
       "                                               observed  \\\n",
       "743   It was at approximately 9:00 - 9:30 p.m.  My m...   \n",
       "2554  Mrs. Brenda G., washing the dinner dishes, loo...   \n",
       "3482  In 1974, I purchased an arce of land in northe...   \n",
       "3491  I believe this event took place in the late 19...   \n",
       "1042  It happened when my friend and I were 13. When...   \n",
       "...                                                 ...   \n",
       "1642  This incident happened around 1988-89.  I was ...   \n",
       "1772  I was sitting at camp and could smell the fami...   \n",
       "1385  I was with a group of bow hunters in a canyon ...   \n",
       "3001  It was the opening morning of Kentucky black p...   \n",
       "1607  We were at a campground in the Mt Hood Nat'l F...   \n",
       "\n",
       "                                       location_details             county  \\\n",
       "743   Garden State Parkway South, Exit 50 New Gretna...  Burlington County   \n",
       "2554  Just South of the small community of Yacolt, W...       Clark County   \n",
       "3482  California Pines--an area boarded on 3 sides b...       Modoc County   \n",
       "3491  Standish - Hickey State Park. Across the river...   Mendocino County   \n",
       "1042  Going out of Belmont, towards Alfred, after th...    Allegany County   \n",
       "...                                                 ...                ...   \n",
       "1642                                                NaN        Erie County   \n",
       "1772                                                NaN        Polk County   \n",
       "1385  This took place off of an old logging road tha...    Umatilla County   \n",
       "3001  Old reclamation stripped mine. Also called pin...      Harlan County   \n",
       "1607                                         (Withheld)   Clackamas County   \n",
       "\n",
       "             state  season                                              title  \\\n",
       "743     New Jersey  Summer  Report 14143: Night sighting by motorists near...   \n",
       "2554    Washington  Summer  Report 933: Family has face to face encounter ...   \n",
       "3482    California  Summer          Report 875: Man has sighting near Alturas   \n",
       "3491    California  Summer                                                NaN   \n",
       "1042      New York  Winter  Report 28244: Young girls remember seeing a ha...   \n",
       "...            ...     ...                                                ...   \n",
       "1642  Pennsylvania    Fall                                                NaN   \n",
       "1772     Tennessee    Fall                                                NaN   \n",
       "1385        Oregon    Fall  Report 31488: Woman describes possible encount...   \n",
       "3001      Kentucky    Fall  Report 40278: Hunter in a ghillie suit on Pine...   \n",
       "1607        Oregon  Summer                                                NaN   \n",
       "\n",
       "      latitude  longitude       date   number  ... precip_intensity  \\\n",
       "743   39.60835  -74.43445 1998-07-15  14143.0  ...           0.0000   \n",
       "2554  45.85810 -122.40890 1989-06-14    933.0  ...           0.0136   \n",
       "3482  41.41000 -120.67810 1974-06-01    875.0  ...              NaN   \n",
       "3491       NaN        NaN        NaT   4182.0  ...              NaN   \n",
       "1042  42.24542  -77.98756 1999-01-16  28244.0  ...              NaN   \n",
       "...        ...        ...        ...      ...  ...              ...   \n",
       "1642       NaN        NaN        NaT   3634.0  ...              NaN   \n",
       "1772       NaN        NaN        NaT   1947.0  ...              NaN   \n",
       "1385  45.48318 -118.83000 1998-10-15  31488.0  ...           0.0012   \n",
       "3001  37.00633  -83.56467 2006-12-09  40278.0  ...           0.0000   \n",
       "1607       NaN        NaN        NaT  41709.0  ...              NaN   \n",
       "\n",
       "     precip_probability  precip_type  pressure  \\\n",
       "743                 0.0          NaN   1018.43   \n",
       "2554                1.0         rain   1016.46   \n",
       "3482                NaN         rain       NaN   \n",
       "3491                NaN          NaN       NaN   \n",
       "1042                NaN          NaN       NaN   \n",
       "...                 ...          ...       ...   \n",
       "1642                NaN          NaN       NaN   \n",
       "1772                NaN          NaN       NaN   \n",
       "1385                0.4         rain   1015.79   \n",
       "3001                0.0          NaN   1033.84   \n",
       "1607                NaN          NaN       NaN   \n",
       "\n",
       "                                       summary  uv_index  visibility  \\\n",
       "743               Mostly cloudy until evening.       5.0        8.28   \n",
       "2554  Light rain in the morning and afternoon.       4.0        7.67   \n",
       "3482                 Clear throughout the day.       8.0         NaN   \n",
       "3491                                       NaN       NaN         NaN   \n",
       "1042                                       NaN       NaN         NaN   \n",
       "...                                        ...       ...         ...   \n",
       "1642                                       NaN       NaN         NaN   \n",
       "1772                                       NaN       NaN         NaN   \n",
       "1385              Mostly cloudy until evening.       3.0        9.77   \n",
       "3001                 Clear throughout the day.       2.0        9.58   \n",
       "1607                                       NaN       NaN         NaN   \n",
       "\n",
       "      wind_bearing  wind_speed                            location  \n",
       "743          195.0        5.61           POINT(-74.43445 39.60835)  \n",
       "2554         128.0        0.94            POINT(-122.4089 45.8581)  \n",
       "3482         316.0        4.15              POINT(-120.6781 41.41)  \n",
       "3491           NaN         NaN                                 NaN  \n",
       "1042           NaN         NaN           POINT(-77.98756 42.24542)  \n",
       "...            ...         ...                                 ...  \n",
       "1642           NaN         NaN                                 NaN  \n",
       "1772           NaN         NaN                                 NaN  \n",
       "1385         244.0        6.42             POINT(-118.83 45.48318)  \n",
       "3001         201.0        1.49  POINT(-83.56466999999999 37.00633)  \n",
       "1607           NaN         NaN                                 NaN  \n",
       "\n",
       "[500 rows x 29 columns]"
      ]
     },
     "execution_count": 5,
     "metadata": {},
     "output_type": "execute_result"
    }
   ],
   "source": [
    "bfDS"
   ]
  },
  {
   "cell_type": "code",
   "execution_count": 6,
   "metadata": {},
   "outputs": [
    {
     "data": {
      "image/png": "[encoded data removed]",
      "text/plain": [
       "<Figure size 640x480 with 1 Axes>"
      ]
     },
     "metadata": {},
     "output_type": "display_data"
    }
   ],
   "source": [
    "# take a quick look\n",
    "import matplotlib.pyplot as plt\n",
    "plt.clf() # might need this to \"get rid\" of Michigan data\n",
    "plt.plot(bf['longitude'],bf['latitude'],'.')\n",
    "plt.show()"
   ]
  },
  {
   "cell_type": "code",
   "execution_count": 7,
   "metadata": {},
   "outputs": [
    {
     "data": {
      "image/png": "[encoded data removed]",
      "text/plain": [
       "<Figure size 640x480 with 1 Axes>"
      ]
     },
     "metadata": {},
     "output_type": "display_data"
    }
   ],
   "source": [
    "plt.clf() # might need this to \"get rid\" of Michigan data\n",
    "plt.plot(bfDS['longitude'],bfDS['latitude'],'.')\n",
    "plt.show()"
   ]
  },
  {
   "cell_type": "markdown",
   "metadata": {},
   "source": [
    "We can try with a scatter plot as well which allows us to add in another encoding with color:"
   ]
  },
  {
   "cell_type": "code",
   "execution_count": 8,
   "metadata": {},
   "outputs": [
    {
     "data": {
      "text/plain": [
       "Index(['observed', 'location_details', 'county', 'state', 'season', 'title',\n",
       "       'latitude', 'longitude', 'date', 'number', 'classification', 'geohash',\n",
       "       'temperature_high', 'temperature_mid', 'temperature_low', 'dew_point',\n",
       "       'humidity', 'cloud_cover', 'moon_phase', 'precip_intensity',\n",
       "       'precip_probability', 'precip_type', 'pressure', 'summary', 'uv_index',\n",
       "       'visibility', 'wind_bearing', 'wind_speed', 'location'],\n",
       "      dtype='object')"
      ]
     },
     "execution_count": 8,
     "metadata": {},
     "output_type": "execute_result"
    }
   ],
   "source": [
    "bf.columns"
   ]
  },
  {
   "cell_type": "code",
   "execution_count": 9,
   "metadata": {},
   "outputs": [
    {
     "data": {
      "image/png": "[encoded data removed]",
      "text/plain": [
       "<Figure size 640x480 with 1 Axes>"
      ]
     },
     "metadata": {},
     "output_type": "display_data"
    }
   ],
   "source": [
    "plt.clf()\n",
    "plt.scatter(bfDS['longitude'],bfDS['latitude'], \n",
    "            c=np.log10(bfDS['pressure']), cmap='rainbow')\n",
    "plt.show()"
   ]
  },
  {
   "cell_type": "markdown",
   "metadata": {},
   "source": [
    "Hint:"
   ]
  },
  {
   "cell_type": "code",
   "execution_count": 10,
   "metadata": {},
   "outputs": [
    {
     "data": {
      "text/plain": [
       "<Figure size 640x480 with 0 Axes>"
      ]
     },
     "metadata": {},
     "output_type": "display_data"
    },
    {
     "data": {
      "image/png": "[encoded data removed]",
      "text/plain": [
       "<Figure size 2000x1000 with 1 Axes>"
      ]
     },
     "metadata": {},
     "output_type": "display_data"
    }
   ],
   "source": [
    "plt.clf()\n",
    "fig, ax = plt.subplots(figsize=(20,10))\n",
    "bfDS.hist(column='longitude', ax=ax)\n",
    "plt.show()"
   ]
  },
  {
   "cell_type": "markdown",
   "metadata": {},
   "source": [
    "### A bit with traitlets"
   ]
  },
  {
   "cell_type": "markdown",
   "metadata": {},
   "source": [
    "Remember our color-picker that we linked:"
   ]
  },
  {
   "cell_type": "code",
   "execution_count": 11,
   "metadata": {},
   "outputs": [],
   "source": [
    "import ipywidgets"
   ]
  },
  {
   "cell_type": "code",
   "execution_count": 12,
   "metadata": {},
   "outputs": [
    {
     "data": {
      "application/vnd.jupyter.widget-view+json": {
       "model_id": "4fef629a35294625a7b226fa356ccbe6",
       "version_major": 2,
       "version_minor": 0
      },
      "text/plain": [
       "IntSlider(value=0, max=10, orientation='vertical')"
      ]
     },
     "metadata": {},
     "output_type": "display_data"
    }
   ],
   "source": [
    "islider = ipywidgets.IntSlider(min = 0, max = 10, step = 1, orientation = 'vertical')\n",
    "islider"
   ]
  },
  {
   "cell_type": "code",
   "execution_count": 13,
   "metadata": {},
   "outputs": [
    {
     "data": {
      "application/vnd.jupyter.widget-view+json": {
       "model_id": "2bf3a9459eef4a74b266d986dfbe2c8e",
       "version_major": 2,
       "version_minor": 0
      },
      "text/plain": [
       "ColorPicker(value='black')"
      ]
     },
     "metadata": {},
     "output_type": "display_data"
    }
   ],
   "source": [
    "cp = ipywidgets.ColorPicker()\n",
    "cp"
   ]
  },
  {
   "cell_type": "markdown",
   "metadata": {},
   "source": [
    "Let's link them using .link this time:"
   ]
  },
  {
   "cell_type": "code",
   "execution_count": 14,
   "metadata": {},
   "outputs": [
    {
     "data": {
      "text/plain": [
       "<traitlets.traitlets.link at 0x157525a50>"
      ]
     },
     "execution_count": 14,
     "metadata": {},
     "output_type": "execute_result"
    }
   ],
   "source": [
    "ipywidgets.link( (cp, 'value'), (islider.style, 'handle_color') )"
   ]
  },
  {
   "cell_type": "markdown",
   "metadata": {},
   "source": [
    "We note what prints out now is a \"traitlets.traitlets\" link -- this is part of the python-backend traitlets library."
   ]
  },
  {
   "cell_type": "code",
   "execution_count": null,
   "metadata": {},
   "outputs": [],
   "source": []
  },
  {
   "cell_type": "markdown",
   "metadata": {},
   "source": [
    "Traitlets are a way to link the *change in a variable* to an action."
   ]
  },
  {
   "cell_type": "markdown",
   "metadata": {},
   "source": [
    "We'll start by making a class w/o using traitlets.  We've worked with classes before, just sort of \"under the radar\" like with Pandas objects.  Now we will define our own:"
   ]
  },
  {
   "cell_type": "code",
   "execution_count": 15,
   "metadata": {},
   "outputs": [],
   "source": [
    "class MyObject():\n",
    "    name = 'unnamed'\n",
    "    age = 0"
   ]
  },
  {
   "cell_type": "markdown",
   "metadata": {},
   "source": [
    "Let's define a new variable of this `class` type:"
   ]
  },
  {
   "cell_type": "code",
   "execution_count": 16,
   "metadata": {},
   "outputs": [],
   "source": [
    "my_obj = MyObject()"
   ]
  },
  {
   "cell_type": "code",
   "execution_count": 17,
   "metadata": {},
   "outputs": [
    {
     "data": {
      "text/plain": [
       "('unnamed', 0)"
      ]
     },
     "execution_count": 17,
     "metadata": {},
     "output_type": "execute_result"
    }
   ],
   "source": [
    "my_obj.name, my_obj.age"
   ]
  },
  {
   "cell_type": "markdown",
   "metadata": {},
   "source": [
    "We can update the values of these variables like we would any other object:"
   ]
  },
  {
   "cell_type": "code",
   "execution_count": 18,
   "metadata": {},
   "outputs": [],
   "source": [
    "my_obj.name = 'Bob'; my_obj.age = 47"
   ]
  },
  {
   "cell_type": "markdown",
   "metadata": {},
   "source": [
    "Now, let's check out our new values:"
   ]
  },
  {
   "cell_type": "code",
   "execution_count": 19,
   "metadata": {},
   "outputs": [
    {
     "name": "stdout",
     "output_type": "stream",
     "text": [
      "Hello, my name is: Bob and I am 47 years old\n"
     ]
    }
   ],
   "source": [
    "print('Hello, my name is:', my_obj.name, 'and I am', my_obj.age, 'years old')"
   ]
  },
  {
   "cell_type": "markdown",
   "metadata": {},
   "source": [
    "Now, let's say I wanted to re-set the values of the variables in my class -- to print out the above statement, I'd have to redo everything:"
   ]
  },
  {
   "cell_type": "code",
   "execution_count": 20,
   "metadata": {},
   "outputs": [],
   "source": [
    "my_obj.name = 'Linda'; my_obj.age = 45"
   ]
  },
  {
   "cell_type": "code",
   "execution_count": 21,
   "metadata": {},
   "outputs": [
    {
     "name": "stdout",
     "output_type": "stream",
     "text": [
      "Hello, my name is: Linda and I am 45 years old\n"
     ]
    }
   ],
   "source": [
    "print('Hello, my name is:', my_obj.name, 'and I am', my_obj.age, 'years old')"
   ]
  },
  {
   "cell_type": "markdown",
   "metadata": {},
   "source": [
    "The `traitlets` library allows us to \"track\" changes so that we can associate actions with updates to variables.  Let's try this example again:"
   ]
  },
  {
   "cell_type": "code",
   "execution_count": 22,
   "metadata": {},
   "outputs": [],
   "source": [
    "import traitlets"
   ]
  },
  {
   "cell_type": "code",
   "execution_count": 23,
   "metadata": {},
   "outputs": [],
   "source": [
    "class MyTraitletObject(traitlets.HasTraits):\n",
    "    # lets use the unicode trait to let our object have a name\n",
    "    name = traitlets.Unicode(\"unnamed\") \n",
    "    # lets also give our object an age\n",
    "    age = traitlets.Int(0)"
   ]
  },
  {
   "cell_type": "code",
   "execution_count": 24,
   "metadata": {},
   "outputs": [],
   "source": [
    "my_t_obj = MyTraitletObject()\n",
    "my_t_obj.age = 47\n",
    "my_t_obj.name = 'Bob'"
   ]
  },
  {
   "cell_type": "code",
   "execution_count": 25,
   "metadata": {},
   "outputs": [
    {
     "name": "stdout",
     "output_type": "stream",
     "text": [
      "Hello, my name is: Bob and I am 47 years old\n"
     ]
    }
   ],
   "source": [
    "print('Hello, my name is:', my_t_obj.name, 'and I am', my_t_obj.age, 'years old')"
   ]
  },
  {
   "cell_type": "markdown",
   "metadata": {},
   "source": [
    "So far this is not very exciting - we are back where we started!  However, there are options to \"observe\" changes in our traits:"
   ]
  },
  {
   "cell_type": "markdown",
   "metadata": {},
   "source": [
    "Let's create a function that can act on one of the variables of our variables, in particluar, its going to react to the name in my object:"
   ]
  },
  {
   "cell_type": "code",
   "execution_count": 26,
   "metadata": {},
   "outputs": [],
   "source": [
    "def name_changed(change):\n",
    "    print(change) # this is a format that is required of a traitlets class\n",
    "\n",
    "# lets tell traitlets that we are going to change something\n",
    "my_t_obj.observe(name_changed, ['name'])"
   ]
  },
  {
   "cell_type": "code",
   "execution_count": 27,
   "metadata": {},
   "outputs": [
    {
     "name": "stdout",
     "output_type": "stream",
     "text": [
      "{'name': 'name', 'old': 'Bob', 'new': 'Linda', 'owner': <__main__.MyTraitletObject object at 0x17d9db2b0>, 'type': 'change'}\n"
     ]
    }
   ],
   "source": [
    "my_t_obj.name = 'Linda'"
   ]
  },
  {
   "cell_type": "markdown",
   "metadata": {},
   "source": [
    "We can see that there are these weird \"new\" and \"old\" names -- this is tracking how things change. The \"owner\" is just pointing to the memory location of `my_t_obj`."
   ]
  },
  {
   "cell_type": "markdown",
   "metadata": {},
   "source": [
    "Let's do something a little more exciting - have a default print-out of the introduction:"
   ]
  },
  {
   "cell_type": "code",
   "execution_count": 28,
   "metadata": {},
   "outputs": [],
   "source": [
    "def name_changed2(change):\n",
    "    print('Hello, my name is', change['new'], 'and I am', change['owner'].age, 'years old')\n",
    "\n",
    "# lets tell traitlets that we are going to change something\n",
    "my_t_obj.observe(name_changed2, ['name'])"
   ]
  },
  {
   "cell_type": "code",
   "execution_count": 29,
   "metadata": {},
   "outputs": [],
   "source": [
    "my_t_obj.name = 'Linda'"
   ]
  },
  {
   "cell_type": "markdown",
   "metadata": {},
   "source": [
    "Note that now, I've got *2* things associated with any changes -- let's take off the first one:"
   ]
  },
  {
   "cell_type": "code",
   "execution_count": 30,
   "metadata": {},
   "outputs": [],
   "source": [
    "my_t_obj.unobserve(name_changed, ['name'])"
   ]
  },
  {
   "cell_type": "code",
   "execution_count": 31,
   "metadata": {},
   "outputs": [
    {
     "name": "stdout",
     "output_type": "stream",
     "text": [
      "Hello, my name is Bob and I am 47 years old\n"
     ]
    }
   ],
   "source": [
    "my_t_obj.name = \"Bob\""
   ]
  },
  {
   "cell_type": "markdown",
   "metadata": {},
   "source": [
    "We can practice by making a \"watching for a change\" function for age as well:"
   ]
  },
  {
   "cell_type": "code",
   "execution_count": 32,
   "metadata": {},
   "outputs": [],
   "source": [
    "def age_changed(change):\n",
    "    print('Hello, my name is', change['owner'].name, 'and I am', change['new'], 'years old')\n",
    "\n",
    "my_t_obj.observe(age_changed, ['age'])"
   ]
  },
  {
   "cell_type": "code",
   "execution_count": 33,
   "metadata": {},
   "outputs": [
    {
     "name": "stdout",
     "output_type": "stream",
     "text": [
      "Hello, my name is Bob and I am 48 years old\n"
     ]
    }
   ],
   "source": [
    "my_t_obj.age = 48"
   ]
  },
  {
   "cell_type": "code",
   "execution_count": 34,
   "metadata": {},
   "outputs": [
    {
     "name": "stdout",
     "output_type": "stream",
     "text": [
      "Hello, my name is Louise and I am 48 years old\n",
      "Hello, my name is Louise and I am 8 years old\n"
     ]
    }
   ],
   "source": [
    "my_t_obj.name, my_t_obj.age = 'Louise', 8"
   ]
  },
  {
   "cell_type": "code",
   "execution_count": null,
   "metadata": {},
   "outputs": [],
   "source": []
  },
  {
   "cell_type": "markdown",
   "metadata": {},
   "source": [
    "## On to bqplot!"
   ]
  },
  {
   "cell_type": "markdown",
   "metadata": {},
   "source": [
    "Make sure you have installed this via the install script `test_imports_week01.ipynb` in week 1.  You may have to restart your jupyter or your browswer.\n",
    "\n",
    "We'll start by using `bqplot` in a Grammar of Graphics & *Declaritive* sort of way, and then, if we have time, spend a few moments looking at its `matplotlib`-like interface as well which is an *Imperative* method."
   ]
  },
  {
   "cell_type": "code",
   "execution_count": 35,
   "metadata": {},
   "outputs": [],
   "source": [
    "import bqplot\n",
    "import numpy as np\n",
    "import ipywidgets"
   ]
  },
  {
   "cell_type": "markdown",
   "metadata": {},
   "source": [
    "Now we are going to mess around with some of the declaritive programming type options that bqplot can use.  This will rely heavily on the \"Grammar of Graphics\" constructs."
   ]
  },
  {
   "cell_type": "markdown",
   "metadata": {},
   "source": [
    "## Random line plot with Pan/Zoom interaction\n",
    "\n",
    "We'll now go through the example I put up on the slides for this week. \n",
    "\n",
    "**Data:** Let's first start by creating *data* elements for our graphic just some random numbers:"
   ]
  },
  {
   "cell_type": "code",
   "execution_count": 36,
   "metadata": {},
   "outputs": [],
   "source": [
    "x = np.arange(100) # integers 0->999\n",
    "y = np.random.random(100) + 5 # random numbers with mean = 5"
   ]
  },
  {
   "cell_type": "code",
   "execution_count": 37,
   "metadata": {},
   "outputs": [
    {
     "data": {
      "text/plain": [
       "(array([ 0,  1,  2,  3,  4,  5,  6,  7,  8,  9, 10, 11, 12, 13, 14, 15, 16,\n",
       "        17, 18, 19, 20, 21, 22, 23, 24, 25, 26, 27, 28, 29, 30, 31, 32, 33,\n",
       "        34, 35, 36, 37, 38, 39, 40, 41, 42, 43, 44, 45, 46, 47, 48, 49, 50,\n",
       "        51, 52, 53, 54, 55, 56, 57, 58, 59, 60, 61, 62, 63, 64, 65, 66, 67,\n",
       "        68, 69, 70, 71, 72, 73, 74, 75, 76, 77, 78, 79, 80, 81, 82, 83, 84,\n",
       "        85, 86, 87, 88, 89, 90, 91, 92, 93, 94, 95, 96, 97, 98, 99]),\n",
       " array([5.72106428, 5.71780119, 5.35225657, 5.25673881, 5.49946952,\n",
       "        5.5062071 , 5.45114661, 5.58191022, 5.30884855, 5.26110477,\n",
       "        5.13666282, 5.41355647, 5.56351397, 5.7806561 , 5.55410205,\n",
       "        5.7008818 , 5.02638882, 5.04573708, 5.46688392, 5.18830972,\n",
       "        5.64924504, 5.69416655, 5.68949569, 5.6107676 , 5.1112199 ,\n",
       "        5.62207243, 5.99945413, 5.34082634, 5.86314361, 5.92644083,\n",
       "        5.90952981, 5.61184527, 5.40436957, 5.09964991, 5.18444586,\n",
       "        5.7624286 , 5.53890177, 5.60767481, 5.84478787, 5.52598863,\n",
       "        5.61328703, 5.30465302, 5.53980234, 5.5761321 , 5.33210095,\n",
       "        5.38757816, 5.06523408, 5.02525087, 5.02986486, 5.81102383,\n",
       "        5.18913658, 5.85155251, 5.51296359, 5.52871889, 5.33096203,\n",
       "        5.40616823, 5.090924  , 5.38658268, 5.52051164, 5.98617627,\n",
       "        5.87359271, 5.63506131, 5.24387991, 5.49647108, 5.31104915,\n",
       "        5.94537638, 5.22394144, 5.96474976, 5.02670321, 5.46113371,\n",
       "        5.59969117, 5.02816398, 5.8767347 , 5.28606951, 5.03839299,\n",
       "        5.75670345, 5.37015371, 5.01151737, 5.46197097, 5.75004895,\n",
       "        5.6659494 , 5.60052748, 5.52600941, 5.86382177, 5.93934049,\n",
       "        5.76843675, 5.13761389, 5.8262176 , 5.10583767, 5.39458556,\n",
       "        5.98760755, 5.01824254, 5.27970714, 5.6792117 , 5.60220617,\n",
       "        5.05214812, 5.11912544, 5.90492421, 5.39478696, 5.6425801 ]))"
      ]
     },
     "execution_count": 37,
     "metadata": {},
     "output_type": "execute_result"
    }
   ],
   "source": [
    "x, y"
   ]
  },
  {
   "cell_type": "markdown",
   "metadata": {},
   "source": [
    "**Scales:** Now we'll define some scale objects which will determine how lines will be drawn on our canvas:"
   ]
  },
  {
   "cell_type": "code",
   "execution_count": 38,
   "metadata": {},
   "outputs": [
    {
     "name": "stdout",
     "output_type": "stream",
     "text": [
      "\u001b[0;31mInit signature:\u001b[0m \u001b[0mbqplot\u001b[0m\u001b[0;34m.\u001b[0m\u001b[0mLinearScale\u001b[0m\u001b[0;34m(\u001b[0m\u001b[0;34m*\u001b[0m\u001b[0margs\u001b[0m\u001b[0;34m:\u001b[0m \u001b[0;34m't.Any'\u001b[0m\u001b[0;34m,\u001b[0m \u001b[0;34m**\u001b[0m\u001b[0mkwargs\u001b[0m\u001b[0;34m:\u001b[0m \u001b[0;34m't.Any'\u001b[0m\u001b[0;34m)\u001b[0m \u001b[0;34m->\u001b[0m \u001b[0;34m't.Any'\u001b[0m\u001b[0;34m\u001b[0m\u001b[0;34m\u001b[0m\u001b[0m\n",
      "\u001b[0;31mDocstring:\u001b[0m     \n",
      "A linear scale.\n",
      "\n",
      "An affine mapping from a numerical domain to a numerical range.\n",
      "\n",
      "Attributes\n",
      "----------\n",
      "min: float or None (default: None)\n",
      "    if not None, min is the minimal value of the domain\n",
      "max: float or None (default: None)\n",
      "    if not None, max is the maximal value of the domain\n",
      "rtype: string (class-level attribute)\n",
      "    This attribute should not be modified. The range type of a linear\n",
      "    scale is numerical.\n",
      "dtype: type (class-level attribute)\n",
      "    the associated data type / domain type\n",
      "precedence: int (class-level attribute, default_value=2)\n",
      "    attribute used to determine which scale takes precedence in cases when\n",
      "    two or more scales have the same rtype and dtype.\n",
      "    default_value is 2 because for the same range and domain types,\n",
      "    LinearScale should take precedence.\n",
      "stabilized: bool (default: False)\n",
      "    if set to False, the domain of the scale is tied to the data range\n",
      "    if set to True, the domain of the scale is updated only when\n",
      "    the data range is beyond certain thresholds, given by the attributes\n",
      "    mid_range and min_range.\n",
      "mid_range: float (default: 0.8)\n",
      "    Proportion of the range that is spanned initially.\n",
      "    Used only if stabilized is True.\n",
      "min_range: float (default: 0.6)\n",
      "    Minimum proportion of the range that should be spanned by the data.\n",
      "    If the data span falls beneath that level, the scale is reset.\n",
      "    min_range must be <= mid_range.\n",
      "    Used only if stabilized is True.\n",
      "\u001b[0;31mInit docstring:\u001b[0m Public constructor\n",
      "\u001b[0;31mFile:\u001b[0m           /opt/anaconda3/envs/DataViz2/lib/python3.10/site-packages/bqplot/scales.py\n",
      "\u001b[0;31mType:\u001b[0m           MetaHasTraits\n",
      "\u001b[0;31mSubclasses:\u001b[0m     "
     ]
    }
   ],
   "source": [
    "bqplot.LinearScale?"
   ]
  },
  {
   "cell_type": "code",
   "execution_count": 39,
   "metadata": {},
   "outputs": [],
   "source": [
    "x_sc = bqplot.LinearScale()\n",
    "y_sc = bqplot.LinearScale()"
   ]
  },
  {
   "cell_type": "markdown",
   "metadata": {},
   "source": [
    "**Marks:** Now we are going to use GoG type calls to define what lines to actually draw combining information about our data and our scales:"
   ]
  },
  {
   "cell_type": "code",
   "execution_count": 40,
   "metadata": {},
   "outputs": [
    {
     "name": "stdout",
     "output_type": "stream",
     "text": [
      "\u001b[0;31mInit signature:\u001b[0m \u001b[0mbqplot\u001b[0m\u001b[0;34m.\u001b[0m\u001b[0mLines\u001b[0m\u001b[0;34m(\u001b[0m\u001b[0;34m*\u001b[0m\u001b[0margs\u001b[0m\u001b[0;34m:\u001b[0m \u001b[0;34m't.Any'\u001b[0m\u001b[0;34m,\u001b[0m \u001b[0;34m**\u001b[0m\u001b[0mkwargs\u001b[0m\u001b[0;34m:\u001b[0m \u001b[0;34m't.Any'\u001b[0m\u001b[0;34m)\u001b[0m \u001b[0;34m->\u001b[0m \u001b[0;34m't.Any'\u001b[0m\u001b[0;34m\u001b[0m\u001b[0;34m\u001b[0m\u001b[0m\n",
      "\u001b[0;31mDocstring:\u001b[0m     \n",
      "Lines mark.\n",
      "\n",
      "In the case of the Lines mark, scales for 'x' and 'y' MUST be provided.\n",
      "\n",
      "Attributes\n",
      "----------\n",
      "icon: string (class-level attribute)\n",
      "    Font-awesome icon for the respective mark\n",
      "name: string (class-level attribute)\n",
      "    User-friendly name of the mark\n",
      "colors: list of colors (default: CATEGORY10)\n",
      "    List of colors of the Lines. If the list is shorter than the number\n",
      "    of lines, the colors are reused.\n",
      "close_path: bool (default: False)\n",
      "    Whether to close the paths or not.\n",
      "fill: {'none', 'bottom', 'top', 'inside', 'between'}\n",
      "    Fill in the area defined by the curves\n",
      "fill_colors: list of colors (default: [])\n",
      "    Fill colors for the areas. Defaults to stroke-colors when no\n",
      "    color provided\n",
      "opacities: list of floats (default: [])\n",
      "    Opacity for the  lines and patches. Defaults to 1 when the list is too\n",
      "    short, or the element of the list is set to None.\n",
      "fill_opacities: list of floats (default: [])\n",
      "    Opacity for the areas. Defaults to 1 when the list is too\n",
      "    short, or the element of the list is set to None.\n",
      "stroke_width: float (default: 2)\n",
      "    Stroke width of the Lines\n",
      "labels_visibility: {'none', 'label'}\n",
      "    Visibility of the curve labels\n",
      "curves_subset: list of integers or None (default: [])\n",
      "    If set to None, all the lines are displayed. Otherwise, only the items\n",
      "    in the list will have full opacity, while others will be faded.\n",
      "line_style: {'solid', 'dashed', 'dotted', 'dash_dotted'}\n",
      "    Line style.\n",
      "interpolation: {'linear', 'basis', 'cardinal', 'monotone'}\n",
      "    Interpolation scheme used for interpolation between the data points\n",
      "    provided. Please refer to the svg interpolate documentation for details\n",
      "    about the different interpolation schemes.\n",
      "marker: {'circle', 'cross', 'diamond', 'square', 'triangle-down', 'triangle-up', 'arrow', 'rectangle', 'ellipse'}\n",
      "    Marker shape\n",
      "marker_size: nonnegative int (default: 64)\n",
      "    Default marker size in pixels\n",
      "\n",
      "Data Attributes\n",
      "\n",
      "x: numpy.ndarray (default: [])\n",
      "    abscissas of the data points (1d or 2d array)\n",
      "y: numpy.ndarray (default: [])\n",
      "    ordinates of the data points (1d or 2d array)\n",
      "color: numpy.ndarray (default: None)\n",
      "    colors of the different lines based on data. If it is [], then the\n",
      "    colors from the colors attribute are used. Each line has a single color\n",
      "    and if the size of colors is less than the number of lines, the\n",
      "    remaining lines are given the default colors.\n",
      "\n",
      "Notes\n",
      "-----\n",
      "The fields which can be passed to the default tooltip are:\n",
      "    name: label of the line\n",
      "    index: index of the line being hovered on\n",
      "    color: data attribute for the color of the line\n",
      "The following are the events which can trigger interactions:\n",
      "    click: left click of the mouse\n",
      "    hover: mouse-over an element\n",
      "The following are the interactions which can be linked to the above events:\n",
      "    tooltip: display tooltip\n",
      "\u001b[0;31mInit docstring:\u001b[0m Public constructor\n",
      "\u001b[0;31mFile:\u001b[0m           /opt/anaconda3/envs/DataViz2/lib/python3.10/site-packages/bqplot/marks.py\n",
      "\u001b[0;31mType:\u001b[0m           MetaHasTraits\n",
      "\u001b[0;31mSubclasses:\u001b[0m     "
     ]
    }
   ],
   "source": [
    "bqplot.Lines?"
   ]
  },
  {
   "cell_type": "code",
   "execution_count": 41,
   "metadata": {},
   "outputs": [],
   "source": [
    "lines = bqplot.Lines(x = x, y = y, scales = {'x': x_sc, 'y': y_sc})"
   ]
  },
  {
   "cell_type": "markdown",
   "metadata": {},
   "source": [
    "**Axis:** Now, we are going to define what axis we want placed around the lines that we draw we'll draw both x & y axis."
   ]
  },
  {
   "cell_type": "code",
   "execution_count": 42,
   "metadata": {},
   "outputs": [
    {
     "name": "stdout",
     "output_type": "stream",
     "text": [
      "\u001b[0;31mInit signature:\u001b[0m \u001b[0mbqplot\u001b[0m\u001b[0;34m.\u001b[0m\u001b[0mAxis\u001b[0m\u001b[0;34m(\u001b[0m\u001b[0;34m*\u001b[0m\u001b[0margs\u001b[0m\u001b[0;34m:\u001b[0m \u001b[0;34m't.Any'\u001b[0m\u001b[0;34m,\u001b[0m \u001b[0;34m**\u001b[0m\u001b[0mkwargs\u001b[0m\u001b[0;34m:\u001b[0m \u001b[0;34m't.Any'\u001b[0m\u001b[0;34m)\u001b[0m \u001b[0;34m->\u001b[0m \u001b[0;34m't.Any'\u001b[0m\u001b[0;34m\u001b[0m\u001b[0;34m\u001b[0m\u001b[0m\n",
      "\u001b[0;31mDocstring:\u001b[0m     \n",
      "A line axis.\n",
      "\n",
      "A line axis is the visual representation of a numerical or date scale.\n",
      "\n",
      "Attributes\n",
      "----------\n",
      "icon: string (class-level attribute)\n",
      "    The font-awesome icon name for this object.\n",
      "axis_types: dict (class-level attribute)\n",
      "    A registry of existing axis types.\n",
      "orientation: {'horizontal', 'vertical'}\n",
      "    The orientation of the axis, either vertical or horizontal\n",
      "side: {'bottom', 'top', 'left', 'right'} or None (default: None)\n",
      "    The side of the axis, either bottom, top, left or right.\n",
      "label: string (default: '')\n",
      "    The axis label\n",
      "tick_format: string or None (default: '')\n",
      "    The tick format for the axis, for dates use d3 string formatting.\n",
      "scale: Scale\n",
      "    The scale represented by the axis\n",
      "num_ticks: int or None (default: None)\n",
      "    If tick_values is None, number of ticks\n",
      "tick_values: numpy.ndarray or None (default: None)\n",
      "    Tick values for the axis\n",
      "offset: dict (default: {})\n",
      "    Contains a scale and a value {'scale': scale or None,\n",
      "    'value': value of the offset}\n",
      "    If offset['scale'] is None, the corresponding figure scale is used\n",
      "    instead.\n",
      "label_location: {'middle', 'start', 'end'}\n",
      "    The location of the label along the axis, one of 'start', 'end' or\n",
      "    'middle'\n",
      "label_color: Color or None (default: None)\n",
      "    The color of the axis label\n",
      "grid_lines: {'none', 'solid', 'dashed'}\n",
      "    The display of the grid lines\n",
      "grid_color: Color or None (default: None)\n",
      "    The color of the grid lines\n",
      "color: Color or None (default: None)\n",
      "    The color of the line\n",
      "label_offset: string or None (default: None)\n",
      "    Label displacement from the axis line. Units allowed are 'em', 'px'\n",
      "    and 'ex'. Positive values are away from the figure and negative\n",
      "    values are towards the figure with respect to the axis line.\n",
      "visible: bool (default: True)\n",
      "    A visibility toggle for the axis\n",
      "tick_style: Dict (default: {})\n",
      "    Dictionary containing the CSS-style of the text for the ticks.\n",
      "    For example: font-size of the text can be changed by passing\n",
      "    `{'font-size': 14}`\n",
      "tick_rotate: int (default: 0)\n",
      "    Degrees to rotate tick labels by.\n",
      "\u001b[0;31mInit docstring:\u001b[0m Public constructor\n",
      "\u001b[0;31mFile:\u001b[0m           /opt/anaconda3/envs/DataViz2/lib/python3.10/site-packages/bqplot/axes.py\n",
      "\u001b[0;31mType:\u001b[0m           MetaHasTraits\n",
      "\u001b[0;31mSubclasses:\u001b[0m     ColorAxis"
     ]
    }
   ],
   "source": [
    "bqplot.Axis?"
   ]
  },
  {
   "cell_type": "code",
   "execution_count": 43,
   "metadata": {},
   "outputs": [],
   "source": [
    "ax_x = bqplot.Axis(scale = x_sc, label = 'X Value')\n",
    "ax_y = bqplot.Axis(scale = y_sc, label = 'Y Value', orientation = 'vertical')"
   ]
  },
  {
   "cell_type": "markdown",
   "metadata": {},
   "source": [
    "**Figure:** Finally, we combine all these things together into a bonified figure:"
   ]
  },
  {
   "cell_type": "code",
   "execution_count": 44,
   "metadata": {},
   "outputs": [
    {
     "name": "stdout",
     "output_type": "stream",
     "text": [
      "\u001b[0;31mInit signature:\u001b[0m \u001b[0mbqplot\u001b[0m\u001b[0;34m.\u001b[0m\u001b[0mFigure\u001b[0m\u001b[0;34m(\u001b[0m\u001b[0;34m*\u001b[0m\u001b[0margs\u001b[0m\u001b[0;34m:\u001b[0m \u001b[0;34m't.Any'\u001b[0m\u001b[0;34m,\u001b[0m \u001b[0;34m**\u001b[0m\u001b[0mkwargs\u001b[0m\u001b[0;34m:\u001b[0m \u001b[0;34m't.Any'\u001b[0m\u001b[0;34m)\u001b[0m \u001b[0;34m->\u001b[0m \u001b[0;34m't.Any'\u001b[0m\u001b[0;34m\u001b[0m\u001b[0;34m\u001b[0m\u001b[0m\n",
      "\u001b[0;31mDocstring:\u001b[0m     \n",
      "Main canvas for drawing a chart.\n",
      "\n",
      "The Figure object holds the list of Marks and Axes. It also holds an\n",
      "optional Interaction object that is responsible for figure-level mouse\n",
      "interactions, the \"interaction layer\".\n",
      "\n",
      "Besides, the Figure object has two reference scales, for positioning items\n",
      "in an absolute fashion in the figure canvas.\n",
      "\n",
      "Attributes\n",
      "----------\n",
      "title: string (default: '')\n",
      "    title of the figure\n",
      "axes: List of Axes (default: [])\n",
      "    list containing the instances of the axes for the figure\n",
      "marks: List of Marks (default: [])\n",
      "    list containing the marks which are to be appended to the figure\n",
      "interaction: Interaction or None (default: None)\n",
      "    optional interaction layer for the figure\n",
      "scale_x: Scale\n",
      "    Scale representing the x values of the figure\n",
      "scale_y: Scale\n",
      "    Scale representing the y values of the figure\n",
      "padding_x: Float (default: 0.0)\n",
      "    Padding to be applied in the horizontal direction of the figure\n",
      "    around the data points, proportion of the horizontal length\n",
      "padding_y: Float (default: 0.025)\n",
      "    Padding to be applied in the vertical direction of the figure\n",
      "    around the data points, proportion of the vertical length\n",
      "legend_location: {'top-right', 'top', 'top-left', 'left',\n",
      "    'bottom-left', 'bottom', 'bottom-right', 'right'}\n",
      "    location of the legend relative to the center of the figure\n",
      "background_style: Dict (default: {})\n",
      "    CSS style to be applied to the background of the figure\n",
      "legend_style: Dict (default: {})\n",
      "    CSS style to be applied to the SVG legend e.g, {'fill': 'white'}\n",
      "legend_text: Dict (default: {})\n",
      "    CSS style to be applied to the legend text e.g., {'font-size': 20}\n",
      "title_style: Dict (default: {})\n",
      "    CSS style to be applied to the title of the figure\n",
      "animation_duration: nonnegative int (default: 0)\n",
      "    Duration of transition on change of data attributes, in milliseconds.\n",
      "pixel_ratio:\n",
      "    Pixel ratio of the WebGL canvas (2 on retina screens). Set to 1 for better performance,\n",
      "    but less crisp edges. If set to None it will use the browser's window.devicePixelRatio.\n",
      "\n",
      "Layout Attributes\n",
      "\n",
      "fig_margin: dict (default: {top=60, bottom=60, left=60, right=60})\n",
      "    Dictionary containing the top, bottom, left and right margins. The user\n",
      "    is responsible for making sure that the width and height are greater\n",
      "    than the sum of the margins.\n",
      "min_aspect_ratio: float\n",
      "     minimum width / height ratio of the figure\n",
      "max_aspect_ratio: float\n",
      "     maximum width / height ratio of the figure\n",
      "\n",
      "Methods\n",
      "-------\n",
      "\n",
      "save_png:\n",
      "   Saves the figure as a PNG file\n",
      "save_svg:\n",
      "   Saves the figure as an SVG file\n",
      "\n",
      "Note\n",
      "----\n",
      "\n",
      "The aspect ratios stand for width / height ratios.\n",
      "\n",
      " - If the available space is within bounds in terms of min and max aspect\n",
      "   ratio, we use the entire available space.\n",
      " - If the available space is too oblong horizontally, we use the client\n",
      "   height and the width that corresponds max_aspect_ratio (maximize width\n",
      "   under the constraints).\n",
      " - If the available space is too oblong vertically, we use the client width\n",
      "   and the height that corresponds to min_aspect_ratio (maximize height\n",
      "   under the constraint).\n",
      "   This corresponds to maximizing the area under the constraints.\n",
      "\n",
      "Default min and max aspect ratio are both equal to 16 / 9.\n",
      "\u001b[0;31mInit docstring:\u001b[0m Public constructor\n",
      "\u001b[0;31mFile:\u001b[0m           /opt/anaconda3/envs/DataViz2/lib/python3.10/site-packages/bqplot/figure.py\n",
      "\u001b[0;31mType:\u001b[0m           MetaHasTraits\n",
      "\u001b[0;31mSubclasses:\u001b[0m     "
     ]
    }
   ],
   "source": [
    "bqplot.Figure?"
   ]
  },
  {
   "cell_type": "code",
   "execution_count": 45,
   "metadata": {},
   "outputs": [
    {
     "data": {
      "application/vnd.jupyter.widget-view+json": {
       "model_id": "a331a6c2cd6b4b3ab1dc184ab5c541c0",
       "version_major": 2,
       "version_minor": 0
      },
      "text/plain": [
       "Figure(axes=[Axis(label='X Value', scale=LinearScale(), side='bottom'), Axis(label='Y Value', orientation='ver…"
      ]
     },
     "metadata": {},
     "output_type": "display_data"
    }
   ],
   "source": [
    "fig = bqplot.Figure(marks = [lines], axes = [ax_x, ax_y])\n",
    "#display(fig) # you might also want to try \"display\"\n",
    "# if you don't see the following fig, here is where\n",
    "#  you might have to close and reopen your notebook\n",
    "fig # note: just \"fig\" instead of \"display(fig)\" may also be an option for you"
   ]
  },
  {
   "cell_type": "markdown",
   "metadata": {},
   "source": [
    "Ok, but this isn't interactive in anyway lets make it!!  There are a few \"interactions\" supported in `bqplot` but not all of them are supported for all types of plots.  The docs can be a little nebulous about what plot can use what type of interaction, so we'll just try a few and see what happens.  Here, let's add in an ability to pan/zoom in our plot:"
   ]
  },
  {
   "cell_type": "code",
   "execution_count": 46,
   "metadata": {},
   "outputs": [
    {
     "name": "stdout",
     "output_type": "stream",
     "text": [
      "\u001b[0;31mType:\u001b[0m        module\n",
      "\u001b[0;31mString form:\u001b[0m <module 'bqplot.interacts' from '/opt/anaconda3/envs/DataViz2/lib/python3.10/site-packages/bqplot/interacts.py'>\n",
      "\u001b[0;31mFile:\u001b[0m        /opt/anaconda3/envs/DataViz2/lib/python3.10/site-packages/bqplot/interacts.py\n",
      "\u001b[0;31mDocstring:\u001b[0m  \n",
      "=========\n",
      "Interacts\n",
      "=========\n",
      "\n",
      ".. currentmodule:: bqplot.interacts\n",
      "\n",
      ".. autosummary::\n",
      "   :toctree: _generate/\n",
      "\n",
      "   BrushIntervalSelector\n",
      "   BrushSelector\n",
      "   HandDraw\n",
      "   IndexSelector\n",
      "   FastIntervalSelector\n",
      "   MultiSelector\n",
      "   OneDSelector\n",
      "   Interaction\n",
      "   PanZoom\n",
      "   Selector\n",
      "   TwoDSelector"
     ]
    }
   ],
   "source": [
    "bqplot.interacts?"
   ]
  },
  {
   "cell_type": "code",
   "execution_count": 47,
   "metadata": {},
   "outputs": [
    {
     "name": "stdout",
     "output_type": "stream",
     "text": [
      "\u001b[0;31mInit signature:\u001b[0m \u001b[0mbqplot\u001b[0m\u001b[0;34m.\u001b[0m\u001b[0minteracts\u001b[0m\u001b[0;34m.\u001b[0m\u001b[0mPanZoom\u001b[0m\u001b[0;34m(\u001b[0m\u001b[0;34m*\u001b[0m\u001b[0margs\u001b[0m\u001b[0;34m:\u001b[0m \u001b[0;34m't.Any'\u001b[0m\u001b[0;34m,\u001b[0m \u001b[0;34m**\u001b[0m\u001b[0mkwargs\u001b[0m\u001b[0;34m:\u001b[0m \u001b[0;34m't.Any'\u001b[0m\u001b[0;34m)\u001b[0m \u001b[0;34m->\u001b[0m \u001b[0;34m't.Any'\u001b[0m\u001b[0;34m\u001b[0m\u001b[0;34m\u001b[0m\u001b[0m\n",
      "\u001b[0;31mDocstring:\u001b[0m     \n",
      "An interaction to pan and zoom wrt scales.\n",
      "\n",
      "Attributes\n",
      "----------\n",
      "allow_pan: bool (default: True)\n",
      "    Toggle the ability to pan.\n",
      "allow_zoom: bool (default: True)\n",
      "    Toggle the ability to zoom.\n",
      "scales: Dictionary of lists of Scales (default: {})\n",
      "    Dictionary with keys such as 'x' and 'y' and values being the scales in\n",
      "    the corresponding direction (dimensions) which should be panned or\n",
      "    zoomed.\n",
      "\u001b[0;31mInit docstring:\u001b[0m Public constructor\n",
      "\u001b[0;31mFile:\u001b[0m           /opt/anaconda3/envs/DataViz2/lib/python3.10/site-packages/bqplot/interacts.py\n",
      "\u001b[0;31mType:\u001b[0m           MetaHasTraits\n",
      "\u001b[0;31mSubclasses:\u001b[0m     "
     ]
    }
   ],
   "source": [
    "bqplot.interacts.PanZoom?"
   ]
  },
  {
   "cell_type": "code",
   "execution_count": 48,
   "metadata": {},
   "outputs": [],
   "source": [
    "pz = bqplot.interacts.PanZoom( scales = {'x': [x_sc], 'y': [y_sc]})"
   ]
  },
  {
   "cell_type": "code",
   "execution_count": 49,
   "metadata": {},
   "outputs": [
    {
     "data": {
      "application/vnd.jupyter.widget-view+json": {
       "model_id": "1ae027c973924ce0b36127b9b6c43d76",
       "version_major": 2,
       "version_minor": 0
      },
      "text/plain": [
       "Figure(axes=[Axis(label='X Value', scale=LinearScale(), side='bottom'), Axis(label='Y Value', orientation='ver…"
      ]
     },
     "metadata": {},
     "output_type": "display_data"
    }
   ],
   "source": [
    "fig = bqplot.Figure(marks = [lines], axes = [ax_x, ax_y], interaction = pz)\n",
    "#display(fig)\n",
    "fig"
   ]
  },
  {
   "cell_type": "markdown",
   "metadata": {},
   "source": [
    "Note that if I pan and zoom, the figure updates. Ooooo. fancy.\n",
    "\n",
    "Note also, that the above figure also reacts as well this is because we are using the same lines & ax's objects -- recall back to last week that this was a feature of using ipywidgets and traitlets as well."
   ]
  },
  {
   "cell_type": "markdown",
   "metadata": {},
   "source": [
    "### ASIDE: where things can go wrong (SKIPPING generally):"
   ]
  },
  {
   "cell_type": "code",
   "execution_count": 50,
   "metadata": {},
   "outputs": [],
   "source": [
    "# lets see an example of where this can fail\n",
    "\n",
    "# first lets make an x from 0-10 in 100 steps\n",
    "x = np.mgrid[0.0:10.0:100j]\n",
    "# and 2 y variables\n",
    "y1 = x * 2\n",
    "y2 = x**2"
   ]
  },
  {
   "cell_type": "code",
   "execution_count": 51,
   "metadata": {},
   "outputs": [],
   "source": [
    "x_sc = bqplot.LinearScale(min = 1, max = 10)\n",
    "# lets do one y-scale over linear and 1 over log\n",
    "y_sc1 = bqplot.LinearScale(min = 1, max = 20)\n",
    "y_sc2 = bqplot.LogScale(min = 1, max = 100)"
   ]
  },
  {
   "cell_type": "code",
   "execution_count": 52,
   "metadata": {},
   "outputs": [],
   "source": [
    "# lets genrate lines for each y value\n",
    "lines1 = bqplot.Lines(x = x, y = y1, scales = {'x': x_sc, 'y': y_sc1})\n",
    "lines2 = bqplot.Lines(x = x, y = y2, scales = {'x': x_sc, 'y': y_sc2})"
   ]
  },
  {
   "cell_type": "code",
   "execution_count": 53,
   "metadata": {},
   "outputs": [],
   "source": [
    "# and lets plot an x axis like before\n",
    "ax_x = bqplot.Axis(scale = x_sc, label = 'X Value')\n",
    "# and one y axis on the left\n",
    "ax_y1 = bqplot.Axis(scale = y_sc1, label = 'Y1 Value', \n",
    "                    orientation = 'vertical')\n",
    "# and one y-axis on the right\n",
    "ax_y2 = bqplot.Axis(scale = y_sc2, label = 'Y2 Value', \n",
    "                    orientation = 'vertical', side = 'right')"
   ]
  },
  {
   "cell_type": "code",
   "execution_count": 54,
   "metadata": {
    "scrolled": false
   },
   "outputs": [
    {
     "data": {
      "application/vnd.jupyter.widget-view+json": {
       "model_id": "d3d43520970642bd8548095f0ec5eb91",
       "version_major": 2,
       "version_minor": 0
      },
      "text/plain": [
       "Figure(axes=[Axis(label='X Value', scale=LinearScale(max=10.0, min=1.0), side='bottom'), Axis(label='Y1 Value'…"
      ]
     },
     "metadata": {},
     "output_type": "display_data"
    }
   ],
   "source": [
    "# lets allow pan and zoom\n",
    "pz = bqplot.interacts.PanZoom(scales = {'x': [x_sc], \n",
    "                                        'y': [y_sc1, y_sc2]})\n",
    "#bqplot.interacts.PanZoom?\n",
    "fig = bqplot.Figure(marks = [lines1, lines2], \n",
    "                    axes = [ax_x, ax_y1, ax_y2], interaction=pz)\n",
    "#display(fig)\n",
    "fig\n",
    "# now we note if we zoom out too far, or pan to too negative of the x-axis\n",
    "# we lose a line\n",
    "\n",
    "# why? because the line is log-scaled, and log(numbers < 0) is undefined\n",
    "\n",
    "# this is a way in which declaritive programming can fail because there\n",
    "#  aren't obvious options to inhibit pan&zoom to a positive range"
   ]
  },
  {
   "cell_type": "markdown",
   "metadata": {},
   "source": [
    "### END ASIDE/SKIP"
   ]
  },
  {
   "cell_type": "markdown",
   "metadata": {},
   "source": [
    "FYI lots of more fun notebooks here: https://github.com/dmadeka/PyGotham-2017\n",
    "\n",
    "From video tutorial here: https://www.youtube.com/watch?v=rraXF0EjRC8"
   ]
  },
  {
   "cell_type": "markdown",
   "metadata": {},
   "source": [
    "## Random Scatter plot\n",
    "Ok, lets do another quick interactive example using a scatter plot:"
   ]
  },
  {
   "cell_type": "code",
   "execution_count": 55,
   "metadata": {},
   "outputs": [],
   "source": [
    "# 1. Data\n",
    "x = np.random.random(100) # random points betweeon 0-1\n",
    "y = np.random.random(100) # random points betweeon 0-1"
   ]
  },
  {
   "cell_type": "code",
   "execution_count": 56,
   "metadata": {},
   "outputs": [
    {
     "data": {
      "text/plain": [
       "(array([0.77193634, 0.00965458, 0.25115502, 0.52004931, 0.51256134,\n",
       "        0.52801354, 0.09583025, 0.9715151 , 0.40672006, 0.97841824,\n",
       "        0.57205302, 0.16604211, 0.99616081, 0.55022351, 0.85058701,\n",
       "        0.83547237, 0.47286333, 0.60388748, 0.23883521, 0.05499903,\n",
       "        0.53324366, 0.39997573, 0.59691392, 0.00458049, 0.12762168,\n",
       "        0.51024583, 0.10472266, 0.05821621, 0.46910477, 0.16254177,\n",
       "        0.46483591, 0.72150307, 0.12196169, 0.24171946, 0.87073741,\n",
       "        0.3994065 , 0.45245364, 0.57587716, 0.83101714, 0.77053489,\n",
       "        0.03007659, 0.68123844, 0.39370244, 0.43523919, 0.07107062,\n",
       "        0.43292028, 0.39212446, 0.36379171, 0.03278074, 0.83057352,\n",
       "        0.26565936, 0.00358151, 0.8220916 , 0.3811829 , 0.43959686,\n",
       "        0.77739317, 0.38957635, 0.75521528, 0.23720355, 0.28958063,\n",
       "        0.82713685, 0.08434054, 0.7281231 , 0.15110713, 0.42449378,\n",
       "        0.79881266, 0.63352915, 0.32545863, 0.05424941, 0.30496133,\n",
       "        0.631374  , 0.90306901, 0.025556  , 0.25711541, 0.31126041,\n",
       "        0.95984331, 0.79393103, 0.70459498, 0.38782847, 0.9744381 ,\n",
       "        0.20835194, 0.3591299 , 0.36044459, 0.23639705, 0.01693794,\n",
       "        0.38236916, 0.88656126, 0.57898024, 0.0540409 , 0.22972384,\n",
       "        0.84625299, 0.21996025, 0.51264919, 0.846329  , 0.41258923,\n",
       "        0.32068895, 0.53563523, 0.10736444, 0.31899144, 0.25310666]),\n",
       " array([0.69428284, 0.34727804, 0.44015273, 0.19305499, 0.41003829,\n",
       "        0.59830541, 0.76960107, 0.23330672, 0.04019625, 0.09712966,\n",
       "        0.19360486, 0.24216256, 0.18101242, 0.89078035, 0.14292168,\n",
       "        0.1175114 , 0.46945987, 0.58272296, 0.89353852, 0.02475017,\n",
       "        0.84246867, 0.86029557, 0.03801903, 0.59196553, 0.01226922,\n",
       "        0.41910322, 0.23001598, 0.78373773, 0.88980674, 0.44396215,\n",
       "        0.73350201, 0.79103079, 0.57997685, 0.8205496 , 0.24069452,\n",
       "        0.11927792, 0.46028439, 0.89701467, 0.19924187, 0.33330656,\n",
       "        0.86291018, 0.44799148, 0.34032826, 0.00733511, 0.6992789 ,\n",
       "        0.75986002, 0.42840265, 0.2144436 , 0.82775767, 0.77598107,\n",
       "        0.59444973, 0.73469391, 0.64317413, 0.71090873, 0.71057601,\n",
       "        0.42328517, 0.04122935, 0.85178606, 0.2963449 , 0.41571493,\n",
       "        0.81009125, 0.16221489, 0.32934118, 0.79034533, 0.413128  ,\n",
       "        0.1069816 , 0.10089391, 0.89542568, 0.4882451 , 0.97280391,\n",
       "        0.03510247, 0.16604651, 0.09718152, 0.05732179, 0.35581649,\n",
       "        0.49652502, 0.53452145, 0.67441214, 0.92159505, 0.4454685 ,\n",
       "        0.96062077, 0.71312222, 0.67266669, 0.24157172, 0.20618127,\n",
       "        0.13850495, 0.84539678, 0.4655422 , 0.42163729, 0.39567848,\n",
       "        0.16264319, 0.98857666, 0.41484498, 0.49351156, 0.91410072,\n",
       "        0.08794047, 0.86304077, 0.77397439, 0.22621092, 0.48738517]))"
      ]
     },
     "execution_count": 56,
     "metadata": {},
     "output_type": "execute_result"
    }
   ],
   "source": [
    "x, y"
   ]
  },
  {
   "cell_type": "markdown",
   "metadata": {},
   "source": [
    "Create scales and axis like we did before:"
   ]
  },
  {
   "cell_type": "code",
   "execution_count": 57,
   "metadata": {},
   "outputs": [],
   "source": [
    "# 2. scales\n",
    "x_sc = bqplot.LinearScale()\n",
    "y_sc = bqplot.LinearScale()\n",
    "\n",
    "# 3. axis\n",
    "x_ax = bqplot.Axis(scale = x_sc, label = 'X')\n",
    "y_ax = bqplot.Axis(scale = y_sc, label = 'Y', orientation = 'vertical')"
   ]
  },
  {
   "cell_type": "markdown",
   "metadata": {},
   "source": [
    "Create a scatter plot graphing object with these random x/y and scales:"
   ]
  },
  {
   "cell_type": "code",
   "execution_count": 58,
   "metadata": {},
   "outputs": [
    {
     "name": "stdout",
     "output_type": "stream",
     "text": [
      "\u001b[0;31mInit signature:\u001b[0m \u001b[0mbqplot\u001b[0m\u001b[0;34m.\u001b[0m\u001b[0mScatter\u001b[0m\u001b[0;34m(\u001b[0m\u001b[0;34m*\u001b[0m\u001b[0margs\u001b[0m\u001b[0;34m:\u001b[0m \u001b[0;34m't.Any'\u001b[0m\u001b[0;34m,\u001b[0m \u001b[0;34m**\u001b[0m\u001b[0mkwargs\u001b[0m\u001b[0;34m:\u001b[0m \u001b[0;34m't.Any'\u001b[0m\u001b[0;34m)\u001b[0m \u001b[0;34m->\u001b[0m \u001b[0;34m't.Any'\u001b[0m\u001b[0;34m\u001b[0m\u001b[0;34m\u001b[0m\u001b[0m\n",
      "\u001b[0;31mDocstring:\u001b[0m     \n",
      "Scatter mark.\n",
      "\n",
      "In the case of the Scatter mark, scales for 'x' and 'y' MUST be provided.\n",
      "The scales of other data attributes are optional. In the case where another\n",
      "data attribute than 'x' or 'y' is provided but the corresponding scale is\n",
      "missing, the data attribute is ignored.\n",
      "\n",
      "Attributes\n",
      "----------\n",
      "icon: string (class-level attribute)\n",
      "    Font-awesome icon for that mark\n",
      "name: string (class-level attribute)\n",
      "    User-friendly name of the mark\n",
      "marker: {'circle', 'cross', 'diamond', 'square', 'triangle-down', 'triangle-up', 'arrow', 'rectangle', 'ellipse'}\n",
      "    Marker shape\n",
      "colors: list of colors (default: ['steelblue'])\n",
      "    List of colors of the markers. If the list is shorter than the number\n",
      "    of points, the colors are reused.\n",
      "default_colors: Deprecated\n",
      "    Same as `colors`, deprecated as of version 0.8.4\n",
      "fill: Bool (default: True)\n",
      "    Whether to fill the markers or not\n",
      "stroke: Color or None (default: None)\n",
      "    Stroke color of the marker\n",
      "stroke_width: Float (default: 1.5)\n",
      "    Stroke width of the marker\n",
      "opacities: list of floats (default: [1.0])\n",
      "    Default opacities of the markers. If the list is shorter than\n",
      "    the number\n",
      "    of points, the opacities are reused.\n",
      "default_skew: float (default: 0.5)\n",
      "    Default skew of the marker.\n",
      "    This number is validated to be between 0 and 1.\n",
      "default_size: nonnegative int (default: 64)\n",
      "    Default marker size in pixel.\n",
      "    If size data is provided with a scale, default_size stands for the\n",
      "    maximal marker size (i.e. the maximum value for the 'size' scale range)\n",
      "drag_size: nonnegative float (default: 5.)\n",
      "    Ratio of the size of the dragged scatter size to the default\n",
      "    scatter size.\n",
      "names: numpy.ndarray (default: None)\n",
      "    Labels for the points of the chart\n",
      "display_names: bool (default: True)\n",
      "    Controls whether names are displayed for points in the scatter\n",
      "label_display_horizontal_offset: float (default: None)\n",
      "    Adds an offset, in pixels, to the horizontal positioning of the 'names'\n",
      "    label above each data point\n",
      "label_display_vertical_offset: float (default: None)\n",
      "    Adds an offset, in pixels, to the vertical positioning of the 'names'\n",
      "    label above each data point\n",
      "enable_move: bool (default: False)\n",
      "    Controls whether points can be moved by dragging. Refer to restrict_x,\n",
      "    restrict_y for more options.\n",
      "restrict_x: bool (default: False)\n",
      "    Restricts movement of the point to only along the x axis. This is valid\n",
      "    only when enable_move is set to True. If both restrict_x and restrict_y\n",
      "    are set to True, the point cannot be moved.\n",
      "restrict_y: bool (default: False)\n",
      "    Restricts movement of the point to only along the y axis. This is valid\n",
      "    only when enable_move is set to True. If both restrict_x and restrict_y\n",
      "    are set to True, the point cannot be moved.\n",
      "\n",
      "\n",
      "Data Attributes\n",
      "\n",
      "x: numpy.ndarray (default: [])\n",
      "    abscissas of the data points (1d array)\n",
      "y: numpy.ndarray (default: [])\n",
      "    ordinates of the data points (1d array)\n",
      "color: numpy.ndarray or None (default: None)\n",
      "    color of the data points (1d array). Defaults to default_color when not\n",
      "    provided or when a value is NaN\n",
      "opacity: numpy.ndarray or None (default: None)\n",
      "    opacity of the data points (1d array). Defaults to default_opacity when\n",
      "    not provided or when a value is NaN\n",
      "size: numpy.ndarray or None (default: None)\n",
      "    size of the data points. Defaults to default_size when not provided or\n",
      "    when a value is NaN\n",
      "skew: numpy.ndarray or None (default: None)\n",
      "    skewness of the markers representing the data points. Defaults to\n",
      "    default_skew when not provided or when a value is NaN\n",
      "rotation: numpy.ndarray or None (default: None)\n",
      "    orientation of the markers representing the data points.\n",
      "    The rotation scale's range is [0, 180]\n",
      "    Defaults to 0 when not provided or when a value is NaN.\n",
      "\n",
      "Notes\n",
      "-----\n",
      "The fields which can be passed to the default tooltip are:\n",
      "    All the data attributes\n",
      "    index: index of the marker being hovered on\n",
      "The following are the events which can trigger interactions:\n",
      "    click: left click of the mouse\n",
      "    hover: mouse-over an element\n",
      "The following are the interactions which can be linked to the above events:\n",
      "    tooltip: display tooltip\n",
      "    add: add new points to the scatter (can only linked to click)\n",
      "\u001b[0;31mInit docstring:\u001b[0m Public constructor\n",
      "\u001b[0;31mFile:\u001b[0m           /opt/anaconda3/envs/DataViz2/lib/python3.10/site-packages/bqplot/marks.py\n",
      "\u001b[0;31mType:\u001b[0m           MetaHasTraits\n",
      "\u001b[0;31mSubclasses:\u001b[0m     ScatterGL"
     ]
    }
   ],
   "source": [
    "bqplot.Scatter?"
   ]
  },
  {
   "cell_type": "code",
   "execution_count": 59,
   "metadata": {},
   "outputs": [],
   "source": [
    "# 4. marks\n",
    "scatters = bqplot.Scatter(x = x,\n",
    "                          y = y,\n",
    "                          scales = {'x': x_sc, 'y': y_sc})"
   ]
  },
  {
   "cell_type": "markdown",
   "metadata": {},
   "source": [
    "Now, lets create a selector to select points along the x-axis.  We will use the `bqplot` interaction called `FastIntervalSelector`:"
   ]
  },
  {
   "cell_type": "code",
   "execution_count": 60,
   "metadata": {},
   "outputs": [
    {
     "name": "stdout",
     "output_type": "stream",
     "text": [
      "\u001b[0;31mInit signature:\u001b[0m \u001b[0mbqplot\u001b[0m\u001b[0;34m.\u001b[0m\u001b[0minteracts\u001b[0m\u001b[0;34m.\u001b[0m\u001b[0mFastIntervalSelector\u001b[0m\u001b[0;34m(\u001b[0m\u001b[0;34m*\u001b[0m\u001b[0margs\u001b[0m\u001b[0;34m:\u001b[0m \u001b[0;34m't.Any'\u001b[0m\u001b[0;34m,\u001b[0m \u001b[0;34m**\u001b[0m\u001b[0mkwargs\u001b[0m\u001b[0;34m:\u001b[0m \u001b[0;34m't.Any'\u001b[0m\u001b[0;34m)\u001b[0m \u001b[0;34m->\u001b[0m \u001b[0;34m't.Any'\u001b[0m\u001b[0;34m\u001b[0m\u001b[0;34m\u001b[0m\u001b[0m\n",
      "\u001b[0;31mDocstring:\u001b[0m     \n",
      "Fast interval selector interaction.\n",
      "\n",
      "This 1-D selector is used to select an interval on the x-scale\n",
      "by just moving the mouse (without clicking or dragging). The\n",
      "x-coordinate of the mouse controls the mid point of the interval selected\n",
      "while the y-coordinate of the mouse controls the the width of the interval.\n",
      "The larger the y-coordinate, the wider the interval selected.\n",
      "\n",
      "Interval selector has three modes:\n",
      "    1. default mode: This is the default mode in which the mouse controls\n",
      "            the location and width of the interval.\n",
      "    2. fixed-width mode: In this mode the width of the interval is frozen\n",
      "            and only the location of the interval is controlled with the\n",
      "            mouse.\n",
      "            A single click from the default mode takes you to this mode.\n",
      "            Another single click takes you back to the default mode.\n",
      "    3. frozen mode: In this mode the selected interval is frozen and the\n",
      "            selector does not respond to mouse move.\n",
      "            A double click from the default mode takes you to this mode.\n",
      "            Another double click takes you back to the default mode.\n",
      "\n",
      "Attributes\n",
      "----------\n",
      "selected: numpy.ndarray\n",
      "    Two-element array containing the start and end of the interval selected\n",
      "    in terms of the scale of the selector.\n",
      "color: Color or None (default: None)\n",
      "    color of the rectangle representing the interval selector\n",
      "size: Float or None (default: None)\n",
      "    if not None, this is the fixed pixel-width of the interval selector\n",
      "\u001b[0;31mInit docstring:\u001b[0m Public constructor\n",
      "\u001b[0;31mFile:\u001b[0m           /opt/anaconda3/envs/DataViz2/lib/python3.10/site-packages/bqplot/interacts.py\n",
      "\u001b[0;31mType:\u001b[0m           MetaHasTraits\n",
      "\u001b[0;31mSubclasses:\u001b[0m     "
     ]
    }
   ],
   "source": [
    "bqplot.interacts.FastIntervalSelector?"
   ]
  },
  {
   "cell_type": "code",
   "execution_count": 61,
   "metadata": {},
   "outputs": [],
   "source": [
    "# 5. interactions\n",
    "selector = bqplot.interacts.FastIntervalSelector(\n",
    "            scale = x_sc, marks = [scatters]) "
   ]
  },
  {
   "cell_type": "markdown",
   "metadata": {},
   "source": [
    "Let's check out the full figure + interaction!"
   ]
  },
  {
   "cell_type": "code",
   "execution_count": 62,
   "metadata": {},
   "outputs": [
    {
     "data": {
      "application/vnd.jupyter.widget-view+json": {
       "model_id": "059cf7d9bfdf407eb981b9c63e331fbe",
       "version_major": 2,
       "version_minor": 0
      },
      "text/plain": [
       "Figure(axes=[Axis(label='X', scale=LinearScale(), side='bottom'), Axis(label='Y', orientation='vertical', scal…"
      ]
     },
     "metadata": {},
     "output_type": "display_data"
    }
   ],
   "source": [
    "# Finally: fig\n",
    "fig = bqplot.Figure(marks = [scatters], axes = [x_ax, y_ax], interaction = selector)\n",
    "fig"
   ]
  },
  {
   "cell_type": "markdown",
   "metadata": {},
   "source": [
    "This might depend on what computer you are in, but on my mac, I click to start selecting and then double click to \"lock in\" my selected region.\n",
    "\n",
    "How do we tell what interval we have selected?"
   ]
  },
  {
   "cell_type": "code",
   "execution_count": 65,
   "metadata": {},
   "outputs": [
    {
     "data": {
      "text/plain": [
       "array([0.19930137, 0.30648129])"
      ]
     },
     "execution_count": 65,
     "metadata": {},
     "output_type": "execute_result"
    }
   ],
   "source": [
    "selector.selected"
   ]
  },
  {
   "cell_type": "markdown",
   "metadata": {},
   "source": [
    "So, its a little hard to see what points are selected.  There are some hidden tags within our scatter plot points that we can mess with to change our our plot looks.  These have CSS styling (how HTML is styled), so they'll look very un-Pythonic, because they are!  We'll get more into this sort of thing when we are doing Javascript later in the course:"
   ]
  },
  {
   "cell_type": "code",
   "execution_count": 66,
   "metadata": {},
   "outputs": [],
   "source": [
    "scatters.unselected_style={'opacity': 0.8} # when unselected, make the points a little see-through\n",
    "\n",
    "scatters.selected_style={'fill': 'red', 'stroke': 'yellow'} # fill with red, outline in yellow when selected"
   ]
  },
  {
   "cell_type": "markdown",
   "metadata": {},
   "source": [
    "Display updated figure (though, like with widgets, this change is \"backreactive\" and will show up above as well):"
   ]
  },
  {
   "cell_type": "code",
   "execution_count": 67,
   "metadata": {},
   "outputs": [
    {
     "data": {
      "application/vnd.jupyter.widget-view+json": {
       "model_id": "6d4c90bd401c41a1a27cd1c450555472",
       "version_major": 2,
       "version_minor": 0
      },
      "text/plain": [
       "Figure(axes=[Axis(label='X', scale=LinearScale(), side='bottom'), Axis(label='Y', orientation='vertical', scal…"
      ]
     },
     "metadata": {},
     "output_type": "display_data"
    }
   ],
   "source": [
    "fig = bqplot.Figure(marks = [scatters], axes = [x_ax, y_ax], interaction = selector)\n",
    "#display(fig)\n",
    "fig"
   ]
  },
  {
   "cell_type": "markdown",
   "metadata": {},
   "source": [
    "## Random Heatmap with 2D data"
   ]
  },
  {
   "cell_type": "markdown",
   "metadata": {},
   "source": [
    "Lets start thinking about heatmaps with some random data:"
   ]
  },
  {
   "cell_type": "code",
   "execution_count": 68,
   "metadata": {},
   "outputs": [
    {
     "data": {
      "text/plain": [
       "array([[0.14791957, 0.97054938, 0.07439465, 0.15615487, 0.24913276,\n",
       "        0.99701975, 0.2134827 , 0.64871132, 0.08484776, 0.54304089],\n",
       "       [0.80997342, 0.6249796 , 0.1924292 , 0.28217596, 0.42543216,\n",
       "        0.59353431, 0.4631694 , 0.11117238, 0.31438334, 0.05036456],\n",
       "       [0.06403195, 0.71190537, 0.6521289 , 0.2728281 , 0.61449218,\n",
       "        0.60533033, 0.97447799, 0.69149685, 0.51526736, 0.70156448],\n",
       "       [0.68668389, 0.77674922, 0.55836007, 0.45263152, 0.10820574,\n",
       "        0.58715177, 0.14177246, 0.86760004, 0.82549581, 0.7777558 ],\n",
       "       [0.95922646, 0.26531937, 0.06523764, 0.33031407, 0.05750767,\n",
       "        0.06885778, 0.89297128, 0.00793225, 0.67627555, 0.59931751],\n",
       "       [0.20098096, 0.55055503, 0.06120612, 0.94861667, 0.19923759,\n",
       "        0.84267609, 0.44293118, 0.26793918, 0.03419345, 0.95552638],\n",
       "       [0.1007125 , 0.38868466, 0.03292015, 0.77536097, 0.29054695,\n",
       "        0.74742183, 0.63290642, 0.52642943, 0.76015655, 0.43971353],\n",
       "       [0.67529693, 0.89476118, 0.32802094, 0.43214992, 0.55193992,\n",
       "        0.97170808, 0.7799055 , 0.23999285, 0.02349577, 0.25661839],\n",
       "       [0.62659811, 0.95989256, 0.58593346, 0.33664347, 0.03543647,\n",
       "        0.48669231, 0.0653354 , 0.53946599, 0.42424326, 0.73232707],\n",
       "       [0.18014917, 0.07922086, 0.77741904, 0.08856875, 0.04380506,\n",
       "        0.31316371, 0.59081349, 0.8944298 , 0.24255625, 0.52768372]])"
      ]
     },
     "execution_count": 68,
     "metadata": {},
     "output_type": "execute_result"
    }
   ],
   "source": [
    "# 1. Data\n",
    "data = np.random.random((10, 10))\n",
    "data # your's may look different!"
   ]
  },
  {
   "cell_type": "markdown",
   "metadata": {},
   "source": [
    "So we just have a 10 x 10 array here.\n",
    "\n",
    "Lets start by generating a quick heat map with `bqplot`'s `GridHeatMap` marks function. We've been making plots with linear scales before, but now for a heatmap, we will want to make a color scale as well.  Let's start with just assigning a color scale, and going from there:"
   ]
  },
  {
   "cell_type": "code",
   "execution_count": 69,
   "metadata": {},
   "outputs": [
    {
     "name": "stdout",
     "output_type": "stream",
     "text": [
      "\u001b[0;31mInit signature:\u001b[0m \u001b[0mbqplot\u001b[0m\u001b[0;34m.\u001b[0m\u001b[0mColorScale\u001b[0m\u001b[0;34m(\u001b[0m\u001b[0;34m*\u001b[0m\u001b[0margs\u001b[0m\u001b[0;34m:\u001b[0m \u001b[0;34m't.Any'\u001b[0m\u001b[0;34m,\u001b[0m \u001b[0;34m**\u001b[0m\u001b[0mkwargs\u001b[0m\u001b[0;34m:\u001b[0m \u001b[0;34m't.Any'\u001b[0m\u001b[0;34m)\u001b[0m \u001b[0;34m->\u001b[0m \u001b[0;34m't.Any'\u001b[0m\u001b[0;34m\u001b[0m\u001b[0;34m\u001b[0m\u001b[0m\n",
      "\u001b[0;31mDocstring:\u001b[0m     \n",
      "A color scale.\n",
      "\n",
      "A mapping from numbers to colors. The relation is affine by part.\n",
      "\n",
      "Attributes\n",
      "----------\n",
      "scale_type: {'linear'}\n",
      "    scale type\n",
      "colors: list of colors (default: [])\n",
      "    list of colors\n",
      "min: float or None (default: None)\n",
      "    if not None, min is the minimal value of the domain\n",
      "max: float or None (default: None)\n",
      "    if not None, max is the maximal value of the domain\n",
      "mid: float or None (default: None)\n",
      "    if not None, mid is the value corresponding to the mid color.\n",
      "scheme: string (default: 'RdYlGn')\n",
      "    Colorbrewer color scheme of the color scale.\n",
      "extrapolation: {'constant', 'linear'} (default: 'constant')\n",
      "    How to extrapolate values outside the [min, max] domain.\n",
      "rtype: string (class-level attribute)\n",
      "    The range type of a color scale is 'Color'. This should not be modified.\n",
      "dtype: type (class-level attribute)\n",
      "    the associated data type / domain type\n",
      "\u001b[0;31mInit docstring:\u001b[0m Public constructor\n",
      "\u001b[0;31mFile:\u001b[0m           /opt/anaconda3/envs/DataViz2/lib/python3.10/site-packages/bqplot/scales.py\n",
      "\u001b[0;31mType:\u001b[0m           MetaHasTraits\n",
      "\u001b[0;31mSubclasses:\u001b[0m     DateColorScale, OrdinalColorScale"
     ]
    }
   ],
   "source": [
    "bqplot.ColorScale?"
   ]
  },
  {
   "cell_type": "code",
   "execution_count": 70,
   "metadata": {},
   "outputs": [
    {
     "data": {
      "application/vnd.jupyter.widget-view+json": {
       "model_id": "1d25d7f9756b4398a37222c5f0689f8f",
       "version_major": 2,
       "version_minor": 0
      },
      "text/plain": [
       "Figure(fig_margin={'top': 60, 'bottom': 60, 'left': 60, 'right': 60}, marks=[GridHeatMap(color=array([[0.14791…"
      ]
     },
     "metadata": {},
     "output_type": "display_data"
    }
   ],
   "source": [
    "# 2. Scales -- in this case, just a color scale\n",
    "col_sc = bqplot.ColorScale() # use bqplot to define a color scale\n",
    "\n",
    "# 3. Axis -- skipping for now\n",
    "\n",
    "# 4. Mark -- use colorscale to make make heatmap of our data:\n",
    "heat_map = bqplot.GridHeatMap(color = data, scales = {'color': col_sc})\n",
    "\n",
    "# 5. Skipping any interactions\n",
    "\n",
    "# Finally: figure\n",
    "fig = bqplot.Figure(marks = [heat_map])\n",
    "fig"
   ]
  },
  {
   "cell_type": "code",
   "execution_count": 71,
   "metadata": {},
   "outputs": [
    {
     "name": "stdout",
     "output_type": "stream",
     "text": [
      "\u001b[0;31mInit signature:\u001b[0m \u001b[0mbqplot\u001b[0m\u001b[0;34m.\u001b[0m\u001b[0mGridHeatMap\u001b[0m\u001b[0;34m(\u001b[0m\u001b[0;34m**\u001b[0m\u001b[0mkwargs\u001b[0m\u001b[0;34m)\u001b[0m\u001b[0;34m\u001b[0m\u001b[0;34m\u001b[0m\u001b[0m\n",
      "\u001b[0;31mDocstring:\u001b[0m     \n",
      "GridHeatMap mark.\n",
      "\n",
      "Alignment: The tiles can be aligned so that the data matches either the\n",
      "start, the end or the midpoints of the tiles. This is controlled by the\n",
      "align attribute.\n",
      "\n",
      "Suppose the data passed is a m-by-n matrix. If the scale for the rows is\n",
      "Ordinal, then alignment is by default the mid points. For a non-ordinal\n",
      "scale, the data cannot be aligned to the mid points of the rectangles.\n",
      "\n",
      "If it is not ordinal, then two cases arise. If the number of rows passed\n",
      "is m, then align attribute can be used. If the number of rows passed\n",
      "is m+1, then the data are the boundaries of the m rectangles.\n",
      "\n",
      "If rows and columns are not passed, and scales for them are also\n",
      "not passed, then ordinal scales are generated for the rows and columns.\n",
      "\n",
      "Attributes\n",
      "----------\n",
      "row_align: Enum(['start', 'end'])\n",
      "    This is only valid if the number of entries in `row` exactly match the\n",
      "    number of rows in `color` and the `row_scale` is not `OrdinalScale`.\n",
      "    `start` aligns the row values passed to be aligned with the start\n",
      "    of the tiles and `end` aligns the row values to the end of the tiles.\n",
      "column_align: Enum(['start', end'])\n",
      "    This is only valid if the number of entries in `column` exactly\n",
      "    match the number of columns in `color` and the `column_scale` is\n",
      "    not `OrdinalScale`. `start` aligns the column values passed to\n",
      "    be aligned with the start of the tiles and `end` aligns the\n",
      "    column values to the end of the tiles.\n",
      "anchor_style: dict (default: {})\n",
      "    Controls the style for the element which serves as the anchor during\n",
      "    selection.\n",
      "display_format: string (default: None)\n",
      "    format for displaying values. If None, then values are not displayed\n",
      "font_style: dict\n",
      "    CSS style for the text of each cell\n",
      "\n",
      "Data Attributes\n",
      "\n",
      "color: numpy.ndarray or None (default: None)\n",
      "    color of the data points (2d array). The number of elements in\n",
      "    this array correspond to the number of cells created in the heatmap.\n",
      "row: numpy.ndarray or None (default: None)\n",
      "    labels for the rows of the `color` array passed. The length of\n",
      "    this can be no more than 1 away from the number of rows in `color`.\n",
      "    This is a scaled attribute and can be used to affect the height of the\n",
      "    cells as the entries of `row` can indicate the start or the end points\n",
      "    of the cells. Refer to the property `row_align`.\n",
      "    If this property is None, then a uniformly spaced grid is generated in\n",
      "    the row direction.\n",
      "column: numpy.ndarray or None (default: None)\n",
      "    labels for the columns of the `color` array passed. The length of\n",
      "    this can be no more than 1 away from the number of columns in `color`\n",
      "    This is a scaled attribute and can be used to affect the width of the\n",
      "    cells as the entries of `column` can indicate the start or the\n",
      "    end points of the cells. Refer to the property `column_align`.\n",
      "    If this property is None, then a uniformly spaced grid is generated in\n",
      "    the column direction.\n",
      "\u001b[0;31mInit docstring:\u001b[0m Public constructor\n",
      "\u001b[0;31mFile:\u001b[0m           /opt/anaconda3/envs/DataViz2/lib/python3.10/site-packages/bqplot/marks.py\n",
      "\u001b[0;31mType:\u001b[0m           MetaHasTraits\n",
      "\u001b[0;31mSubclasses:\u001b[0m     "
     ]
    }
   ],
   "source": [
    "bqplot.GridHeatMap?"
   ]
  },
  {
   "cell_type": "markdown",
   "metadata": {},
   "source": [
    "There are some things we probably want to do here.  One of them being able to change the color scale -- we spent all this time thinking about color, let's put those thoughts to good use!"
   ]
  },
  {
   "cell_type": "code",
   "execution_count": 72,
   "metadata": {},
   "outputs": [
    {
     "data": {
      "application/vnd.jupyter.widget-view+json": {
       "model_id": "3e80f591c0204046b0dee7145f3b98c1",
       "version_major": 2,
       "version_minor": 0
      },
      "text/plain": [
       "Figure(fig_margin={'top': 60, 'bottom': 60, 'left': 60, 'right': 60}, marks=[GridHeatMap(color=array([[0.14791…"
      ]
     },
     "metadata": {},
     "output_type": "display_data"
    }
   ],
   "source": [
    "# 1. Data -- same as above\n",
    "\n",
    "# 2. Scale -- color with new color scheme\n",
    "col_sc = bqplot.ColorScale(scheme = \"Reds\") # color scheme of reds\n",
    "\n",
    "# 3. skip Axis\n",
    "\n",
    "# 4. Marks -- use colorscale to make make heatmap of our data:\n",
    "heat_map = bqplot.GridHeatMap(color = data, scales = {'color': col_sc})\n",
    "\n",
    "# Figure\n",
    "fig = bqplot.Figure(marks = [heat_map])\n",
    "fig"
   ]
  },
  {
   "cell_type": "markdown",
   "metadata": {},
   "source": [
    "Let's build upon this plot by adding some axis so that we can think about how to label our data.  Currently, we *only* have a color scale for each color in our 10x10 grid, so we will label this color axis with a colorbar:"
   ]
  },
  {
   "cell_type": "code",
   "execution_count": 73,
   "metadata": {},
   "outputs": [
    {
     "name": "stdout",
     "output_type": "stream",
     "text": [
      "\u001b[0;31mInit signature:\u001b[0m \u001b[0mbqplot\u001b[0m\u001b[0;34m.\u001b[0m\u001b[0mColorAxis\u001b[0m\u001b[0;34m(\u001b[0m\u001b[0;34m*\u001b[0m\u001b[0margs\u001b[0m\u001b[0;34m:\u001b[0m \u001b[0;34m't.Any'\u001b[0m\u001b[0;34m,\u001b[0m \u001b[0;34m**\u001b[0m\u001b[0mkwargs\u001b[0m\u001b[0;34m:\u001b[0m \u001b[0;34m't.Any'\u001b[0m\u001b[0;34m)\u001b[0m \u001b[0;34m->\u001b[0m \u001b[0;34m't.Any'\u001b[0m\u001b[0;34m\u001b[0m\u001b[0;34m\u001b[0m\u001b[0m\n",
      "\u001b[0;31mDocstring:\u001b[0m     \n",
      "A colorbar axis.\n",
      "\n",
      "A color axis is the visual representation of a color scale.\n",
      "\n",
      "Attributes\n",
      "----------\n",
      "scale: ColorScale\n",
      "    The scale represented by the axis\n",
      "\u001b[0;31mInit docstring:\u001b[0m Public constructor\n",
      "\u001b[0;31mFile:\u001b[0m           /opt/anaconda3/envs/DataViz2/lib/python3.10/site-packages/bqplot/axes.py\n",
      "\u001b[0;31mType:\u001b[0m           MetaHasTraits\n",
      "\u001b[0;31mSubclasses:\u001b[0m     "
     ]
    }
   ],
   "source": [
    "bqplot.ColorAxis?"
   ]
  },
  {
   "cell_type": "code",
   "execution_count": 74,
   "metadata": {},
   "outputs": [
    {
     "data": {
      "application/vnd.jupyter.widget-view+json": {
       "model_id": "4b15b5370aed4032a5f0eb3be23c9f2a",
       "version_major": 2,
       "version_minor": 0
      },
      "text/plain": [
       "Figure(axes=[ColorAxis(orientation='vertical', scale=ColorScale(scheme='Reds'), side='right')], fig_margin={'t…"
      ]
     },
     "metadata": {},
     "output_type": "display_data"
    }
   ],
   "source": [
    "# 1. Data -- same\n",
    "\n",
    "# 2. Scales -- color\n",
    "col_sc = bqplot.ColorScale(scheme = \"Reds\")\n",
    "# lets plot some axes on our plot as well, in this case\n",
    "#  our axis will be a color bar, vertically on the right\n",
    "#  of our heatmap\n",
    "\n",
    "# 3. Axis (finally) -- here a \"color axis\" is just a colorbar\n",
    "c_ax = bqplot.ColorAxis(scale = col_sc, \n",
    "                        orientation = 'vertical', \n",
    "                        side = 'right') \n",
    "\n",
    "# 4. Marks -- put it all together and lets take a look!\n",
    "heat_map = bqplot.GridHeatMap(color = data, \n",
    "                              scales = {'color': col_sc})\n",
    "\n",
    "# 5. no interactions\n",
    "\n",
    "# generate fig!\n",
    "fig = bqplot.Figure(marks = [heat_map], axes = [c_ax])\n",
    "fig"
   ]
  },
  {
   "cell_type": "markdown",
   "metadata": {},
   "source": [
    "While our x/y bins don't mean anything in particular in this case - we are dealing with just a randomly binned 10x10 dataset after all - we none-the-less probably want to put at least the bin labels on there.  So let's make some x/y scales and some x/y axis (note I'm doing Scales/Axis a bit out of order here to group by kind of axis):"
   ]
  },
  {
   "cell_type": "code",
   "execution_count": 75,
   "metadata": {},
   "outputs": [],
   "source": [
    "x_sc = bqplot.OrdinalScale()\n",
    "y_sc = bqplot.OrdinalScale()\n",
    "\n",
    "x_ax = bqplot.Axis(scale = x_sc)\n",
    "y_ax = bqplot.Axis(scale = y_sc, \n",
    "                   orientation = 'vertical')"
   ]
  },
  {
   "cell_type": "markdown",
   "metadata": {},
   "source": [
    "Why did I choose ordinal scales?  Well again - the bins, while numbered, don't actually mean anything, so in a sense they are \"categorical\" bins, and our scales should reflect that fact!"
   ]
  },
  {
   "cell_type": "markdown",
   "metadata": {},
   "source": [
    "Color scale & color axis like before:"
   ]
  },
  {
   "cell_type": "code",
   "execution_count": 76,
   "metadata": {},
   "outputs": [],
   "source": [
    "col_sc = bqplot.ColorScale(scheme = \"Reds\")\n",
    "\n",
    "c_ax = bqplot.ColorAxis(scale = col_sc, \n",
    "                        orientation = 'vertical', \n",
    "                        side = 'right')"
   ]
  },
  {
   "cell_type": "markdown",
   "metadata": {},
   "source": [
    "Combine all these scales, axis and the data into a heat map mark using `bqplot.GridHeatMap`:"
   ]
  },
  {
   "cell_type": "code",
   "execution_count": 77,
   "metadata": {},
   "outputs": [],
   "source": [
    "# Marks -- lets now re-do our heat map & add in some interactivity:\n",
    "heat_map = bqplot.GridHeatMap(color = data,\n",
    "                              scales = {'color': col_sc,\n",
    "                                        'row': y_sc,\n",
    "                                        'column': x_sc})"
   ]
  },
  {
   "cell_type": "markdown",
   "metadata": {},
   "source": [
    "... put these marks and axes on a figure canvas and plot it!"
   ]
  },
  {
   "cell_type": "code",
   "execution_count": 78,
   "metadata": {},
   "outputs": [
    {
     "data": {
      "application/vnd.jupyter.widget-view+json": {
       "model_id": "966f4edd797f4e3ba644978ff12456cb",
       "version_major": 2,
       "version_minor": 0
      },
      "text/plain": [
       "Figure(axes=[ColorAxis(orientation='vertical', scale=ColorScale(scheme='Reds'), side='right'), Axis(orientatio…"
      ]
     },
     "metadata": {},
     "output_type": "display_data"
    }
   ],
   "source": [
    "# stir and combine into 1 figure\n",
    "fig = bqplot.Figure(marks = [heat_map], \n",
    "                    axes = [c_ax, y_ax, x_ax])\n",
    "\n",
    "fig"
   ]
  },
  {
   "cell_type": "markdown",
   "metadata": {},
   "source": [
    "So, we are almost there -- we don't have any interactivity!  Let's get into it.  In this case, we can actually specify the interaction when we are constructing the `GridHeatMap` mark.  Let's do something when we click on each square.  We can do this with a `click-select` interaction.  "
   ]
  },
  {
   "cell_type": "code",
   "execution_count": 79,
   "metadata": {},
   "outputs": [
    {
     "data": {
      "application/vnd.jupyter.widget-view+json": {
       "model_id": "3dd780864c224361be728b3e21e810a6",
       "version_major": 2,
       "version_minor": 0
      },
      "text/plain": [
       "Figure(axes=[ColorAxis(orientation='vertical', scale=ColorScale(scheme='Reds'), side='right'), Axis(orientatio…"
      ]
     },
     "metadata": {},
     "output_type": "display_data"
    }
   ],
   "source": [
    "# 1. Data -- same\n",
    "\n",
    "# 2. Scales -- recopy our scales and axis for posterity:\n",
    "col_sc = bqplot.ColorScale(scheme = \"Reds\")\n",
    "x_sc = bqplot.OrdinalScale()\n",
    "y_sc = bqplot.OrdinalScale()\n",
    "\n",
    "# 3. Axis -- create axis - for colors, x & y\n",
    "c_ax = bqplot.ColorAxis(scale = col_sc, \n",
    "                        orientation = 'vertical', \n",
    "                        side = 'right')\n",
    "x_ax = bqplot.Axis(scale = x_sc)\n",
    "y_ax = bqplot.Axis(scale = y_sc, \n",
    "                   orientation = 'vertical')\n",
    "\n",
    "# 4. Marks -- lets now re-do our heat map & add in some interactivity:\n",
    "heat_map = bqplot.GridHeatMap(color = data,\n",
    "                              scales = {'color': col_sc,\n",
    "                                        'row': y_sc,\n",
    "                                        'column': x_sc},\n",
    "                              interactions = {'click': 'select'}, # make interactive on click of each box\n",
    "                              anchor_style = {'fill':'blue'}, # to make our selection blue\n",
    "                              selected_style = {'opacity': 1.0}, # make 100% opaque if box is selected\n",
    "                              unselected_style = {'opacity': 0.8}) # make a little see-through if not\n",
    "\n",
    "# 5. Note: I put interactions in my marks call here!\n",
    "\n",
    "# stir and combine into 1 figure\n",
    "fig = bqplot.Figure(marks = [heat_map], \n",
    "                    axes = [c_ax, y_ax, x_ax])\n",
    "\n",
    "fig"
   ]
  },
  {
   "cell_type": "markdown",
   "metadata": {},
   "source": [
    "Ok fine, but our selection isn't linked to anything! Lets check out what heat_map selected actually is before we decide to do something with it:"
   ]
  },
  {
   "cell_type": "code",
   "execution_count": 81,
   "metadata": {},
   "outputs": [
    {
     "data": {
      "text/plain": [
       "array([[2, 1]])"
      ]
     },
     "execution_count": 81,
     "metadata": {},
     "output_type": "execute_result"
    }
   ],
   "source": [
    "heat_map.selected\n",
    "#  note if I select a different box & re-run this cell,\n",
    "#  I get out different values"
   ]
  },
  {
   "cell_type": "markdown",
   "metadata": {},
   "source": [
    "So the *trait* of the heat_map that gets updated when we select a box is the x/y indicies.\n",
    "\n",
    "Let's start simple: write a little function that links the data value to the selected & lets print this in a little ipywidgets label:"
   ]
  },
  {
   "cell_type": "code",
   "execution_count": 82,
   "metadata": {},
   "outputs": [],
   "source": [
    "mySelectedLabel = ipywidgets.Label()"
   ]
  },
  {
   "cell_type": "markdown",
   "metadata": {},
   "source": [
    "Let's now define what happens to this label when our heatmap is selected.  If we recall back to when we started learning about ipywidgets and traitlets, this will be a change in the `mySelectedLabel` widget's *value* when a *trait* of our `GridHeatMap` object changes.\n",
    "\n",
    "First, let's define this action, starting simple: just print out whatever is selected:"
   ]
  },
  {
   "cell_type": "code",
   "execution_count": 83,
   "metadata": {},
   "outputs": [],
   "source": [
    "def on_selected(change):\n",
    "    print(change)"
   ]
  },
  {
   "cell_type": "markdown",
   "metadata": {},
   "source": [
    "Now, let's re-construct our heatmap and link this `on_selected` function to the *trait* of the selected heatmap:"
   ]
  },
  {
   "cell_type": "code",
   "execution_count": 84,
   "metadata": {},
   "outputs": [
    {
     "data": {
      "application/vnd.jupyter.widget-view+json": {
       "model_id": "b876da36e09540b3b985000db634a50f",
       "version_major": 2,
       "version_minor": 0
      },
      "text/plain": [
       "Figure(axes=[ColorAxis(orientation='vertical', scale=ColorScale(scheme='Reds'), side='right'), Axis(orientatio…"
      ]
     },
     "metadata": {},
     "output_type": "display_data"
    }
   ],
   "source": [
    "# 1. Data -- same\n",
    "\n",
    "# 2. Scales -- recopy our scales and axis for posterity:\n",
    "col_sc = bqplot.ColorScale(scheme = \"Reds\")\n",
    "x_sc = bqplot.OrdinalScale()\n",
    "y_sc = bqplot.OrdinalScale()\n",
    "\n",
    "# 3. Axis -- create axis - for colors, x & y\n",
    "c_ax = bqplot.ColorAxis(scale = col_sc, \n",
    "                        orientation = 'vertical', \n",
    "                        side = 'right')\n",
    "x_ax = bqplot.Axis(scale = x_sc)\n",
    "y_ax = bqplot.Axis(scale = y_sc, \n",
    "                   orientation = 'vertical')\n",
    "\n",
    "# 4. Marks -- lets now re-do our heat map & add in some interactivity:\n",
    "heat_map = bqplot.GridHeatMap(color = data,\n",
    "                              scales = {'color': col_sc,\n",
    "                                        'row': y_sc,\n",
    "                                        'column': x_sc},\n",
    "                              interactions = {'click': 'select'}, # make interactive on click of each box\n",
    "                              anchor_style = {'fill':'blue'}, # to make our selection blue\n",
    "                              selected_style = {'opacity': 1.0}, # make 100% opaque if box is selected\n",
    "                              unselected_style = {'opacity': 0.8}) # make a little see-through if not\n",
    "\n",
    "# 5. Note: I put interactions in my marks call here.  BUT now we want to actually DO something with our selection\n",
    "## THIS IS ALL WE HAVE ADDED!\n",
    "heat_map.observe(on_selected, 'selected')\n",
    "\n",
    "\n",
    "# stir and combine into 1 figure\n",
    "fig = bqplot.Figure(marks = [heat_map], \n",
    "                    axes = [c_ax, y_ax, x_ax])\n",
    "\n",
    "fig"
   ]
  },
  {
   "cell_type": "markdown",
   "metadata": {},
   "source": [
    "So, we can see that what gets printed out when we select is a dictionary -- this is like a \"change\" dictionary with an ipywidget that we played with last week and it has some familiar things in it like the `old` and `new` keys, the `owner` key, etc.  \n",
    "\n",
    "Check out the `selected=array...` in the above -- this is how we can grab the index of whatever grid we have selected.\n",
    "\n",
    "It also is storing a lot of information about our `GridHeatMap` plot!  \n",
    "\n",
    "Since the change \"owner\" is our heat_map marks, let's print these out so we can access the indicies.  Once we do this, we can then use these indicies to access the data in our plot.  \n",
    "\n",
    "One thing at a time though - let's just print out the selected indicies:"
   ]
  },
  {
   "cell_type": "code",
   "execution_count": 85,
   "metadata": {},
   "outputs": [],
   "source": [
    "def on_selected(change):\n",
    "    print(change['owner'].selected)"
   ]
  },
  {
   "cell_type": "code",
   "execution_count": 86,
   "metadata": {},
   "outputs": [
    {
     "data": {
      "application/vnd.jupyter.widget-view+json": {
       "model_id": "19a04522e9184fd7941740315ea0a33b",
       "version_major": 2,
       "version_minor": 0
      },
      "text/plain": [
       "Figure(axes=[ColorAxis(orientation='vertical', scale=ColorScale(scheme='Reds'), side='right'), Axis(orientatio…"
      ]
     },
     "metadata": {},
     "output_type": "display_data"
    }
   ],
   "source": [
    "# 1. Data -- same\n",
    "\n",
    "# 2. Scales -- recopy our scales and axis for posterity:\n",
    "col_sc = bqplot.ColorScale(scheme = \"Reds\")\n",
    "x_sc = bqplot.OrdinalScale()\n",
    "y_sc = bqplot.OrdinalScale()\n",
    "\n",
    "# 3. Axis -- create axis - for colors, x & y\n",
    "c_ax = bqplot.ColorAxis(scale = col_sc, \n",
    "                        orientation = 'vertical', \n",
    "                        side = 'right')\n",
    "x_ax = bqplot.Axis(scale = x_sc)\n",
    "y_ax = bqplot.Axis(scale = y_sc, \n",
    "                   orientation = 'vertical')\n",
    "\n",
    "# 4. Marks -- lets now re-do our heat map & add in some interactivity:\n",
    "heat_map = bqplot.GridHeatMap(color = data,\n",
    "                              scales = {'color': col_sc,\n",
    "                                        'row': y_sc,\n",
    "                                        'column': x_sc},\n",
    "                              interactions = {'click': 'select'}, # make interactive on click of each box\n",
    "                              anchor_style = {'fill':'blue'}, # to make our selection blue\n",
    "                              selected_style = {'opacity': 1.0}, # make 100% opaque if box is selected\n",
    "                              unselected_style = {'opacity': 0.8}) # make a little see-through if not\n",
    "\n",
    "# 5. Note: I put interactions in my marks call here.  BUT now we want to actually DO something with our selection\n",
    "## THIS IS ALL WE HAVE ADDED!\n",
    "heat_map.observe(on_selected, 'selected')\n",
    "\n",
    "\n",
    "# stir and combine into 1 figure\n",
    "fig = bqplot.Figure(marks = [heat_map], \n",
    "                    axes = [c_ax, y_ax, x_ax])\n",
    "\n",
    "fig"
   ]
  },
  {
   "cell_type": "markdown",
   "metadata": {},
   "source": [
    "It turns out we can actually `SHIFT-select` and select a selection of boxes at one time.  Depending on your browser/OS you can also use `CMD` or `CTRL`-select to select individual boxes.  However, this is a little bit dependent on how your browser/trackpad/mouse is set up.\n",
    "\n",
    "(`CMD`-select doesn't work in notebooks on my Mac, but it does in jupyter-lab.  Go fig.)\n",
    "\n",
    "**DEMONSTRATE**\n",
    "\n",
    "Because of this we actual `selected` set of indicies we want to access can be more than just x/y indicies - it can be an array of indicies representing all of the `SHIFT-select`ed points.\n",
    "\n",
    "For the sake of simplicity, let's *only* do things when we select one point.  So we will *only* take out the first element of this selected array.  Let's print this with our `on_selected` function:"
   ]
  },
  {
   "cell_type": "code",
   "execution_count": 87,
   "metadata": {},
   "outputs": [],
   "source": [
    "def on_selected(change):\n",
    "    if len(change['owner'].selected) == 1:\n",
    "        print(change['owner'].selected[0])\n",
    "    # else: don't update anything"
   ]
  },
  {
   "cell_type": "code",
   "execution_count": 88,
   "metadata": {},
   "outputs": [
    {
     "data": {
      "application/vnd.jupyter.widget-view+json": {
       "model_id": "516a29eae4e04691b11afadbe8172e3d",
       "version_major": 2,
       "version_minor": 0
      },
      "text/plain": [
       "Figure(axes=[ColorAxis(orientation='vertical', scale=ColorScale(scheme='Reds'), side='right'), Axis(orientatio…"
      ]
     },
     "metadata": {},
     "output_type": "display_data"
    }
   ],
   "source": [
    "# 1. Data -- same\n",
    "\n",
    "# 2. Scales -- recopy our scales and axis for posterity:\n",
    "col_sc = bqplot.ColorScale(scheme = \"Reds\")\n",
    "x_sc = bqplot.OrdinalScale()\n",
    "y_sc = bqplot.OrdinalScale()\n",
    "\n",
    "# 3. Axis -- create axis - for colors, x & y\n",
    "c_ax = bqplot.ColorAxis(scale = col_sc, \n",
    "                        orientation = 'vertical', \n",
    "                        side = 'right')\n",
    "x_ax = bqplot.Axis(scale = x_sc)\n",
    "y_ax = bqplot.Axis(scale = y_sc, \n",
    "                   orientation = 'vertical')\n",
    "\n",
    "# 4. Marks -- lets now re-do our heat map & add in some interactivity:\n",
    "heat_map = bqplot.GridHeatMap(color = data,\n",
    "                              scales = {'color': col_sc,\n",
    "                                        'row': y_sc,\n",
    "                                        'column': x_sc},\n",
    "                              interactions = {'click': 'select'}, # make interactive on click of each box\n",
    "                              anchor_style = {'fill':'blue'}, # to make our selection blue\n",
    "                              selected_style = {'opacity': 1.0}, # make 100% opaque if box is selected\n",
    "                              unselected_style = {'opacity': 0.8}) # make a little see-through if not\n",
    "\n",
    "# 5. Note: I put interactions in my marks call here.  BUT now we want to actually DO something with our selection\n",
    "## THIS IS ALL WE HAVE ADDED!\n",
    "heat_map.observe(on_selected, 'selected')\n",
    "\n",
    "\n",
    "# stir and combine into 1 figure\n",
    "fig = bqplot.Figure(marks = [heat_map], \n",
    "                    axes = [c_ax, y_ax, x_ax])\n",
    "\n",
    "fig"
   ]
  },
  {
   "cell_type": "markdown",
   "metadata": {},
   "source": [
    "Now you'll notice if I `SHIFT-select` I still only get the set of x/y indicies associated with the blue selected point.  Sweet.\n",
    "\n",
    "Now that we have these indicies in our plot, we can (finally) update our Label widget to print out what the data value is at this point:"
   ]
  },
  {
   "cell_type": "code",
   "execution_count": 89,
   "metadata": {},
   "outputs": [],
   "source": [
    "def on_selected(change):\n",
    "    if len(change['owner'].selected) == 1: #only 1 selected\n",
    "        i, j = change['owner'].selected[0] # grab the x/y coordinates\n",
    "        v = data[i,j] # grab data value\n",
    "        mySelectedLabel.value = 'Data Value = ' + str(v) # set our label"
   ]
  },
  {
   "cell_type": "markdown",
   "metadata": {},
   "source": [
    "Now we just have to make sure we show both of the figure and the label when we display:"
   ]
  },
  {
   "cell_type": "code",
   "execution_count": 90,
   "metadata": {},
   "outputs": [
    {
     "data": {
      "application/vnd.jupyter.widget-view+json": {
       "model_id": "66e5e11814214ad0ba1b2b74f661728c",
       "version_major": 2,
       "version_minor": 0
      },
      "text/plain": [
       "VBox(children=(Label(value=''), Figure(axes=[ColorAxis(orientation='vertical', scale=ColorScale(scheme='Reds')…"
      ]
     },
     "metadata": {},
     "output_type": "display_data"
    }
   ],
   "source": [
    "# 1. Data -- same\n",
    "\n",
    "# 2. Scales -- recopy our scales and axis for posterity:\n",
    "col_sc = bqplot.ColorScale(scheme = \"Reds\")\n",
    "x_sc = bqplot.OrdinalScale()\n",
    "y_sc = bqplot.OrdinalScale()\n",
    "\n",
    "# 3. Axis -- create axis - for colors, x & y\n",
    "c_ax = bqplot.ColorAxis(scale = col_sc, \n",
    "                        orientation = 'vertical', \n",
    "                        side = 'right')\n",
    "x_ax = bqplot.Axis(scale = x_sc)\n",
    "y_ax = bqplot.Axis(scale = y_sc, \n",
    "                   orientation = 'vertical')\n",
    "\n",
    "# 4. Marks -- lets now re-do our heat map & add in some interactivity:\n",
    "heat_map = bqplot.GridHeatMap(color = data,\n",
    "                              scales = {'color': col_sc,\n",
    "                                        'row': y_sc,\n",
    "                                        'column': x_sc},\n",
    "                              interactions = {'click': 'select'}, # make interactive on click of each box\n",
    "                              anchor_style = {'fill':'blue'}, # to make our selection blue\n",
    "                              selected_style = {'opacity': 1.0}, # make 100% opaque if box is selected\n",
    "                              unselected_style = {'opacity': 0.8}) # make a little see-through if not\n",
    "\n",
    "# 5. Note: I put interactions in my marks call here.  BUT now we want to actually DO something with our selection\n",
    "## THIS IS ALL WE HAVE ADDED!\n",
    "heat_map.observe(on_selected, 'selected')\n",
    "\n",
    "\n",
    "# stir and combine into 1 figure\n",
    "fig = bqplot.Figure(marks = [heat_map], \n",
    "                    axes = [c_ax, y_ax, x_ax])\n",
    "\n",
    "\n",
    "# ADDED: putting widget and plot together\n",
    "myDashboard = ipywidgets.VBox([mySelectedLabel, fig]) # have label on top of fig\n",
    "myDashboard # show"
   ]
  },
  {
   "cell_type": "markdown",
   "metadata": {},
   "source": [
    "Hey neat!  So now when we do an action, in this case selecting, on one object (the heat map) we have updates *tied to* another object, in this case we are also updating our label widget's value.\n",
    "\n",
    "This is how we will build up dashboards that allow us to display different aspects of our data in linked views.\n",
    "\n",
    "Let's practice one of these linked views now by making a linked histogram of a 3D dataset instead of printing the value with a 2D dataset."
   ]
  },
  {
   "cell_type": "markdown",
   "metadata": {},
   "source": [
    "## Random heatmap + Histogram with 3D data"
   ]
  },
  {
   "cell_type": "markdown",
   "metadata": {},
   "source": [
    "Now let's move on to making a preliminary dashboard for multi-dimensional datasets. Let's first start with some randomly generated data again, this time in 3D:"
   ]
  },
  {
   "cell_type": "code",
   "execution_count": 91,
   "metadata": {
    "scrolled": true
   },
   "outputs": [
    {
     "data": {
      "text/plain": [
       "array([[[0.93589226, 0.44610347, 0.325606  , ..., 0.42637296,\n",
       "         0.93889298, 0.38398419],\n",
       "        [0.14798528, 0.14453914, 0.32304426, ..., 0.29540886,\n",
       "         0.0554324 , 0.45307482],\n",
       "        [0.93654586, 0.57473911, 0.6908864 , ..., 0.08020708,\n",
       "         0.05078398, 0.57856875],\n",
       "        ...,\n",
       "        [0.31831073, 0.76475908, 0.88521349, ..., 0.57333135,\n",
       "         0.26546725, 0.80850899],\n",
       "        [0.81781126, 0.11099599, 0.2075539 , ..., 0.92544763,\n",
       "         0.39188289, 0.67689477],\n",
       "        [0.60294869, 0.6306769 , 0.89707019, ..., 0.25889806,\n",
       "         0.23391309, 0.66047522]],\n",
       "\n",
       "       [[0.65494921, 0.19075966, 0.08649524, ..., 0.24017932,\n",
       "         0.91771005, 0.44237055],\n",
       "        [0.51380182, 0.31718851, 0.2405399 , ..., 0.77009158,\n",
       "         0.74056329, 0.71065911],\n",
       "        [0.05691558, 0.28016895, 0.73124886, ..., 0.24461362,\n",
       "         0.93597765, 0.56517084],\n",
       "        ...,\n",
       "        [0.2153537 , 0.00281462, 0.67655221, ..., 0.0907063 ,\n",
       "         0.44672032, 0.59059752],\n",
       "        [0.03695322, 0.24955119, 0.95897611, ..., 0.02477044,\n",
       "         0.79311911, 0.35706224],\n",
       "        [0.91547629, 0.27805016, 0.11931702, ..., 0.80513875,\n",
       "         0.87511688, 0.64494393]],\n",
       "\n",
       "       [[0.1682635 , 0.51955702, 0.94755627, ..., 0.28411391,\n",
       "         0.05125661, 0.76584289],\n",
       "        [0.58304763, 0.13876932, 0.43075675, ..., 0.33893285,\n",
       "         0.26698599, 0.75152947],\n",
       "        [0.27527307, 0.10759255, 0.1069514 , ..., 0.864437  ,\n",
       "         0.33218644, 0.59500945],\n",
       "        ...,\n",
       "        [0.22545305, 0.47787196, 0.25705339, ..., 0.36673617,\n",
       "         0.18409685, 0.99002179],\n",
       "        [0.91978657, 0.42612809, 0.04412691, ..., 0.08634845,\n",
       "         0.73813195, 0.02643705],\n",
       "        [0.98656362, 0.16993295, 0.71511905, ..., 0.68595981,\n",
       "         0.09859479, 0.3291669 ]],\n",
       "\n",
       "       ...,\n",
       "\n",
       "       [[0.75447928, 0.50433074, 0.79571227, ..., 0.03636344,\n",
       "         0.30303553, 0.81798603],\n",
       "        [0.27685743, 0.90059067, 0.48924665, ..., 0.61505473,\n",
       "         0.21360216, 0.4504408 ],\n",
       "        [0.42402579, 0.87569927, 0.65028488, ..., 0.50722177,\n",
       "         0.01892444, 0.95277571],\n",
       "        ...,\n",
       "        [0.23485992, 0.79856596, 0.12589641, ..., 0.84408693,\n",
       "         0.04918839, 0.5874384 ],\n",
       "        [0.93671475, 0.80667055, 0.70334313, ..., 0.67279459,\n",
       "         0.85747162, 0.62703339],\n",
       "        [0.95258506, 0.55127874, 0.45514331, ..., 0.15002368,\n",
       "         0.98019769, 0.75358473]],\n",
       "\n",
       "       [[0.59021962, 0.26870569, 0.84845098, ..., 0.45472475,\n",
       "         0.41592256, 0.43090149],\n",
       "        [0.47185582, 0.24573729, 0.86346154, ..., 0.92456223,\n",
       "         0.1277866 , 0.61719272],\n",
       "        [0.46245106, 0.25168476, 0.68390142, ..., 0.13855741,\n",
       "         0.1306588 , 0.36417086],\n",
       "        ...,\n",
       "        [0.13430782, 0.80768951, 0.90406696, ..., 0.5828108 ,\n",
       "         0.71799471, 0.41865828],\n",
       "        [0.02317428, 0.9182261 , 0.34382789, ..., 0.87575349,\n",
       "         0.66220912, 0.28212292],\n",
       "        [0.24539479, 0.48726099, 0.73500033, ..., 0.19773729,\n",
       "         0.45104245, 0.57161832]],\n",
       "\n",
       "       [[0.1454995 , 0.79362367, 0.09811247, ..., 0.5483547 ,\n",
       "         0.53275668, 0.02723312],\n",
       "        [0.01096646, 0.80493324, 0.50292426, ..., 0.10860715,\n",
       "         0.136015  , 0.86122883],\n",
       "        [0.14173939, 0.93001253, 0.77882937, ..., 0.99125081,\n",
       "         0.58326912, 0.29904191],\n",
       "        ...,\n",
       "        [0.9257395 , 0.50051001, 0.90484544, ..., 0.56228858,\n",
       "         0.64310359, 0.59881361],\n",
       "        [0.44945323, 0.56904555, 0.21184427, ..., 0.87635525,\n",
       "         0.02656841, 0.3697113 ],\n",
       "        [0.88111644, 0.05296677, 0.42273885, ..., 0.01657171,\n",
       "         0.76846556, 0.55392095]]])"
      ]
     },
     "execution_count": 91,
     "metadata": {},
     "output_type": "execute_result"
    }
   ],
   "source": [
    "data = np.random.random((10, 10,20))\n",
    "data"
   ]
  },
  {
   "cell_type": "code",
   "execution_count": 92,
   "metadata": {},
   "outputs": [
    {
     "data": {
      "text/plain": [
       "(10, 10, 20)"
      ]
     },
     "execution_count": 92,
     "metadata": {},
     "output_type": "execute_result"
    }
   ],
   "source": [
    "data.shape"
   ]
  },
  {
   "cell_type": "code",
   "execution_count": 93,
   "metadata": {},
   "outputs": [
    {
     "data": {
      "text/plain": [
       "array([0.93589226, 0.44610347, 0.325606  , 0.16047767, 0.08567247,\n",
       "       0.75565312, 0.4320241 , 0.57341485, 0.88076767, 0.94559416,\n",
       "       0.14656416, 0.20395436, 0.99408134, 0.87549451, 0.48958709,\n",
       "       0.51359777, 0.07122135, 0.42637296, 0.93889298, 0.38398419])"
      ]
     },
     "execution_count": 93,
     "metadata": {},
     "output_type": "execute_result"
    }
   ],
   "source": [
    "data[0,0,:]\n",
    "# we can see that no instead of 1 value, each \"i,j\" component\n",
    "#  has an array of values"
   ]
  },
  {
   "cell_type": "markdown",
   "metadata": {},
   "source": [
    "Make the heatmap plot like before.\n",
    "\n",
    "First, scales and axis (x/y and color):"
   ]
  },
  {
   "cell_type": "code",
   "execution_count": 94,
   "metadata": {},
   "outputs": [],
   "source": [
    "# Scales: now add scales - colors, x & y\n",
    "col_sc = bqplot.ColorScale(scheme = \"Reds\")\n",
    "x_sc = bqplot.OrdinalScale()\n",
    "y_sc = bqplot.OrdinalScale()\n",
    "\n",
    "# Axis: create axis - for colors, x & y\n",
    "c_ax = bqplot.ColorAxis(scale = col_sc, \n",
    "                        orientation = 'vertical', \n",
    "                        side = 'right')\n",
    "x_ax = bqplot.Axis(scale = x_sc)\n",
    "y_ax = bqplot.Axis(scale = y_sc, \n",
    "                   orientation = 'vertical')"
   ]
  },
  {
   "cell_type": "markdown",
   "metadata": {},
   "source": [
    "Now, instead of feeding in `data` like we did in 2D for our heatmap, let's feed in the sum of data along the z-axis:"
   ]
  },
  {
   "cell_type": "code",
   "execution_count": 95,
   "metadata": {},
   "outputs": [],
   "source": [
    "# Marks: lets now re-do our heat map & add in some interactivity:\n",
    "heat_map = bqplot.GridHeatMap(color = np.sum(data, axis=2),\n",
    "                              scales = {'color': col_sc,\n",
    "                                        'row': y_sc,\n",
    "                                        'column': x_sc},\n",
    "                              interactions = {'click': 'select'}, # make interactive on click of each box\n",
    "                              anchor_style = {'fill':'blue'}, # to make our selection blue\n",
    "                              selected_style = {'opacity': 1.0}, # make 100% opaque if box is selected\n",
    "                              unselected_style = {'opacity': 0.8}) # make a little see-through if not"
   ]
  },
  {
   "cell_type": "markdown",
   "metadata": {},
   "source": [
    "Let's include our label in our dashboard:"
   ]
  },
  {
   "cell_type": "code",
   "execution_count": 96,
   "metadata": {},
   "outputs": [],
   "source": [
    "# create label again\n",
    "mySelectedLabel = ipywidgets.Label()"
   ]
  },
  {
   "cell_type": "markdown",
   "metadata": {},
   "source": [
    "This time, let's have the data print out the sum along the z-axis instead of just a data value at an x/y index position:"
   ]
  },
  {
   "cell_type": "code",
   "execution_count": 97,
   "metadata": {},
   "outputs": [],
   "source": [
    "def on_selected(change):\n",
    "    if len(change['owner'].selected) == 1: #only 1 selected\n",
    "        i, j = change['owner'].selected[0] # grab the x/y coordinates\n",
    "        v = data[i,j].sum() # grab data value at x/y index and sum along z\n",
    "        mySelectedLabel.value = 'Data Sum = ' + str(v) # set our label"
   ]
  },
  {
   "cell_type": "markdown",
   "metadata": {},
   "source": [
    "Observe change:"
   ]
  },
  {
   "cell_type": "code",
   "execution_count": 98,
   "metadata": {},
   "outputs": [],
   "source": [
    "heat_map.observe(on_selected, 'selected')"
   ]
  },
  {
   "cell_type": "markdown",
   "metadata": {},
   "source": [
    "Combine and display:"
   ]
  },
  {
   "cell_type": "code",
   "execution_count": 99,
   "metadata": {},
   "outputs": [
    {
     "data": {
      "application/vnd.jupyter.widget-view+json": {
       "model_id": "116c793b88c3448ca9cd01b48dde24f2",
       "version_major": 2,
       "version_minor": 0
      },
      "text/plain": [
       "VBox(children=(Label(value=''), Figure(axes=[ColorAxis(orientation='vertical', scale=ColorScale(scheme='Reds')…"
      ]
     },
     "metadata": {},
     "output_type": "display_data"
    }
   ],
   "source": [
    "fig = bqplot.Figure(marks = [heat_map], axes = [c_ax, y_ax, x_ax])\n",
    "\n",
    "myDashboard = ipywidgets.VBox([mySelectedLabel, fig])\n",
    "myDashboard"
   ]
  },
  {
   "cell_type": "markdown",
   "metadata": {},
   "source": [
    "Ultimately what we want to do is select an x/y grid and then \"expand\" our data along z into a histogram such that if we select a grid on our heatmap a new histogram is generated that shows the distribution of values along z.  \n",
    "\n",
    "Before we link these two things together, let's make a histogram of a single \"z\" value by fixing our x/y indicies:"
   ]
  },
  {
   "cell_type": "code",
   "execution_count": 100,
   "metadata": {},
   "outputs": [],
   "source": [
    "i,j = 0,0 # can be any combo"
   ]
  },
  {
   "cell_type": "code",
   "execution_count": 101,
   "metadata": {},
   "outputs": [
    {
     "data": {
      "text/plain": [
       "array([0.93589226, 0.44610347, 0.325606  , 0.16047767, 0.08567247,\n",
       "       0.75565312, 0.4320241 , 0.57341485, 0.88076767, 0.94559416,\n",
       "       0.14656416, 0.20395436, 0.99408134, 0.87549451, 0.48958709,\n",
       "       0.51359777, 0.07122135, 0.42637296, 0.93889298, 0.38398419])"
      ]
     },
     "execution_count": 101,
     "metadata": {},
     "output_type": "execute_result"
    }
   ],
   "source": [
    "data[i,j] # 20 elements"
   ]
  },
  {
   "cell_type": "markdown",
   "metadata": {},
   "source": [
    "Let's make a histogram.    \n",
    "\n",
    "Let's think about what our x/y scales will be: we want to show the distribution of values along z.  Intuitavely, we know this will go between $\\sim$0-1 since we have randomly generated values.\n",
    "\n",
    "So, our \"x\" axis for this plot should be a linear scale so it can go from 0-1, and our \"y\" axis should be linear and will show the frequency of values in each bin.\n",
    "\n",
    "Scales:"
   ]
  },
  {
   "cell_type": "code",
   "execution_count": 102,
   "metadata": {},
   "outputs": [],
   "source": [
    "x_sch = bqplot.LinearScale()\n",
    "y_sch = bqplot.LinearScale()"
   ]
  },
  {
   "cell_type": "markdown",
   "metadata": {},
   "source": [
    "Let's make axis with these scales:"
   ]
  },
  {
   "cell_type": "code",
   "execution_count": 103,
   "metadata": {},
   "outputs": [],
   "source": [
    "x_axh = bqplot.Axis(scale = x_sch, label = 'Value of 3rd axis')\n",
    "y_axh = bqplot.Axis(scale = y_sch, \n",
    "                    orientation = 'vertical', \n",
    "                    label='Frequency')"
   ]
  },
  {
   "cell_type": "markdown",
   "metadata": {},
   "source": [
    "Now we will use `bqplot.Hist` to make this histogram:"
   ]
  },
  {
   "cell_type": "code",
   "execution_count": 104,
   "metadata": {},
   "outputs": [],
   "source": [
    "hist = bqplot.Hist(sample = data[i,j,:],\n",
    "                   normalized = False, # normalized=False means we get counts in each bin\n",
    "                   scales = {'sample': x_sch, 'count': y_sch}, # sample is data values, count is frequency\n",
    "                   bins = 5) # number of bins"
   ]
  },
  {
   "cell_type": "markdown",
   "metadata": {},
   "source": [
    "Note here that we specified this plot in a different way than the `GridHeatMap` and `Scatter` -- each type of `bqplot` plot has different parameters associated with the type of plot we are using."
   ]
  },
  {
   "cell_type": "code",
   "execution_count": 105,
   "metadata": {},
   "outputs": [
    {
     "data": {
      "application/vnd.jupyter.widget-view+json": {
       "model_id": "8cd35130a0164a389ff5e54bada3a0a7",
       "version_major": 2,
       "version_minor": 0
      },
      "text/plain": [
       "Figure(axes=[Axis(label='Value of 3rd axis', scale=LinearScale(), side='bottom'), Axis(label='Frequency', orie…"
      ]
     },
     "metadata": {},
     "output_type": "display_data"
    }
   ],
   "source": [
    "figh = bqplot.Figure(marks = [hist], axes = [x_axh, y_axh])\n",
    "figh"
   ]
  },
  {
   "cell_type": "markdown",
   "metadata": {},
   "source": [
    "Let's pause here and think about how to link up our histogram i,j with our selections on the heatmap.  First, what values of the histogram can we update?  Let's check:"
   ]
  },
  {
   "cell_type": "code",
   "execution_count": 106,
   "metadata": {},
   "outputs": [
    {
     "data": {
      "text/plain": [
       "['_model_module',\n",
       " '_model_module_version',\n",
       " '_model_name',\n",
       " '_view_count',\n",
       " '_view_module',\n",
       " '_view_module_version',\n",
       " '_view_name',\n",
       " 'apply_clip',\n",
       " 'bins',\n",
       " 'colors',\n",
       " 'count',\n",
       " 'display_legend',\n",
       " 'enable_hover',\n",
       " 'interactions',\n",
       " 'labels',\n",
       " 'midpoints',\n",
       " 'normalized',\n",
       " 'opacities',\n",
       " 'preserve_domain',\n",
       " 'sample',\n",
       " 'scales',\n",
       " 'scales_metadata',\n",
       " 'selected',\n",
       " 'selected_style',\n",
       " 'stroke',\n",
       " 'tooltip',\n",
       " 'tooltip_location',\n",
       " 'tooltip_style',\n",
       " 'unselected_style',\n",
       " 'visible']"
      ]
     },
     "execution_count": 106,
     "metadata": {},
     "output_type": "execute_result"
    }
   ],
   "source": [
    "hist.keys"
   ]
  },
  {
   "cell_type": "code",
   "execution_count": 107,
   "metadata": {},
   "outputs": [
    {
     "data": {
      "text/plain": [
       "array([0.93589226, 0.44610347, 0.325606  , 0.16047767, 0.08567247,\n",
       "       0.75565312, 0.4320241 , 0.57341485, 0.88076767, 0.94559416,\n",
       "       0.14656416, 0.20395436, 0.99408134, 0.87549451, 0.48958709,\n",
       "       0.51359777, 0.07122135, 0.42637296, 0.93889298, 0.38398419])"
      ]
     },
     "execution_count": 107,
     "metadata": {},
     "output_type": "execute_result"
    }
   ],
   "source": [
    "hist.sample"
   ]
  },
  {
   "cell_type": "markdown",
   "metadata": {},
   "source": [
    "Hey!  Here is where our data values are stored!  Like with when we observe changes in our heat map and update the values of our ipywidget's value we want to also update this sample's data!  \n",
    "\n",
    "Let's update our `on_selected` function to reflect this:"
   ]
  },
  {
   "cell_type": "code",
   "execution_count": 108,
   "metadata": {},
   "outputs": [],
   "source": [
    "def on_selected(change):\n",
    "    if len(change['owner'].selected) == 1: #only 1 selected\n",
    "        i, j = change['owner'].selected[0] # grab the x/y coordinates\n",
    "        v = data[i,j].sum() # grab data value at x/y index and sum along z\n",
    "        mySelectedLabel.value = 'Data Sum = ' + str(v) # set our label\n",
    "        # NOW ALSO: update our histogram\n",
    "        hist.sample = data[i,j,:]"
   ]
  },
  {
   "cell_type": "markdown",
   "metadata": {},
   "source": [
    "We don't have to go through the exersise of rebuilding our heatmap and histogram in general, but let's just do it for the sake of completeness and not accidentally re-linking thinks we shouldn't:"
   ]
  },
  {
   "cell_type": "markdown",
   "metadata": {},
   "source": [
    "#1 heatmap:"
   ]
  },
  {
   "cell_type": "code",
   "execution_count": 109,
   "metadata": {},
   "outputs": [],
   "source": [
    "# (1) Scales: x/y, colors\n",
    "col_sc = bqplot.ColorScale(scheme = \"Reds\")\n",
    "x_sc = bqplot.OrdinalScale()\n",
    "y_sc = bqplot.OrdinalScale()\n",
    "\n",
    "# (2) Axis: x/y, colors\n",
    "c_ax = bqplot.ColorAxis(scale = col_sc, \n",
    "                        orientation = 'vertical', \n",
    "                        side = 'right')\n",
    "x_ax = bqplot.Axis(scale = x_sc)\n",
    "y_ax = bqplot.Axis(scale = y_sc, \n",
    "                   orientation = 'vertical')\n",
    "\n",
    "# (3) Marks: heatmap\n",
    "heat_map = bqplot.GridHeatMap(color = np.sum(data, axis=2),\n",
    "                              scales = {'color': col_sc,\n",
    "                                        'row': y_sc,\n",
    "                                        'column': x_sc},\n",
    "                              interactions = {'click': 'select'}, # make interactive on click of each box\n",
    "                              anchor_style = {'fill':'blue'}, # to make our selection blue\n",
    "                              selected_style = {'opacity': 1.0}, # make 100% opaque if box is selected\n",
    "                              unselected_style = {'opacity': 0.8}) # make a little see-through if not\n",
    "\n",
    "# (4) Link selection on heatmap to other things\n",
    "heat_map.observe(on_selected, 'selected')\n",
    "\n",
    "# (5) Paint heatmap canvas, don't display yet:\n",
    "fig_heatmap = bqplot.Figure(marks = [heat_map], axes = [c_ax, y_ax, x_ax])"
   ]
  },
  {
   "cell_type": "markdown",
   "metadata": {},
   "source": [
    "#2 histogram:"
   ]
  },
  {
   "cell_type": "code",
   "execution_count": 110,
   "metadata": {},
   "outputs": [],
   "source": [
    "# (1) scales: x/y, linear\n",
    "x_sch = bqplot.LinearScale() # range of z-axis data\n",
    "y_sch = bqplot.LinearScale() # frequency of z-axis data in bins\n",
    "\n",
    "# (2) axis: x/y\n",
    "x_axh = bqplot.Axis(scale = x_sch, label = 'Value of 3rd axis')\n",
    "y_axh = bqplot.Axis(scale = y_sch, \n",
    "                    orientation = 'vertical', \n",
    "                    label='Frequency')\n",
    "\n",
    "# (3) Marks: histogram - start with just 0,0 in i/j -- can do other place holders\n",
    "hist = bqplot.Hist(sample = data[0,0,:],\n",
    "                   normalized = False, # normalized=False means we get counts in each bin\n",
    "                   scales = {'sample': x_sch, 'count': y_sch}, # sample is data values, count is frequency\n",
    "                   bins = 5) # number of bins\n",
    "\n",
    "# (4) NO LINKING ON HISTOGRAM SIDE\n",
    "\n",
    "# (5) Paint histogram canvas, don't display yet\n",
    "fig_hist = bqplot.Figure(marks = [hist], axes = [x_axh, y_axh])"
   ]
  },
  {
   "cell_type": "markdown",
   "metadata": {},
   "source": [
    "Create dashboard layout and display:"
   ]
  },
  {
   "cell_type": "code",
   "execution_count": 111,
   "metadata": {},
   "outputs": [
    {
     "data": {
      "application/vnd.jupyter.widget-view+json": {
       "model_id": "1f9c0c46c52e4d7a9ebe1b31295cbfe7",
       "version_major": 2,
       "version_minor": 0
      },
      "text/plain": [
       "VBox(children=(Label(value='Data Sum = 10.685190919273827'), HBox(children=(Figure(axes=[ColorAxis(orientation…"
      ]
     },
     "metadata": {},
     "output_type": "display_data"
    }
   ],
   "source": [
    "# side by side figures\n",
    "figures = ipywidgets.HBox([fig_heatmap, fig_hist])\n",
    "\n",
    "# label on top\n",
    "myDashboard = ipywidgets.VBox([mySelectedLabel, figures])\n",
    "myDashboard"
   ]
  },
  {
   "cell_type": "markdown",
   "metadata": {},
   "source": [
    "Ok close, but its all smooshed!  We can play with the layout of our plots before we display.  To do this we use some more CSS-like styling options, in particular, `layout`:"
   ]
  },
  {
   "cell_type": "code",
   "execution_count": 112,
   "metadata": {},
   "outputs": [
    {
     "data": {
      "application/vnd.jupyter.widget-view+json": {
       "model_id": "c61fba04665e4d0590ecf594213f58fa",
       "version_major": 2,
       "version_minor": 0
      },
      "text/plain": [
       "VBox(children=(Label(value='Data Sum = 10.109353638778746'), HBox(children=(Figure(axes=[ColorAxis(orientation…"
      ]
     },
     "metadata": {},
     "output_type": "display_data"
    }
   ],
   "source": [
    "# mess with figure layout:\n",
    "fig_heatmap.layout.min_width = '500px' # feel free to change for your screen\n",
    "fig_hist.layout.min_width = '500px'\n",
    "\n",
    "# side by side figures\n",
    "figures = ipywidgets.HBox([fig_heatmap, fig_hist])\n",
    "\n",
    "# label on top\n",
    "myDashboard = ipywidgets.VBox([mySelectedLabel, figures])\n",
    "myDashboard"
   ]
  },
  {
   "cell_type": "markdown",
   "metadata": {},
   "source": [
    "Note that update was \"back-reactive\" in that it changed the figure layout above as well!  Super sweet!"
   ]
  },
  {
   "cell_type": "markdown",
   "metadata": {},
   "source": [
    "#### Further complications: linking in different directions\n",
    "\n",
    "We can also apply some other links to further enhance our dashboard.  One that we've messed with before is allowing the user to select the number of bins of a histogram.\n",
    "\n",
    "There are a few ways to do this, but one \"easier\" way is to just link the histogram \"bins\" with the value of a bins-slider.  \n",
    "\n",
    "If we recall: `bins` was another key that was listed in hist:"
   ]
  },
  {
   "cell_type": "code",
   "execution_count": 113,
   "metadata": {},
   "outputs": [
    {
     "data": {
      "text/plain": [
       "['_model_module',\n",
       " '_model_module_version',\n",
       " '_model_name',\n",
       " '_view_count',\n",
       " '_view_module',\n",
       " '_view_module_version',\n",
       " '_view_name',\n",
       " 'apply_clip',\n",
       " 'bins',\n",
       " 'colors',\n",
       " 'count',\n",
       " 'display_legend',\n",
       " 'enable_hover',\n",
       " 'interactions',\n",
       " 'labels',\n",
       " 'midpoints',\n",
       " 'normalized',\n",
       " 'opacities',\n",
       " 'preserve_domain',\n",
       " 'sample',\n",
       " 'scales',\n",
       " 'scales_metadata',\n",
       " 'selected',\n",
       " 'selected_style',\n",
       " 'stroke',\n",
       " 'tooltip',\n",
       " 'tooltip_location',\n",
       " 'tooltip_style',\n",
       " 'unselected_style',\n",
       " 'visible']"
      ]
     },
     "execution_count": 113,
     "metadata": {},
     "output_type": "execute_result"
    }
   ],
   "source": [
    "hist.keys"
   ]
  },
  {
   "cell_type": "code",
   "execution_count": 114,
   "metadata": {},
   "outputs": [],
   "source": [
    "hist.bins = 5 # this changes the bins of our histogram above in a back-reactive way -- traitlets magic!"
   ]
  },
  {
   "cell_type": "markdown",
   "metadata": {},
   "source": [
    "Let's add a little integer slider to allow our user to select the number of bins for the histogram:"
   ]
  },
  {
   "cell_type": "code",
   "execution_count": 115,
   "metadata": {},
   "outputs": [],
   "source": [
    "bins_slider = ipywidgets.IntSlider(value=5, min=1, max=data.shape[2]) # don't make more bins than data points!"
   ]
  },
  {
   "cell_type": "markdown",
   "metadata": {},
   "source": [
    "A reminder of what this looks like:"
   ]
  },
  {
   "cell_type": "code",
   "execution_count": 116,
   "metadata": {},
   "outputs": [
    {
     "data": {
      "application/vnd.jupyter.widget-view+json": {
       "model_id": "7bd32a7a45dc4df4b5051b3722494b1a",
       "version_major": 2,
       "version_minor": 0
      },
      "text/plain": [
       "IntSlider(value=5, max=20, min=1)"
      ]
     },
     "metadata": {},
     "output_type": "display_data"
    }
   ],
   "source": [
    "bins_slider"
   ]
  },
  {
   "cell_type": "markdown",
   "metadata": {},
   "source": [
    "We can use `link` or `jslink` to link the value of this slider to our histogram's number of bins:"
   ]
  },
  {
   "cell_type": "code",
   "execution_count": 117,
   "metadata": {},
   "outputs": [
    {
     "data": {
      "text/plain": [
       "Link(source=(IntSlider(value=5, max=20, min=1), 'value'), target=(Hist(bins=5, colors=['steelblue'], count=arr…"
      ]
     },
     "metadata": {},
     "output_type": "display_data"
    }
   ],
   "source": [
    "ipywidgets.jslink((bins_slider, 'value'), (hist, 'bins'))"
   ]
  },
  {
   "cell_type": "markdown",
   "metadata": {},
   "source": [
    "While this change is \"backreactive\", let's redo our figure layout so we can see everything a bit better:"
   ]
  },
  {
   "cell_type": "code",
   "execution_count": 118,
   "metadata": {},
   "outputs": [
    {
     "data": {
      "application/vnd.jupyter.widget-view+json": {
       "model_id": "27f200ca1f5e4268a68d177e2e82a0f8",
       "version_major": 2,
       "version_minor": 0
      },
      "text/plain": [
       "VBox(children=(HBox(children=(Label(value='Data Sum = 10.109353638778746'), IntSlider(value=5, max=20, min=1))…"
      ]
     },
     "metadata": {},
     "output_type": "display_data"
    }
   ],
   "source": [
    "# mess with figure layout:\n",
    "fig_heatmap.layout.min_width = '500px' # feel free to change for your screen\n",
    "fig_hist.layout.min_width = '500px'\n",
    "\n",
    "# side by side figures\n",
    "figures = ipywidgets.HBox([fig_heatmap, fig_hist])\n",
    "\n",
    "# label on top to the left, bins slider to the right\n",
    "controls = ipywidgets.HBox([mySelectedLabel, bins_slider])\n",
    "\n",
    "# combined\n",
    "myDashboard = ipywidgets.VBox([controls, figures])\n",
    "myDashboard"
   ]
  },
  {
   "cell_type": "markdown",
   "metadata": {},
   "source": [
    "## Interactive plots with bqplot's matplotlib-like interface\n",
    "\n",
    "There is a `matplotlib`-like interface in `bqplot` that we can also use to make interactive figures."
   ]
  },
  {
   "cell_type": "code",
   "execution_count": 119,
   "metadata": {},
   "outputs": [],
   "source": [
    "import bqplot.pyplot as bplt"
   ]
  },
  {
   "cell_type": "markdown",
   "metadata": {},
   "source": [
    "We can start with our gridded heatmap:"
   ]
  },
  {
   "cell_type": "code",
   "execution_count": 120,
   "metadata": {},
   "outputs": [
    {
     "data": {
      "application/vnd.jupyter.widget-view+json": {
       "model_id": "41557f619c14418682ec80c796e7b936",
       "version_major": 2,
       "version_minor": 0
      },
      "text/plain": [
       "Figure(axes=[ColorAxis(scale=ColorScale()), Axis(orientation='vertical', scale=OrdinalScale(reverse=True)), Ax…"
      ]
     },
     "metadata": {},
     "output_type": "display_data"
    }
   ],
   "source": [
    "# first let's set up a figure object - the call is a little different for bqplot\n",
    "fig = bplt.figure(padding_y=0.0)\n",
    "\n",
    "# we'll call plt's gridheatmap function\n",
    "heat_map = bplt.gridheatmap(data[:,:,0]) # just take bottom part of data\n",
    "fig"
   ]
  },
  {
   "cell_type": "markdown",
   "metadata": {},
   "source": [
    "We can make our plots interactive in much the same way as before:"
   ]
  },
  {
   "cell_type": "code",
   "execution_count": 121,
   "metadata": {},
   "outputs": [],
   "source": [
    "# same function as before:\n",
    "def on_selected_bplt(change):\n",
    "    if len(change['owner'].selected) == 1: #only 1 selected\n",
    "        i, j = change['owner'].selected[0] # grab the x/y coordinates\n",
    "        v = data[i,j].sum() # grab data value at x/y index and sum along z\n",
    "        mySelectedLabel.value = 'Data Sum = ' + str(v) # set our label\n",
    "        # NOW ALSO: update our histogram\n",
    "        hist.sample = data[i,j,:]"
   ]
  },
  {
   "cell_type": "code",
   "execution_count": 122,
   "metadata": {},
   "outputs": [],
   "source": [
    "mySelectedLabel = ipywidgets.Label()"
   ]
  },
  {
   "cell_type": "code",
   "execution_count": 123,
   "metadata": {},
   "outputs": [
    {
     "data": {
      "application/vnd.jupyter.widget-view+json": {
       "model_id": "2d59cca503524965b83f3dd1e58d58c7",
       "version_major": 2,
       "version_minor": 0
      },
      "text/plain": [
       "VBox(children=(Label(value=''), Figure(axes=[ColorAxis(scale=ColorScale(scheme='Reds'), side='top'), Axis(labe…"
      ]
     },
     "metadata": {},
     "output_type": "display_data"
    }
   ],
   "source": [
    "fig = bplt.figure(padding_y=0.0) # set up a figure object\n",
    "bplt.scales(scales={'color':bqplot.ColorScale(scheme='Reds')})\n",
    "\n",
    "# use bqplot's plt interface to plot:\n",
    "heat_map = bplt.gridheatmap(np.sum(data, axis=2),\n",
    "                            interactions={'click':'select'}, \n",
    "                            anchor_style = {'fill':'blue'})\n",
    "\n",
    "# hook heat_maps selected value to the label \n",
    "heat_map.observe(on_selected_bplt, 'selected')\n",
    "\n",
    "# change labels\n",
    "fig.axes[2].label = 'X' # xaxes label\n",
    "fig.axes[1].label = 'Y' # yaxes label\n",
    "\n",
    "# 0 is the colorbar axis\n",
    "fig.axes[0].orientation = 'horizontal'\n",
    "fig.axes[0].side = 'top' # vertical and side=right don't work rightnow?\n",
    "\n",
    "# show both the fig and label in a vertical box\n",
    "ipywidgets.VBox([mySelectedLabel,fig])"
   ]
  },
  {
   "cell_type": "code",
   "execution_count": 124,
   "metadata": {},
   "outputs": [
    {
     "data": {
      "application/vnd.jupyter.widget-view+json": {
       "model_id": "42022ecf76f14fdba3873391a5504425",
       "version_major": 2,
       "version_minor": 0
      },
      "text/plain": [
       "Figure(axes=[Axis(label='Frequency', orientation='vertical', scale=LinearScale()), Axis(label='Z values', scal…"
      ]
     },
     "metadata": {},
     "output_type": "display_data"
    }
   ],
   "source": [
    "fig_hist = bplt.figure(padding_y=0.0) # set up a figure object\n",
    "\n",
    "# use bqplot's plt interface to plot:\n",
    "hist = bplt.hist(sample = data[0,0,:],\n",
    "                   normalized = False, # normalized=False means we get counts in each bin\n",
    "                   bins = 5) \n",
    "\n",
    "# change labels\n",
    "fig_hist.axes[1].label = 'Z values' # xaxes label\n",
    "fig_hist.axes[0].label = 'Frequency' # yaxes label\n",
    "\n",
    "fig_hist # empty plot of x/y"
   ]
  },
  {
   "cell_type": "code",
   "execution_count": 125,
   "metadata": {},
   "outputs": [
    {
     "data": {
      "application/vnd.jupyter.widget-view+json": {
       "model_id": "2e1ed1e2cfb743b2b4719a11b5858aeb",
       "version_major": 2,
       "version_minor": 0
      },
      "text/plain": [
       "VBox(children=(Label(value=''), HBox(children=(Figure(axes=[ColorAxis(scale=ColorScale(scheme='Reds'), side='t…"
      ]
     },
     "metadata": {},
     "output_type": "display_data"
    }
   ],
   "source": [
    "fig.layout.min_width='500px'\n",
    "fig_hist.layout.min_width='500px'\n",
    "\n",
    "ipywidgets.VBox([mySelectedLabel,\n",
    "                 ipywidgets.HBox([fig,fig_hist])])"
   ]
  },
  {
   "cell_type": "markdown",
   "metadata": {},
   "source": [
    "## Extras: Interactive histogramming with bqplot\n",
    "\n",
    "Now, lets try some interactive histogramming of our buildings data:"
   ]
  },
  {
   "cell_type": "code",
   "execution_count": 126,
   "metadata": {},
   "outputs": [],
   "source": [
    "import pandas as pd\n",
    "buildings = pd.read_csv(\"https://raw.githubusercontent.com/UIUC-iSchool-DataViz/is445_data/refs/heads/main/building_inventory.csv\",\n",
    "                        na_values = {'Year Acquired': 0, \n",
    "                                     'Year Constructed': 0, \n",
    "                                     'Square Footage': 0})"
   ]
  },
  {
   "cell_type": "markdown",
   "metadata": {},
   "source": [
    "Let's create some linear scales and attach axis like before:"
   ]
  },
  {
   "cell_type": "code",
   "execution_count": 127,
   "metadata": {},
   "outputs": [
    {
     "data": {
      "application/vnd.jupyter.widget-view+json": {
       "model_id": "f2fcd86dd1084bc2bf1bcd85dd57dec4",
       "version_major": 2,
       "version_minor": 0
      },
      "text/plain": [
       "VBox(children=(Figure(axes=[Axis(scale=LinearScale()), Axis(orientation='vertical', scale=LinearScale())], fig…"
      ]
     },
     "metadata": {},
     "output_type": "display_data"
    }
   ],
   "source": [
    "# since buildings is our data, we don't have to do anything\n",
    "#  with that, but we do need to create our scales and \n",
    "# axes like we've been doing before:\n",
    "# (1)\n",
    "x_sc = bqplot.LinearScale()\n",
    "y_sc = bqplot.LinearScale()\n",
    "x_ax = bqplot.Axis(scale = x_sc)\n",
    "y_ax = bqplot.Axis(scale = y_sc, orientation = 'vertical')\n",
    "\n",
    "# (2) now, lets do an interactive rebinning, but lets\n",
    "# use bqplot and a slider widget to do it\n",
    "hist = bqplot.Hist(sample = buildings[\"Year Acquired\"],\n",
    "            scales = {'sample': x_sc, 'count': y_sc},\n",
    "                   bins = 128, normalized = True,\n",
    "                   colors = [\"#FFFFFF\"])\n",
    "\n",
    "# lets also create a slider like we've done before\n",
    "islider = ipywidgets.IntSlider(min = 8, max = 128, step = 1)\n",
    "# and lets link our sider and our bins of our histogram\n",
    "ipywidgets.link((islider, 'value'), (hist, 'bins'))\n",
    "# construct a fig\n",
    "#fig = bqplot.Figure(marks = [hist], axes = [x_ax, y_ax])\n",
    "# ***RUN NEXT CELL BEFORE ADDING 2ND HIST\n",
    "\n",
    "# (3) ok, but maybe we want to see our original histogram\n",
    "#  underneath, lets add this to our figure\n",
    "hist2 = bqplot.Hist(sample = buildings[\"Year Acquired\"],\n",
    "                   opacity = 0.1, normalized = True,\n",
    "            scales = {'sample': x_sc, 'count': y_sc},\n",
    "                  bins = 128)\n",
    "fig = bqplot.Figure(marks = [hist, hist2], axes = [x_ax, y_ax])\n",
    "\n",
    "# for 2 & 3\n",
    "#display(ipywidgets.VBox([fig, islider]))\n",
    "ipywidgets.VBox([fig, islider])"
   ]
  },
  {
   "cell_type": "markdown",
   "metadata": {},
   "source": [
    "## Extras: Wealth of Nations plot\n",
    "\n",
    "See full github repo for all of this data/libraries needed!\n",
    "\n",
    "* originially from the TedTalk: https://www.ted.com/talks/hans_rosling_shows_the_best_stats_you_ve_ever_seen\n",
    "* found on Rosling's website: https://www.ted.com/talks/hans_rosling_shows_the_best_stats_you_ve_ever_seen\n",
    "* We're going to make a tool similar to GapMinders:https://www.gapminder.org/world/\n",
    "* Much of this is, in more detail, in the PyGothum-2017 github: https://github.com/dmadeka/PyGotham-2017 \n",
    "* This will talk to javascript on the backend to mimic the output of another plotting package d3.js, but we don't have to learn about d3.js (just now) and can instead rely on our current Python knowledge"
   ]
  },
  {
   "cell_type": "code",
   "execution_count": 128,
   "metadata": {},
   "outputs": [],
   "source": [
    "# import pandas if we have not\n",
    "import pandas as pd\n",
    "\n",
    "# lets start off our plot at the initial year of 1800\n",
    "initial_year = 1800"
   ]
  },
  {
   "cell_type": "code",
   "execution_count": 129,
   "metadata": {},
   "outputs": [
    {
     "data": {
      "text/html": [
       "<div>\n",
       "<style scoped>\n",
       "    .dataframe tbody tr th:only-of-type {\n",
       "        vertical-align: middle;\n",
       "    }\n",
       "\n",
       "    .dataframe tbody tr th {\n",
       "        vertical-align: top;\n",
       "    }\n",
       "\n",
       "    .dataframe thead th {\n",
       "        text-align: right;\n",
       "    }\n",
       "</style>\n",
       "<table border=\"1\" class=\"dataframe\">\n",
       "  <thead>\n",
       "    <tr style=\"text-align: right;\">\n",
       "      <th></th>\n",
       "      <th>name</th>\n",
       "      <th>region</th>\n",
       "      <th>income</th>\n",
       "      <th>population</th>\n",
       "      <th>lifeExpectancy</th>\n",
       "    </tr>\n",
       "  </thead>\n",
       "  <tbody>\n",
       "    <tr>\n",
       "      <th>0</th>\n",
       "      <td>Angola</td>\n",
       "      <td>Sub-Saharan Africa</td>\n",
       "      <td>[359.93, 359.93, 359.93, 359.93, 359.93, 359.9...</td>\n",
       "      <td>[1567028.0, 1567028.0, 1567028.0, 1567028.0, 1...</td>\n",
       "      <td>[26.98, 26.98, 26.98, 26.98, 26.98, 26.98, 26....</td>\n",
       "    </tr>\n",
       "    <tr>\n",
       "      <th>1</th>\n",
       "      <td>Benin</td>\n",
       "      <td>Sub-Saharan Africa</td>\n",
       "      <td>[553.72, 553.72, 553.72, 553.72, 553.72, 553.7...</td>\n",
       "      <td>[636559.0, 636559.0, 636559.0, 636559.0, 63655...</td>\n",
       "      <td>[31.0, 31.0, 31.0, 31.0, 31.0, 31.0, 31.0, 31....</td>\n",
       "    </tr>\n",
       "    <tr>\n",
       "      <th>2</th>\n",
       "      <td>Botswana</td>\n",
       "      <td>Sub-Saharan Africa</td>\n",
       "      <td>[407.36, 407.36, 407.36, 407.36, 407.36, 407.3...</td>\n",
       "      <td>[121000.0, 121000.0, 121000.0, 121000.0, 12100...</td>\n",
       "      <td>[33.6, 33.6, 33.6, 33.6, 33.6, 33.6, 33.6, 33....</td>\n",
       "    </tr>\n",
       "    <tr>\n",
       "      <th>3</th>\n",
       "      <td>Burkina Faso</td>\n",
       "      <td>Sub-Saharan Africa</td>\n",
       "      <td>[454.33, 454.33, 454.33, 454.33, 454.33, 454.3...</td>\n",
       "      <td>[1665421.0, 1665421.0, 1665421.0, 1665421.0, 1...</td>\n",
       "      <td>[29.2, 29.2, 29.2, 29.2, 29.2, 29.2, 29.2, 29....</td>\n",
       "    </tr>\n",
       "    <tr>\n",
       "      <th>4</th>\n",
       "      <td>Burundi</td>\n",
       "      <td>Sub-Saharan Africa</td>\n",
       "      <td>[447.59, 447.59, 447.59, 447.59, 447.59, 447.5...</td>\n",
       "      <td>[899097.0, 899097.0, 899097.0, 899097.0, 89909...</td>\n",
       "      <td>[31.5, 31.5, 31.5, 31.5, 31.5, 31.5, 31.5, 31....</td>\n",
       "    </tr>\n",
       "    <tr>\n",
       "      <th>...</th>\n",
       "      <td>...</td>\n",
       "      <td>...</td>\n",
       "      <td>...</td>\n",
       "      <td>...</td>\n",
       "      <td>...</td>\n",
       "    </tr>\n",
       "    <tr>\n",
       "      <th>174</th>\n",
       "      <td>Thailand</td>\n",
       "      <td>East Asia &amp; Pacific</td>\n",
       "      <td>[496.98, 496.98, 496.98, 496.98, 496.98, 496.9...</td>\n",
       "      <td>[4665000.0, 4665000.0, 4665000.0, 4665000.0, 4...</td>\n",
       "      <td>[30.4, 30.4, 30.4, 30.4, 30.4, 30.4, 30.4, 30....</td>\n",
       "    </tr>\n",
       "    <tr>\n",
       "      <th>175</th>\n",
       "      <td>Timor-Leste</td>\n",
       "      <td>East Asia &amp; Pacific</td>\n",
       "      <td>[514.12, 514.3505, 514.581, 514.8115, 515.042,...</td>\n",
       "      <td>[137262.0, 137262.0, 137262.0, 137262.0, 13726...</td>\n",
       "      <td>[28.97, 28.97, 28.97, 28.97, 28.97, 28.97, 28....</td>\n",
       "    </tr>\n",
       "    <tr>\n",
       "      <th>177</th>\n",
       "      <td>Tonga</td>\n",
       "      <td>East Asia &amp; Pacific</td>\n",
       "      <td>[667.71, 667.71, 667.71, 667.71, 667.71, 667.7...</td>\n",
       "      <td>[18658.0, 18654.325581395347, 18650.6511627907...</td>\n",
       "      <td>[57.91, 57.91, 57.91, 57.91, 57.91, 57.91, 57....</td>\n",
       "    </tr>\n",
       "    <tr>\n",
       "      <th>178</th>\n",
       "      <td>Vietnam</td>\n",
       "      <td>East Asia &amp; Pacific</td>\n",
       "      <td>[459.71, 459.71, 459.71, 459.71, 459.71, 459.7...</td>\n",
       "      <td>[6551000.0, 6551000.0, 6551000.0, 6551000.0, 6...</td>\n",
       "      <td>[32.0, 32.0, 32.0, 32.0, 32.0, 32.0, 32.0, 32....</td>\n",
       "    </tr>\n",
       "    <tr>\n",
       "      <th>179</th>\n",
       "      <td>Vanuatu</td>\n",
       "      <td>East Asia &amp; Pacific</td>\n",
       "      <td>[829.58, 829.58, 829.58, 829.58, 829.58, 829.5...</td>\n",
       "      <td>[27791.0, 27791.0, 27791.0, 27791.0, 27791.0, ...</td>\n",
       "      <td>[40.8, 40.8, 40.8, 40.8, 40.8, 40.8, 40.8, 40....</td>\n",
       "    </tr>\n",
       "  </tbody>\n",
       "</table>\n",
       "<p>178 rows × 5 columns</p>\n",
       "</div>"
      ],
      "text/plain": [
       "             name               region  \\\n",
       "0          Angola   Sub-Saharan Africa   \n",
       "1           Benin   Sub-Saharan Africa   \n",
       "2        Botswana   Sub-Saharan Africa   \n",
       "3    Burkina Faso   Sub-Saharan Africa   \n",
       "4         Burundi   Sub-Saharan Africa   \n",
       "..            ...                  ...   \n",
       "174      Thailand  East Asia & Pacific   \n",
       "175   Timor-Leste  East Asia & Pacific   \n",
       "177         Tonga  East Asia & Pacific   \n",
       "178       Vietnam  East Asia & Pacific   \n",
       "179       Vanuatu  East Asia & Pacific   \n",
       "\n",
       "                                                income  \\\n",
       "0    [359.93, 359.93, 359.93, 359.93, 359.93, 359.9...   \n",
       "1    [553.72, 553.72, 553.72, 553.72, 553.72, 553.7...   \n",
       "2    [407.36, 407.36, 407.36, 407.36, 407.36, 407.3...   \n",
       "3    [454.33, 454.33, 454.33, 454.33, 454.33, 454.3...   \n",
       "4    [447.59, 447.59, 447.59, 447.59, 447.59, 447.5...   \n",
       "..                                                 ...   \n",
       "174  [496.98, 496.98, 496.98, 496.98, 496.98, 496.9...   \n",
       "175  [514.12, 514.3505, 514.581, 514.8115, 515.042,...   \n",
       "177  [667.71, 667.71, 667.71, 667.71, 667.71, 667.7...   \n",
       "178  [459.71, 459.71, 459.71, 459.71, 459.71, 459.7...   \n",
       "179  [829.58, 829.58, 829.58, 829.58, 829.58, 829.5...   \n",
       "\n",
       "                                            population  \\\n",
       "0    [1567028.0, 1567028.0, 1567028.0, 1567028.0, 1...   \n",
       "1    [636559.0, 636559.0, 636559.0, 636559.0, 63655...   \n",
       "2    [121000.0, 121000.0, 121000.0, 121000.0, 12100...   \n",
       "3    [1665421.0, 1665421.0, 1665421.0, 1665421.0, 1...   \n",
       "4    [899097.0, 899097.0, 899097.0, 899097.0, 89909...   \n",
       "..                                                 ...   \n",
       "174  [4665000.0, 4665000.0, 4665000.0, 4665000.0, 4...   \n",
       "175  [137262.0, 137262.0, 137262.0, 137262.0, 13726...   \n",
       "177  [18658.0, 18654.325581395347, 18650.6511627907...   \n",
       "178  [6551000.0, 6551000.0, 6551000.0, 6551000.0, 6...   \n",
       "179  [27791.0, 27791.0, 27791.0, 27791.0, 27791.0, ...   \n",
       "\n",
       "                                        lifeExpectancy  \n",
       "0    [26.98, 26.98, 26.98, 26.98, 26.98, 26.98, 26....  \n",
       "1    [31.0, 31.0, 31.0, 31.0, 31.0, 31.0, 31.0, 31....  \n",
       "2    [33.6, 33.6, 33.6, 33.6, 33.6, 33.6, 33.6, 33....  \n",
       "3    [29.2, 29.2, 29.2, 29.2, 29.2, 29.2, 29.2, 29....  \n",
       "4    [31.5, 31.5, 31.5, 31.5, 31.5, 31.5, 31.5, 31....  \n",
       "..                                                 ...  \n",
       "174  [30.4, 30.4, 30.4, 30.4, 30.4, 30.4, 30.4, 30....  \n",
       "175  [28.97, 28.97, 28.97, 28.97, 28.97, 28.97, 28....  \n",
       "177  [57.91, 57.91, 57.91, 57.91, 57.91, 57.91, 57....  \n",
       "178  [32.0, 32.0, 32.0, 32.0, 32.0, 32.0, 32.0, 32....  \n",
       "179  [40.8, 40.8, 40.8, 40.8, 40.8, 40.8, 40.8, 40....  \n",
       "\n",
       "[178 rows x 5 columns]"
      ]
     },
     "execution_count": 129,
     "metadata": {},
     "output_type": "execute_result"
    }
   ],
   "source": [
    "# we'll read in our datafile and apply \n",
    "# some pre-written cleaning routines \n",
    "# get out the data we want for our plotting\n",
    "# put this file in the same directory as the notebook, or link it in your path:\n",
    "from sys import path\n",
    "path.append('./library') # this is the subdirectory where wealth_of_nations.py is\n",
    "from wealth_of_nations import process_data, get_min_max, get_data\n",
    "\n",
    "# grab data\n",
    "data = process_data('./library/nations.json')\n",
    "\n",
    "data"
   ]
  },
  {
   "cell_type": "code",
   "execution_count": 130,
   "metadata": {},
   "outputs": [],
   "source": [
    "# grab min & max values of our variables of interest\n",
    "income_min, income_max, life_exp_min, life_exp_max, pop_min, pop_max = get_min_max(data)"
   ]
  },
  {
   "cell_type": "code",
   "execution_count": 131,
   "metadata": {},
   "outputs": [],
   "source": [
    "# lets allow for a mouse-over interaction\n",
    "# for silly:\n",
    "import bqplot\n",
    "tt = bqplot.Tooltip(fields=['name', 'x', 'y'], \n",
    "                    labels=['Country Name', \n",
    "                            'Income per Capita', 'Life Expectancy'])\n",
    "#bqplot.Tooltip?"
   ]
  },
  {
   "cell_type": "code",
   "execution_count": 132,
   "metadata": {},
   "outputs": [],
   "source": [
    "# we will label what year is being plotted, just like in the Gabminder plot\n",
    "year_label = bqplot.Label(x=[0.75], y=[0.10], \n",
    "                   font_size=52, font_weight='bolder', \n",
    "                   colors=['orange'],\n",
    "                   text=[str(initial_year)], enable_move=True)"
   ]
  },
  {
   "cell_type": "code",
   "execution_count": 133,
   "metadata": {},
   "outputs": [],
   "source": [
    "# we'll define our scales like before\n",
    "# here we scale our x & y axis to the scales of the min and max of our data\n",
    "x_sc = bqplot.LogScale(min=income_min, max=income_max)\n",
    "y_sc = bqplot.LinearScale(min=life_exp_min, max=life_exp_max)\n",
    "\n",
    "# this is just something to color-code each circle by the region it corresponds to\n",
    "#  (for example, asia, south america, africa, etc)\n",
    "# the colors call is just mapping each catagorical variable to a color\n",
    "c_sc = bqplot.OrdinalColorScale(domain=data['region'].unique().tolist(), \n",
    "                                colors=bqplot.CATEGORY10[:6])\n",
    "\n",
    "# finally, we want the size of each of our dots to correspond to the population of \n",
    "# each country\n",
    "#size_sc = bqplot.LinearScale(min=pop_min, max=pop_max)#, mid_range=0.1)\n",
    "size_sc = bqplot.LinearScale(max=1326856173.0, min=2128.0)\n",
    "#bqplot.LinearScale?"
   ]
  },
  {
   "cell_type": "code",
   "execution_count": 134,
   "metadata": {},
   "outputs": [],
   "source": [
    "# create and label our x & y axis\n",
    "ax_y = bqplot.Axis(label='Life Expectancy', scale=y_sc, \n",
    "                   orientation='vertical', side='left', \n",
    "                   grid_lines='solid')\n",
    "ax_x = bqplot.Axis(label='Income per Capita', scale=x_sc, \n",
    "                   grid_lines='solid')"
   ]
  },
  {
   "cell_type": "code",
   "execution_count": 135,
   "metadata": {},
   "outputs": [],
   "source": [
    "# now we'll use another little function from our library above to grab\n",
    "# data for our initial setup (year = 1800)\n",
    "# Start with the first year's data\n",
    "cap_income, life_exp, pop = get_data(data,initial_year,initial_year)"
   ]
  },
  {
   "cell_type": "code",
   "execution_count": null,
   "metadata": {},
   "outputs": [],
   "source": [
    "# now lets make our scatter plot!\n",
    "wealth_scat = bqplot.Scatter(x=cap_income, y=life_exp, \n",
    "                             color=data['region'], size=pop,\n",
    "                      names=data['name'], display_names=False,\n",
    "                      scales={'x': x_sc, 'y': y_sc, 'color': c_sc, \n",
    "                              'size': size_sc},\n",
    "                      default_size=4112, tooltip=tt, \n",
    "                             animate=True, stroke='Black',\n",
    "                      unhovered_style={'opacity': 0.5})\n",
    "# much of these calls are things we've seen before, others will allow fun things \n",
    "#  like animation and also the ability to click on our plot and interact with it"
   ]
  },
  {
   "cell_type": "code",
   "execution_count": 137,
   "metadata": {},
   "outputs": [],
   "source": [
    "# for our initial, 1800 view, we'll just allow the first \"line\" of the evolution of the \n",
    "# each nation's track to be displayed... this is essentially a place holder (visible = false)\n",
    "nation_line = bqplot.Lines(x=data['income'][0], \n",
    "                           y=data['lifeExpectancy'][0], \n",
    "                           colors=['Gray'],\n",
    "                       scales={'x': x_sc, 'y': y_sc}, visible=False)"
   ]
  },
  {
   "cell_type": "code",
   "execution_count": 138,
   "metadata": {},
   "outputs": [],
   "source": [
    "# milliseconds of time between changes we make\n",
    "time_interval = 10"
   ]
  },
  {
   "cell_type": "code",
   "execution_count": 139,
   "metadata": {},
   "outputs": [],
   "source": [
    "# create the figure & \n",
    "fig = bqplot.Figure(marks=[wealth_scat, year_label, nation_line], \n",
    "                    axes=[ax_x, ax_y],\n",
    "             title='Health and Wealth of Nations', \n",
    "                    animation_duration=time_interval)\n",
    "\n",
    "# lets control the size in pixels too\n",
    "fig.layout.min_width = '960px'\n",
    "fig.layout.min_height = '640px'"
   ]
  },
  {
   "cell_type": "code",
   "execution_count": 140,
   "metadata": {},
   "outputs": [],
   "source": [
    "# we'll use our friend the int slider to slide through years\n",
    "# for silly:\n",
    "import ipywidgets\n",
    "year_slider = ipywidgets.IntSlider(min=1800, max=2008, step=1, description='Year', value=initial_year)"
   ]
  },
  {
   "cell_type": "code",
   "execution_count": 141,
   "metadata": {},
   "outputs": [],
   "source": [
    "# make sure we define what happens when we change the year on our slider\n",
    "def year_changed(change):\n",
    "    wealth_scat.x, wealth_scat.y, wealth_scat.size = get_data(data,year_slider.value,initial_year)\n",
    "    #wealth_scat.size+=1000\n",
    "    year_label.text = [str(year_slider.value)]\n",
    "\n",
    "year_slider.observe(year_changed, 'value')"
   ]
  },
  {
   "cell_type": "code",
   "execution_count": 142,
   "metadata": {},
   "outputs": [],
   "source": [
    "# now we'll say what happens when we hover over an object\n",
    "# we'll use \"change\" again to make it such that if a \n",
    "# user hovers over a country, the countries \"life line\" \n",
    "#  is visible\n",
    "def hover_changed(change):\n",
    "    if change.new is not None:\n",
    "        nation_line.x = data['income'][change.new + 1]\n",
    "        nation_line.y = data['lifeExpectancy'][change.new + 1]\n",
    "        nation_line.visible = True\n",
    "    else:\n",
    "        nation_line.visible = False\n",
    "        \n",
    "wealth_scat.observe(hover_changed, 'hovered_point')"
   ]
  },
  {
   "cell_type": "code",
   "execution_count": 143,
   "metadata": {},
   "outputs": [
    {
     "data": {
      "text/plain": [
       "Link(source=(Play(value=1800, interval=10, max=2008, min=1800), 'value'), target=(IntSlider(value=1800, descri…"
      ]
     },
     "metadata": {},
     "output_type": "display_data"
    }
   ],
   "source": [
    "# finally, lets add a little play button so we can animate\n",
    "#  what happens in time, just like on the d3.js plot\n",
    "play_button = ipywidgets.Play(min=1800, max=2008, interval=time_interval)\n",
    "# note, we use \"jslink\" because the \"backend\" here is javascript\n",
    "#  bqplot is just interacting with javascript\n",
    "ipywidgets.jslink((play_button, 'value'), (year_slider, 'value'))"
   ]
  },
  {
   "cell_type": "code",
   "execution_count": 144,
   "metadata": {},
   "outputs": [
    {
     "data": {
      "application/vnd.jupyter.widget-view+json": {
       "model_id": "5210fb0e1dd24dcd9ad672db458bd69e",
       "version_major": 2,
       "version_minor": 0
      },
      "text/plain": [
       "VBox(children=(HBox(children=(Play(value=1800, interval=10, max=2008, min=1800), IntSlider(value=1800, descrip…"
      ]
     },
     "metadata": {},
     "output_type": "display_data"
    }
   ],
   "source": [
    "# finally, lets put it all together!!\n",
    "\n",
    "ipywidgets.VBox([ipywidgets.HBox([play_button, year_slider]), fig])"
   ]
  },
  {
   "cell_type": "code",
   "execution_count": null,
   "metadata": {},
   "outputs": [],
   "source": []
  },
  {
   "cell_type": "code",
   "execution_count": null,
   "metadata": {},
   "outputs": [],
   "source": []
  },
  {
   "cell_type": "code",
   "execution_count": null,
   "metadata": {},
   "outputs": [],
   "source": []
  },
  {
   "cell_type": "code",
   "execution_count": null,
   "metadata": {},
   "outputs": [],
   "source": []
  },
  {
   "cell_type": "code",
   "execution_count": null,
   "metadata": {},
   "outputs": [],
   "source": []
  },
  {
   "cell_type": "code",
   "execution_count": null,
   "metadata": {},
   "outputs": [],
   "source": []
  }
 ],
 "metadata": {
  "kernelspec": {
   "display_name": "DataViz2",
   "language": "python",
   "name": "python3"
  },
  "language_info": {
   "codemirror_mode": {
    "name": "ipython",
    "version": 3
   },
   "file_extension": ".py",
   "mimetype": "text/x-python",
   "name": "python",
   "nbconvert_exporter": "python",
   "pygments_lexer": "ipython3",
   "version": "3.10.14"
  }
 },
 "nbformat": 4,
 "nbformat_minor": 2
}
