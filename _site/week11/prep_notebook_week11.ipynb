{
 "cells": [
  {
   "cell_type": "markdown",
   "id": "respective-store",
   "metadata": {},
   "source": [
    "# Prep Notebook, Week 11"
   ]
  },
  {
   "cell_type": "markdown",
   "id": "patent-merit",
   "metadata": {},
   "source": [
    "Here we'll redo some of our Altair plots, but now we'll be sure to save these in the appropriate place in our Jekyll template in order to have them show up on our project page.\n",
    "\n",
    "We'll start with copying directly from the vega editor, just in case folks want to use that instead of Altair in Python."
   ]
  },
  {
   "cell_type": "markdown",
   "id": "a7417b69",
   "metadata": {},
   "source": [
    "## Setup -- Making a new project \n",
    "\n",
    "We'll first start by making a new project markdown file in order to add our visualizations.\n",
    "\n",
    "We can do this by copying a file that is already there and them modifying for our new project:\n",
    "1. Project name\n",
    "1. the \"tools\" tag\n",
    "1. the image (we might wait to do this until we can take a screenshot of one of our new plots)\n",
    "1. the short description\n",
    "\n",
    "Note: we want to make sure to keep all the `custom_js` tags in order to be able to include our interactive creations!"
   ]
  },
  {
   "cell_type": "markdown",
   "id": "2ceefacd",
   "metadata": {},
   "source": [
    "## 1. Copying directly from vega-editor\n",
    "\n",
    "We can start with saving vega-lite code directly as json if we do our development in the vega-editor.\n",
    "\n",
    "If we start from this [simple vega-example](https://vega.github.io/vega-lite/examples/stacked_bar_h.html) and [open it in the vega-editor](https://vega.github.io/editor/#/examples/vega-lite/stacked_bar_h) we can export from the vega-lite editor.\n",
    "\n",
    "If we click the Export button in the upper tool bar, we see that we have a few options for how to export visualizations.\n",
    "\n",
    "For this to work, you need to make sure that you have the full raw URL for the dataset from the [list of vega-datasets](https://github.com/vega/vega-datasets/tree/master/data). Double check that it is the raw-data link!\n",
    "\n",
    "![click on the \"Export\" button in the vega editor](images/vegaeditor/vega_editor1.png)\n",
    "\n",
    "\n",
    "We can save with JSON (config file un-checked) using the middle upper panel's interface:\n",
    "\n",
    "\n",
    "![make sure \"include config\" is checked](images/vegaeditor/vega_editor2.png)\n",
    "\n",
    "\n",
    "We can then save the downloaded .json file in the assets/jsons/ folder in our main Jekyll page directory.\n",
    "\n",
    "Once we have that we can link using vegachart in your Jekyll project page:\n",
    "\n",
    "```html\n",
    "<vegachart schema-url=\"{{ site.baseurl }}/assets/json/direct_from_editor.json\" style=\"width: 100%\"></vegachart>\n",
    "```\n"
   ]
  },
  {
   "cell_type": "markdown",
   "id": "9f13e9ae",
   "metadata": {},
   "source": [
    "## 2. Save from Python -- data at URL"
   ]
  },
  {
   "cell_type": "code",
   "execution_count": 1,
   "id": "aaa74ff0",
   "metadata": {},
   "outputs": [],
   "source": [
    "import pandas as pd\n",
    "import numpy as np\n",
    "import altair as alt"
   ]
  },
  {
   "cell_type": "markdown",
   "id": "28972294",
   "metadata": {},
   "source": [
    "Let's use our Mobility dataset from last time and remake our dashboard plot:"
   ]
  },
  {
   "cell_type": "code",
   "execution_count": 2,
   "id": "d2ffa728",
   "metadata": {},
   "outputs": [],
   "source": [
    "mobility_url = 'https://raw.githubusercontent.com/UIUC-iSchool-DataViz/is445_data/main/mobility.csv'"
   ]
  },
  {
   "cell_type": "code",
   "execution_count": 3,
   "id": "d4e1aa97",
   "metadata": {},
   "outputs": [
    {
     "name": "stderr",
     "output_type": "stream",
     "text": [
      "/var/folders/t7/bwcvd_4177q4872gxghn7p9r0000gq/T/ipykernel_2959/1178754509.py:9: AltairDeprecationWarning: Deprecated in `altair=5.0.0`. Use add_params instead.\n",
      "  ).add_selection(\n"
     ]
    },
    {
     "data": {
      "text/html": [
       "\n",
       "<style>\n",
       "  #altair-viz-235031b360da44a7ab46c830a101458b.vega-embed {\n",
       "    width: 100%;\n",
       "    display: flex;\n",
       "  }\n",
       "\n",
       "  #altair-viz-235031b360da44a7ab46c830a101458b.vega-embed details,\n",
       "  #altair-viz-235031b360da44a7ab46c830a101458b.vega-embed details summary {\n",
       "    position: relative;\n",
       "  }\n",
       "</style>\n",
       "<div id=\"altair-viz-235031b360da44a7ab46c830a101458b\"></div>\n",
       "<script type=\"text/javascript\">\n",
       "  var VEGA_DEBUG = (typeof VEGA_DEBUG == \"undefined\") ? {} : VEGA_DEBUG;\n",
       "  (function(spec, embedOpt){\n",
       "    let outputDiv = document.currentScript.previousElementSibling;\n",
       "    if (outputDiv.id !== \"altair-viz-235031b360da44a7ab46c830a101458b\") {\n",
       "      outputDiv = document.getElementById(\"altair-viz-235031b360da44a7ab46c830a101458b\");\n",
       "    }\n",
       "    const paths = {\n",
       "      \"vega\": \"https://cdn.jsdelivr.net/npm/vega@5?noext\",\n",
       "      \"vega-lib\": \"https://cdn.jsdelivr.net/npm/vega-lib?noext\",\n",
       "      \"vega-lite\": \"https://cdn.jsdelivr.net/npm/vega-lite@5.20.1?noext\",\n",
       "      \"vega-embed\": \"https://cdn.jsdelivr.net/npm/vega-embed@6?noext\",\n",
       "    };\n",
       "\n",
       "    function maybeLoadScript(lib, version) {\n",
       "      var key = `${lib.replace(\"-\", \"\")}_version`;\n",
       "      return (VEGA_DEBUG[key] == version) ?\n",
       "        Promise.resolve(paths[lib]) :\n",
       "        new Promise(function(resolve, reject) {\n",
       "          var s = document.createElement('script');\n",
       "          document.getElementsByTagName(\"head\")[0].appendChild(s);\n",
       "          s.async = true;\n",
       "          s.onload = () => {\n",
       "            VEGA_DEBUG[key] = version;\n",
       "            return resolve(paths[lib]);\n",
       "          };\n",
       "          s.onerror = () => reject(`Error loading script: ${paths[lib]}`);\n",
       "          s.src = paths[lib];\n",
       "        });\n",
       "    }\n",
       "\n",
       "    function showError(err) {\n",
       "      outputDiv.innerHTML = `<div class=\"error\" style=\"color:red;\">${err}</div>`;\n",
       "      throw err;\n",
       "    }\n",
       "\n",
       "    function displayChart(vegaEmbed) {\n",
       "      vegaEmbed(outputDiv, spec, embedOpt)\n",
       "        .catch(err => showError(`Javascript Error: ${err.message}<br>This usually means there's a typo in your chart specification. See the javascript console for the full traceback.`));\n",
       "    }\n",
       "\n",
       "    if(typeof define === \"function\" && define.amd) {\n",
       "      requirejs.config({paths});\n",
       "      require([\"vega-embed\"], displayChart, err => showError(`Error loading script: ${err.message}`));\n",
       "    } else {\n",
       "      maybeLoadScript(\"vega\", \"5\")\n",
       "        .then(() => maybeLoadScript(\"vega-lite\", \"5.20.1\"))\n",
       "        .then(() => maybeLoadScript(\"vega-embed\", \"6\"))\n",
       "        .catch(showError)\n",
       "        .then(() => displayChart(vegaEmbed));\n",
       "    }\n",
       "  })({\"config\": {\"view\": {\"continuousWidth\": 300, \"continuousHeight\": 300}}, \"hconcat\": [{\"mark\": {\"type\": \"rect\"}, \"encoding\": {\"color\": {\"aggregate\": \"count\", \"type\": \"quantitative\"}, \"x\": {\"bin\": {\"maxbins\": 10}, \"field\": \"Student_teacher_ratio\", \"type\": \"quantitative\"}, \"y\": {\"field\": \"State\", \"type\": \"ordinal\"}}, \"height\": 400, \"name\": \"view_1\", \"width\": 300}, {\"mark\": {\"type\": \"bar\"}, \"encoding\": {\"x\": {\"axis\": {\"title\": \"Mobility Score\"}, \"bin\": true, \"field\": \"Mobility\", \"type\": \"quantitative\"}, \"y\": {\"aggregate\": \"count\", \"axis\": {\"title\": \"Mobility Score Distribution\"}, \"type\": \"quantitative\"}}, \"transform\": [{\"filter\": {\"param\": \"param_1\"}}], \"width\": 300}], \"data\": {\"url\": \"https://raw.githubusercontent.com/UIUC-iSchool-DataViz/is445_data/main/mobility.csv\"}, \"params\": [{\"name\": \"param_1\", \"select\": {\"type\": \"interval\", \"encodings\": [\"x\", \"y\"]}, \"views\": [\"view_1\"]}], \"$schema\": \"https://vega.github.io/schema/vega-lite/v5.20.1.json\"}, {\"mode\": \"vega-lite\"});\n",
       "</script>"
      ],
      "text/plain": [
       "alt.HConcatChart(...)"
      ]
     },
     "execution_count": 3,
     "metadata": {},
     "output_type": "execute_result"
    }
   ],
   "source": [
    "brush = alt.selection_interval(encodings=['x','y'])\n",
    "\n",
    "chart1 = alt.Chart(mobility_url).mark_rect().encode(\n",
    "    alt.X(\"Student_teacher_ratio:Q\", bin=alt.Bin(maxbins=10)),\n",
    "    alt.Y(\"State:O\"),\n",
    "    alt.Color(\"count()\")\n",
    ").properties(\n",
    "   height=400\n",
    ").add_selection(\n",
    "        brush\n",
    ")\n",
    "\n",
    "chart2 = alt.Chart(mobility_url).mark_bar().encode(\n",
    "    alt.X(\"Mobility:Q\", bin=True,axis=alt.Axis(title='Mobility Score')),\n",
    "    alt.Y('count()', axis=alt.Axis(title='Mobility Score Distribution'))\n",
    ").transform_filter(\n",
    "    brush\n",
    ")\n",
    "\n",
    "chart = (chart1.properties(width=300) | chart2.properties(width=300))\n",
    "\n",
    "chart"
   ]
  },
  {
   "cell_type": "markdown",
   "id": "d292c74e",
   "metadata": {},
   "source": [
    "Now that we have this plot, we want to save it in a place we can access from our Jekyll template.  This place, like with copying from our vega-editor, is in `<YOUR GITHUB PAGES DIRECTORY>/assets/json`.\n",
    "\n",
    "If working locally, we want to make sure we save this in this directory.\n",
    "\n",
    "If working on PrairieLearn, we just need to save the json somewhere and then make sure we download and move it to the `assets/json` folder in our template:"
   ]
  },
  {
   "cell_type": "code",
   "execution_count": 4,
   "id": "1002c006",
   "metadata": {},
   "outputs": [],
   "source": [
    "# from PL:\n",
    "# myJekyllDir = \"./\"\n",
    "# --> then be sure to download these jsons to your \"asset/json\" folder with a right-click in PL!\n",
    "\n",
    "# working locally:\n",
    "myJekyllDir = '/Users/jnaiman/jnaiman.github.io/assets/json/'"
   ]
  },
  {
   "cell_type": "markdown",
   "id": "88fdc816",
   "metadata": {},
   "source": [
    "Now that we have the path set, let's save our chart:"
   ]
  },
  {
   "cell_type": "code",
   "execution_count": 5,
   "id": "7cd267a6",
   "metadata": {},
   "outputs": [],
   "source": [
    "chart.save(myJekyllDir+\"altair_mobility_dashboard.json\")"
   ]
  },
  {
   "cell_type": "markdown",
   "id": "00aaf851",
   "metadata": {},
   "source": [
    "### Saving within a \"container\"\n",
    "\n",
    "The mobility dashboard is a \"faceted\" chart, since it is made up of two plots.  As of last I checked, you can't save faceted charts within a variable \"container\" that will update if the user changes the size of the window (i.e. if on mobile device, or just changing the size of a browser window).\n",
    "\n",
    "However, for single-facet charts, you can save in a container that is variable.  For example:"
   ]
  },
  {
   "cell_type": "code",
   "execution_count": 6,
   "id": "b13e547d",
   "metadata": {},
   "outputs": [
    {
     "data": {
      "text/html": [
       "\n",
       "<style>\n",
       "  #altair-viz-6cd7cfb87b2e4d40a78bb41d7b9a7424.vega-embed {\n",
       "    width: 100%;\n",
       "    display: flex;\n",
       "  }\n",
       "\n",
       "  #altair-viz-6cd7cfb87b2e4d40a78bb41d7b9a7424.vega-embed details,\n",
       "  #altair-viz-6cd7cfb87b2e4d40a78bb41d7b9a7424.vega-embed details summary {\n",
       "    position: relative;\n",
       "  }\n",
       "</style>\n",
       "<div id=\"altair-viz-6cd7cfb87b2e4d40a78bb41d7b9a7424\"></div>\n",
       "<script type=\"text/javascript\">\n",
       "  var VEGA_DEBUG = (typeof VEGA_DEBUG == \"undefined\") ? {} : VEGA_DEBUG;\n",
       "  (function(spec, embedOpt){\n",
       "    let outputDiv = document.currentScript.previousElementSibling;\n",
       "    if (outputDiv.id !== \"altair-viz-6cd7cfb87b2e4d40a78bb41d7b9a7424\") {\n",
       "      outputDiv = document.getElementById(\"altair-viz-6cd7cfb87b2e4d40a78bb41d7b9a7424\");\n",
       "    }\n",
       "    const paths = {\n",
       "      \"vega\": \"https://cdn.jsdelivr.net/npm/vega@5?noext\",\n",
       "      \"vega-lib\": \"https://cdn.jsdelivr.net/npm/vega-lib?noext\",\n",
       "      \"vega-lite\": \"https://cdn.jsdelivr.net/npm/vega-lite@5.20.1?noext\",\n",
       "      \"vega-embed\": \"https://cdn.jsdelivr.net/npm/vega-embed@6?noext\",\n",
       "    };\n",
       "\n",
       "    function maybeLoadScript(lib, version) {\n",
       "      var key = `${lib.replace(\"-\", \"\")}_version`;\n",
       "      return (VEGA_DEBUG[key] == version) ?\n",
       "        Promise.resolve(paths[lib]) :\n",
       "        new Promise(function(resolve, reject) {\n",
       "          var s = document.createElement('script');\n",
       "          document.getElementsByTagName(\"head\")[0].appendChild(s);\n",
       "          s.async = true;\n",
       "          s.onload = () => {\n",
       "            VEGA_DEBUG[key] = version;\n",
       "            return resolve(paths[lib]);\n",
       "          };\n",
       "          s.onerror = () => reject(`Error loading script: ${paths[lib]}`);\n",
       "          s.src = paths[lib];\n",
       "        });\n",
       "    }\n",
       "\n",
       "    function showError(err) {\n",
       "      outputDiv.innerHTML = `<div class=\"error\" style=\"color:red;\">${err}</div>`;\n",
       "      throw err;\n",
       "    }\n",
       "\n",
       "    function displayChart(vegaEmbed) {\n",
       "      vegaEmbed(outputDiv, spec, embedOpt)\n",
       "        .catch(err => showError(`Javascript Error: ${err.message}<br>This usually means there's a typo in your chart specification. See the javascript console for the full traceback.`));\n",
       "    }\n",
       "\n",
       "    if(typeof define === \"function\" && define.amd) {\n",
       "      requirejs.config({paths});\n",
       "      require([\"vega-embed\"], displayChart, err => showError(`Error loading script: ${err.message}`));\n",
       "    } else {\n",
       "      maybeLoadScript(\"vega\", \"5\")\n",
       "        .then(() => maybeLoadScript(\"vega-lite\", \"5.20.1\"))\n",
       "        .then(() => maybeLoadScript(\"vega-embed\", \"6\"))\n",
       "        .catch(showError)\n",
       "        .then(() => displayChart(vegaEmbed));\n",
       "    }\n",
       "  })({\"config\": {\"view\": {\"continuousWidth\": 300, \"continuousHeight\": 300}}, \"data\": {\"url\": \"https://raw.githubusercontent.com/UIUC-iSchool-DataViz/is445_data/main/mobility.csv\"}, \"mark\": {\"type\": \"point\"}, \"encoding\": {\"color\": {\"bin\": {\"maxbins\": 5}, \"field\": \"Income\", \"scale\": {\"scheme\": \"sinebow\"}, \"type\": \"quantitative\"}, \"x\": {\"field\": \"Mobility\", \"type\": \"quantitative\"}, \"y\": {\"field\": \"Population\", \"scale\": {\"type\": \"log\"}, \"type\": \"quantitative\"}}, \"$schema\": \"https://vega.github.io/schema/vega-lite/v5.20.1.json\"}, {\"mode\": \"vega-lite\"});\n",
       "</script>"
      ],
      "text/plain": [
       "alt.Chart(...)"
      ]
     },
     "execution_count": 6,
     "metadata": {},
     "output_type": "execute_result"
    }
   ],
   "source": [
    "scatter = alt.Chart(mobility_url).mark_point().encode(\n",
    "    x='Mobility:Q', # \"Q for quantiative\"\n",
    "    y=alt.Y('Population:Q', scale=alt.Scale(type='log')),\n",
    "    color=alt.Color('Income:Q', scale=alt.Scale(scheme='sinebow'),bin=alt.Bin(maxbins=5))\n",
    ")\n",
    "scatter"
   ]
  },
  {
   "cell_type": "code",
   "execution_count": 7,
   "id": "89bb8255",
   "metadata": {},
   "outputs": [],
   "source": [
    "scatter.properties(width='container').save(myJekyllDir+\"population_scatter.json\")"
   ]
  },
  {
   "cell_type": "markdown",
   "id": "c75cc332",
   "metadata": {},
   "source": [
    "The above will now resize (within reason) if your browser window changes.\n",
    "\n",
    "Support for multi-faceted charts is on the development pathway within vegalite, so hopefully that will be supported in the near future."
   ]
  },
  {
   "cell_type": "code",
   "execution_count": null,
   "id": "2a2bdc61",
   "metadata": {},
   "outputs": [],
   "source": []
  },
  {
   "cell_type": "code",
   "execution_count": null,
   "id": "48905d41",
   "metadata": {},
   "outputs": [],
   "source": []
  },
  {
   "cell_type": "code",
   "execution_count": null,
   "id": "306a3168",
   "metadata": {},
   "outputs": [],
   "source": []
  },
  {
   "cell_type": "code",
   "execution_count": null,
   "id": "1588de83",
   "metadata": {},
   "outputs": [],
   "source": []
  },
  {
   "cell_type": "code",
   "execution_count": null,
   "id": "3dfb0002",
   "metadata": {},
   "outputs": [],
   "source": []
  }
 ],
 "metadata": {
  "kernelspec": {
   "display_name": "DataViz2",
   "language": "python",
   "name": "python3"
  },
  "language_info": {
   "codemirror_mode": {
    "name": "ipython",
    "version": 3
   },
   "file_extension": ".py",
   "mimetype": "text/x-python",
   "name": "python",
   "nbconvert_exporter": "python",
   "pygments_lexer": "ipython3",
   "version": "3.10.14"
  }
 },
 "nbformat": 4,
 "nbformat_minor": 5
}
