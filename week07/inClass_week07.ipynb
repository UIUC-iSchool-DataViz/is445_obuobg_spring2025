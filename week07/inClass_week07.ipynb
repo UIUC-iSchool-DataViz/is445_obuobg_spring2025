{
 "cells": [
  {
   "cell_type": "markdown",
   "id": "respective-store",
   "metadata": {},
   "source": [
    "# In Class Notebook, Map Week\n"
   ]
  },
  {
   "cell_type": "markdown",
   "id": "2a597611",
   "metadata": {},
   "source": [
    "You can always find here: https://github.com/UIUC-iSchool-DataViz/is445_obuobg_spring2025/blob/master/week07/inClass_week07.ipynb  \n",
    "\n",
    "Or into the nbviewer interface for a plain-text rendering:\n",
    "\n",
    "https://kokes.github.io/nbviewer.js/viewer.html"
   ]
  },
  {
   "cell_type": "code",
   "execution_count": 1,
   "id": "e40d52e0",
   "metadata": {},
   "outputs": [],
   "source": [
    "import bqplot"
   ]
  },
  {
   "cell_type": "code",
   "execution_count": 2,
   "id": "3df60a69",
   "metadata": {},
   "outputs": [],
   "source": [
    "# 1. data\n",
    "shape_data = bqplot.topo_load('map_data/WorldMap.json')"
   ]
  },
  {
   "cell_type": "code",
   "execution_count": 3,
   "id": "89d8e004-0531-43ac-9916-43242f1b4338",
   "metadata": {},
   "outputs": [],
   "source": [
    "# 2. scales/axis\n",
    "sc_geo = bqplot.Mercator() # we know this is not a good projection!"
   ]
  },
  {
   "cell_type": "code",
   "execution_count": 8,
   "id": "505bb329-0b31-4ffd-b452-87be43abb4fb",
   "metadata": {},
   "outputs": [],
   "source": [
    "# 3. Marks\n",
    "#bqplot.Map?\n",
    "shape_map = bqplot.Map(map_data = shape_data, scales={'projection':sc_geo})"
   ]
  },
  {
   "cell_type": "code",
   "execution_count": 11,
   "id": "7a0fb43d-44fb-45c7-b9c6-0c3e3e1294e2",
   "metadata": {},
   "outputs": [
    {
     "data": {
      "application/vnd.jupyter.widget-view+json": {
       "model_id": "580d2bf191ee48fda7b66357262718a4",
       "version_major": 2,
       "version_minor": 0
      },
      "text/plain": [
       "Figure(fig_margin={'top': 0, 'bottom': 0, 'left': 0, 'right': 0}, marks=[Map(hovered_styles={'hovered_fill': '…"
      ]
     },
     "metadata": {},
     "output_type": "display_data"
    }
   ],
   "source": [
    "# no interactivity\n",
    "\n",
    "fig = bqplot.Figure(marks=[shape_map], \n",
    "                   fig_margin={'top':0, 'bottom':0, 'left':0, 'right':0})\n",
    "fig"
   ]
  },
  {
   "cell_type": "code",
   "execution_count": 12,
   "id": "8e9b8542-f6c2-4360-b86f-553fea1af2c1",
   "metadata": {},
   "outputs": [
    {
     "data": {
      "application/vnd.jupyter.widget-view+json": {
       "model_id": "a9db08718585498c8e7dfbcd43287d43",
       "version_major": 2,
       "version_minor": 0
      },
      "text/plain": [
       "Figure(fig_margin={'top': 0, 'bottom': 0, 'left': 0, 'right': 0}, marks=[Map(hovered_styles={'hovered_fill': '…"
      ]
     },
     "metadata": {},
     "output_type": "display_data"
    }
   ],
   "source": [
    "# 1. data\n",
    "shape_data = bqplot.topo_load('map_data/USStatesMap.json')\n",
    "\n",
    "# 2. scales/axis\n",
    "sc_geo = bqplot.AlbersUSA() # USA-specific projection\n",
    "\n",
    "# 3. marks\n",
    "shape_map = bqplot.Map(map_data=shape_data, scales={'projection':sc_geo})\n",
    "\n",
    "fig = bqplot.Figure(marks=[shape_map], \n",
    "                   fig_margin={'top':0, 'bottom':0, 'left':0, 'right':0})\n",
    "fig"
   ]
  },
  {
   "cell_type": "code",
   "execution_count": 13,
   "id": "36949d68-f4de-4f25-afb7-dcf9ce49be47",
   "metadata": {},
   "outputs": [
    {
     "data": {
      "application/vnd.jupyter.widget-view+json": {
       "model_id": "9c49a5e3aee6494d913bdb3a044fd448",
       "version_major": 2,
       "version_minor": 0
      },
      "text/plain": [
       "Figure(fig_margin={'top': 0, 'bottom': 0, 'left': 0, 'right': 0}, marks=[Map(hovered_styles={'hovered_fill': '…"
      ]
     },
     "metadata": {},
     "output_type": "display_data"
    }
   ],
   "source": [
    "# 1. data\n",
    "shape_data = bqplot.topo_load('map_data/WorldMap.json')\n",
    "\n",
    "# 2. scales/axis\n",
    "sc_geo = bqplot.Gnomonic() # sort of a nightmare projection!\n",
    "\n",
    "# 3. marks\n",
    "shape_map = bqplot.Map(map_data=shape_data, scales={'projection':sc_geo})\n",
    "\n",
    "fig = bqplot.Figure(marks=[shape_map], \n",
    "                   fig_margin={'top':0, 'bottom':0, 'left':0, 'right':0})\n",
    "fig"
   ]
  },
  {
   "cell_type": "code",
   "execution_count": 14,
   "id": "a5e01e02-e698-498f-8177-9095eb95c51c",
   "metadata": {},
   "outputs": [
    {
     "name": "stdout",
     "output_type": "stream",
     "text": [
      "EuropeMap.json     USCountiesMap.json USStatesMap.json   WorldMap.json\n"
     ]
    }
   ],
   "source": [
    "!ls /opt/anaconda3/pkgs/bqplot-0.12.30-pyhd8ed1ab_0/site-packages/bqplot/map_data"
   ]
  },
  {
   "cell_type": "markdown",
   "id": "770c26b9-5494-4f1f-a1fc-3d6940d53535",
   "metadata": {},
   "source": [
    "## Geopandas"
   ]
  },
  {
   "cell_type": "code",
   "execution_count": 15,
   "id": "8ca666df-83d4-4036-bee1-2ec7206be934",
   "metadata": {},
   "outputs": [],
   "source": [
    "import geopandas"
   ]
  },
  {
   "cell_type": "code",
   "execution_count": 16,
   "id": "7a866df5-cd71-49f9-8a25-6d632ff8910c",
   "metadata": {},
   "outputs": [],
   "source": [
    "import geodatasets"
   ]
  },
  {
   "cell_type": "code",
   "execution_count": 18,
   "id": "5a85b25f-6961-470f-9dd7-8a268b97b6cf",
   "metadata": {},
   "outputs": [],
   "source": [
    "#geodatasets.data"
   ]
  },
  {
   "cell_type": "code",
   "execution_count": 19,
   "id": "e5a58947-21f4-4195-84ae-43283159f206",
   "metadata": {},
   "outputs": [
    {
     "data": {
      "text/plain": [
       "'/Users/jnaiman/Library/Caches/geodatasets/nybb_16a.zip.unzip/nybb_16a/nybb.shp'"
      ]
     },
     "execution_count": 19,
     "metadata": {},
     "output_type": "execute_result"
    }
   ],
   "source": [
    "geodatasets.get_path('ny bb')"
   ]
  },
  {
   "cell_type": "code",
   "execution_count": 20,
   "id": "cb81498d-79c6-4d27-a5c4-f74dc36fb8c1",
   "metadata": {},
   "outputs": [],
   "source": [
    "gdf = geopandas.read_file(geodatasets.get_path('ny bb'))"
   ]
  },
  {
   "cell_type": "code",
   "execution_count": 21,
   "id": "38d2e358-54b5-4fe2-a820-57bdb8b66d65",
   "metadata": {},
   "outputs": [
    {
     "data": {
      "text/html": [
       "<div>\n",
       "<style scoped>\n",
       "    .dataframe tbody tr th:only-of-type {\n",
       "        vertical-align: middle;\n",
       "    }\n",
       "\n",
       "    .dataframe tbody tr th {\n",
       "        vertical-align: top;\n",
       "    }\n",
       "\n",
       "    .dataframe thead th {\n",
       "        text-align: right;\n",
       "    }\n",
       "</style>\n",
       "<table border=\"1\" class=\"dataframe\">\n",
       "  <thead>\n",
       "    <tr style=\"text-align: right;\">\n",
       "      <th></th>\n",
       "      <th>BoroCode</th>\n",
       "      <th>BoroName</th>\n",
       "      <th>Shape_Leng</th>\n",
       "      <th>Shape_Area</th>\n",
       "      <th>geometry</th>\n",
       "    </tr>\n",
       "  </thead>\n",
       "  <tbody>\n",
       "    <tr>\n",
       "      <th>0</th>\n",
       "      <td>5</td>\n",
       "      <td>Staten Island</td>\n",
       "      <td>330470.010332</td>\n",
       "      <td>1.623820e+09</td>\n",
       "      <td>MULTIPOLYGON (((970217.022 145643.332, 970227....</td>\n",
       "    </tr>\n",
       "    <tr>\n",
       "      <th>1</th>\n",
       "      <td>4</td>\n",
       "      <td>Queens</td>\n",
       "      <td>896344.047763</td>\n",
       "      <td>3.045213e+09</td>\n",
       "      <td>MULTIPOLYGON (((1029606.077 156073.814, 102957...</td>\n",
       "    </tr>\n",
       "    <tr>\n",
       "      <th>2</th>\n",
       "      <td>3</td>\n",
       "      <td>Brooklyn</td>\n",
       "      <td>741080.523166</td>\n",
       "      <td>1.937479e+09</td>\n",
       "      <td>MULTIPOLYGON (((1021176.479 151374.797, 102100...</td>\n",
       "    </tr>\n",
       "    <tr>\n",
       "      <th>3</th>\n",
       "      <td>1</td>\n",
       "      <td>Manhattan</td>\n",
       "      <td>359299.096471</td>\n",
       "      <td>6.364715e+08</td>\n",
       "      <td>MULTIPOLYGON (((981219.056 188655.316, 980940....</td>\n",
       "    </tr>\n",
       "    <tr>\n",
       "      <th>4</th>\n",
       "      <td>2</td>\n",
       "      <td>Bronx</td>\n",
       "      <td>464392.991824</td>\n",
       "      <td>1.186925e+09</td>\n",
       "      <td>MULTIPOLYGON (((1012821.806 229228.265, 101278...</td>\n",
       "    </tr>\n",
       "  </tbody>\n",
       "</table>\n",
       "</div>"
      ],
      "text/plain": [
       "   BoroCode       BoroName     Shape_Leng    Shape_Area  \\\n",
       "0         5  Staten Island  330470.010332  1.623820e+09   \n",
       "1         4         Queens  896344.047763  3.045213e+09   \n",
       "2         3       Brooklyn  741080.523166  1.937479e+09   \n",
       "3         1      Manhattan  359299.096471  6.364715e+08   \n",
       "4         2          Bronx  464392.991824  1.186925e+09   \n",
       "\n",
       "                                            geometry  \n",
       "0  MULTIPOLYGON (((970217.022 145643.332, 970227....  \n",
       "1  MULTIPOLYGON (((1029606.077 156073.814, 102957...  \n",
       "2  MULTIPOLYGON (((1021176.479 151374.797, 102100...  \n",
       "3  MULTIPOLYGON (((981219.056 188655.316, 980940....  \n",
       "4  MULTIPOLYGON (((1012821.806 229228.265, 101278...  "
      ]
     },
     "execution_count": 21,
     "metadata": {},
     "output_type": "execute_result"
    }
   ],
   "source": [
    "gdf"
   ]
  },
  {
   "cell_type": "code",
   "execution_count": 22,
   "id": "429fb594-4f49-48e8-831c-7d91113a229a",
   "metadata": {},
   "outputs": [
    {
     "data": {
      "text/plain": [
       "<AxesSubplot:>"
      ]
     },
     "execution_count": 22,
     "metadata": {},
     "output_type": "execute_result"
    },
    {
     "data": {
      "image/png": "[encoded data removed]",
      "text/plain": [
       "<Figure size 640x480 with 1 Axes>"
      ]
     },
     "metadata": {},
     "output_type": "display_data"
    }
   ],
   "source": [
    "gdf.plot()"
   ]
  },
  {
   "cell_type": "code",
   "execution_count": 23,
   "id": "8be89776-4c05-4942-b515-8dd0b77d0b2a",
   "metadata": {},
   "outputs": [
    {
     "data": {
      "text/plain": [
       "<Projected CRS: EPSG:2263>\n",
       "Name: NAD83 / New York Long Island (ftUS)\n",
       "Axis Info [cartesian]:\n",
       "- X[east]: Easting (US survey foot)\n",
       "- Y[north]: Northing (US survey foot)\n",
       "Area of Use:\n",
       "- name: United States (USA) - New York - counties of Bronx; Kings; Nassau; New York; Queens; Richmond; Suffolk.\n",
       "- bounds: (-74.26, 40.47, -71.8, 41.3)\n",
       "Coordinate Operation:\n",
       "- name: SPCS83 New York Long Island zone (US survey foot)\n",
       "- method: Lambert Conic Conformal (2SP)\n",
       "Datum: North American Datum 1983\n",
       "- Ellipsoid: GRS 1980\n",
       "- Prime Meridian: Greenwich"
      ]
     },
     "execution_count": 23,
     "metadata": {},
     "output_type": "execute_result"
    }
   ],
   "source": [
    "gdf.crs # coordinate reference system"
   ]
  },
  {
   "cell_type": "code",
   "execution_count": 24,
   "id": "5895f534-9bbd-42f8-af00-7e0ad5ffcce7",
   "metadata": {},
   "outputs": [
    {
     "data": {
      "text/plain": [
       "<Geographic 2D CRS: EPSG:4326>\n",
       "Name: WGS 84\n",
       "Axis Info [ellipsoidal]:\n",
       "- Lat[north]: Geodetic latitude (degree)\n",
       "- Lon[east]: Geodetic longitude (degree)\n",
       "Area of Use:\n",
       "- name: World.\n",
       "- bounds: (-180.0, -90.0, 180.0, 90.0)\n",
       "Datum: World Geodetic System 1984 ensemble\n",
       "- Ellipsoid: WGS 84\n",
       "- Prime Meridian: Greenwich"
      ]
     },
     "execution_count": 24,
     "metadata": {},
     "output_type": "execute_result"
    }
   ],
   "source": [
    "gdf.to_crs('epsg:4326').crs"
   ]
  },
  {
   "cell_type": "code",
   "execution_count": 25,
   "id": "98152e87-a35e-4c97-8fed-65eaafa1c460",
   "metadata": {},
   "outputs": [
    {
     "data": {
      "text/plain": [
       "<AxesSubplot:>"
      ]
     },
     "execution_count": 25,
     "metadata": {},
     "output_type": "execute_result"
    },
    {
     "data": {
      "image/png": "[encoded data removed]",
      "text/plain": [
       "<Figure size 640x480 with 1 Axes>"
      ]
     },
     "metadata": {},
     "output_type": "display_data"
    }
   ],
   "source": [
    "gdf.to_crs('epsg:4326').plot()"
   ]
  },
  {
   "cell_type": "code",
   "execution_count": 26,
   "id": "3eb1e614-e853-4ff8-9e95-eb56eac09d07",
   "metadata": {},
   "outputs": [],
   "source": [
    "gdf_councils = geopandas.read_file('https://gisportal.champaignil.gov/ms/rest/services/Open_Data/Open_Data/MapServer/1/query?outFields=*&where=1%3D1&f=geojson')"
   ]
  },
  {
   "cell_type": "code",
   "execution_count": 27,
   "id": "914519fd-04f0-4aee-a977-ee16e2d436f4",
   "metadata": {},
   "outputs": [
    {
     "data": {
      "text/html": [
       "<div>\n",
       "<style scoped>\n",
       "    .dataframe tbody tr th:only-of-type {\n",
       "        vertical-align: middle;\n",
       "    }\n",
       "\n",
       "    .dataframe tbody tr th {\n",
       "        vertical-align: top;\n",
       "    }\n",
       "\n",
       "    .dataframe thead th {\n",
       "        text-align: right;\n",
       "    }\n",
       "</style>\n",
       "<table border=\"1\" class=\"dataframe\">\n",
       "  <thead>\n",
       "    <tr style=\"text-align: right;\">\n",
       "      <th></th>\n",
       "      <th>OBJECTID_1</th>\n",
       "      <th>District</th>\n",
       "      <th>Council_me</th>\n",
       "      <th>Shape.STArea()</th>\n",
       "      <th>Shape.STLength()</th>\n",
       "      <th>geometry</th>\n",
       "    </tr>\n",
       "  </thead>\n",
       "  <tbody>\n",
       "    <tr>\n",
       "      <th>0</th>\n",
       "      <td>1219</td>\n",
       "      <td>1</td>\n",
       "      <td>Davion Williams</td>\n",
       "      <td>1.991748e+08</td>\n",
       "      <td>133825.673297</td>\n",
       "      <td>POLYGON ((-88.27716 40.16364, -88.27732 40.163...</td>\n",
       "    </tr>\n",
       "    <tr>\n",
       "      <th>1</th>\n",
       "      <td>1220</td>\n",
       "      <td>3</td>\n",
       "      <td>Jamar Brown</td>\n",
       "      <td>1.382327e+08</td>\n",
       "      <td>73289.747391</td>\n",
       "      <td>POLYGON ((-88.28312 40.13667, -88.28372 40.136...</td>\n",
       "    </tr>\n",
       "    <tr>\n",
       "      <th>2</th>\n",
       "      <td>1221</td>\n",
       "      <td>2</td>\n",
       "      <td>Alicia Beck</td>\n",
       "      <td>7.472444e+07</td>\n",
       "      <td>50905.604100</td>\n",
       "      <td>POLYGON ((-88.2468 40.11261, -88.24763 40.1126...</td>\n",
       "    </tr>\n",
       "    <tr>\n",
       "      <th>3</th>\n",
       "      <td>1222</td>\n",
       "      <td>5</td>\n",
       "      <td>Vanna Pianfetti</td>\n",
       "      <td>1.776407e+08</td>\n",
       "      <td>204013.082479</td>\n",
       "      <td>POLYGON ((-88.31441 40.11698, -88.31441 40.116...</td>\n",
       "    </tr>\n",
       "    <tr>\n",
       "      <th>4</th>\n",
       "      <td>1223</td>\n",
       "      <td>4</td>\n",
       "      <td>Michael Foellmer</td>\n",
       "      <td>6.308923e+07</td>\n",
       "      <td>58697.438268</td>\n",
       "      <td>POLYGON ((-88.22877 40.11638, -88.22884 40.116...</td>\n",
       "    </tr>\n",
       "  </tbody>\n",
       "</table>\n",
       "</div>"
      ],
      "text/plain": [
       "   OBJECTID_1 District        Council_me  Shape.STArea()  Shape.STLength()  \\\n",
       "0        1219        1   Davion Williams    1.991748e+08     133825.673297   \n",
       "1        1220        3       Jamar Brown    1.382327e+08      73289.747391   \n",
       "2        1221        2       Alicia Beck    7.472444e+07      50905.604100   \n",
       "3        1222        5   Vanna Pianfetti    1.776407e+08     204013.082479   \n",
       "4        1223        4  Michael Foellmer    6.308923e+07      58697.438268   \n",
       "\n",
       "                                            geometry  \n",
       "0  POLYGON ((-88.27716 40.16364, -88.27732 40.163...  \n",
       "1  POLYGON ((-88.28312 40.13667, -88.28372 40.136...  \n",
       "2  POLYGON ((-88.2468 40.11261, -88.24763 40.1126...  \n",
       "3  POLYGON ((-88.31441 40.11698, -88.31441 40.116...  \n",
       "4  POLYGON ((-88.22877 40.11638, -88.22884 40.116...  "
      ]
     },
     "execution_count": 27,
     "metadata": {},
     "output_type": "execute_result"
    }
   ],
   "source": [
    "gdf_councils"
   ]
  },
  {
   "cell_type": "code",
   "execution_count": 28,
   "id": "2c771238-36c2-409e-8a16-3c52d372867d",
   "metadata": {},
   "outputs": [
    {
     "data": {
      "text/plain": [
       "<AxesSubplot:>"
      ]
     },
     "execution_count": 28,
     "metadata": {},
     "output_type": "execute_result"
    },
    {
     "data": {
      "image/png": "[encoded data removed]",
      "text/plain": [
       "<Figure size 640x480 with 1 Axes>"
      ]
     },
     "metadata": {},
     "output_type": "display_data"
    }
   ],
   "source": [
    "gdf_councils.plot()"
   ]
  },
  {
   "cell_type": "code",
   "execution_count": 29,
   "id": "de4fdc32-e72e-4328-b00c-9212ea005fde",
   "metadata": {},
   "outputs": [
    {
     "data": {
      "text/plain": [
       "<Geographic 2D CRS: EPSG:4326>\n",
       "Name: WGS 84\n",
       "Axis Info [ellipsoidal]:\n",
       "- Lat[north]: Geodetic latitude (degree)\n",
       "- Lon[east]: Geodetic longitude (degree)\n",
       "Area of Use:\n",
       "- name: World.\n",
       "- bounds: (-180.0, -90.0, 180.0, 90.0)\n",
       "Datum: World Geodetic System 1984 ensemble\n",
       "- Ellipsoid: WGS 84\n",
       "- Prime Meridian: Greenwich"
      ]
     },
     "execution_count": 29,
     "metadata": {},
     "output_type": "execute_result"
    }
   ],
   "source": [
    "gdf_councils.crs"
   ]
  },
  {
   "cell_type": "code",
   "execution_count": 32,
   "id": "f79c269a-596e-47a7-a6a0-602b4263859c",
   "metadata": {},
   "outputs": [],
   "source": [
    "gdf_apts = geopandas.read_file('https://gisportal.champaignil.gov/ms/rest/services/Open_Data/Open_Data/MapServer/8/query?outFields=*&where=1%3D1&f=geojson')"
   ]
  },
  {
   "cell_type": "code",
   "execution_count": 33,
   "id": "9fc3e7d0-25f8-4cbe-80e0-4a23008c885f",
   "metadata": {},
   "outputs": [
    {
     "data": {
      "text/html": [
       "<div>\n",
       "<style scoped>\n",
       "    .dataframe tbody tr th:only-of-type {\n",
       "        vertical-align: middle;\n",
       "    }\n",
       "\n",
       "    .dataframe tbody tr th {\n",
       "        vertical-align: top;\n",
       "    }\n",
       "\n",
       "    .dataframe thead th {\n",
       "        text-align: right;\n",
       "    }\n",
       "</style>\n",
       "<table border=\"1\" class=\"dataframe\">\n",
       "  <thead>\n",
       "    <tr style=\"text-align: right;\">\n",
       "      <th></th>\n",
       "      <th>OBJECTID</th>\n",
       "      <th>Address</th>\n",
       "      <th>Parcel</th>\n",
       "      <th>Units</th>\n",
       "      <th>Stories</th>\n",
       "      <th>UniqueID</th>\n",
       "      <th>Building_Name</th>\n",
       "      <th>Complex_Name</th>\n",
       "      <th>Case_Number</th>\n",
       "      <th>Building_Type</th>\n",
       "      <th>...</th>\n",
       "      <th>Last_Date</th>\n",
       "      <th>Comments</th>\n",
       "      <th>Safety_Comments</th>\n",
       "      <th>Fire_Alarms</th>\n",
       "      <th>Sprinkler</th>\n",
       "      <th>Managing_Company</th>\n",
       "      <th>MFRecyclingStatus</th>\n",
       "      <th>Shape.STArea()</th>\n",
       "      <th>Shape.STLength()</th>\n",
       "      <th>geometry</th>\n",
       "    </tr>\n",
       "  </thead>\n",
       "  <tbody>\n",
       "    <tr>\n",
       "      <th>0</th>\n",
       "      <td>1</td>\n",
       "      <td>2009 Moreland Blvd</td>\n",
       "      <td>412001126038</td>\n",
       "      <td>36</td>\n",
       "      <td>3</td>\n",
       "      <td>0.0</td>\n",
       "      <td>2009 Moreland Blvd</td>\n",
       "      <td>University Village at Champaign</td>\n",
       "      <td>AI07-0147</td>\n",
       "      <td>Complex</td>\n",
       "      <td>...</td>\n",
       "      <td>1.193634e+12</td>\n",
       "      <td></td>\n",
       "      <td></td>\n",
       "      <td>Yes</td>\n",
       "      <td>Yes</td>\n",
       "      <td>None</td>\n",
       "      <td>Yes</td>\n",
       "      <td>19657.996933</td>\n",
       "      <td>929.167804</td>\n",
       "      <td>POLYGON ((-88.25315 40.14017, -88.25315 40.140...</td>\n",
       "    </tr>\n",
       "    <tr>\n",
       "      <th>1</th>\n",
       "      <td>2</td>\n",
       "      <td>2011 Moreland Blvd</td>\n",
       "      <td>412001126038</td>\n",
       "      <td>36</td>\n",
       "      <td>3</td>\n",
       "      <td>1.0</td>\n",
       "      <td>2011 Moreland Blvd</td>\n",
       "      <td>University Village at Champaign</td>\n",
       "      <td>AI07-0147</td>\n",
       "      <td>Complex</td>\n",
       "      <td>...</td>\n",
       "      <td>1.193634e+12</td>\n",
       "      <td></td>\n",
       "      <td></td>\n",
       "      <td>Yes</td>\n",
       "      <td>Yes</td>\n",
       "      <td>None</td>\n",
       "      <td>Yes</td>\n",
       "      <td>19735.512411</td>\n",
       "      <td>950.194217</td>\n",
       "      <td>POLYGON ((-88.2526 40.14057, -88.25256 40.1405...</td>\n",
       "    </tr>\n",
       "    <tr>\n",
       "      <th>2</th>\n",
       "      <td>3</td>\n",
       "      <td>2007 Moreland Blvd</td>\n",
       "      <td>412001126038</td>\n",
       "      <td>24</td>\n",
       "      <td>3</td>\n",
       "      <td>2.0</td>\n",
       "      <td>2007 Moreland Blvd</td>\n",
       "      <td>University Village at Champaign</td>\n",
       "      <td>AI07-0147</td>\n",
       "      <td>Complex</td>\n",
       "      <td>...</td>\n",
       "      <td>1.193634e+12</td>\n",
       "      <td></td>\n",
       "      <td></td>\n",
       "      <td>Yes</td>\n",
       "      <td>Yes</td>\n",
       "      <td>None</td>\n",
       "      <td>Yes</td>\n",
       "      <td>13970.179208</td>\n",
       "      <td>678.398035</td>\n",
       "      <td>POLYGON ((-88.25274 40.14045, -88.25274 40.140...</td>\n",
       "    </tr>\n",
       "    <tr>\n",
       "      <th>3</th>\n",
       "      <td>4</td>\n",
       "      <td>2003 Moreland Blvd</td>\n",
       "      <td>412001126038</td>\n",
       "      <td>36</td>\n",
       "      <td>3</td>\n",
       "      <td>3.0</td>\n",
       "      <td>2003 Moreland Blvd</td>\n",
       "      <td>University Village at Champaign</td>\n",
       "      <td>AI07-0147</td>\n",
       "      <td>Complex</td>\n",
       "      <td>...</td>\n",
       "      <td>1.193634e+12</td>\n",
       "      <td></td>\n",
       "      <td></td>\n",
       "      <td>Yes</td>\n",
       "      <td>Yes</td>\n",
       "      <td>None</td>\n",
       "      <td>Yes</td>\n",
       "      <td>19739.423285</td>\n",
       "      <td>941.358477</td>\n",
       "      <td>POLYGON ((-88.25154 40.13978, -88.25156 40.139...</td>\n",
       "    </tr>\n",
       "    <tr>\n",
       "      <th>4</th>\n",
       "      <td>5</td>\n",
       "      <td>2005 Moreland Blvd</td>\n",
       "      <td>412001126038</td>\n",
       "      <td>24</td>\n",
       "      <td>3</td>\n",
       "      <td>4.0</td>\n",
       "      <td>2005 Moreland Blvd</td>\n",
       "      <td>University Village at Champaign</td>\n",
       "      <td>AI07-0147</td>\n",
       "      <td>Complex</td>\n",
       "      <td>...</td>\n",
       "      <td>1.193634e+12</td>\n",
       "      <td></td>\n",
       "      <td></td>\n",
       "      <td>Yes</td>\n",
       "      <td>Yes</td>\n",
       "      <td>None</td>\n",
       "      <td>Yes</td>\n",
       "      <td>13065.121447</td>\n",
       "      <td>636.744457</td>\n",
       "      <td>POLYGON ((-88.25351 40.13934, -88.25348 40.139...</td>\n",
       "    </tr>\n",
       "    <tr>\n",
       "      <th>...</th>\n",
       "      <td>...</td>\n",
       "      <td>...</td>\n",
       "      <td>...</td>\n",
       "      <td>...</td>\n",
       "      <td>...</td>\n",
       "      <td>...</td>\n",
       "      <td>...</td>\n",
       "      <td>...</td>\n",
       "      <td>...</td>\n",
       "      <td>...</td>\n",
       "      <td>...</td>\n",
       "      <td>...</td>\n",
       "      <td>...</td>\n",
       "      <td>...</td>\n",
       "      <td>...</td>\n",
       "      <td>...</td>\n",
       "      <td>...</td>\n",
       "      <td>...</td>\n",
       "      <td>...</td>\n",
       "      <td>...</td>\n",
       "      <td>...</td>\n",
       "    </tr>\n",
       "    <tr>\n",
       "      <th>1995</th>\n",
       "      <td>2050</td>\n",
       "      <td>709 S Mattis Ave</td>\n",
       "      <td>442015279022</td>\n",
       "      <td>12</td>\n",
       "      <td>2</td>\n",
       "      <td>236.0</td>\n",
       "      <td>709 S Mattis Ave</td>\n",
       "      <td>Westbury Park</td>\n",
       "      <td>AI07-0038</td>\n",
       "      <td>Complex</td>\n",
       "      <td>...</td>\n",
       "      <td>1.179724e+12</td>\n",
       "      <td></td>\n",
       "      <td></td>\n",
       "      <td>None</td>\n",
       "      <td>None</td>\n",
       "      <td>None</td>\n",
       "      <td>Yes</td>\n",
       "      <td>749.225168</td>\n",
       "      <td>112.470132</td>\n",
       "      <td>POLYGON ((-88.2775 40.10871, -88.27758 40.1087...</td>\n",
       "    </tr>\n",
       "    <tr>\n",
       "      <th>1996</th>\n",
       "      <td>2051</td>\n",
       "      <td>707 S Mattis Ave</td>\n",
       "      <td>442015279022</td>\n",
       "      <td>12</td>\n",
       "      <td>2</td>\n",
       "      <td>236.0</td>\n",
       "      <td>707 S Mattis Ave</td>\n",
       "      <td>Westbury Park</td>\n",
       "      <td>AI07-0038</td>\n",
       "      <td>Complex</td>\n",
       "      <td>...</td>\n",
       "      <td>1.179724e+12</td>\n",
       "      <td></td>\n",
       "      <td></td>\n",
       "      <td>None</td>\n",
       "      <td>None</td>\n",
       "      <td>None</td>\n",
       "      <td>Yes</td>\n",
       "      <td>659.361164</td>\n",
       "      <td>107.268239</td>\n",
       "      <td>POLYGON ((-88.27743 40.10871, -88.2775 40.1087...</td>\n",
       "    </tr>\n",
       "    <tr>\n",
       "      <th>1997</th>\n",
       "      <td>2052</td>\n",
       "      <td>705 S Mattis Ave</td>\n",
       "      <td>442015279022</td>\n",
       "      <td>12</td>\n",
       "      <td>2</td>\n",
       "      <td>236.0</td>\n",
       "      <td>705 S Mattis Ave</td>\n",
       "      <td>Westbury Park</td>\n",
       "      <td>AI07-0038</td>\n",
       "      <td>Complex</td>\n",
       "      <td>...</td>\n",
       "      <td>1.179724e+12</td>\n",
       "      <td></td>\n",
       "      <td></td>\n",
       "      <td>None</td>\n",
       "      <td>None</td>\n",
       "      <td>None</td>\n",
       "      <td>Yes</td>\n",
       "      <td>659.995999</td>\n",
       "      <td>107.304988</td>\n",
       "      <td>POLYGON ((-88.27736 40.10871, -88.27743 40.108...</td>\n",
       "    </tr>\n",
       "    <tr>\n",
       "      <th>1998</th>\n",
       "      <td>2053</td>\n",
       "      <td>701 S Mattis Ave</td>\n",
       "      <td>442015279022</td>\n",
       "      <td>12</td>\n",
       "      <td>2</td>\n",
       "      <td>236.0</td>\n",
       "      <td>701 S Mattis Ave</td>\n",
       "      <td>Westbury Park</td>\n",
       "      <td>AI07-0038</td>\n",
       "      <td>Complex</td>\n",
       "      <td>...</td>\n",
       "      <td>1.179724e+12</td>\n",
       "      <td></td>\n",
       "      <td></td>\n",
       "      <td>None</td>\n",
       "      <td>None</td>\n",
       "      <td>None</td>\n",
       "      <td>Yes</td>\n",
       "      <td>721.422830</td>\n",
       "      <td>110.860842</td>\n",
       "      <td>POLYGON ((-88.27727 40.10862, -88.27719 40.108...</td>\n",
       "    </tr>\n",
       "    <tr>\n",
       "      <th>1999</th>\n",
       "      <td>2054</td>\n",
       "      <td>1827 W John St</td>\n",
       "      <td>442015279022</td>\n",
       "      <td>2</td>\n",
       "      <td>2</td>\n",
       "      <td>241.0</td>\n",
       "      <td>1827 W John St</td>\n",
       "      <td>Westbury Park</td>\n",
       "      <td>AI07-0038</td>\n",
       "      <td>Complex</td>\n",
       "      <td>...</td>\n",
       "      <td>1.179724e+12</td>\n",
       "      <td></td>\n",
       "      <td></td>\n",
       "      <td>None</td>\n",
       "      <td>None</td>\n",
       "      <td>None</td>\n",
       "      <td>Yes</td>\n",
       "      <td>758.427750</td>\n",
       "      <td>113.018852</td>\n",
       "      <td>POLYGON ((-88.27786 40.10907, -88.27794 40.109...</td>\n",
       "    </tr>\n",
       "  </tbody>\n",
       "</table>\n",
       "<p>2000 rows × 21 columns</p>\n",
       "</div>"
      ],
      "text/plain": [
       "      OBJECTID             Address        Parcel Units Stories  UniqueID  \\\n",
       "0            1  2009 Moreland Blvd  412001126038    36       3       0.0   \n",
       "1            2  2011 Moreland Blvd  412001126038    36      3        1.0   \n",
       "2            3  2007 Moreland Blvd  412001126038    24       3       2.0   \n",
       "3            4  2003 Moreland Blvd  412001126038    36       3       3.0   \n",
       "4            5  2005 Moreland Blvd  412001126038    24       3       4.0   \n",
       "...        ...                 ...           ...   ...     ...       ...   \n",
       "1995      2050    709 S Mattis Ave  442015279022    12       2     236.0   \n",
       "1996      2051    707 S Mattis Ave  442015279022    12       2     236.0   \n",
       "1997      2052    705 S Mattis Ave  442015279022    12       2     236.0   \n",
       "1998      2053    701 S Mattis Ave  442015279022    12       2     236.0   \n",
       "1999      2054      1827 W John St  442015279022     2       2     241.0   \n",
       "\n",
       "           Building_Name                     Complex_Name Case_Number  \\\n",
       "0     2009 Moreland Blvd  University Village at Champaign   AI07-0147   \n",
       "1     2011 Moreland Blvd  University Village at Champaign   AI07-0147   \n",
       "2     2007 Moreland Blvd  University Village at Champaign   AI07-0147   \n",
       "3     2003 Moreland Blvd  University Village at Champaign   AI07-0147   \n",
       "4     2005 Moreland Blvd  University Village at Champaign   AI07-0147   \n",
       "...                  ...                              ...         ...   \n",
       "1995    709 S Mattis Ave                    Westbury Park   AI07-0038   \n",
       "1996    707 S Mattis Ave                    Westbury Park   AI07-0038   \n",
       "1997    705 S Mattis Ave                    Westbury Park   AI07-0038   \n",
       "1998    701 S Mattis Ave                    Westbury Park   AI07-0038   \n",
       "1999      1827 W John St                    Westbury Park   AI07-0038   \n",
       "\n",
       "     Building_Type  ...     Last_Date  Comments Safety_Comments Fire_Alarms  \\\n",
       "0          Complex  ...  1.193634e+12                                   Yes   \n",
       "1          Complex  ...  1.193634e+12                                   Yes   \n",
       "2          Complex  ...  1.193634e+12                                   Yes   \n",
       "3          Complex  ...  1.193634e+12                                   Yes   \n",
       "4          Complex  ...  1.193634e+12                                   Yes   \n",
       "...            ...  ...           ...       ...             ...         ...   \n",
       "1995       Complex  ...  1.179724e+12                                  None   \n",
       "1996       Complex  ...  1.179724e+12                                  None   \n",
       "1997       Complex  ...  1.179724e+12                                  None   \n",
       "1998       Complex  ...  1.179724e+12                                  None   \n",
       "1999       Complex  ...  1.179724e+12                                  None   \n",
       "\n",
       "     Sprinkler Managing_Company MFRecyclingStatus Shape.STArea()  \\\n",
       "0          Yes             None               Yes   19657.996933   \n",
       "1          Yes             None               Yes   19735.512411   \n",
       "2          Yes             None               Yes   13970.179208   \n",
       "3          Yes             None               Yes   19739.423285   \n",
       "4          Yes             None               Yes   13065.121447   \n",
       "...        ...              ...               ...            ...   \n",
       "1995      None             None               Yes     749.225168   \n",
       "1996      None             None               Yes     659.361164   \n",
       "1997      None             None               Yes     659.995999   \n",
       "1998      None             None               Yes     721.422830   \n",
       "1999      None             None               Yes     758.427750   \n",
       "\n",
       "      Shape.STLength()                                           geometry  \n",
       "0           929.167804  POLYGON ((-88.25315 40.14017, -88.25315 40.140...  \n",
       "1           950.194217  POLYGON ((-88.2526 40.14057, -88.25256 40.1405...  \n",
       "2           678.398035  POLYGON ((-88.25274 40.14045, -88.25274 40.140...  \n",
       "3           941.358477  POLYGON ((-88.25154 40.13978, -88.25156 40.139...  \n",
       "4           636.744457  POLYGON ((-88.25351 40.13934, -88.25348 40.139...  \n",
       "...                ...                                                ...  \n",
       "1995        112.470132  POLYGON ((-88.2775 40.10871, -88.27758 40.1087...  \n",
       "1996        107.268239  POLYGON ((-88.27743 40.10871, -88.2775 40.1087...  \n",
       "1997        107.304988  POLYGON ((-88.27736 40.10871, -88.27743 40.108...  \n",
       "1998        110.860842  POLYGON ((-88.27727 40.10862, -88.27719 40.108...  \n",
       "1999        113.018852  POLYGON ((-88.27786 40.10907, -88.27794 40.109...  \n",
       "\n",
       "[2000 rows x 21 columns]"
      ]
     },
     "execution_count": 33,
     "metadata": {},
     "output_type": "execute_result"
    }
   ],
   "source": [
    "gdf_apts"
   ]
  },
  {
   "cell_type": "code",
   "execution_count": 34,
   "id": "12bad5aa-8879-4ebf-8b95-f2e330e5431e",
   "metadata": {},
   "outputs": [
    {
     "data": {
      "text/plain": [
       "<AxesSubplot:>"
      ]
     },
     "execution_count": 34,
     "metadata": {},
     "output_type": "execute_result"
    },
    {
     "data": {
      "image/png": "[encoded data removed]",
      "text/plain": [
       "<Figure size 640x480 with 1 Axes>"
      ]
     },
     "metadata": {},
     "output_type": "display_data"
    }
   ],
   "source": [
    "gdf_apts.plot()"
   ]
  },
  {
   "cell_type": "code",
   "execution_count": 35,
   "id": "b0c21076-18f8-4e08-8f31-cd770fff0687",
   "metadata": {},
   "outputs": [
    {
     "data": {
      "text/plain": [
       "Index(['OBJECTID', 'Address', 'Parcel', 'Units', 'Stories', 'UniqueID',\n",
       "       'Building_Name', 'Complex_Name', 'Case_Number', 'Building_Type',\n",
       "       'Status', 'Last_Date', 'Comments', 'Safety_Comments', 'Fire_Alarms',\n",
       "       'Sprinkler', 'Managing_Company', 'MFRecyclingStatus', 'Shape.STArea()',\n",
       "       'Shape.STLength()', 'geometry'],\n",
       "      dtype='object')"
      ]
     },
     "execution_count": 35,
     "metadata": {},
     "output_type": "execute_result"
    }
   ],
   "source": [
    "gdf_apts.columns"
   ]
  },
  {
   "cell_type": "code",
   "execution_count": 36,
   "id": "fe9e91c7-a8d5-4789-a616-57dd779bf052",
   "metadata": {},
   "outputs": [
    {
     "data": {
      "text/html": [
       "<div>\n",
       "<style scoped>\n",
       "    .dataframe tbody tr th:only-of-type {\n",
       "        vertical-align: middle;\n",
       "    }\n",
       "\n",
       "    .dataframe tbody tr th {\n",
       "        vertical-align: top;\n",
       "    }\n",
       "\n",
       "    .dataframe thead th {\n",
       "        text-align: right;\n",
       "    }\n",
       "</style>\n",
       "<table border=\"1\" class=\"dataframe\">\n",
       "  <thead>\n",
       "    <tr style=\"text-align: right;\">\n",
       "      <th></th>\n",
       "      <th>OBJECTID</th>\n",
       "      <th>UniqueID</th>\n",
       "      <th>Last_Date</th>\n",
       "      <th>Shape.STArea()</th>\n",
       "      <th>Shape.STLength()</th>\n",
       "    </tr>\n",
       "  </thead>\n",
       "  <tbody>\n",
       "    <tr>\n",
       "      <th>count</th>\n",
       "      <td>2000.000000</td>\n",
       "      <td>1692.000000</td>\n",
       "      <td>9.450000e+02</td>\n",
       "      <td>2000.000000</td>\n",
       "      <td>2000.000000</td>\n",
       "    </tr>\n",
       "    <tr>\n",
       "      <th>mean</th>\n",
       "      <td>1028.701000</td>\n",
       "      <td>465.937943</td>\n",
       "      <td>1.206683e+12</td>\n",
       "      <td>3095.948551</td>\n",
       "      <td>239.697794</td>\n",
       "    </tr>\n",
       "    <tr>\n",
       "      <th>std</th>\n",
       "      <td>599.570882</td>\n",
       "      <td>337.141534</td>\n",
       "      <td>4.048941e+10</td>\n",
       "      <td>3574.642423</td>\n",
       "      <td>163.395247</td>\n",
       "    </tr>\n",
       "    <tr>\n",
       "      <th>min</th>\n",
       "      <td>1.000000</td>\n",
       "      <td>0.000000</td>\n",
       "      <td>1.142917e+12</td>\n",
       "      <td>237.543487</td>\n",
       "      <td>77.610507</td>\n",
       "    </tr>\n",
       "    <tr>\n",
       "      <th>25%</th>\n",
       "      <td>500.750000</td>\n",
       "      <td>197.000000</td>\n",
       "      <td>1.181106e+12</td>\n",
       "      <td>860.179295</td>\n",
       "      <td>134.657426</td>\n",
       "    </tr>\n",
       "    <tr>\n",
       "      <th>50%</th>\n",
       "      <td>1031.000000</td>\n",
       "      <td>400.000000</td>\n",
       "      <td>1.197266e+12</td>\n",
       "      <td>1969.233788</td>\n",
       "      <td>194.628600</td>\n",
       "    </tr>\n",
       "    <tr>\n",
       "      <th>75%</th>\n",
       "      <td>1552.250000</td>\n",
       "      <td>704.250000</td>\n",
       "      <td>1.228457e+12</td>\n",
       "      <td>4065.004867</td>\n",
       "      <td>286.078956</td>\n",
       "    </tr>\n",
       "    <tr>\n",
       "      <th>max</th>\n",
       "      <td>2054.000000</td>\n",
       "      <td>1221.000000</td>\n",
       "      <td>1.320210e+12</td>\n",
       "      <td>44328.436164</td>\n",
       "      <td>2021.407509</td>\n",
       "    </tr>\n",
       "  </tbody>\n",
       "</table>\n",
       "</div>"
      ],
      "text/plain": [
       "          OBJECTID     UniqueID     Last_Date  Shape.STArea()  \\\n",
       "count  2000.000000  1692.000000  9.450000e+02     2000.000000   \n",
       "mean   1028.701000   465.937943  1.206683e+12     3095.948551   \n",
       "std     599.570882   337.141534  4.048941e+10     3574.642423   \n",
       "min       1.000000     0.000000  1.142917e+12      237.543487   \n",
       "25%     500.750000   197.000000  1.181106e+12      860.179295   \n",
       "50%    1031.000000   400.000000  1.197266e+12     1969.233788   \n",
       "75%    1552.250000   704.250000  1.228457e+12     4065.004867   \n",
       "max    2054.000000  1221.000000  1.320210e+12    44328.436164   \n",
       "\n",
       "       Shape.STLength()  \n",
       "count       2000.000000  \n",
       "mean         239.697794  \n",
       "std          163.395247  \n",
       "min           77.610507  \n",
       "25%          134.657426  \n",
       "50%          194.628600  \n",
       "75%          286.078956  \n",
       "max         2021.407509  "
      ]
     },
     "execution_count": 36,
     "metadata": {},
     "output_type": "execute_result"
    }
   ],
   "source": [
    "gdf_apts.describe()"
   ]
  },
  {
   "cell_type": "code",
   "execution_count": 37,
   "id": "45eaab14-d605-4021-af5e-8c489aa6a443",
   "metadata": {},
   "outputs": [
    {
     "data": {
      "text/plain": [
       "array(['3', '3 ', '2', '1', '5', ' 1', ' 3', '6', ' 6', '4 ', '4', '20',\n",
       "       ' 4', '24', '7', ' ', '8'], dtype=object)"
      ]
     },
     "execution_count": 37,
     "metadata": {},
     "output_type": "execute_result"
    }
   ],
   "source": [
    "gdf_apts['Stories'].unique()"
   ]
  },
  {
   "cell_type": "code",
   "execution_count": 38,
   "id": "78fe699e-2624-4c91-bcbd-cde9b3a49a1a",
   "metadata": {},
   "outputs": [
    {
     "data": {
      "text/plain": [
       "<AxesSubplot:>"
      ]
     },
     "execution_count": 38,
     "metadata": {},
     "output_type": "execute_result"
    },
    {
     "data": {
      "image/png": "[encoded data removed]",
      "text/plain": [
       "<Figure size 640x480 with 1 Axes>"
      ]
     },
     "metadata": {},
     "output_type": "display_data"
    }
   ],
   "source": [
    "gdf_councils.boundary.plot()"
   ]
  },
  {
   "cell_type": "code",
   "execution_count": 39,
   "id": "6c68c302-2657-4f0e-93b4-f293b53e725e",
   "metadata": {},
   "outputs": [
    {
     "data": {
      "text/html": [
       "<div>\n",
       "<style scoped>\n",
       "    .dataframe tbody tr th:only-of-type {\n",
       "        vertical-align: middle;\n",
       "    }\n",
       "\n",
       "    .dataframe tbody tr th {\n",
       "        vertical-align: top;\n",
       "    }\n",
       "\n",
       "    .dataframe thead th {\n",
       "        text-align: right;\n",
       "    }\n",
       "</style>\n",
       "<table border=\"1\" class=\"dataframe\">\n",
       "  <thead>\n",
       "    <tr style=\"text-align: right;\">\n",
       "      <th></th>\n",
       "      <th>minx</th>\n",
       "      <th>miny</th>\n",
       "      <th>maxx</th>\n",
       "      <th>maxy</th>\n",
       "    </tr>\n",
       "  </thead>\n",
       "  <tbody>\n",
       "    <tr>\n",
       "      <th>0</th>\n",
       "      <td>-88.301247</td>\n",
       "      <td>40.113461</td>\n",
       "      <td>-88.221225</td>\n",
       "      <td>40.163956</td>\n",
       "    </tr>\n",
       "    <tr>\n",
       "      <th>1</th>\n",
       "      <td>-88.315071</td>\n",
       "      <td>40.090758</td>\n",
       "      <td>-88.267072</td>\n",
       "      <td>40.139863</td>\n",
       "    </tr>\n",
       "    <tr>\n",
       "      <th>2</th>\n",
       "      <td>-88.257818</td>\n",
       "      <td>40.083182</td>\n",
       "      <td>-88.228485</td>\n",
       "      <td>40.112653</td>\n",
       "    </tr>\n",
       "    <tr>\n",
       "      <th>3</th>\n",
       "      <td>-88.335351</td>\n",
       "      <td>40.061898</td>\n",
       "      <td>-88.257012</td>\n",
       "      <td>40.116995</td>\n",
       "    </tr>\n",
       "    <tr>\n",
       "      <th>4</th>\n",
       "      <td>-88.276904</td>\n",
       "      <td>40.098142</td>\n",
       "      <td>-88.228768</td>\n",
       "      <td>40.127264</td>\n",
       "    </tr>\n",
       "  </tbody>\n",
       "</table>\n",
       "</div>"
      ],
      "text/plain": [
       "        minx       miny       maxx       maxy\n",
       "0 -88.301247  40.113461 -88.221225  40.163956\n",
       "1 -88.315071  40.090758 -88.267072  40.139863\n",
       "2 -88.257818  40.083182 -88.228485  40.112653\n",
       "3 -88.335351  40.061898 -88.257012  40.116995\n",
       "4 -88.276904  40.098142 -88.228768  40.127264"
      ]
     },
     "execution_count": 39,
     "metadata": {},
     "output_type": "execute_result"
    }
   ],
   "source": [
    "gdf_councils.bounds"
   ]
  },
  {
   "cell_type": "code",
   "execution_count": 40,
   "id": "6b6559ca-85be-4013-8834-304b42b6ec65",
   "metadata": {},
   "outputs": [
    {
     "name": "stderr",
     "output_type": "stream",
     "text": [
      "/var/folders/1c/xcwp8_px05xg1_3xd9nn9qhm0000gn/T/ipykernel_70994/2492373049.py:1: UserWarning: Geometry is in a geographic CRS. Results from 'centroid' are likely incorrect. Use 'GeoSeries.to_crs()' to re-project geometries to a projected CRS before this operation.\n",
      "\n",
      "  gdf_councils.centroid\n"
     ]
    },
    {
     "data": {
      "text/plain": [
       "0    POINT (-88.25684 40.14254)\n",
       "1    POINT (-88.29004 40.11719)\n",
       "2    POINT (-88.24455 40.09783)\n",
       "3    POINT (-88.29863 40.08609)\n",
       "4    POINT (-88.25577 40.11441)\n",
       "dtype: geometry"
      ]
     },
     "execution_count": 40,
     "metadata": {},
     "output_type": "execute_result"
    }
   ],
   "source": [
    "gdf_councils.centroid"
   ]
  },
  {
   "cell_type": "code",
   "execution_count": null,
   "id": "7a0b0f1b-9d22-4910-9599-10bf17aa45ef",
   "metadata": {},
   "outputs": [],
   "source": []
  }
 ],
 "metadata": {
  "kernelspec": {
   "display_name": "Python 3 (ipykernel)",
   "language": "python",
   "name": "python3"
  },
  "language_info": {
   "codemirror_mode": {
    "name": "ipython",
    "version": 3
   },
   "file_extension": ".py",
   "mimetype": "text/x-python",
   "name": "python",
   "nbconvert_exporter": "python",
   "pygments_lexer": "ipython3",
   "version": "3.10.14"
  }
 },
 "nbformat": 4,
 "nbformat_minor": 5
}
