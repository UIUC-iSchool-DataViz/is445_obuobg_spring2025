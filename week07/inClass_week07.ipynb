{
 "cells": [
  {
   "cell_type": "markdown",
   "id": "respective-store",
   "metadata": {},
   "source": [
    "# In Class Notebook, Map Week\n"
   ]
  },
  {
   "cell_type": "markdown",
   "id": "2a597611",
   "metadata": {},
   "source": [
    "You can always find here: https://github.com/UIUC-iSchool-DataViz/is445_obuobg_spring2025/blob/master/week07/inClass_week07.ipynb  \n",
    "\n",
    "Or into the nbviewer interface for a plain-text rendering:\n",
    "\n",
    "https://kokes.github.io/nbviewer.js/viewer.html"
   ]
  },
  {
   "cell_type": "code",
   "execution_count": 1,
   "id": "e40d52e0",
   "metadata": {},
   "outputs": [],
   "source": [
    "import bqplot"
   ]
  },
  {
   "cell_type": "code",
   "execution_count": 2,
   "id": "3df60a69",
   "metadata": {},
   "outputs": [],
   "source": [
    "# 1. data\n",
    "shape_data = bqplot.topo_load('map_data/WorldMap.json')"
   ]
  },
  {
   "cell_type": "code",
   "execution_count": 3,
   "id": "89d8e004-0531-43ac-9916-43242f1b4338",
   "metadata": {},
   "outputs": [],
   "source": [
    "# 2. scales/axis\n",
    "sc_geo = bqplot.Mercator() # we know this is not a good projection!"
   ]
  },
  {
   "cell_type": "code",
   "execution_count": 4,
   "id": "505bb329-0b31-4ffd-b452-87be43abb4fb",
   "metadata": {},
   "outputs": [
    {
     "data": {
      "text/plain": [
       "\u001b[0;31mInit signature:\u001b[0m \u001b[0mbqplot\u001b[0m\u001b[0;34m.\u001b[0m\u001b[0mMap\u001b[0m\u001b[0;34m(\u001b[0m\u001b[0;34m*\u001b[0m\u001b[0margs\u001b[0m\u001b[0;34m:\u001b[0m \u001b[0;34m't.Any'\u001b[0m\u001b[0;34m,\u001b[0m \u001b[0;34m**\u001b[0m\u001b[0mkwargs\u001b[0m\u001b[0;34m:\u001b[0m \u001b[0;34m't.Any'\u001b[0m\u001b[0;34m)\u001b[0m \u001b[0;34m->\u001b[0m \u001b[0;34m't.Any'\u001b[0m\u001b[0;34m\u001b[0m\u001b[0;34m\u001b[0m\u001b[0m\n",
       "\u001b[0;31mDocstring:\u001b[0m     \n",
       "Map mark.\n",
       "\n",
       "Attributes\n",
       "----------\n",
       "colors: Dict (default: {})\n",
       "    default colors for items of the map when no color data is passed.\n",
       "    The dictionary should be indexed by the id of the element and have\n",
       "    the corresponding colors as values. The key `default_color`\n",
       "    controls the items for which no color is specified.\n",
       "selected_styles: Dict (default: {'selected_fill': 'Red',\n",
       "'selected_stroke': None, 'selected_stroke_width': 2.0})\n",
       "    Dictionary containing the styles for selected subunits\n",
       "hovered_styles: Dict (default: {'hovered_fill': 'Orange',\n",
       "'hovered_stroke': None, 'hovered_stroke_width': 2.0})\n",
       "    Dictionary containing the styles for hovered subunits\n",
       "hover_highlight: bool (default: True)\n",
       "    boolean to control if the map should be aware of which country is being\n",
       "    hovered on.\n",
       "map_data: dict (default: topo_load(\"map_data/WorldMap.json\"))\n",
       "    a topojson-formatted dictionary with the objects to map under the key\n",
       "    'subunits'.\n",
       "\n",
       "Data Attributes\n",
       "\n",
       "color: Dict or None (default: None)\n",
       "    dictionary containing the data associated with every country for the\n",
       "    color scale\n",
       "\u001b[0;31mInit docstring:\u001b[0m Public constructor\n",
       "\u001b[0;31mFile:\u001b[0m           /opt/anaconda3/envs/DataViz2/lib/python3.10/site-packages/bqplot/marks.py\n",
       "\u001b[0;31mType:\u001b[0m           MetaHasTraits\n",
       "\u001b[0;31mSubclasses:\u001b[0m     "
      ]
     },
     "metadata": {},
     "output_type": "display_data"
    }
   ],
   "source": [
    "# 3. Marks\n",
    "#bqplot.Map?\n",
    "shape_map = bqplot.Map(map_data = shape_data,"
   ]
  },
  {
   "cell_type": "code",
   "execution_count": null,
   "id": "7a0fb43d-44fb-45c7-b9c6-0c3e3e1294e2",
   "metadata": {},
   "outputs": [],
   "source": []
  }
 ],
 "metadata": {
  "kernelspec": {
   "display_name": "Python 3 (ipykernel)",
   "language": "python",
   "name": "python3"
  },
  "language_info": {
   "codemirror_mode": {
    "name": "ipython",
    "version": 3
   },
   "file_extension": ".py",
   "mimetype": "text/x-python",
   "name": "python",
   "nbconvert_exporter": "python",
   "pygments_lexer": "ipython3",
   "version": "3.10.14"
  }
 },
 "nbformat": 4,
 "nbformat_minor": 5
}
