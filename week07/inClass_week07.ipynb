{
 "cells": [
  {
   "cell_type": "markdown",
   "id": "respective-store",
   "metadata": {},
   "source": [
    "# In Class Notebook, Map Week\n"
   ]
  },
  {
   "cell_type": "markdown",
   "id": "2a597611",
   "metadata": {},
   "source": [
    "You can always find here: https://github.com/UIUC-iSchool-DataViz/is445_obuobg_spring2025/blob/master/week07/inClass_week07.ipynb  \n",
    "\n",
    "Or into the nbviewer interface for a plain-text rendering:\n",
    "\n",
    "https://kokes.github.io/nbviewer.js/viewer.html"
   ]
  },
  {
   "cell_type": "code",
   "execution_count": 1,
   "id": "e40d52e0",
   "metadata": {},
   "outputs": [],
   "source": [
    "import bqplot"
   ]
  },
  {
   "cell_type": "code",
   "execution_count": 2,
   "id": "3df60a69",
   "metadata": {},
   "outputs": [],
   "source": [
    "# 1. data\n",
    "shape_data = bqplot.topo_load('map_data/WorldMap.json')"
   ]
  },
  {
   "cell_type": "code",
   "execution_count": 3,
   "id": "89d8e004-0531-43ac-9916-43242f1b4338",
   "metadata": {},
   "outputs": [],
   "source": [
    "# 2. scales/axis\n",
    "sc_geo = bqplot.Mercator() # we know this is not a good projection!"
   ]
  },
  {
   "cell_type": "code",
   "execution_count": 8,
   "id": "505bb329-0b31-4ffd-b452-87be43abb4fb",
   "metadata": {},
   "outputs": [],
   "source": [
    "# 3. Marks\n",
    "#bqplot.Map?\n",
    "shape_map = bqplot.Map(map_data = shape_data, scales={'projection':sc_geo})"
   ]
  },
  {
   "cell_type": "code",
   "execution_count": 11,
   "id": "7a0fb43d-44fb-45c7-b9c6-0c3e3e1294e2",
   "metadata": {},
   "outputs": [
    {
     "data": {
      "application/vnd.jupyter.widget-view+json": {
       "model_id": "580d2bf191ee48fda7b66357262718a4",
       "version_major": 2,
       "version_minor": 0
      },
      "text/plain": [
       "Figure(fig_margin={'top': 0, 'bottom': 0, 'left': 0, 'right': 0}, marks=[Map(hovered_styles={'hovered_fill': '…"
      ]
     },
     "metadata": {},
     "output_type": "display_data"
    }
   ],
   "source": [
    "# no interactivity\n",
    "\n",
    "fig = bqplot.Figure(marks=[shape_map], \n",
    "                   fig_margin={'top':0, 'bottom':0, 'left':0, 'right':0})\n",
    "fig"
   ]
  },
  {
   "cell_type": "code",
   "execution_count": 12,
   "id": "8e9b8542-f6c2-4360-b86f-553fea1af2c1",
   "metadata": {},
   "outputs": [
    {
     "data": {
      "application/vnd.jupyter.widget-view+json": {
       "model_id": "a9db08718585498c8e7dfbcd43287d43",
       "version_major": 2,
       "version_minor": 0
      },
      "text/plain": [
       "Figure(fig_margin={'top': 0, 'bottom': 0, 'left': 0, 'right': 0}, marks=[Map(hovered_styles={'hovered_fill': '…"
      ]
     },
     "metadata": {},
     "output_type": "display_data"
    }
   ],
   "source": [
    "# 1. data\n",
    "shape_data = bqplot.topo_load('map_data/USStatesMap.json')\n",
    "\n",
    "# 2. scales/axis\n",
    "sc_geo = bqplot.AlbersUSA() # USA-specific projection\n",
    "\n",
    "# 3. marks\n",
    "shape_map = bqplot.Map(map_data=shape_data, scales={'projection':sc_geo})\n",
    "\n",
    "fig = bqplot.Figure(marks=[shape_map], \n",
    "                   fig_margin={'top':0, 'bottom':0, 'left':0, 'right':0})\n",
    "fig"
   ]
  },
  {
   "cell_type": "code",
   "execution_count": 13,
   "id": "36949d68-f4de-4f25-afb7-dcf9ce49be47",
   "metadata": {},
   "outputs": [
    {
     "data": {
      "application/vnd.jupyter.widget-view+json": {
       "model_id": "9c49a5e3aee6494d913bdb3a044fd448",
       "version_major": 2,
       "version_minor": 0
      },
      "text/plain": [
       "Figure(fig_margin={'top': 0, 'bottom': 0, 'left': 0, 'right': 0}, marks=[Map(hovered_styles={'hovered_fill': '…"
      ]
     },
     "metadata": {},
     "output_type": "display_data"
    }
   ],
   "source": [
    "# 1. data\n",
    "shape_data = bqplot.topo_load('map_data/WorldMap.json')\n",
    "\n",
    "# 2. scales/axis\n",
    "sc_geo = bqplot.Gnomonic() # sort of a nightmare projection!\n",
    "\n",
    "# 3. marks\n",
    "shape_map = bqplot.Map(map_data=shape_data, scales={'projection':sc_geo})\n",
    "\n",
    "fig = bqplot.Figure(marks=[shape_map], \n",
    "                   fig_margin={'top':0, 'bottom':0, 'left':0, 'right':0})\n",
    "fig"
   ]
  },
  {
   "cell_type": "code",
   "execution_count": 14,
   "id": "a5e01e02-e698-498f-8177-9095eb95c51c",
   "metadata": {},
   "outputs": [
    {
     "name": "stdout",
     "output_type": "stream",
     "text": [
      "EuropeMap.json     USCountiesMap.json USStatesMap.json   WorldMap.json\n"
     ]
    }
   ],
   "source": [
    "!ls /opt/anaconda3/pkgs/bqplot-0.12.30-pyhd8ed1ab_0/site-packages/bqplot/map_data"
   ]
  },
  {
   "cell_type": "code",
   "execution_count": null,
   "id": "2e15d5c8-062c-4630-a34c-c28480529685",
   "metadata": {},
   "outputs": [],
   "source": []
  }
 ],
 "metadata": {
  "kernelspec": {
   "display_name": "Python 3 (ipykernel)",
   "language": "python",
   "name": "python3"
  },
  "language_info": {
   "codemirror_mode": {
    "name": "ipython",
    "version": 3
   },
   "file_extension": ".py",
   "mimetype": "text/x-python",
   "name": "python",
   "nbconvert_exporter": "python",
   "pygments_lexer": "ipython3",
   "version": "3.10.14"
  }
 },
 "nbformat": 4,
 "nbformat_minor": 5
}
