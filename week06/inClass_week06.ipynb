{
 "cells": [
  {
   "cell_type": "markdown",
   "id": "respective-store",
   "metadata": {},
   "source": [
    "# In Class Notebook, Week 06"
   ]
  },
  {
   "cell_type": "markdown",
   "id": "2a597611",
   "metadata": {},
   "source": [
    "You can click on the GitHub URL of this notebook to access the file in near-real time: https://github.com/UIUC-iSchool-DataViz/is445_bcubcg_fall2024/blob/master/week06/inClass_week06.ipynb \n",
    "\n",
    "Or you can copy-paste into the nbviewer interface for a plain-text rendering:\n",
    "\n",
    "https://kokes.github.io/nbviewer.js/viewer.html"
   ]
  },
  {
   "cell_type": "markdown",
   "id": "d799951d-c8d2-4248-93be-351087fb4429",
   "metadata": {},
   "source": [
    "## Hints for HW3"
   ]
  },
  {
   "cell_type": "code",
   "execution_count": 1,
   "id": "bb28494f-8697-4560-94e8-511584737297",
   "metadata": {},
   "outputs": [],
   "source": [
    "import pandas as pd"
   ]
  },
  {
   "cell_type": "code",
   "execution_count": 2,
   "id": "87cfb925-6502-4682-9400-2157a94d5085",
   "metadata": {},
   "outputs": [],
   "source": [
    "bf = pd.read_csv('https://raw.githubusercontent.com/UIUC-iSchool-DataViz/is445_bcubcg_fall2022/main/data/bfro_reports_fall2022.csv',\n",
    "                parse_dates = ['date'])"
   ]
  },
  {
   "cell_type": "code",
   "execution_count": 3,
   "id": "c8e6d12c-fde6-4046-a634-d037070575e1",
   "metadata": {},
   "outputs": [
    {
     "data": {
      "text/html": [
       "<div>\n",
       "<style scoped>\n",
       "    .dataframe tbody tr th:only-of-type {\n",
       "        vertical-align: middle;\n",
       "    }\n",
       "\n",
       "    .dataframe tbody tr th {\n",
       "        vertical-align: top;\n",
       "    }\n",
       "\n",
       "    .dataframe thead th {\n",
       "        text-align: right;\n",
       "    }\n",
       "</style>\n",
       "<table border=\"1\" class=\"dataframe\">\n",
       "  <thead>\n",
       "    <tr style=\"text-align: right;\">\n",
       "      <th></th>\n",
       "      <th>observed</th>\n",
       "      <th>location_details</th>\n",
       "      <th>county</th>\n",
       "      <th>state</th>\n",
       "      <th>season</th>\n",
       "      <th>title</th>\n",
       "      <th>latitude</th>\n",
       "      <th>longitude</th>\n",
       "      <th>date</th>\n",
       "      <th>number</th>\n",
       "      <th>...</th>\n",
       "      <th>precip_intensity</th>\n",
       "      <th>precip_probability</th>\n",
       "      <th>precip_type</th>\n",
       "      <th>pressure</th>\n",
       "      <th>summary</th>\n",
       "      <th>uv_index</th>\n",
       "      <th>visibility</th>\n",
       "      <th>wind_bearing</th>\n",
       "      <th>wind_speed</th>\n",
       "      <th>location</th>\n",
       "    </tr>\n",
       "  </thead>\n",
       "  <tbody>\n",
       "    <tr>\n",
       "      <th>0</th>\n",
       "      <td>Ed L. was salmon fishing with a companion in P...</td>\n",
       "      <td>East side of Prince William Sound</td>\n",
       "      <td>Valdez-Chitina-Whittier County</td>\n",
       "      <td>Alaska</td>\n",
       "      <td>Fall</td>\n",
       "      <td>NaN</td>\n",
       "      <td>NaN</td>\n",
       "      <td>NaN</td>\n",
       "      <td>NaT</td>\n",
       "      <td>1261.0</td>\n",
       "      <td>...</td>\n",
       "      <td>NaN</td>\n",
       "      <td>NaN</td>\n",
       "      <td>NaN</td>\n",
       "      <td>NaN</td>\n",
       "      <td>NaN</td>\n",
       "      <td>NaN</td>\n",
       "      <td>NaN</td>\n",
       "      <td>NaN</td>\n",
       "      <td>NaN</td>\n",
       "      <td>NaN</td>\n",
       "    </tr>\n",
       "    <tr>\n",
       "      <th>1</th>\n",
       "      <td>heh i kinda feel a little dumb that im reporti...</td>\n",
       "      <td>the road is off us rt 80, i dont know the exit...</td>\n",
       "      <td>Warren County</td>\n",
       "      <td>New Jersey</td>\n",
       "      <td>Fall</td>\n",
       "      <td>NaN</td>\n",
       "      <td>NaN</td>\n",
       "      <td>NaN</td>\n",
       "      <td>NaT</td>\n",
       "      <td>438.0</td>\n",
       "      <td>...</td>\n",
       "      <td>NaN</td>\n",
       "      <td>NaN</td>\n",
       "      <td>NaN</td>\n",
       "      <td>NaN</td>\n",
       "      <td>NaN</td>\n",
       "      <td>NaN</td>\n",
       "      <td>NaN</td>\n",
       "      <td>NaN</td>\n",
       "      <td>NaN</td>\n",
       "      <td>NaN</td>\n",
       "    </tr>\n",
       "    <tr>\n",
       "      <th>2</th>\n",
       "      <td>I was on my way to Claremont from Lebanon on R...</td>\n",
       "      <td>Close to Claremont down 120 not far from Kings...</td>\n",
       "      <td>Sullivan County</td>\n",
       "      <td>New Hampshire</td>\n",
       "      <td>Summer</td>\n",
       "      <td>Report 55269: Dawn sighting at Stevens Brook o...</td>\n",
       "      <td>43.41549</td>\n",
       "      <td>-72.33093</td>\n",
       "      <td>2016-06-07</td>\n",
       "      <td>55269.0</td>\n",
       "      <td>...</td>\n",
       "      <td>0.001</td>\n",
       "      <td>0.7</td>\n",
       "      <td>rain</td>\n",
       "      <td>998.87</td>\n",
       "      <td>Mostly cloudy throughout the day.</td>\n",
       "      <td>6.0</td>\n",
       "      <td>9.70</td>\n",
       "      <td>262.0</td>\n",
       "      <td>0.49</td>\n",
       "      <td>POINT(-72.33093000000001 43.415490000000005)</td>\n",
       "    </tr>\n",
       "    <tr>\n",
       "      <th>3</th>\n",
       "      <td>I was northeast of Macy Nebraska along the Mis...</td>\n",
       "      <td>Latitude &amp; Longitude :  42.158230  -96.344197</td>\n",
       "      <td>Thurston County</td>\n",
       "      <td>Nebraska</td>\n",
       "      <td>Spring</td>\n",
       "      <td>Report 59757: Possible daylight sighting of a ...</td>\n",
       "      <td>42.15685</td>\n",
       "      <td>-96.34203</td>\n",
       "      <td>2018-05-25</td>\n",
       "      <td>59757.0</td>\n",
       "      <td>...</td>\n",
       "      <td>0.000</td>\n",
       "      <td>0.0</td>\n",
       "      <td>NaN</td>\n",
       "      <td>1008.07</td>\n",
       "      <td>Partly cloudy in the morning.</td>\n",
       "      <td>10.0</td>\n",
       "      <td>8.25</td>\n",
       "      <td>193.0</td>\n",
       "      <td>3.33</td>\n",
       "      <td>POINT(-96.34203000000001 42.15685)</td>\n",
       "    </tr>\n",
       "    <tr>\n",
       "      <th>4</th>\n",
       "      <td>While this incident occurred a long time ago, ...</td>\n",
       "      <td>Ward County, Just outside of a the Minuteman T...</td>\n",
       "      <td>Ward County</td>\n",
       "      <td>North Dakota</td>\n",
       "      <td>Spring</td>\n",
       "      <td>Report 751: Hunter describes described being s...</td>\n",
       "      <td>48.25422</td>\n",
       "      <td>-101.31660</td>\n",
       "      <td>2000-04-21</td>\n",
       "      <td>751.0</td>\n",
       "      <td>...</td>\n",
       "      <td>NaN</td>\n",
       "      <td>NaN</td>\n",
       "      <td>rain</td>\n",
       "      <td>1011.47</td>\n",
       "      <td>Partly cloudy until evening.</td>\n",
       "      <td>6.0</td>\n",
       "      <td>10.00</td>\n",
       "      <td>237.0</td>\n",
       "      <td>11.14</td>\n",
       "      <td>POINT(-101.3166 48.254220000000004)</td>\n",
       "    </tr>\n",
       "  </tbody>\n",
       "</table>\n",
       "<p>5 rows × 29 columns</p>\n",
       "</div>"
      ],
      "text/plain": [
       "                                            observed  \\\n",
       "0  Ed L. was salmon fishing with a companion in P...   \n",
       "1  heh i kinda feel a little dumb that im reporti...   \n",
       "2  I was on my way to Claremont from Lebanon on R...   \n",
       "3  I was northeast of Macy Nebraska along the Mis...   \n",
       "4  While this incident occurred a long time ago, ...   \n",
       "\n",
       "                                    location_details  \\\n",
       "0                  East side of Prince William Sound   \n",
       "1  the road is off us rt 80, i dont know the exit...   \n",
       "2  Close to Claremont down 120 not far from Kings...   \n",
       "3      Latitude & Longitude :  42.158230  -96.344197   \n",
       "4  Ward County, Just outside of a the Minuteman T...   \n",
       "\n",
       "                           county          state  season  \\\n",
       "0  Valdez-Chitina-Whittier County         Alaska    Fall   \n",
       "1                   Warren County     New Jersey    Fall   \n",
       "2                 Sullivan County  New Hampshire  Summer   \n",
       "3                 Thurston County       Nebraska  Spring   \n",
       "4                     Ward County   North Dakota  Spring   \n",
       "\n",
       "                                               title  latitude  longitude  \\\n",
       "0                                                NaN       NaN        NaN   \n",
       "1                                                NaN       NaN        NaN   \n",
       "2  Report 55269: Dawn sighting at Stevens Brook o...  43.41549  -72.33093   \n",
       "3  Report 59757: Possible daylight sighting of a ...  42.15685  -96.34203   \n",
       "4  Report 751: Hunter describes described being s...  48.25422 -101.31660   \n",
       "\n",
       "        date   number  ... precip_intensity precip_probability  precip_type  \\\n",
       "0        NaT   1261.0  ...              NaN                NaN          NaN   \n",
       "1        NaT    438.0  ...              NaN                NaN          NaN   \n",
       "2 2016-06-07  55269.0  ...            0.001                0.7         rain   \n",
       "3 2018-05-25  59757.0  ...            0.000                0.0          NaN   \n",
       "4 2000-04-21    751.0  ...              NaN                NaN         rain   \n",
       "\n",
       "   pressure                            summary  uv_index  visibility  \\\n",
       "0       NaN                                NaN       NaN         NaN   \n",
       "1       NaN                                NaN       NaN         NaN   \n",
       "2    998.87  Mostly cloudy throughout the day.       6.0        9.70   \n",
       "3   1008.07      Partly cloudy in the morning.      10.0        8.25   \n",
       "4   1011.47       Partly cloudy until evening.       6.0       10.00   \n",
       "\n",
       "   wind_bearing  wind_speed                                      location  \n",
       "0           NaN         NaN                                           NaN  \n",
       "1           NaN         NaN                                           NaN  \n",
       "2         262.0        0.49  POINT(-72.33093000000001 43.415490000000005)  \n",
       "3         193.0        3.33            POINT(-96.34203000000001 42.15685)  \n",
       "4         237.0       11.14           POINT(-101.3166 48.254220000000004)  \n",
       "\n",
       "[5 rows x 29 columns]"
      ]
     },
     "execution_count": 3,
     "metadata": {},
     "output_type": "execute_result"
    }
   ],
   "source": [
    "bf.head()"
   ]
  },
  {
   "cell_type": "markdown",
   "id": "c6d6c22c-9b4c-4a78-a306-fabe8bfb1296",
   "metadata": {},
   "source": [
    "Check out downsampling for large datasets in the prep notebook."
   ]
  },
  {
   "cell_type": "code",
   "execution_count": 4,
   "id": "f5052fc0-fada-49f5-80b7-7fa379be61a9",
   "metadata": {},
   "outputs": [],
   "source": [
    "import matplotlib.pyplot as plt\n",
    "import numpy as np"
   ]
  },
  {
   "cell_type": "code",
   "execution_count": 5,
   "id": "4219f3bd-8528-4610-af4c-bae28f3017cb",
   "metadata": {},
   "outputs": [
    {
     "data": {
      "text/plain": [
       "[<matplotlib.lines.Line2D at 0x16e471b40>]"
      ]
     },
     "execution_count": 5,
     "metadata": {},
     "output_type": "execute_result"
    },
    {
     "data": {
      "image/png": "[encoded data removed]",
      "text/plain": [
       "<Figure size 640x480 with 1 Axes>"
      ]
     },
     "metadata": {},
     "output_type": "display_data"
    }
   ],
   "source": [
    "plt.plot(bf['longitude'], bf['latitude'], '.')"
   ]
  },
  {
   "cell_type": "code",
   "execution_count": 6,
   "id": "ca412c97-98c7-418a-b8b1-365e62db442c",
   "metadata": {},
   "outputs": [
    {
     "data": {
      "text/plain": [
       "<matplotlib.collections.PathCollection at 0x16e569090>"
      ]
     },
     "execution_count": 6,
     "metadata": {},
     "output_type": "execute_result"
    },
    {
     "data": {
      "image/png": "[encoded data removed]",
      "text/plain": [
       "<Figure size 640x480 with 1 Axes>"
      ]
     },
     "metadata": {},
     "output_type": "display_data"
    }
   ],
   "source": [
    "plt.scatter(bf['longitude'], bf['latitude'], c=np.log10(bf['pressure']), cmap='rainbow')"
   ]
  },
  {
   "cell_type": "code",
   "execution_count": 7,
   "id": "315b2429-dabb-4f63-99fc-177653eec1a6",
   "metadata": {},
   "outputs": [
    {
     "data": {
      "image/png": "[encoded data removed]",
      "text/plain": [
       "<Figure size 1000x200 with 1 Axes>"
      ]
     },
     "metadata": {},
     "output_type": "display_data"
    }
   ],
   "source": [
    "fig, ax = plt.subplots(figsize=(10,2))\n",
    "bf.hist(column='longitude', ax=ax, bins=20)\n",
    "plt.show()"
   ]
  },
  {
   "cell_type": "markdown",
   "id": "ecf2e517-3b3b-4133-8b35-c0a0db62e516",
   "metadata": {},
   "source": [
    "## Review of ipywidgets"
   ]
  },
  {
   "cell_type": "code",
   "execution_count": 8,
   "id": "2d69b682-44e4-4fa1-8727-ec4a0c9a8721",
   "metadata": {},
   "outputs": [],
   "source": [
    "import ipywidgets"
   ]
  },
  {
   "cell_type": "code",
   "execution_count": 9,
   "id": "56b830ac-18f9-44d4-9701-4f479b967975",
   "metadata": {},
   "outputs": [
    {
     "data": {
      "application/vnd.jupyter.widget-view+json": {
       "model_id": "8d6e707989b04a5ca1bec54dc39f40b8",
       "version_major": 2,
       "version_minor": 0
      },
      "text/plain": [
       "IntSlider(value=0, max=10, orientation='vertical')"
      ]
     },
     "metadata": {},
     "output_type": "display_data"
    }
   ],
   "source": [
    "islider = ipywidgets.IntSlider(min=0,max=10,step=1,orientation='vertical')\n",
    "islider"
   ]
  },
  {
   "cell_type": "code",
   "execution_count": 10,
   "id": "8e7b3b93-0eae-4174-8363-e8c6f7a2df8a",
   "metadata": {},
   "outputs": [
    {
     "data": {
      "application/vnd.jupyter.widget-view+json": {
       "model_id": "1d7ef6b7c6ef4f4e9bc0ecd1747f397d",
       "version_major": 2,
       "version_minor": 0
      },
      "text/plain": [
       "ColorPicker(value='black')"
      ]
     },
     "metadata": {},
     "output_type": "display_data"
    }
   ],
   "source": [
    "cp = ipywidgets.ColorPicker()\n",
    "cp"
   ]
  },
  {
   "cell_type": "code",
   "execution_count": 11,
   "id": "d30e2249-02c2-4e4f-8c8a-a47bec099a92",
   "metadata": {},
   "outputs": [
    {
     "data": {
      "text/plain": [
       "<traitlets.traitlets.link at 0x16e77a290>"
      ]
     },
     "execution_count": 11,
     "metadata": {},
     "output_type": "execute_result"
    }
   ],
   "source": [
    "ipywidgets.link( (cp, 'value'), (islider.style, 'handle_color') )"
   ]
  },
  {
   "cell_type": "code",
   "execution_count": 12,
   "id": "ba487639-bbc1-4d77-b5ef-07d717773e6a",
   "metadata": {},
   "outputs": [],
   "source": [
    "class MyObject():\n",
    "    name = 'unnamed'\n",
    "    age = 0"
   ]
  },
  {
   "cell_type": "code",
   "execution_count": 13,
   "id": "5bc695b2-f117-4712-b16c-b2fc74ce85e5",
   "metadata": {},
   "outputs": [],
   "source": [
    "my_obj = MyObject()"
   ]
  },
  {
   "cell_type": "code",
   "execution_count": 14,
   "id": "998ac113-2955-4329-8911-829865d847bc",
   "metadata": {},
   "outputs": [
    {
     "data": {
      "text/plain": [
       "'unnamed'"
      ]
     },
     "execution_count": 14,
     "metadata": {},
     "output_type": "execute_result"
    }
   ],
   "source": [
    "my_obj.name"
   ]
  },
  {
   "cell_type": "code",
   "execution_count": 15,
   "id": "03197b77-21e6-41f7-9d53-c700f815d300",
   "metadata": {},
   "outputs": [
    {
     "data": {
      "text/plain": [
       "0"
      ]
     },
     "execution_count": 15,
     "metadata": {},
     "output_type": "execute_result"
    }
   ],
   "source": [
    "my_obj.age"
   ]
  },
  {
   "cell_type": "code",
   "execution_count": 16,
   "id": "8d14d972-1ef1-41ab-a55e-bbef50776326",
   "metadata": {},
   "outputs": [],
   "source": [
    "my_obj.name = 'Bob'\n",
    "my_obj.age = 47"
   ]
  },
  {
   "cell_type": "code",
   "execution_count": 17,
   "id": "505908d3-a5a7-4a9a-877f-1edbadfa030d",
   "metadata": {},
   "outputs": [
    {
     "data": {
      "text/plain": [
       "('Bob', 47)"
      ]
     },
     "execution_count": 17,
     "metadata": {},
     "output_type": "execute_result"
    }
   ],
   "source": [
    "my_obj.name, my_obj.age"
   ]
  },
  {
   "cell_type": "code",
   "execution_count": 18,
   "id": "44a9d4ee-4ff5-4a95-ac73-f9a1cd9f4058",
   "metadata": {},
   "outputs": [],
   "source": [
    "import traitlets"
   ]
  },
  {
   "cell_type": "code",
   "execution_count": 19,
   "id": "147829ea-dd91-4393-9e3c-66a40fa1dbf3",
   "metadata": {},
   "outputs": [],
   "source": [
    "# class MyObject():\n",
    "#     name = 'unnamed'\n",
    "#     age = 0\n",
    "\n",
    "class MyTraitletsObject(traitlets.HasTraits):\n",
    "    name = traitlets.Unicode('unnamed')\n",
    "    age = traitlets.Int(0)"
   ]
  },
  {
   "cell_type": "code",
   "execution_count": 20,
   "id": "8e22e788-b79b-4a1b-9699-aeeea77fd0ae",
   "metadata": {},
   "outputs": [],
   "source": [
    "my_t_obj = MyTraitletsObject()\n",
    "my_t_obj.name = 'Bob'\n",
    "my_t_obj.age = 47"
   ]
  },
  {
   "cell_type": "code",
   "execution_count": 21,
   "id": "aac21ccc-a191-42aa-b320-26e0fb6537a2",
   "metadata": {},
   "outputs": [
    {
     "data": {
      "text/plain": [
       "('Bob', 47)"
      ]
     },
     "execution_count": 21,
     "metadata": {},
     "output_type": "execute_result"
    }
   ],
   "source": [
    "my_t_obj.name, my_t_obj.age"
   ]
  },
  {
   "cell_type": "code",
   "execution_count": 22,
   "id": "c17454d8-9994-465e-a22d-49266d8802ec",
   "metadata": {},
   "outputs": [],
   "source": [
    "def name_changed(change):\n",
    "    print(change)\n",
    "\n",
    "my_t_obj.observe(name_changed, ['name'])\n",
    "# .observe is similar to .on_click we used for buttons\n",
    "# 'name' here is the trait we want to watch"
   ]
  },
  {
   "cell_type": "code",
   "execution_count": 23,
   "id": "07b2eacb-ea27-40cd-aefb-70f16247c23c",
   "metadata": {},
   "outputs": [
    {
     "name": "stdout",
     "output_type": "stream",
     "text": [
      "{'name': 'name', 'old': 'Bob', 'new': 'Linda', 'owner': <__main__.MyTraitletsObject object at 0x16e77a650>, 'type': 'change'}\n"
     ]
    }
   ],
   "source": [
    "my_t_obj.name = 'Linda'"
   ]
  },
  {
   "cell_type": "code",
   "execution_count": 24,
   "id": "96146e50-052e-46ef-9ba2-2a1f33577523",
   "metadata": {},
   "outputs": [],
   "source": [
    "def name_change2(change):\n",
    "    #print('Hello my name is', change['owner'].name, 'and I am', change['owner'].age, 'years old.')\n",
    "    print('Hello my name is', change['new'], 'and I am', change['owner'].age, 'years old.')\n",
    "\n",
    "my_t_obj.observe(name_change2, ['name'])"
   ]
  },
  {
   "cell_type": "code",
   "execution_count": 25,
   "id": "db671514-bb41-41f2-b07b-8d8652b78f50",
   "metadata": {},
   "outputs": [
    {
     "name": "stdout",
     "output_type": "stream",
     "text": [
      "{'name': 'name', 'old': 'Linda', 'new': 'Bob', 'owner': <__main__.MyTraitletsObject object at 0x16e77a650>, 'type': 'change'}\n",
      "Hello my name is Bob and I am 47 years old.\n"
     ]
    }
   ],
   "source": [
    "my_t_obj.name = 'Bob'"
   ]
  },
  {
   "cell_type": "code",
   "execution_count": 26,
   "id": "a2706636-9157-4a02-8387-47d35a39a30d",
   "metadata": {},
   "outputs": [],
   "source": [
    "my_t_obj.unobserve(name_changed, ['name'])"
   ]
  },
  {
   "cell_type": "code",
   "execution_count": 27,
   "id": "99a05fb1-66e9-4a72-8f53-063f627b1ba6",
   "metadata": {},
   "outputs": [
    {
     "name": "stdout",
     "output_type": "stream",
     "text": [
      "Hello my name is Linda and I am 47 years old.\n"
     ]
    }
   ],
   "source": [
    "my_t_obj.name = 'Linda'"
   ]
  },
  {
   "cell_type": "code",
   "execution_count": 28,
   "id": "2ca48843-4af2-4ef5-b8f2-6f47d7579258",
   "metadata": {},
   "outputs": [],
   "source": [
    "# try with changing age\n",
    "def age_change(change):\n",
    "    print('Hello my name is', change['owner'].name, 'and I am', change['new'], 'years old.')\n",
    "\n",
    "my_t_obj.observe(age_change, ['age'])"
   ]
  },
  {
   "cell_type": "code",
   "execution_count": 29,
   "id": "1dae7d27-847e-4c18-b324-6a9fe060f15c",
   "metadata": {},
   "outputs": [
    {
     "name": "stdout",
     "output_type": "stream",
     "text": [
      "Hello my name is Linda and I am 45 years old.\n"
     ]
    }
   ],
   "source": [
    "my_t_obj.age = 45"
   ]
  },
  {
   "cell_type": "code",
   "execution_count": 30,
   "id": "8844c844-9afc-4fc2-b792-0d17246e86b0",
   "metadata": {},
   "outputs": [],
   "source": [
    "my_t_obj.name = 'Linda'"
   ]
  },
  {
   "cell_type": "markdown",
   "id": "444c7c96-7efe-4f59-a1ac-7a1b086b37e6",
   "metadata": {},
   "source": [
    "# Bqplot intro"
   ]
  },
  {
   "cell_type": "code",
   "execution_count": 31,
   "id": "f1b958ae-54a2-4cac-8a80-4457ecd4f75e",
   "metadata": {},
   "outputs": [],
   "source": [
    "import bqplot"
   ]
  },
  {
   "cell_type": "code",
   "execution_count": 32,
   "id": "88669b61-1d11-40be-8bb1-adc55323a051",
   "metadata": {},
   "outputs": [],
   "source": [
    "# 1. Data\n",
    "x = np.arange(100)\n",
    "y = np.random.random(100)"
   ]
  },
  {
   "cell_type": "code",
   "execution_count": 33,
   "id": "b7283898-5858-41f3-8b03-8f50d4b54002",
   "metadata": {},
   "outputs": [],
   "source": [
    "#x"
   ]
  },
  {
   "cell_type": "code",
   "execution_count": 34,
   "id": "ec57f4e7-a865-4e9b-8ce8-cc623e5a21db",
   "metadata": {},
   "outputs": [],
   "source": [
    "#y"
   ]
  },
  {
   "cell_type": "code",
   "execution_count": 35,
   "id": "1c10ec28-38f5-45d7-a5d6-90d83f5fd288",
   "metadata": {},
   "outputs": [
    {
     "data": {
      "text/plain": [
       "\u001b[0;31mInit signature:\u001b[0m \u001b[0mbqplot\u001b[0m\u001b[0;34m.\u001b[0m\u001b[0mLinearScale\u001b[0m\u001b[0;34m(\u001b[0m\u001b[0;34m*\u001b[0m\u001b[0margs\u001b[0m\u001b[0;34m:\u001b[0m \u001b[0;34m't.Any'\u001b[0m\u001b[0;34m,\u001b[0m \u001b[0;34m**\u001b[0m\u001b[0mkwargs\u001b[0m\u001b[0;34m:\u001b[0m \u001b[0;34m't.Any'\u001b[0m\u001b[0;34m)\u001b[0m \u001b[0;34m->\u001b[0m \u001b[0;34m't.Any'\u001b[0m\u001b[0;34m\u001b[0m\u001b[0;34m\u001b[0m\u001b[0m\n",
       "\u001b[0;31mDocstring:\u001b[0m     \n",
       "A linear scale.\n",
       "\n",
       "An affine mapping from a numerical domain to a numerical range.\n",
       "\n",
       "Attributes\n",
       "----------\n",
       "min: float or None (default: None)\n",
       "    if not None, min is the minimal value of the domain\n",
       "max: float or None (default: None)\n",
       "    if not None, max is the maximal value of the domain\n",
       "rtype: string (class-level attribute)\n",
       "    This attribute should not be modified. The range type of a linear\n",
       "    scale is numerical.\n",
       "dtype: type (class-level attribute)\n",
       "    the associated data type / domain type\n",
       "precedence: int (class-level attribute, default_value=2)\n",
       "    attribute used to determine which scale takes precedence in cases when\n",
       "    two or more scales have the same rtype and dtype.\n",
       "    default_value is 2 because for the same range and domain types,\n",
       "    LinearScale should take precedence.\n",
       "stabilized: bool (default: False)\n",
       "    if set to False, the domain of the scale is tied to the data range\n",
       "    if set to True, the domain of the scale is updated only when\n",
       "    the data range is beyond certain thresholds, given by the attributes\n",
       "    mid_range and min_range.\n",
       "mid_range: float (default: 0.8)\n",
       "    Proportion of the range that is spanned initially.\n",
       "    Used only if stabilized is True.\n",
       "min_range: float (default: 0.6)\n",
       "    Minimum proportion of the range that should be spanned by the data.\n",
       "    If the data span falls beneath that level, the scale is reset.\n",
       "    min_range must be <= mid_range.\n",
       "    Used only if stabilized is True.\n",
       "\u001b[0;31mInit docstring:\u001b[0m Public constructor\n",
       "\u001b[0;31mFile:\u001b[0m           /opt/anaconda3/envs/DataViz2/lib/python3.10/site-packages/bqplot/scales.py\n",
       "\u001b[0;31mType:\u001b[0m           MetaHasTraits\n",
       "\u001b[0;31mSubclasses:\u001b[0m     "
      ]
     },
     "metadata": {},
     "output_type": "display_data"
    }
   ],
   "source": [
    "# 2. Scales\n",
    "bqplot.LinearScale?"
   ]
  },
  {
   "cell_type": "code",
   "execution_count": 36,
   "id": "cafc7f9f-c0ae-4eac-9357-9e3fbf3c4ad6",
   "metadata": {},
   "outputs": [],
   "source": [
    "x_sc = bqplot.LinearScale()\n",
    "y_sc = bqplot.LinearScale()"
   ]
  },
  {
   "cell_type": "code",
   "execution_count": 37,
   "id": "44295e62-05e1-480a-b01b-5331de266862",
   "metadata": {},
   "outputs": [],
   "source": [
    "# 3. Axis (sometimes will be marks, depending on how we are feeling!)\n",
    "#bqplot.Axis?"
   ]
  },
  {
   "cell_type": "code",
   "execution_count": 38,
   "id": "b5bf90bc-223a-473a-9bf7-b9b98438d52c",
   "metadata": {},
   "outputs": [],
   "source": [
    "ax_x = bqplot.Axis(scale=x_sc, label='X Value')\n",
    "ax_y = bqplot.Axis(scale=y_sc, label='Y Value', orientation='vertical')"
   ]
  },
  {
   "cell_type": "code",
   "execution_count": 39,
   "id": "4892cd44-df7b-46e1-819f-abfd5878502d",
   "metadata": {},
   "outputs": [],
   "source": [
    "# 4. Marks (sometimes will swap with Axis)\n",
    "#bqplot.Lines?\n",
    "lines = bqplot.Lines(x=x, y=y, scales = {'x':x_sc, 'y':y_sc})"
   ]
  },
  {
   "cell_type": "code",
   "execution_count": 40,
   "id": "975e48e0-e450-44c9-ba4f-b2e85112f8af",
   "metadata": {},
   "outputs": [],
   "source": [
    "# 5. around here is where we would add interactivity"
   ]
  },
  {
   "cell_type": "code",
   "execution_count": 41,
   "id": "20df05ff-2f90-4401-9e7a-3a799937c0e8",
   "metadata": {},
   "outputs": [
    {
     "data": {
      "application/vnd.jupyter.widget-view+json": {
       "model_id": "8caf4ee2e4264b51b32722afc0745976",
       "version_major": 2,
       "version_minor": 0
      },
      "text/plain": [
       "Figure(axes=[Axis(label='X Value', scale=LinearScale(), side='bottom'), Axis(label='Y Value', orientation='ver…"
      ]
     },
     "metadata": {},
     "output_type": "display_data"
    }
   ],
   "source": [
    "# 6. Put it all together as a figure\n",
    "fig = bqplot.Figure(marks=[lines], axes=[ax_x, ax_y])\n",
    "fig"
   ]
  },
  {
   "cell_type": "markdown",
   "id": "82172a27-aba6-425d-9b39-c3a6da59463d",
   "metadata": {},
   "source": [
    "One more time, but all together:"
   ]
  },
  {
   "cell_type": "code",
   "execution_count": 42,
   "id": "51ab7c2b-4b87-40bc-8c8b-b255ad77afaf",
   "metadata": {},
   "outputs": [
    {
     "data": {
      "application/vnd.jupyter.widget-view+json": {
       "model_id": "d3cb94594c994cbab437d1e86241561b",
       "version_major": 2,
       "version_minor": 0
      },
      "text/plain": [
       "Figure(axes=[Axis(label='X Value', scale=LinearScale()), Axis(label='Y Value', orientation='vertical', scale=L…"
      ]
     },
     "metadata": {},
     "output_type": "display_data"
    }
   ],
   "source": [
    "# 1. Data\n",
    "x = np.arange(100)\n",
    "y = np.random.random(100)\n",
    "\n",
    "# 2. Scales\n",
    "x_sc = bqplot.LinearScale()\n",
    "y_sc = bqplot.LinearScale()\n",
    "\n",
    "# 3. Axis (sometimes will be marks, depending on how we are feeling!)\n",
    "ax_x = bqplot.Axis(scale=x_sc, label='X Value')\n",
    "ax_y = bqplot.Axis(scale=y_sc, label='Y Value', orientation='vertical')\n",
    "\n",
    "# 4. Marks (sometimes will swap with Axis)\n",
    "lines = bqplot.Lines(x=x, y=y, scales = {'x':x_sc, 'y':y_sc})\n",
    "\n",
    "# 5. add in interactivity\n",
    "pz = bqplot.interacts.PanZoom(scales = {'x':[x_sc], 'y':[y_sc]})\n",
    "\n",
    "# 6. Put it all together as a figure\n",
    "fig = bqplot.Figure(marks=[lines], axes=[ax_x, ax_y], interaction=pz)\n",
    "fig"
   ]
  },
  {
   "cell_type": "code",
   "execution_count": 43,
   "id": "412ace27-4baa-40e1-9ec9-33d271c56885",
   "metadata": {},
   "outputs": [
    {
     "data": {
      "text/plain": [
       "\u001b[0;31mInit signature:\u001b[0m \u001b[0mbqplot\u001b[0m\u001b[0;34m.\u001b[0m\u001b[0minteracts\u001b[0m\u001b[0;34m.\u001b[0m\u001b[0mPanZoom\u001b[0m\u001b[0;34m(\u001b[0m\u001b[0;34m*\u001b[0m\u001b[0margs\u001b[0m\u001b[0;34m:\u001b[0m \u001b[0;34m't.Any'\u001b[0m\u001b[0;34m,\u001b[0m \u001b[0;34m**\u001b[0m\u001b[0mkwargs\u001b[0m\u001b[0;34m:\u001b[0m \u001b[0;34m't.Any'\u001b[0m\u001b[0;34m)\u001b[0m \u001b[0;34m->\u001b[0m \u001b[0;34m't.Any'\u001b[0m\u001b[0;34m\u001b[0m\u001b[0;34m\u001b[0m\u001b[0m\n",
       "\u001b[0;31mDocstring:\u001b[0m     \n",
       "An interaction to pan and zoom wrt scales.\n",
       "\n",
       "Attributes\n",
       "----------\n",
       "allow_pan: bool (default: True)\n",
       "    Toggle the ability to pan.\n",
       "allow_zoom: bool (default: True)\n",
       "    Toggle the ability to zoom.\n",
       "scales: Dictionary of lists of Scales (default: {})\n",
       "    Dictionary with keys such as 'x' and 'y' and values being the scales in\n",
       "    the corresponding direction (dimensions) which should be panned or\n",
       "    zoomed.\n",
       "\u001b[0;31mInit docstring:\u001b[0m Public constructor\n",
       "\u001b[0;31mFile:\u001b[0m           /opt/anaconda3/envs/DataViz2/lib/python3.10/site-packages/bqplot/interacts.py\n",
       "\u001b[0;31mType:\u001b[0m           MetaHasTraits\n",
       "\u001b[0;31mSubclasses:\u001b[0m     "
      ]
     },
     "metadata": {},
     "output_type": "display_data"
    }
   ],
   "source": [
    "bqplot.interacts.PanZoom?"
   ]
  },
  {
   "cell_type": "markdown",
   "id": "d0740d24-7df3-4d5a-b129-27f7563e1788",
   "metadata": {},
   "source": [
    "### Random scatter plot"
   ]
  },
  {
   "cell_type": "code",
   "execution_count": 44,
   "id": "92c3a886-7dfc-4153-8088-9f2c1f8cf5bc",
   "metadata": {},
   "outputs": [],
   "source": [
    "# 1. Data\n",
    "x = np.random.random(100)\n",
    "y = np.random.random(100)"
   ]
  },
  {
   "cell_type": "code",
   "execution_count": 45,
   "id": "998f85f3-4f2a-45be-92be-6c831bbeff4f",
   "metadata": {},
   "outputs": [],
   "source": [
    "# 2. scales\n",
    "x_sc = bqplot.LinearScale()\n",
    "y_sc = bqplot.LinearScale()"
   ]
  },
  {
   "cell_type": "code",
   "execution_count": 46,
   "id": "e69ee21a-65db-43ea-8608-d684bbd09326",
   "metadata": {},
   "outputs": [],
   "source": [
    "# 3. axis\n",
    "x_ax = bqplot.Axis(scale=x_sc, label='X')\n",
    "y_ax = bqplot.Axis(scale=y_sc, label='Y', orientation = 'vertical')"
   ]
  },
  {
   "cell_type": "code",
   "execution_count": 47,
   "id": "d2cd5e0e-0c3b-4aaa-89ba-b2eb6162cbc5",
   "metadata": {},
   "outputs": [],
   "source": [
    "#bqplot.Scatter?"
   ]
  },
  {
   "cell_type": "code",
   "execution_count": 48,
   "id": "a44273da-cdfc-444d-8a2d-d562d8fc67ad",
   "metadata": {},
   "outputs": [],
   "source": [
    "# 4. marks\n",
    "scatters = bqplot.Scatter(x=x, y=y, scales={'x':x_sc, 'y':y_sc})"
   ]
  },
  {
   "cell_type": "code",
   "execution_count": 49,
   "id": "6160d1cd-b12a-47d1-9237-47f0c33449e7",
   "metadata": {},
   "outputs": [],
   "source": [
    "# 5. interactivity -- just a moment!\n",
    "#bqplot.interacts.FastIntervalSelector?\n",
    "pz = bqplot.interacts.PanZoom(scales = {'x':[x_sc], 'y':[y_sc]})\n",
    "selector = bqplot.interacts.FastIntervalSelector(scale=x_sc, marks=[scatters])"
   ]
  },
  {
   "cell_type": "code",
   "execution_count": 50,
   "id": "93ea0a1a-8225-436b-9654-f2da7c96a92d",
   "metadata": {},
   "outputs": [
    {
     "data": {
      "application/vnd.jupyter.widget-view+json": {
       "model_id": "fa85ea36fe5d4596a3c0b595c98c736f",
       "version_major": 2,
       "version_minor": 0
      },
      "text/plain": [
       "Figure(axes=[Axis(label='X', scale=LinearScale(), side='bottom'), Axis(label='Y', orientation='vertical', scal…"
      ]
     },
     "metadata": {},
     "output_type": "display_data"
    }
   ],
   "source": [
    "# 6. together as a figure\n",
    "#fig = bqplot.Figure(marks=[scatters], axes=[x_ax,y_ax], interaction=[selector,pz]) # TBD, multipl interactions\n",
    "# could be issue with mouse-use for multiples?\n",
    "fig = bqplot.Figure(marks=[scatters], axes=[x_ax,y_ax], interaction=selector)\n",
    "fig"
   ]
  },
  {
   "cell_type": "code",
   "execution_count": 51,
   "id": "39e3c4c5-13fc-4ad0-a873-dc6c9dbf8b02",
   "metadata": {},
   "outputs": [],
   "source": [
    "selector.selected"
   ]
  },
  {
   "cell_type": "code",
   "execution_count": 52,
   "id": "b2941ba6-133e-4998-a55b-61084d68a402",
   "metadata": {},
   "outputs": [],
   "source": [
    "scatters.selected_style = {'fill':'red', 'stroke':'yellow'}"
   ]
  },
  {
   "cell_type": "markdown",
   "id": "993f1a99-d490-47bc-a4b0-4e0721cc1645",
   "metadata": {},
   "source": [
    "## 2D Heatmap"
   ]
  },
  {
   "cell_type": "code",
   "execution_count": 53,
   "id": "d2dc6c7e-35c1-4226-a23b-fa2f75c5445f",
   "metadata": {},
   "outputs": [],
   "source": [
    "# 1. data\n",
    "data = np.random.random((10,10))"
   ]
  },
  {
   "cell_type": "code",
   "execution_count": 54,
   "id": "b306c351-edc0-4307-b3e3-2a53e0907b06",
   "metadata": {},
   "outputs": [
    {
     "data": {
      "text/plain": [
       "(10, 10)"
      ]
     },
     "execution_count": 54,
     "metadata": {},
     "output_type": "execute_result"
    }
   ],
   "source": [
    "data.shape"
   ]
  },
  {
   "cell_type": "code",
   "execution_count": 55,
   "id": "c72165da-6428-4bdb-b1f4-faa929ee91db",
   "metadata": {},
   "outputs": [],
   "source": [
    "#bqplot.ColorScale?"
   ]
  },
  {
   "cell_type": "code",
   "execution_count": 56,
   "id": "9d57971c-510f-412e-9003-da2c47697d21",
   "metadata": {},
   "outputs": [
    {
     "data": {
      "application/vnd.jupyter.widget-view+json": {
       "model_id": "d0f93aaba190474c8981223f9a3382fc",
       "version_major": 2,
       "version_minor": 0
      },
      "text/plain": [
       "Figure(fig_margin={'top': 60, 'bottom': 60, 'left': 60, 'right': 60}, marks=[GridHeatMap(color=array([[0.52709…"
      ]
     },
     "metadata": {},
     "output_type": "display_data"
    }
   ],
   "source": [
    "# 2. scales\n",
    "col_sc = bqplot.ColorScale()\n",
    "\n",
    "# 3. Axis (skip)\n",
    "\n",
    "# 4. Mark\n",
    "heat_map = bqplot.GridHeatMap(color=data, scales={'color':col_sc})\n",
    "\n",
    "# 5. interactivity\n",
    "\n",
    "# 6. figure\n",
    "fig = bqplot.Figure(marks=[heat_map])\n",
    "fig"
   ]
  },
  {
   "cell_type": "code",
   "execution_count": 57,
   "id": "6fb5ef52-4ee5-4829-a8e6-810305a43652",
   "metadata": {},
   "outputs": [
    {
     "data": {
      "text/plain": [
       "\u001b[0;31mInit signature:\u001b[0m \u001b[0mbqplot\u001b[0m\u001b[0;34m.\u001b[0m\u001b[0mGridHeatMap\u001b[0m\u001b[0;34m(\u001b[0m\u001b[0;34m**\u001b[0m\u001b[0mkwargs\u001b[0m\u001b[0;34m)\u001b[0m\u001b[0;34m\u001b[0m\u001b[0;34m\u001b[0m\u001b[0m\n",
       "\u001b[0;31mDocstring:\u001b[0m     \n",
       "GridHeatMap mark.\n",
       "\n",
       "Alignment: The tiles can be aligned so that the data matches either the\n",
       "start, the end or the midpoints of the tiles. This is controlled by the\n",
       "align attribute.\n",
       "\n",
       "Suppose the data passed is a m-by-n matrix. If the scale for the rows is\n",
       "Ordinal, then alignment is by default the mid points. For a non-ordinal\n",
       "scale, the data cannot be aligned to the mid points of the rectangles.\n",
       "\n",
       "If it is not ordinal, then two cases arise. If the number of rows passed\n",
       "is m, then align attribute can be used. If the number of rows passed\n",
       "is m+1, then the data are the boundaries of the m rectangles.\n",
       "\n",
       "If rows and columns are not passed, and scales for them are also\n",
       "not passed, then ordinal scales are generated for the rows and columns.\n",
       "\n",
       "Attributes\n",
       "----------\n",
       "row_align: Enum(['start', 'end'])\n",
       "    This is only valid if the number of entries in `row` exactly match the\n",
       "    number of rows in `color` and the `row_scale` is not `OrdinalScale`.\n",
       "    `start` aligns the row values passed to be aligned with the start\n",
       "    of the tiles and `end` aligns the row values to the end of the tiles.\n",
       "column_align: Enum(['start', end'])\n",
       "    This is only valid if the number of entries in `column` exactly\n",
       "    match the number of columns in `color` and the `column_scale` is\n",
       "    not `OrdinalScale`. `start` aligns the column values passed to\n",
       "    be aligned with the start of the tiles and `end` aligns the\n",
       "    column values to the end of the tiles.\n",
       "anchor_style: dict (default: {})\n",
       "    Controls the style for the element which serves as the anchor during\n",
       "    selection.\n",
       "display_format: string (default: None)\n",
       "    format for displaying values. If None, then values are not displayed\n",
       "font_style: dict\n",
       "    CSS style for the text of each cell\n",
       "\n",
       "Data Attributes\n",
       "\n",
       "color: numpy.ndarray or None (default: None)\n",
       "    color of the data points (2d array). The number of elements in\n",
       "    this array correspond to the number of cells created in the heatmap.\n",
       "row: numpy.ndarray or None (default: None)\n",
       "    labels for the rows of the `color` array passed. The length of\n",
       "    this can be no more than 1 away from the number of rows in `color`.\n",
       "    This is a scaled attribute and can be used to affect the height of the\n",
       "    cells as the entries of `row` can indicate the start or the end points\n",
       "    of the cells. Refer to the property `row_align`.\n",
       "    If this property is None, then a uniformly spaced grid is generated in\n",
       "    the row direction.\n",
       "column: numpy.ndarray or None (default: None)\n",
       "    labels for the columns of the `color` array passed. The length of\n",
       "    this can be no more than 1 away from the number of columns in `color`\n",
       "    This is a scaled attribute and can be used to affect the width of the\n",
       "    cells as the entries of `column` can indicate the start or the\n",
       "    end points of the cells. Refer to the property `column_align`.\n",
       "    If this property is None, then a uniformly spaced grid is generated in\n",
       "    the column direction.\n",
       "\u001b[0;31mInit docstring:\u001b[0m Public constructor\n",
       "\u001b[0;31mFile:\u001b[0m           /opt/anaconda3/envs/DataViz2/lib/python3.10/site-packages/bqplot/marks.py\n",
       "\u001b[0;31mType:\u001b[0m           MetaHasTraits\n",
       "\u001b[0;31mSubclasses:\u001b[0m     "
      ]
     },
     "metadata": {},
     "output_type": "display_data"
    }
   ],
   "source": [
    "bqplot.GridHeatMap?"
   ]
  },
  {
   "cell_type": "code",
   "execution_count": 58,
   "id": "a1e48f8f-4b89-448e-a778-de796e7032cd",
   "metadata": {},
   "outputs": [
    {
     "data": {
      "text/plain": [
       "\u001b[0;31mInit signature:\u001b[0m \u001b[0mbqplot\u001b[0m\u001b[0;34m.\u001b[0m\u001b[0mColorAxis\u001b[0m\u001b[0;34m(\u001b[0m\u001b[0;34m*\u001b[0m\u001b[0margs\u001b[0m\u001b[0;34m:\u001b[0m \u001b[0;34m't.Any'\u001b[0m\u001b[0;34m,\u001b[0m \u001b[0;34m**\u001b[0m\u001b[0mkwargs\u001b[0m\u001b[0;34m:\u001b[0m \u001b[0;34m't.Any'\u001b[0m\u001b[0;34m)\u001b[0m \u001b[0;34m->\u001b[0m \u001b[0;34m't.Any'\u001b[0m\u001b[0;34m\u001b[0m\u001b[0;34m\u001b[0m\u001b[0m\n",
       "\u001b[0;31mDocstring:\u001b[0m     \n",
       "A colorbar axis.\n",
       "\n",
       "A color axis is the visual representation of a color scale.\n",
       "\n",
       "Attributes\n",
       "----------\n",
       "scale: ColorScale\n",
       "    The scale represented by the axis\n",
       "\u001b[0;31mInit docstring:\u001b[0m Public constructor\n",
       "\u001b[0;31mFile:\u001b[0m           /opt/anaconda3/envs/DataViz2/lib/python3.10/site-packages/bqplot/axes.py\n",
       "\u001b[0;31mType:\u001b[0m           MetaHasTraits\n",
       "\u001b[0;31mSubclasses:\u001b[0m     "
      ]
     },
     "metadata": {},
     "output_type": "display_data"
    }
   ],
   "source": [
    "bqplot.ColorAxis?"
   ]
  },
  {
   "cell_type": "code",
   "execution_count": 59,
   "id": "d030ae5f-cec0-4e6a-ae07-50d35f050e16",
   "metadata": {},
   "outputs": [
    {
     "data": {
      "application/vnd.jupyter.widget-view+json": {
       "model_id": "e45b89dc4959479abdc3ae8192a12515",
       "version_major": 2,
       "version_minor": 0
      },
      "text/plain": [
       "Figure(axes=[ColorAxis(orientation='vertical', scale=ColorScale(scheme='Greens'), side='right'), Axis(label='C…"
      ]
     },
     "metadata": {},
     "output_type": "display_data"
    }
   ],
   "source": [
    "# 2. scales\n",
    "col_sc = bqplot.ColorScale(scheme='Greens')\n",
    "x_sc = bqplot.OrdinalScale() # ordered bin numbers\n",
    "y_sc = bqplot.OrdinalScale()\n",
    "\n",
    "# 3. Axis \n",
    "col_ax = bqplot.ColorAxis(scale=col_sc, orientation='vertical', side='right')\n",
    "x_ax = bqplot.Axis(scale=x_sc, label='Column Bin')\n",
    "y_ax = bqplot.Axis(scale=y_sc, label='Row Bin', orientation='vertical')\n",
    "\n",
    "# 4. Mark\n",
    "heat_map = bqplot.GridHeatMap(color=data, scales={'color':col_sc})\n",
    "\n",
    "# 5. interactivity\n",
    "\n",
    "# 6. figure\n",
    "fig = bqplot.Figure(marks=[heat_map], axes=[col_ax, x_ax, y_ax])\n",
    "fig"
   ]
  },
  {
   "cell_type": "code",
   "execution_count": 60,
   "id": "f68f041e-e882-490e-9d63-465b0457458f",
   "metadata": {},
   "outputs": [
    {
     "data": {
      "application/vnd.jupyter.widget-view+json": {
       "model_id": "c34cf528b4c745ffa15228393560726c",
       "version_major": 2,
       "version_minor": 0
      },
      "text/plain": [
       "Figure(axes=[ColorAxis(orientation='vertical', scale=ColorScale(scheme='Greens'), side='right'), Axis(label='C…"
      ]
     },
     "metadata": {},
     "output_type": "display_data"
    }
   ],
   "source": [
    "# 2. scales\n",
    "col_sc = bqplot.ColorScale(scheme='Greens')\n",
    "x_sc = bqplot.OrdinalScale() # ordered bin numbers\n",
    "y_sc = bqplot.OrdinalScale()\n",
    "\n",
    "# 3. Axis \n",
    "col_ax = bqplot.ColorAxis(scale=col_sc, orientation='vertical', side='right')\n",
    "x_ax = bqplot.Axis(scale=x_sc, label='Column Bin')\n",
    "y_ax = bqplot.Axis(scale=y_sc, label='Row Bin', orientation='vertical')\n",
    "\n",
    "# 4. Mark\n",
    "heat_map = bqplot.GridHeatMap(color=data, scales={'color':col_sc,\n",
    "                                                 'row':y_sc,\n",
    "                                                 'column':x_sc})\n",
    "\n",
    "# 5. interactivity\n",
    "\n",
    "# 6. figure\n",
    "fig = bqplot.Figure(marks=[heat_map], axes=[col_ax, x_ax, y_ax])\n",
    "fig"
   ]
  },
  {
   "cell_type": "code",
   "execution_count": 61,
   "id": "7e9387bb-620e-48a5-9910-f50758c664a2",
   "metadata": {},
   "outputs": [
    {
     "data": {
      "application/vnd.jupyter.widget-view+json": {
       "model_id": "967c2945f6354565a1e1891972aea6f4",
       "version_major": 2,
       "version_minor": 0
      },
      "text/plain": [
       "Figure(axes=[ColorAxis(orientation='vertical', scale=ColorScale(scheme='Greens'), side='right'), Axis(label='C…"
      ]
     },
     "metadata": {},
     "output_type": "display_data"
    }
   ],
   "source": [
    "# 2. scales\n",
    "col_sc = bqplot.ColorScale(scheme='Greens')\n",
    "x_sc = bqplot.OrdinalScale() # ordered bin numbers\n",
    "y_sc = bqplot.OrdinalScale()\n",
    "\n",
    "# 3. Axis \n",
    "col_ax = bqplot.ColorAxis(scale=col_sc, orientation='vertical', side='right')\n",
    "x_ax = bqplot.Axis(scale=x_sc, label='Column Bin')\n",
    "y_ax = bqplot.Axis(scale=y_sc, label='Row Bin', orientation='vertical')\n",
    "\n",
    "# 4. Mark\n",
    "heat_map = bqplot.GridHeatMap(color=data, scales={'color':col_sc,\n",
    "                                                 'row':y_sc,\n",
    "                                                 'column':x_sc},\n",
    "                             interactions={'click':'select'}, \n",
    "                             anchor_style={'fill':'magenta'}\n",
    "                             )\n",
    "\n",
    "# 5. interactivity\n",
    "\n",
    "# 6. figure\n",
    "fig = bqplot.Figure(marks=[heat_map], axes=[col_ax, x_ax, y_ax])\n",
    "fig"
   ]
  },
  {
   "cell_type": "code",
   "execution_count": 63,
   "id": "a628de12-6126-4dbd-8124-4eae59c7e741",
   "metadata": {},
   "outputs": [
    {
     "data": {
      "text/plain": [
       "array([[5, 1]])"
      ]
     },
     "execution_count": 63,
     "metadata": {},
     "output_type": "execute_result"
    }
   ],
   "source": [
    "heat_map.selected"
   ]
  },
  {
   "cell_type": "code",
   "execution_count": 64,
   "id": "fa6ab8c0-dd3a-4dea-80ac-b8afe1094409",
   "metadata": {},
   "outputs": [],
   "source": [
    "import ipywidgets"
   ]
  },
  {
   "cell_type": "code",
   "execution_count": 65,
   "id": "9f8cc48d-1c00-4dfc-ab95-6fcf99bb1a5f",
   "metadata": {},
   "outputs": [],
   "source": [
    "myLabel = ipywidgets.Label()"
   ]
  },
  {
   "cell_type": "code",
   "execution_count": 66,
   "id": "4be74a5d-234d-4d8f-b8c7-d1d1e3bfd16f",
   "metadata": {},
   "outputs": [
    {
     "data": {
      "application/vnd.jupyter.widget-view+json": {
       "model_id": "55432ccde50d44eeb2710caa81c4d605",
       "version_major": 2,
       "version_minor": 0
      },
      "text/plain": [
       "Label(value='')"
      ]
     },
     "metadata": {},
     "output_type": "display_data"
    }
   ],
   "source": [
    "myLabel"
   ]
  },
  {
   "cell_type": "code",
   "execution_count": 67,
   "id": "2a1fcf33-23c2-4570-a2d8-5cfa18fbb710",
   "metadata": {},
   "outputs": [],
   "source": [
    "myLabel.value = 'Data value = '"
   ]
  },
  {
   "cell_type": "code",
   "execution_count": 68,
   "id": "849608cb-3492-4865-97e2-c12d2a169fb8",
   "metadata": {},
   "outputs": [
    {
     "data": {
      "application/vnd.jupyter.widget-view+json": {
       "model_id": "05361aa50aaa47e7bf406eeb4de9c582",
       "version_major": 2,
       "version_minor": 0
      },
      "text/plain": [
       "Figure(axes=[ColorAxis(orientation='vertical', scale=ColorScale(scheme='Greens'), side='right'), Axis(label='C…"
      ]
     },
     "metadata": {},
     "output_type": "display_data"
    }
   ],
   "source": [
    "# 2. scales\n",
    "col_sc = bqplot.ColorScale(scheme='Greens')\n",
    "x_sc = bqplot.OrdinalScale() # ordered bin numbers\n",
    "y_sc = bqplot.OrdinalScale()\n",
    "\n",
    "# 3. Axis \n",
    "col_ax = bqplot.ColorAxis(scale=col_sc, orientation='vertical', side='right')\n",
    "x_ax = bqplot.Axis(scale=x_sc, label='Column Bin')\n",
    "y_ax = bqplot.Axis(scale=y_sc, label='Row Bin', orientation='vertical')\n",
    "\n",
    "# 4. Mark\n",
    "heat_map = bqplot.GridHeatMap(color=data, scales={'color':col_sc,\n",
    "                                                 'row':y_sc,\n",
    "                                                 'column':x_sc},\n",
    "                             interactions={'click':'select'}, \n",
    "                             anchor_style={'fill':'magenta'}\n",
    "                             )\n",
    "\n",
    "# 5. interactivity\n",
    "def on_selected(change):\n",
    "    print(change)\n",
    "heat_map.observe(on_selected, 'selected')\n",
    "\n",
    "# 6. figure\n",
    "fig = bqplot.Figure(marks=[heat_map], axes=[col_ax, x_ax, y_ax])\n",
    "fig"
   ]
  },
  {
   "cell_type": "code",
   "execution_count": 72,
   "id": "32c88ff5-d45f-402e-b891-93febd832c3a",
   "metadata": {},
   "outputs": [
    {
     "data": {
      "application/vnd.jupyter.widget-view+json": {
       "model_id": "c8eeaab9c9d84898be21b45021908be3",
       "version_major": 2,
       "version_minor": 0
      },
      "text/plain": [
       "Figure(axes=[ColorAxis(orientation='vertical', scale=ColorScale(scheme='Greens'), side='right'), Axis(label='C…"
      ]
     },
     "metadata": {},
     "output_type": "display_data"
    }
   ],
   "source": [
    "# 2. scales\n",
    "col_sc = bqplot.ColorScale(scheme='Greens')\n",
    "x_sc = bqplot.OrdinalScale() # ordered bin numbers\n",
    "y_sc = bqplot.OrdinalScale()\n",
    "\n",
    "# 3. Axis \n",
    "col_ax = bqplot.ColorAxis(scale=col_sc, orientation='vertical', side='right')\n",
    "x_ax = bqplot.Axis(scale=x_sc, label='Column Bin')\n",
    "y_ax = bqplot.Axis(scale=y_sc, label='Row Bin', orientation='vertical')\n",
    "\n",
    "# 4. Mark\n",
    "heat_map = bqplot.GridHeatMap(color=data, scales={'color':col_sc,\n",
    "                                                 'row':y_sc,\n",
    "                                                 'column':x_sc},\n",
    "                             interactions={'click':'select'}, \n",
    "                             anchor_style={'fill':'magenta'}\n",
    "                             )\n",
    "\n",
    "# 5. interactivity\n",
    "def on_selected(change):\n",
    "    #print(change)\n",
    "    if len(change['owner'].selected) == 1: # only one cell selected at a time\n",
    "        #print(change['owner'].selected[0])\n",
    "        i,j = change['owner'].selected[0]\n",
    "        myLabel.value = 'Data value = ' + str(data[i,j])\n",
    "heat_map.observe(on_selected, 'selected')\n",
    "\n",
    "# 6. figure\n",
    "fig = bqplot.Figure(marks=[heat_map], axes=[col_ax, x_ax, y_ax])\n",
    "fig"
   ]
  },
  {
   "cell_type": "code",
   "execution_count": 70,
   "id": "3d62d566-4c83-4977-8d96-c43b06c4cc5f",
   "metadata": {},
   "outputs": [
    {
     "data": {
      "text/plain": [
       "array([[5, 3]])"
      ]
     },
     "execution_count": 70,
     "metadata": {},
     "output_type": "execute_result"
    }
   ],
   "source": [
    "heat_map.selected"
   ]
  },
  {
   "cell_type": "code",
   "execution_count": 73,
   "id": "ab12e1d4-f7e0-49e8-8088-61a6cb9a6448",
   "metadata": {},
   "outputs": [
    {
     "data": {
      "application/vnd.jupyter.widget-view+json": {
       "model_id": "55432ccde50d44eeb2710caa81c4d605",
       "version_major": 2,
       "version_minor": 0
      },
      "text/plain": [
       "Label(value='Data value = 0.6724727383787')"
      ]
     },
     "metadata": {},
     "output_type": "display_data"
    }
   ],
   "source": [
    "myLabel"
   ]
  },
  {
   "cell_type": "code",
   "execution_count": 75,
   "id": "4f177977-fd2d-49af-9b4c-cfe27754c260",
   "metadata": {},
   "outputs": [
    {
     "data": {
      "application/vnd.jupyter.widget-view+json": {
       "model_id": "2ec7bbe1eb284a6599aeaed8768f8b57",
       "version_major": 2,
       "version_minor": 0
      },
      "text/plain": [
       "VBox(children=(Label(value='Data value = 0.19097005087221808'), Figure(axes=[ColorAxis(orientation='vertical',…"
      ]
     },
     "metadata": {},
     "output_type": "display_data"
    }
   ],
   "source": [
    "# 2. scales\n",
    "col_sc = bqplot.ColorScale(scheme='Greens')\n",
    "x_sc = bqplot.OrdinalScale() # ordered bin numbers\n",
    "y_sc = bqplot.OrdinalScale()\n",
    "\n",
    "# 3. Axis \n",
    "col_ax = bqplot.ColorAxis(scale=col_sc, orientation='vertical', side='right')\n",
    "x_ax = bqplot.Axis(scale=x_sc, label='Column Bin')\n",
    "y_ax = bqplot.Axis(scale=y_sc, label='Row Bin', orientation='vertical')\n",
    "\n",
    "# 4. Mark\n",
    "heat_map = bqplot.GridHeatMap(color=data, scales={'color':col_sc,\n",
    "                                                 'row':y_sc,\n",
    "                                                 'column':x_sc},\n",
    "                             interactions={'click':'select'}, \n",
    "                             anchor_style={'fill':'magenta'}\n",
    "                             )\n",
    "\n",
    "# 5. interactivity\n",
    "def on_selected(change):\n",
    "    #print(change)\n",
    "    if len(change['owner'].selected) == 1: # only one cell selected at a time\n",
    "        #print(change['owner'].selected[0])\n",
    "        i,j = change['owner'].selected[0]\n",
    "        myLabel.value = 'Data value = ' + str(data[i,j])\n",
    "heat_map.observe(on_selected, 'selected')\n",
    "\n",
    "# 6. figure\n",
    "fig = bqplot.Figure(marks=[heat_map], axes=[col_ax, x_ax, y_ax])\n",
    "#fig\n",
    "\n",
    "# 7. dashboard it\n",
    "dashboard = ipywidgets.VBox([myLabel, fig])\n",
    "dashboard"
   ]
  },
  {
   "cell_type": "markdown",
   "id": "cef8278d-fee1-4b99-aa29-f3c27b533fa2",
   "metadata": {},
   "source": [
    "## 3d random data"
   ]
  },
  {
   "cell_type": "code",
   "execution_count": 76,
   "id": "e0313026-f0ce-459b-8d73-a5f1b0130e3f",
   "metadata": {},
   "outputs": [],
   "source": [
    "data3d = np.random.random((10,10,20))"
   ]
  },
  {
   "cell_type": "code",
   "execution_count": 78,
   "id": "ec79bd55-4469-49fd-8dbd-ef4ab56edeaa",
   "metadata": {},
   "outputs": [
    {
     "data": {
      "application/vnd.jupyter.widget-view+json": {
       "model_id": "7159b72a56b448fa895790dbc2a68dab",
       "version_major": 2,
       "version_minor": 0
      },
      "text/plain": [
       "VBox(children=(Label(value='Data value = 0.814372757369537'), Figure(axes=[ColorAxis(orientation='vertical', s…"
      ]
     },
     "metadata": {},
     "output_type": "display_data"
    }
   ],
   "source": [
    "# 2. scales\n",
    "col_sc = bqplot.ColorScale(scheme='Greens')\n",
    "x_sc = bqplot.OrdinalScale() # ordered bin numbers\n",
    "y_sc = bqplot.OrdinalScale()\n",
    "\n",
    "# 3. Axis \n",
    "col_ax = bqplot.ColorAxis(scale=col_sc, orientation='vertical', side='right')\n",
    "x_ax = bqplot.Axis(scale=x_sc, label='Column Bin')\n",
    "y_ax = bqplot.Axis(scale=y_sc, label='Row Bin', orientation='vertical')\n",
    "\n",
    "# 4. Mark\n",
    "heat_map = bqplot.GridHeatMap(color=np.sum(data3d,axis=2), # changed here for data3d\n",
    "                              scales={'color':col_sc,\n",
    "                                                 'row':y_sc,\n",
    "                                                 'column':x_sc},\n",
    "                             interactions={'click':'select'}, \n",
    "                             anchor_style={'fill':'magenta'}\n",
    "                             )\n",
    "\n",
    "# 5. interactivity\n",
    "def on_selected(change):\n",
    "    if len(change['owner'].selected) == 1: # only one cell selected at a time\n",
    "        i,j = change['owner'].selected[0]\n",
    "        myLabel.value = 'Data value (sum) = ' + str(np.sum(data3d[i,j,:])) # changed here for data3d\n",
    "heat_map.observe(on_selected, 'selected')\n",
    "\n",
    "# 6. figure\n",
    "fig = bqplot.Figure(marks=[heat_map], axes=[col_ax, x_ax, y_ax])\n",
    "#fig\n",
    "\n",
    "# 7. dashboard it\n",
    "dashboard = ipywidgets.VBox([myLabel, fig])\n",
    "dashboard"
   ]
  },
  {
   "cell_type": "code",
   "execution_count": 87,
   "id": "b69a0b82-028b-4a9f-bfb3-df943d6bec56",
   "metadata": {},
   "outputs": [
    {
     "data": {
      "text/plain": [
       "array([[2, 4]])"
      ]
     },
     "execution_count": 87,
     "metadata": {},
     "output_type": "execute_result"
    }
   ],
   "source": [
    "heat_map.selected"
   ]
  },
  {
   "cell_type": "code",
   "execution_count": 88,
   "id": "28818176-6186-4b43-b15b-22e1a1f6d3db",
   "metadata": {},
   "outputs": [],
   "source": [
    "i,j = 2, 4 # hardcoded for right now"
   ]
  },
  {
   "cell_type": "code",
   "execution_count": 89,
   "id": "0872a05c-0ebf-49b8-86dd-7481f9976f93",
   "metadata": {},
   "outputs": [
    {
     "data": {
      "text/plain": [
       "array([0.82547582, 0.77680535, 0.67754424, 0.68122857, 0.46838934,\n",
       "       0.1395366 , 0.64964929, 0.49782137, 0.93877159, 0.34961361,\n",
       "       0.0277085 , 0.15967826, 0.6345999 , 0.84664458, 0.25910891,\n",
       "       0.26997155, 0.07221534, 0.35591331, 0.63635353, 0.58816059])"
      ]
     },
     "execution_count": 89,
     "metadata": {},
     "output_type": "execute_result"
    }
   ],
   "source": [
    "data3d[i,j,:] # 1. data for histogram"
   ]
  },
  {
   "cell_type": "code",
   "execution_count": 90,
   "id": "fed68314-2b1a-4021-8cb6-42041132817a",
   "metadata": {},
   "outputs": [],
   "source": [
    "# 2. scales\n",
    "x_sch = bqplot.LinearScale()\n",
    "y_sch = bqplot.LinearScale()\n",
    "\n",
    "# 3. axis\n",
    "x_axh = bqplot.Axis(scale=x_sch, label='Value of 3rd axis')\n",
    "y_axh = bqplot.Axis(scale=y_sch, label='Frequency', orientation='vertical')"
   ]
  },
  {
   "cell_type": "code",
   "execution_count": 91,
   "id": "1ba3a878-c649-41f5-af80-aa973c2bbbb8",
   "metadata": {},
   "outputs": [],
   "source": [
    "#bqplot.Hist?"
   ]
  },
  {
   "cell_type": "code",
   "execution_count": 92,
   "id": "3e1d656d-9875-45e4-ba23-3958886418ed",
   "metadata": {},
   "outputs": [],
   "source": [
    "# 4. Marks -- histogram\n",
    "hist = bqplot.Hist(sample=data3d[i,j,:], scales={'sample':x_sch, 'count':y_sch}, bins=5)"
   ]
  },
  {
   "cell_type": "code",
   "execution_count": 93,
   "id": "71fb3a47-3094-4b42-9dbf-8b2c2e8da3e8",
   "metadata": {},
   "outputs": [
    {
     "data": {
      "application/vnd.jupyter.widget-view+json": {
       "model_id": "2e432997c7de4b078100db5f53926f18",
       "version_major": 2,
       "version_minor": 0
      },
      "text/plain": [
       "Figure(axes=[Axis(label='Value of 3rd axis', scale=LinearScale(), side='bottom'), Axis(label='Frequency', orie…"
      ]
     },
     "metadata": {},
     "output_type": "display_data"
    }
   ],
   "source": [
    "# 5. interactions -- skip (but see prep notebook for more!)\n",
    "\n",
    "# 6. figure\n",
    "figh = bqplot.Figure(marks=[hist], axes=[x_axh,y_axh])\n",
    "figh"
   ]
  },
  {
   "cell_type": "code",
   "execution_count": 94,
   "id": "14e0eba9-ec1c-41a4-b028-1baf48a0c503",
   "metadata": {},
   "outputs": [
    {
     "data": {
      "text/plain": [
       "['_model_module',\n",
       " '_model_module_version',\n",
       " '_model_name',\n",
       " '_view_count',\n",
       " '_view_module',\n",
       " '_view_module_version',\n",
       " '_view_name',\n",
       " 'apply_clip',\n",
       " 'bins',\n",
       " 'colors',\n",
       " 'count',\n",
       " 'display_legend',\n",
       " 'enable_hover',\n",
       " 'interactions',\n",
       " 'labels',\n",
       " 'midpoints',\n",
       " 'normalized',\n",
       " 'opacities',\n",
       " 'preserve_domain',\n",
       " 'sample',\n",
       " 'scales',\n",
       " 'scales_metadata',\n",
       " 'selected',\n",
       " 'selected_style',\n",
       " 'stroke',\n",
       " 'tooltip',\n",
       " 'tooltip_location',\n",
       " 'tooltip_style',\n",
       " 'unselected_style',\n",
       " 'visible']"
      ]
     },
     "execution_count": 94,
     "metadata": {},
     "output_type": "execute_result"
    }
   ],
   "source": [
    "hist.keys"
   ]
  },
  {
   "cell_type": "code",
   "execution_count": 95,
   "id": "8891c8fe-97eb-471e-bb76-0300cb391db8",
   "metadata": {},
   "outputs": [
    {
     "data": {
      "text/plain": [
       "array([0.82547582, 0.77680535, 0.67754424, 0.68122857, 0.46838934,\n",
       "       0.1395366 , 0.64964929, 0.49782137, 0.93877159, 0.34961361,\n",
       "       0.0277085 , 0.15967826, 0.6345999 , 0.84664458, 0.25910891,\n",
       "       0.26997155, 0.07221534, 0.35591331, 0.63635353, 0.58816059])"
      ]
     },
     "execution_count": 95,
     "metadata": {},
     "output_type": "execute_result"
    }
   ],
   "source": [
    "hist.sample"
   ]
  },
  {
   "cell_type": "code",
   "execution_count": 96,
   "id": "9074f796-7b24-416e-85c1-de3e035243f8",
   "metadata": {},
   "outputs": [
    {
     "data": {
      "text/plain": [
       "array([0.82547582, 0.77680535, 0.67754424, 0.68122857, 0.46838934,\n",
       "       0.1395366 , 0.64964929, 0.49782137, 0.93877159, 0.34961361,\n",
       "       0.0277085 , 0.15967826, 0.6345999 , 0.84664458, 0.25910891,\n",
       "       0.26997155, 0.07221534, 0.35591331, 0.63635353, 0.58816059])"
      ]
     },
     "execution_count": 96,
     "metadata": {},
     "output_type": "execute_result"
    }
   ],
   "source": [
    "data3d[i,j,:]"
   ]
  },
  {
   "cell_type": "code",
   "execution_count": 97,
   "id": "350d09a5-3ce8-4451-88a4-883db7ad74b9",
   "metadata": {},
   "outputs": [
    {
     "data": {
      "application/vnd.jupyter.widget-view+json": {
       "model_id": "1832a548c6c144a2ba839df191492ca6",
       "version_major": 2,
       "version_minor": 0
      },
      "text/plain": [
       "VBox(children=(Label(value='Data value (sum) = 9.855190244510057'), Figure(axes=[ColorAxis(orientation='vertic…"
      ]
     },
     "metadata": {},
     "output_type": "display_data"
    }
   ],
   "source": [
    "# 2. scales\n",
    "col_sc = bqplot.ColorScale(scheme='Greens')\n",
    "x_sc = bqplot.OrdinalScale() # ordered bin numbers\n",
    "y_sc = bqplot.OrdinalScale()\n",
    "\n",
    "# 3. Axis \n",
    "col_ax = bqplot.ColorAxis(scale=col_sc, orientation='vertical', side='right')\n",
    "x_ax = bqplot.Axis(scale=x_sc, label='Column Bin')\n",
    "y_ax = bqplot.Axis(scale=y_sc, label='Row Bin', orientation='vertical')\n",
    "\n",
    "# 4. Mark\n",
    "heat_map = bqplot.GridHeatMap(color=np.sum(data3d,axis=2), # changed here for data3d\n",
    "                              scales={'color':col_sc,\n",
    "                                                 'row':y_sc,\n",
    "                                                 'column':x_sc},\n",
    "                             interactions={'click':'select'}, \n",
    "                             anchor_style={'fill':'magenta'}\n",
    "                             )\n",
    "\n",
    "# 5. interactivity\n",
    "def on_selected(change):\n",
    "    if len(change['owner'].selected) == 1: # only one cell selected at a time\n",
    "        i,j = change['owner'].selected[0]\n",
    "        myLabel.value = 'Data value (sum) = ' + str(np.sum(data3d[i,j,:])) # changed here for data3d\n",
    "        hist.sample = data3d[i,j,:]\n",
    "heat_map.observe(on_selected, 'selected')\n",
    "\n",
    "# 6. figure\n",
    "fig = bqplot.Figure(marks=[heat_map], axes=[col_ax, x_ax, y_ax])\n",
    "#fig\n",
    "\n",
    "# 7. dashboard it\n",
    "dashboard = ipywidgets.VBox([myLabel, fig])\n",
    "dashboard"
   ]
  },
  {
   "cell_type": "code",
   "execution_count": 99,
   "id": "2fedcb0e-084b-4565-89f0-b6f68bb1b004",
   "metadata": {},
   "outputs": [
    {
     "data": {
      "application/vnd.jupyter.widget-view+json": {
       "model_id": "b4d5a8a7c75844bbb4e28712ab661ae5",
       "version_major": 2,
       "version_minor": 0
      },
      "text/plain": [
       "VBox(children=(Label(value='Data value (sum) = 11.185800903922226'), HBox(children=(Figure(axes=[ColorAxis(ori…"
      ]
     },
     "metadata": {},
     "output_type": "display_data"
    }
   ],
   "source": [
    "figures = ipywidgets.HBox([fig, figh])\n",
    "dashboard = ipywidgets.VBox([myLabel, figures])\n",
    "fig.layout.min_width = '500px'\n",
    "figh.layout.min_width = '500px'\n",
    "dashboard"
   ]
  },
  {
   "cell_type": "code",
   "execution_count": null,
   "id": "3bce0935-9907-4b6a-a4a2-6f74ececed9f",
   "metadata": {},
   "outputs": [],
   "source": []
  }
 ],
 "metadata": {
  "kernelspec": {
   "display_name": "Python 3 (ipykernel)",
   "language": "python",
   "name": "python3"
  },
  "language_info": {
   "codemirror_mode": {
    "name": "ipython",
    "version": 3
   },
   "file_extension": ".py",
   "mimetype": "text/x-python",
   "name": "python",
   "nbconvert_exporter": "python",
   "pygments_lexer": "ipython3",
   "version": "3.10.14"
  }
 },
 "nbformat": 4,
 "nbformat_minor": 5
}
