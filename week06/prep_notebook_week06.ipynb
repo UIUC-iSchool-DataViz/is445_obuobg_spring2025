{
 "cells": [
  {
   "cell_type": "markdown",
   "metadata": {},
   "source": [
    "# Week 06: Continuing interactivity in Python with the viz engine bqplot"
   ]
  },
  {
   "cell_type": "markdown",
   "metadata": {},
   "source": [
    "## But first, some hints for the HW"
   ]
  },
  {
   "cell_type": "markdown",
   "metadata": {},
   "source": [
    "Let's look at an example dataset:"
   ]
  },
  {
   "cell_type": "code",
   "execution_count": 2,
   "metadata": {},
   "outputs": [],
   "source": [
    "import pandas as pd\n",
    "\n",
    "bf = pd.read_csv(\"https://raw.githubusercontent.com/UIUC-iSchool-DataViz/is445_bcubcg_fall2022/main/data/bfro_reports_fall2022.csv\",\n",
    "                  parse_dates = [\"date\"])\n",
    "\n",
    "# you might get a memory warning thing, its just not deprecated correctly\n",
    "#  try not to panic :D"
   ]
  },
  {
   "cell_type": "code",
   "execution_count": 3,
   "metadata": {},
   "outputs": [
    {
     "data": {
      "text/html": [
       "<div>\n",
       "<style scoped>\n",
       "    .dataframe tbody tr th:only-of-type {\n",
       "        vertical-align: middle;\n",
       "    }\n",
       "\n",
       "    .dataframe tbody tr th {\n",
       "        vertical-align: top;\n",
       "    }\n",
       "\n",
       "    .dataframe thead th {\n",
       "        text-align: right;\n",
       "    }\n",
       "</style>\n",
       "<table border=\"1\" class=\"dataframe\">\n",
       "  <thead>\n",
       "    <tr style=\"text-align: right;\">\n",
       "      <th></th>\n",
       "      <th>observed</th>\n",
       "      <th>location_details</th>\n",
       "      <th>county</th>\n",
       "      <th>state</th>\n",
       "      <th>season</th>\n",
       "      <th>title</th>\n",
       "      <th>latitude</th>\n",
       "      <th>longitude</th>\n",
       "      <th>date</th>\n",
       "      <th>number</th>\n",
       "      <th>...</th>\n",
       "      <th>precip_intensity</th>\n",
       "      <th>precip_probability</th>\n",
       "      <th>precip_type</th>\n",
       "      <th>pressure</th>\n",
       "      <th>summary</th>\n",
       "      <th>uv_index</th>\n",
       "      <th>visibility</th>\n",
       "      <th>wind_bearing</th>\n",
       "      <th>wind_speed</th>\n",
       "      <th>location</th>\n",
       "    </tr>\n",
       "  </thead>\n",
       "  <tbody>\n",
       "    <tr>\n",
       "      <th>0</th>\n",
       "      <td>Ed L. was salmon fishing with a companion in P...</td>\n",
       "      <td>East side of Prince William Sound</td>\n",
       "      <td>Valdez-Chitina-Whittier County</td>\n",
       "      <td>Alaska</td>\n",
       "      <td>Fall</td>\n",
       "      <td>NaN</td>\n",
       "      <td>NaN</td>\n",
       "      <td>NaN</td>\n",
       "      <td>NaT</td>\n",
       "      <td>1261.0</td>\n",
       "      <td>...</td>\n",
       "      <td>NaN</td>\n",
       "      <td>NaN</td>\n",
       "      <td>NaN</td>\n",
       "      <td>NaN</td>\n",
       "      <td>NaN</td>\n",
       "      <td>NaN</td>\n",
       "      <td>NaN</td>\n",
       "      <td>NaN</td>\n",
       "      <td>NaN</td>\n",
       "      <td>NaN</td>\n",
       "    </tr>\n",
       "    <tr>\n",
       "      <th>1</th>\n",
       "      <td>heh i kinda feel a little dumb that im reporti...</td>\n",
       "      <td>the road is off us rt 80, i dont know the exit...</td>\n",
       "      <td>Warren County</td>\n",
       "      <td>New Jersey</td>\n",
       "      <td>Fall</td>\n",
       "      <td>NaN</td>\n",
       "      <td>NaN</td>\n",
       "      <td>NaN</td>\n",
       "      <td>NaT</td>\n",
       "      <td>438.0</td>\n",
       "      <td>...</td>\n",
       "      <td>NaN</td>\n",
       "      <td>NaN</td>\n",
       "      <td>NaN</td>\n",
       "      <td>NaN</td>\n",
       "      <td>NaN</td>\n",
       "      <td>NaN</td>\n",
       "      <td>NaN</td>\n",
       "      <td>NaN</td>\n",
       "      <td>NaN</td>\n",
       "      <td>NaN</td>\n",
       "    </tr>\n",
       "    <tr>\n",
       "      <th>2</th>\n",
       "      <td>I was on my way to Claremont from Lebanon on R...</td>\n",
       "      <td>Close to Claremont down 120 not far from Kings...</td>\n",
       "      <td>Sullivan County</td>\n",
       "      <td>New Hampshire</td>\n",
       "      <td>Summer</td>\n",
       "      <td>Report 55269: Dawn sighting at Stevens Brook o...</td>\n",
       "      <td>43.41549</td>\n",
       "      <td>-72.33093</td>\n",
       "      <td>2016-06-07</td>\n",
       "      <td>55269.0</td>\n",
       "      <td>...</td>\n",
       "      <td>0.001</td>\n",
       "      <td>0.7</td>\n",
       "      <td>rain</td>\n",
       "      <td>998.87</td>\n",
       "      <td>Mostly cloudy throughout the day.</td>\n",
       "      <td>6.0</td>\n",
       "      <td>9.70</td>\n",
       "      <td>262.0</td>\n",
       "      <td>0.49</td>\n",
       "      <td>POINT(-72.33093000000001 43.415490000000005)</td>\n",
       "    </tr>\n",
       "    <tr>\n",
       "      <th>3</th>\n",
       "      <td>I was northeast of Macy Nebraska along the Mis...</td>\n",
       "      <td>Latitude &amp; Longitude :  42.158230  -96.344197</td>\n",
       "      <td>Thurston County</td>\n",
       "      <td>Nebraska</td>\n",
       "      <td>Spring</td>\n",
       "      <td>Report 59757: Possible daylight sighting of a ...</td>\n",
       "      <td>42.15685</td>\n",
       "      <td>-96.34203</td>\n",
       "      <td>2018-05-25</td>\n",
       "      <td>59757.0</td>\n",
       "      <td>...</td>\n",
       "      <td>0.000</td>\n",
       "      <td>0.0</td>\n",
       "      <td>NaN</td>\n",
       "      <td>1008.07</td>\n",
       "      <td>Partly cloudy in the morning.</td>\n",
       "      <td>10.0</td>\n",
       "      <td>8.25</td>\n",
       "      <td>193.0</td>\n",
       "      <td>3.33</td>\n",
       "      <td>POINT(-96.34203000000001 42.15685)</td>\n",
       "    </tr>\n",
       "    <tr>\n",
       "      <th>4</th>\n",
       "      <td>While this incident occurred a long time ago, ...</td>\n",
       "      <td>Ward County, Just outside of a the Minuteman T...</td>\n",
       "      <td>Ward County</td>\n",
       "      <td>North Dakota</td>\n",
       "      <td>Spring</td>\n",
       "      <td>Report 751: Hunter describes described being s...</td>\n",
       "      <td>48.25422</td>\n",
       "      <td>-101.31660</td>\n",
       "      <td>2000-04-21</td>\n",
       "      <td>751.0</td>\n",
       "      <td>...</td>\n",
       "      <td>NaN</td>\n",
       "      <td>NaN</td>\n",
       "      <td>rain</td>\n",
       "      <td>1011.47</td>\n",
       "      <td>Partly cloudy until evening.</td>\n",
       "      <td>6.0</td>\n",
       "      <td>10.00</td>\n",
       "      <td>237.0</td>\n",
       "      <td>11.14</td>\n",
       "      <td>POINT(-101.3166 48.254220000000004)</td>\n",
       "    </tr>\n",
       "    <tr>\n",
       "      <th>...</th>\n",
       "      <td>...</td>\n",
       "      <td>...</td>\n",
       "      <td>...</td>\n",
       "      <td>...</td>\n",
       "      <td>...</td>\n",
       "      <td>...</td>\n",
       "      <td>...</td>\n",
       "      <td>...</td>\n",
       "      <td>...</td>\n",
       "      <td>...</td>\n",
       "      <td>...</td>\n",
       "      <td>...</td>\n",
       "      <td>...</td>\n",
       "      <td>...</td>\n",
       "      <td>...</td>\n",
       "      <td>...</td>\n",
       "      <td>...</td>\n",
       "      <td>...</td>\n",
       "      <td>...</td>\n",
       "      <td>...</td>\n",
       "      <td>...</td>\n",
       "    </tr>\n",
       "    <tr>\n",
       "      <th>4742</th>\n",
       "      <td>My cousin and I were camping way out in the wo...</td>\n",
       "      <td>Indiana, Brown County, Elkinsville, Lake Monro...</td>\n",
       "      <td>Brown County</td>\n",
       "      <td>Indiana</td>\n",
       "      <td>Spring</td>\n",
       "      <td>NaN</td>\n",
       "      <td>NaN</td>\n",
       "      <td>NaN</td>\n",
       "      <td>NaT</td>\n",
       "      <td>2460.0</td>\n",
       "      <td>...</td>\n",
       "      <td>NaN</td>\n",
       "      <td>NaN</td>\n",
       "      <td>NaN</td>\n",
       "      <td>NaN</td>\n",
       "      <td>NaN</td>\n",
       "      <td>NaN</td>\n",
       "      <td>NaN</td>\n",
       "      <td>NaN</td>\n",
       "      <td>NaN</td>\n",
       "      <td>NaN</td>\n",
       "    </tr>\n",
       "    <tr>\n",
       "      <th>4743</th>\n",
       "      <td>While backpacking near the horse trails and ac...</td>\n",
       "      <td>Near Bedford south of Brown County in the Hoos...</td>\n",
       "      <td>Brown County</td>\n",
       "      <td>Indiana</td>\n",
       "      <td>Winter</td>\n",
       "      <td>NaN</td>\n",
       "      <td>NaN</td>\n",
       "      <td>NaN</td>\n",
       "      <td>NaT</td>\n",
       "      <td>2461.0</td>\n",
       "      <td>...</td>\n",
       "      <td>NaN</td>\n",
       "      <td>NaN</td>\n",
       "      <td>NaN</td>\n",
       "      <td>NaN</td>\n",
       "      <td>NaN</td>\n",
       "      <td>NaN</td>\n",
       "      <td>NaN</td>\n",
       "      <td>NaN</td>\n",
       "      <td>NaN</td>\n",
       "      <td>NaN</td>\n",
       "    </tr>\n",
       "    <tr>\n",
       "      <th>4744</th>\n",
       "      <td>My wife and I were camping At Yellowood State ...</td>\n",
       "      <td>Yellowood State Park. Off of highway 46 in bet...</td>\n",
       "      <td>Brown County</td>\n",
       "      <td>Indiana</td>\n",
       "      <td>Summer</td>\n",
       "      <td>Report 49480: Campers hear possible vocalizati...</td>\n",
       "      <td>39.17909</td>\n",
       "      <td>-86.33560</td>\n",
       "      <td>2015-08-08</td>\n",
       "      <td>49480.0</td>\n",
       "      <td>...</td>\n",
       "      <td>0.000</td>\n",
       "      <td>0.0</td>\n",
       "      <td>NaN</td>\n",
       "      <td>1014.02</td>\n",
       "      <td>Mostly cloudy in the evening.</td>\n",
       "      <td>9.0</td>\n",
       "      <td>9.22</td>\n",
       "      <td>256.0</td>\n",
       "      <td>0.34</td>\n",
       "      <td>POINT(-86.3356 39.17909)</td>\n",
       "    </tr>\n",
       "    <tr>\n",
       "      <th>4745</th>\n",
       "      <td>My wife and I were driving to Indianapolis to ...</td>\n",
       "      <td>On Interstate 65 in Indiana somewhere around t...</td>\n",
       "      <td>Boone County</td>\n",
       "      <td>Indiana</td>\n",
       "      <td>Winter</td>\n",
       "      <td>NaN</td>\n",
       "      <td>NaN</td>\n",
       "      <td>NaN</td>\n",
       "      <td>NaT</td>\n",
       "      <td>2459.0</td>\n",
       "      <td>...</td>\n",
       "      <td>NaN</td>\n",
       "      <td>NaN</td>\n",
       "      <td>NaN</td>\n",
       "      <td>NaN</td>\n",
       "      <td>NaN</td>\n",
       "      <td>NaN</td>\n",
       "      <td>NaN</td>\n",
       "      <td>NaN</td>\n",
       "      <td>NaN</td>\n",
       "      <td>NaN</td>\n",
       "    </tr>\n",
       "    <tr>\n",
       "      <th>4746</th>\n",
       "      <td>It was about 7:00 PM in September. It was stil...</td>\n",
       "      <td>Blackford County, Indiana located in the south...</td>\n",
       "      <td>Blackford County</td>\n",
       "      <td>Indiana</td>\n",
       "      <td>Summer</td>\n",
       "      <td>NaN</td>\n",
       "      <td>NaN</td>\n",
       "      <td>NaN</td>\n",
       "      <td>NaT</td>\n",
       "      <td>2458.0</td>\n",
       "      <td>...</td>\n",
       "      <td>NaN</td>\n",
       "      <td>NaN</td>\n",
       "      <td>NaN</td>\n",
       "      <td>NaN</td>\n",
       "      <td>NaN</td>\n",
       "      <td>NaN</td>\n",
       "      <td>NaN</td>\n",
       "      <td>NaN</td>\n",
       "      <td>NaN</td>\n",
       "      <td>NaN</td>\n",
       "    </tr>\n",
       "  </tbody>\n",
       "</table>\n",
       "<p>4747 rows × 29 columns</p>\n",
       "</div>"
      ],
      "text/plain": [
       "                                               observed  \\\n",
       "0     Ed L. was salmon fishing with a companion in P...   \n",
       "1     heh i kinda feel a little dumb that im reporti...   \n",
       "2     I was on my way to Claremont from Lebanon on R...   \n",
       "3     I was northeast of Macy Nebraska along the Mis...   \n",
       "4     While this incident occurred a long time ago, ...   \n",
       "...                                                 ...   \n",
       "4742  My cousin and I were camping way out in the wo...   \n",
       "4743  While backpacking near the horse trails and ac...   \n",
       "4744  My wife and I were camping At Yellowood State ...   \n",
       "4745  My wife and I were driving to Indianapolis to ...   \n",
       "4746  It was about 7:00 PM in September. It was stil...   \n",
       "\n",
       "                                       location_details  \\\n",
       "0                     East side of Prince William Sound   \n",
       "1     the road is off us rt 80, i dont know the exit...   \n",
       "2     Close to Claremont down 120 not far from Kings...   \n",
       "3         Latitude & Longitude :  42.158230  -96.344197   \n",
       "4     Ward County, Just outside of a the Minuteman T...   \n",
       "...                                                 ...   \n",
       "4742  Indiana, Brown County, Elkinsville, Lake Monro...   \n",
       "4743  Near Bedford south of Brown County in the Hoos...   \n",
       "4744  Yellowood State Park. Off of highway 46 in bet...   \n",
       "4745  On Interstate 65 in Indiana somewhere around t...   \n",
       "4746  Blackford County, Indiana located in the south...   \n",
       "\n",
       "                              county          state  season  \\\n",
       "0     Valdez-Chitina-Whittier County         Alaska    Fall   \n",
       "1                      Warren County     New Jersey    Fall   \n",
       "2                    Sullivan County  New Hampshire  Summer   \n",
       "3                    Thurston County       Nebraska  Spring   \n",
       "4                        Ward County   North Dakota  Spring   \n",
       "...                              ...            ...     ...   \n",
       "4742                    Brown County        Indiana  Spring   \n",
       "4743                    Brown County        Indiana  Winter   \n",
       "4744                    Brown County        Indiana  Summer   \n",
       "4745                    Boone County        Indiana  Winter   \n",
       "4746                Blackford County        Indiana  Summer   \n",
       "\n",
       "                                                  title  latitude  longitude  \\\n",
       "0                                                   NaN       NaN        NaN   \n",
       "1                                                   NaN       NaN        NaN   \n",
       "2     Report 55269: Dawn sighting at Stevens Brook o...  43.41549  -72.33093   \n",
       "3     Report 59757: Possible daylight sighting of a ...  42.15685  -96.34203   \n",
       "4     Report 751: Hunter describes described being s...  48.25422 -101.31660   \n",
       "...                                                 ...       ...        ...   \n",
       "4742                                                NaN       NaN        NaN   \n",
       "4743                                                NaN       NaN        NaN   \n",
       "4744  Report 49480: Campers hear possible vocalizati...  39.17909  -86.33560   \n",
       "4745                                                NaN       NaN        NaN   \n",
       "4746                                                NaN       NaN        NaN   \n",
       "\n",
       "           date   number  ... precip_intensity precip_probability  \\\n",
       "0           NaT   1261.0  ...              NaN                NaN   \n",
       "1           NaT    438.0  ...              NaN                NaN   \n",
       "2    2016-06-07  55269.0  ...            0.001                0.7   \n",
       "3    2018-05-25  59757.0  ...            0.000                0.0   \n",
       "4    2000-04-21    751.0  ...              NaN                NaN   \n",
       "...         ...      ...  ...              ...                ...   \n",
       "4742        NaT   2460.0  ...              NaN                NaN   \n",
       "4743        NaT   2461.0  ...              NaN                NaN   \n",
       "4744 2015-08-08  49480.0  ...            0.000                0.0   \n",
       "4745        NaT   2459.0  ...              NaN                NaN   \n",
       "4746        NaT   2458.0  ...              NaN                NaN   \n",
       "\n",
       "      precip_type  pressure                            summary  uv_index  \\\n",
       "0             NaN       NaN                                NaN       NaN   \n",
       "1             NaN       NaN                                NaN       NaN   \n",
       "2            rain    998.87  Mostly cloudy throughout the day.       6.0   \n",
       "3             NaN   1008.07      Partly cloudy in the morning.      10.0   \n",
       "4            rain   1011.47       Partly cloudy until evening.       6.0   \n",
       "...           ...       ...                                ...       ...   \n",
       "4742          NaN       NaN                                NaN       NaN   \n",
       "4743          NaN       NaN                                NaN       NaN   \n",
       "4744          NaN   1014.02      Mostly cloudy in the evening.       9.0   \n",
       "4745          NaN       NaN                                NaN       NaN   \n",
       "4746          NaN       NaN                                NaN       NaN   \n",
       "\n",
       "      visibility  wind_bearing  wind_speed  \\\n",
       "0            NaN           NaN         NaN   \n",
       "1            NaN           NaN         NaN   \n",
       "2           9.70         262.0        0.49   \n",
       "3           8.25         193.0        3.33   \n",
       "4          10.00         237.0       11.14   \n",
       "...          ...           ...         ...   \n",
       "4742         NaN           NaN         NaN   \n",
       "4743         NaN           NaN         NaN   \n",
       "4744        9.22         256.0        0.34   \n",
       "4745         NaN           NaN         NaN   \n",
       "4746         NaN           NaN         NaN   \n",
       "\n",
       "                                          location  \n",
       "0                                              NaN  \n",
       "1                                              NaN  \n",
       "2     POINT(-72.33093000000001 43.415490000000005)  \n",
       "3               POINT(-96.34203000000001 42.15685)  \n",
       "4              POINT(-101.3166 48.254220000000004)  \n",
       "...                                            ...  \n",
       "4742                                           NaN  \n",
       "4743                                           NaN  \n",
       "4744                      POINT(-86.3356 39.17909)  \n",
       "4745                                           NaN  \n",
       "4746                                           NaN  \n",
       "\n",
       "[4747 rows x 29 columns]"
      ]
     },
     "execution_count": 3,
     "metadata": {},
     "output_type": "execute_result"
    }
   ],
   "source": [
    "bf"
   ]
  },
  {
   "cell_type": "markdown",
   "metadata": {},
   "source": [
    "Second thing to notice, is this is a pretty darn big dataset!  This can get a little cumbersome if you want to be able to do some quick prototyping of visualizations.  \n",
    "\n",
    "Depending on what sort of computer you are working on, you may want to consider working with a *random subset* of this dataframe for your \"prototyping\" phase, and then only use the full dataset when you are ready for *production*:"
   ]
  },
  {
   "cell_type": "code",
   "execution_count": 5,
   "metadata": {},
   "outputs": [
    {
     "data": {
      "text/plain": [
       "array([4492,  345, 2967,  239, 3029, 4407, 3753, 3049, 3476, 3302,  592,\n",
       "         23,  118, 2961,  937, 1676, 3323, 1904, 1339, 3122, 2957, 1805,\n",
       "       1899, 1885, 4327, 4150,  556,  292, 2675, 4307,   15, 4713, 1884,\n",
       "       2974, 3482, 3141, 3930,  944, 4554, 1069,  313, 1299, 4047, 3441,\n",
       "       3418, 1909, 4223, 1905, 1912,  467, 3600, 4135, 1210, 4052, 1522,\n",
       "       1932,   75, 1538, 3442, 3037, 4370, 1416,  894, 4526, 2555,  656,\n",
       "       1008, 1820, 3342, 3870, 3774, 2446, 1442, 1407,  994, 1446, 1095,\n",
       "       1390,  245,  424, 2960, 2519, 1135, 4555, 3121, 4037,  267, 2251,\n",
       "       1735, 4233,  304, 3767, 3919, 3166, 1370, 2354, 2474, 3691, 4514,\n",
       "       1466, 3995,  837,  674, 2039, 4094, 1217, 1014, 4566,   85, 1894,\n",
       "       4465,  157, 4665, 1220, 2467, 4287,  178,   65, 2979, 1880, 4129,\n",
       "       2732, 4108, 2317, 1839,  582, 2930, 1243, 4161, 1150, 1928, 2226,\n",
       "       1410, 2548, 2725, 2431, 4567,  608, 3004,  448, 4373, 4376, 3276,\n",
       "       3428, 3701, 4261, 1553,  679,  499, 4081,  851, 3073,  123, 3567,\n",
       "       1767, 2000,  399, 1565,  911, 1272, 1526, 3312, 3864, 2145,  101,\n",
       "       3169, 1937, 3717, 3496,  498, 2828, 4600, 1991, 4363, 1467, 1244,\n",
       "       2902, 1005, 4158, 3626, 4215, 4340, 1642,  489,  821, 3445,  386,\n",
       "       3553, 3253, 2756, 2357, 2526, 2856, 2956, 4226, 4679, 2992, 1224,\n",
       "       1226, 3067, 1219, 3269, 3432, 1970,  451, 1790, 1441, 3437, 4537,\n",
       "       3739, 3182, 1019, 3268, 1315, 2846, 2129,  200,  727, 1661, 2288,\n",
       "       2105, 4197, 1451,  465, 1375,  480, 1633, 2735, 2676, 1067, 4545,\n",
       "       1901, 4653, 2314, 4262, 3271, 2119, 4013,   20, 2041, 2406,  585,\n",
       "       2067, 3462, 1070, 1333, 2710, 4659,  984, 3897, 1329, 2566, 3781,\n",
       "       1447, 2031, 4339,   32, 1857,  506,  678, 1146, 1155,  887,  536,\n",
       "       1987,  651, 1943, 2112, 2597, 2258, 4384,  581, 2609, 2089, 1843,\n",
       "        701, 2678, 4433, 4073, 3861, 1253, 3361, 1132, 1232, 2790,  797,\n",
       "       3934, 1137, 3752, 2460, 1741, 2893, 2389, 1604, 1470,  507,  363,\n",
       "       1161, 1539, 1816, 3706, 1626, 3605, 4229, 2786, 4016, 3393, 2510,\n",
       "       1638, 2686, 1708, 4123, 4202, 1898,  445, 2858, 4239,  979,  258,\n",
       "       2820, 2587,  244, 1263, 4618, 4259, 1332, 2188,  289, 2491, 4313,\n",
       "       1795, 1782, 4133,  589, 1239,  120, 1876,  554, 1910, 4070,  916,\n",
       "        804, 2652, 3297, 3507, 3069, 1992, 4408, 2823, 2550,  312, 4663,\n",
       "       3976,   18, 1364, 3679, 2755, 1603, 3663, 3609, 3120, 3745, 1409,\n",
       "       4515, 2593, 3771, 4217, 3528, 4436, 3280, 2283, 3305, 1460, 4424,\n",
       "       1045, 3833, 1945, 3422, 2418, 3504, 4715, 4322, 2360,  493,  611,\n",
       "       2151, 3980, 3123, 3079,   50, 3406,  269,  113,  999, 1055, 1160,\n",
       "       2356, 4039, 2451, 3335, 2470, 3646, 3525,  337, 2252, 3633,   37,\n",
       "       1316,  883, 4131,  858, 2772, 4282, 2602, 1960, 2417, 1776,  718,\n",
       "       3988,   61, 4076, 4736, 3710, 2767, 4668,  746, 1529, 1149, 3652,\n",
       "        933,  652,   51,  834, 3587, 1413, 3795, 4372, 1303, 4609, 1957,\n",
       "       4306, 2501, 2878, 1158, 2040,  484, 3892, 1029, 1182, 4200, 3684,\n",
       "        517,  278, 4662, 1425, 4573, 2399, 1422,  349, 4649, 4331, 3589,\n",
       "       2614,  206, 1517, 3412, 2452, 1965, 1397, 3417, 4647, 3850, 4493,\n",
       "       2879, 3257, 2443, 4552, 2409, 1193, 4134, 2121, 3018, 2864, 1766,\n",
       "       3603, 3031, 1896, 1853, 1748, 2184, 1615, 1122, 1341, 1917, 2641,\n",
       "       2681, 2742,  787, 4285, 3791])"
      ]
     },
     "execution_count": 5,
     "metadata": {},
     "output_type": "execute_result"
    }
   ],
   "source": [
    "# Lets down sample to 500 samples:\n",
    "import numpy as np\n",
    "\n",
    "nsamples = 500\n",
    "downSampleMask = np.random.choice(range(len(bf)-1), nsamples, replace=False)\n",
    "downSampleMask # take a look"
   ]
  },
  {
   "cell_type": "markdown",
   "metadata": {},
   "source": [
    "Note: I haven't set the \"seed\" for this random pull of indicies so your list might be different!\n",
    "\n",
    "So, downSampleMask is now a list of random indicies for the UFO dataset.  Let's downsample our dataset:"
   ]
  },
  {
   "cell_type": "code",
   "execution_count": 6,
   "metadata": {},
   "outputs": [],
   "source": [
    "bfDS = bf.loc[downSampleMask]"
   ]
  },
  {
   "cell_type": "code",
   "execution_count": 7,
   "metadata": {},
   "outputs": [
    {
     "data": {
      "text/html": [
       "<div>\n",
       "<style scoped>\n",
       "    .dataframe tbody tr th:only-of-type {\n",
       "        vertical-align: middle;\n",
       "    }\n",
       "\n",
       "    .dataframe tbody tr th {\n",
       "        vertical-align: top;\n",
       "    }\n",
       "\n",
       "    .dataframe thead th {\n",
       "        text-align: right;\n",
       "    }\n",
       "</style>\n",
       "<table border=\"1\" class=\"dataframe\">\n",
       "  <thead>\n",
       "    <tr style=\"text-align: right;\">\n",
       "      <th></th>\n",
       "      <th>observed</th>\n",
       "      <th>location_details</th>\n",
       "      <th>county</th>\n",
       "      <th>state</th>\n",
       "      <th>season</th>\n",
       "      <th>title</th>\n",
       "      <th>latitude</th>\n",
       "      <th>longitude</th>\n",
       "      <th>date</th>\n",
       "      <th>number</th>\n",
       "      <th>...</th>\n",
       "      <th>precip_intensity</th>\n",
       "      <th>precip_probability</th>\n",
       "      <th>precip_type</th>\n",
       "      <th>pressure</th>\n",
       "      <th>summary</th>\n",
       "      <th>uv_index</th>\n",
       "      <th>visibility</th>\n",
       "      <th>wind_bearing</th>\n",
       "      <th>wind_speed</th>\n",
       "      <th>location</th>\n",
       "    </tr>\n",
       "  </thead>\n",
       "  <tbody>\n",
       "    <tr>\n",
       "      <th>4492</th>\n",
       "      <td>In November 1986 I was on my bike (bmx). We ju...</td>\n",
       "      <td>Two miles south of Hennepin on Hennepin Farms Rd.</td>\n",
       "      <td>Putnam County</td>\n",
       "      <td>Illinois</td>\n",
       "      <td>Fall</td>\n",
       "      <td>Report 27374: Man remembers his daytime sighti...</td>\n",
       "      <td>41.22850</td>\n",
       "      <td>-89.32110</td>\n",
       "      <td>1986-11-29</td>\n",
       "      <td>27374.0</td>\n",
       "      <td>...</td>\n",
       "      <td>NaN</td>\n",
       "      <td>NaN</td>\n",
       "      <td>NaN</td>\n",
       "      <td>NaN</td>\n",
       "      <td>NaN</td>\n",
       "      <td>NaN</td>\n",
       "      <td>NaN</td>\n",
       "      <td>NaN</td>\n",
       "      <td>NaN</td>\n",
       "      <td>POINT(-89.3211 41.2285)</td>\n",
       "    </tr>\n",
       "    <tr>\n",
       "      <th>345</th>\n",
       "      <td>i was driving north on Hwy 73 past west Olson ...</td>\n",
       "      <td>Approximately 2 1/2 miles south of where MN Hw...</td>\n",
       "      <td>St. Louis County</td>\n",
       "      <td>Minnesota</td>\n",
       "      <td>Spring</td>\n",
       "      <td>Report 59346: Daytime road crossing on MN-73 n...</td>\n",
       "      <td>47.83334</td>\n",
       "      <td>-92.92708</td>\n",
       "      <td>2018-07-17</td>\n",
       "      <td>59346.0</td>\n",
       "      <td>...</td>\n",
       "      <td>0.0000</td>\n",
       "      <td>0.0</td>\n",
       "      <td>NaN</td>\n",
       "      <td>NaN</td>\n",
       "      <td>Partly cloudy starting in the afternoon, conti...</td>\n",
       "      <td>7.0</td>\n",
       "      <td>10.00</td>\n",
       "      <td>294.0</td>\n",
       "      <td>0.72</td>\n",
       "      <td>POINT(-92.92708 47.83334)</td>\n",
       "    </tr>\n",
       "    <tr>\n",
       "      <th>2967</th>\n",
       "      <td>In the early 90's growing up in eastern ky my ...</td>\n",
       "      <td>Vicinity of a place called Kimper.</td>\n",
       "      <td>Pike County</td>\n",
       "      <td>Kentucky</td>\n",
       "      <td>Winter</td>\n",
       "      <td>Report 4624: Two teens find prints in the snow...</td>\n",
       "      <td>37.49993</td>\n",
       "      <td>-82.35300</td>\n",
       "      <td>1992-12-25</td>\n",
       "      <td>4624.0</td>\n",
       "      <td>...</td>\n",
       "      <td>NaN</td>\n",
       "      <td>NaN</td>\n",
       "      <td>NaN</td>\n",
       "      <td>NaN</td>\n",
       "      <td>NaN</td>\n",
       "      <td>NaN</td>\n",
       "      <td>NaN</td>\n",
       "      <td>NaN</td>\n",
       "      <td>NaN</td>\n",
       "      <td>POINT(-82.353 37.49993)</td>\n",
       "    </tr>\n",
       "    <tr>\n",
       "      <th>239</th>\n",
       "      <td>I was 8 years old, and very much a nature buff...</td>\n",
       "      <td>In Livingston County, MI, near Brighton, appro...</td>\n",
       "      <td>Livingston County</td>\n",
       "      <td>Michigan</td>\n",
       "      <td>Summer</td>\n",
       "      <td>NaN</td>\n",
       "      <td>NaN</td>\n",
       "      <td>NaN</td>\n",
       "      <td>NaT</td>\n",
       "      <td>806.0</td>\n",
       "      <td>...</td>\n",
       "      <td>NaN</td>\n",
       "      <td>NaN</td>\n",
       "      <td>NaN</td>\n",
       "      <td>NaN</td>\n",
       "      <td>NaN</td>\n",
       "      <td>NaN</td>\n",
       "      <td>NaN</td>\n",
       "      <td>NaN</td>\n",
       "      <td>NaN</td>\n",
       "      <td>NaN</td>\n",
       "    </tr>\n",
       "    <tr>\n",
       "      <th>3029</th>\n",
       "      <td>I saw something along Interstate 75 South in K...</td>\n",
       "      <td>30-40 miles south of Cincinnati, OH on Interst...</td>\n",
       "      <td>Grant County</td>\n",
       "      <td>Kentucky</td>\n",
       "      <td>Fall</td>\n",
       "      <td>Report 8715: Motorist has nighttime sighting o...</td>\n",
       "      <td>38.52800</td>\n",
       "      <td>-84.58800</td>\n",
       "      <td>2005-02-02</td>\n",
       "      <td>8715.0</td>\n",
       "      <td>...</td>\n",
       "      <td>0.0019</td>\n",
       "      <td>1.0</td>\n",
       "      <td>snow</td>\n",
       "      <td>1026.43</td>\n",
       "      <td>Mixed precipitation starting in the afternoon,...</td>\n",
       "      <td>3.0</td>\n",
       "      <td>6.27</td>\n",
       "      <td>55.0</td>\n",
       "      <td>2.60</td>\n",
       "      <td>POINT(-84.588 38.528)</td>\n",
       "    </tr>\n",
       "    <tr>\n",
       "      <th>...</th>\n",
       "      <td>...</td>\n",
       "      <td>...</td>\n",
       "      <td>...</td>\n",
       "      <td>...</td>\n",
       "      <td>...</td>\n",
       "      <td>...</td>\n",
       "      <td>...</td>\n",
       "      <td>...</td>\n",
       "      <td>...</td>\n",
       "      <td>...</td>\n",
       "      <td>...</td>\n",
       "      <td>...</td>\n",
       "      <td>...</td>\n",
       "      <td>...</td>\n",
       "      <td>...</td>\n",
       "      <td>...</td>\n",
       "      <td>...</td>\n",
       "      <td>...</td>\n",
       "      <td>...</td>\n",
       "      <td>...</td>\n",
       "      <td>...</td>\n",
       "    </tr>\n",
       "    <tr>\n",
       "      <th>2681</th>\n",
       "      <td>My Marine buddy and I were on a hiking/camping...</td>\n",
       "      <td>N. of Naval Submarine Base Bangor.</td>\n",
       "      <td>Kitsap County</td>\n",
       "      <td>Washington</td>\n",
       "      <td>Summer</td>\n",
       "      <td>Report 1393: Sighting by two hikers</td>\n",
       "      <td>47.76130</td>\n",
       "      <td>-122.70630</td>\n",
       "      <td>1988-06-25</td>\n",
       "      <td>1393.0</td>\n",
       "      <td>...</td>\n",
       "      <td>0.0000</td>\n",
       "      <td>0.0</td>\n",
       "      <td>NaN</td>\n",
       "      <td>1014.07</td>\n",
       "      <td>Mostly cloudy throughout the day.</td>\n",
       "      <td>5.0</td>\n",
       "      <td>10.00</td>\n",
       "      <td>187.0</td>\n",
       "      <td>7.33</td>\n",
       "      <td>POINT(-122.7063 47.7613)</td>\n",
       "    </tr>\n",
       "    <tr>\n",
       "      <th>2742</th>\n",
       "      <td>My mom seen a creature she could not explain o...</td>\n",
       "      <td>Route 141 North into Marinette county, to Pemb...</td>\n",
       "      <td>Marinette County</td>\n",
       "      <td>Wisconsin</td>\n",
       "      <td>Fall</td>\n",
       "      <td>Report 51419: Daylight sighting by a hunter on...</td>\n",
       "      <td>45.64585</td>\n",
       "      <td>-88.08960</td>\n",
       "      <td>2014-11-19</td>\n",
       "      <td>51419.0</td>\n",
       "      <td>...</td>\n",
       "      <td>0.0000</td>\n",
       "      <td>0.0</td>\n",
       "      <td>NaN</td>\n",
       "      <td>1007.21</td>\n",
       "      <td>Foggy until afternoon.</td>\n",
       "      <td>1.0</td>\n",
       "      <td>6.62</td>\n",
       "      <td>277.0</td>\n",
       "      <td>1.80</td>\n",
       "      <td>POINT(-88.0896 45.64585)</td>\n",
       "    </tr>\n",
       "    <tr>\n",
       "      <th>787</th>\n",
       "      <td>I was  camping with my family and went  frog c...</td>\n",
       "      <td>It's a big Campground with lots of animals. Th...</td>\n",
       "      <td>Sussex County</td>\n",
       "      <td>New Jersey</td>\n",
       "      <td>Summer</td>\n",
       "      <td>Report 48988: Possible daylight sighting by a ...</td>\n",
       "      <td>41.27412</td>\n",
       "      <td>-74.64189</td>\n",
       "      <td>2016-03-05</td>\n",
       "      <td>48988.0</td>\n",
       "      <td>...</td>\n",
       "      <td>0.0000</td>\n",
       "      <td>0.0</td>\n",
       "      <td>NaN</td>\n",
       "      <td>1021.69</td>\n",
       "      <td>Mostly cloudy starting in the afternoon.</td>\n",
       "      <td>5.0</td>\n",
       "      <td>10.00</td>\n",
       "      <td>9.0</td>\n",
       "      <td>0.38</td>\n",
       "      <td>POINT(-74.64189 41.27412)</td>\n",
       "    </tr>\n",
       "    <tr>\n",
       "      <th>4285</th>\n",
       "      <td>About two years ago I was riding my bicycle wi...</td>\n",
       "      <td>Take 156 out of Calhoun going west take a righ...</td>\n",
       "      <td>Floyd County</td>\n",
       "      <td>Georgia</td>\n",
       "      <td>Summer</td>\n",
       "      <td>Report 22813: Cyclist hears loud wood knocks i...</td>\n",
       "      <td>34.48260</td>\n",
       "      <td>-85.10299</td>\n",
       "      <td>2005-08-15</td>\n",
       "      <td>22813.0</td>\n",
       "      <td>...</td>\n",
       "      <td>0.0000</td>\n",
       "      <td>0.0</td>\n",
       "      <td>NaN</td>\n",
       "      <td>1017.78</td>\n",
       "      <td>Humid throughout the day.</td>\n",
       "      <td>10.0</td>\n",
       "      <td>7.27</td>\n",
       "      <td>353.0</td>\n",
       "      <td>0.98</td>\n",
       "      <td>POINT(-85.10299 34.4826)</td>\n",
       "    </tr>\n",
       "    <tr>\n",
       "      <th>3791</th>\n",
       "      <td>Creature was near a pond, initially bent over ...</td>\n",
       "      <td>NaN</td>\n",
       "      <td>Park County</td>\n",
       "      <td>Colorado</td>\n",
       "      <td>Spring</td>\n",
       "      <td>NaN</td>\n",
       "      <td>NaN</td>\n",
       "      <td>NaN</td>\n",
       "      <td>NaT</td>\n",
       "      <td>1370.0</td>\n",
       "      <td>...</td>\n",
       "      <td>NaN</td>\n",
       "      <td>NaN</td>\n",
       "      <td>NaN</td>\n",
       "      <td>NaN</td>\n",
       "      <td>NaN</td>\n",
       "      <td>NaN</td>\n",
       "      <td>NaN</td>\n",
       "      <td>NaN</td>\n",
       "      <td>NaN</td>\n",
       "      <td>NaN</td>\n",
       "    </tr>\n",
       "  </tbody>\n",
       "</table>\n",
       "<p>500 rows × 29 columns</p>\n",
       "</div>"
      ],
      "text/plain": [
       "                                               observed  \\\n",
       "4492  In November 1986 I was on my bike (bmx). We ju...   \n",
       "345   i was driving north on Hwy 73 past west Olson ...   \n",
       "2967  In the early 90's growing up in eastern ky my ...   \n",
       "239   I was 8 years old, and very much a nature buff...   \n",
       "3029  I saw something along Interstate 75 South in K...   \n",
       "...                                                 ...   \n",
       "2681  My Marine buddy and I were on a hiking/camping...   \n",
       "2742  My mom seen a creature she could not explain o...   \n",
       "787   I was  camping with my family and went  frog c...   \n",
       "4285  About two years ago I was riding my bicycle wi...   \n",
       "3791  Creature was near a pond, initially bent over ...   \n",
       "\n",
       "                                       location_details             county  \\\n",
       "4492  Two miles south of Hennepin on Hennepin Farms Rd.      Putnam County   \n",
       "345   Approximately 2 1/2 miles south of where MN Hw...   St. Louis County   \n",
       "2967                 Vicinity of a place called Kimper.        Pike County   \n",
       "239   In Livingston County, MI, near Brighton, appro...  Livingston County   \n",
       "3029  30-40 miles south of Cincinnati, OH on Interst...       Grant County   \n",
       "...                                                 ...                ...   \n",
       "2681                 N. of Naval Submarine Base Bangor.      Kitsap County   \n",
       "2742  Route 141 North into Marinette county, to Pemb...   Marinette County   \n",
       "787   It's a big Campground with lots of animals. Th...      Sussex County   \n",
       "4285  Take 156 out of Calhoun going west take a righ...       Floyd County   \n",
       "3791                                                NaN        Park County   \n",
       "\n",
       "           state  season                                              title  \\\n",
       "4492    Illinois    Fall  Report 27374: Man remembers his daytime sighti...   \n",
       "345    Minnesota  Spring  Report 59346: Daytime road crossing on MN-73 n...   \n",
       "2967    Kentucky  Winter  Report 4624: Two teens find prints in the snow...   \n",
       "239     Michigan  Summer                                                NaN   \n",
       "3029    Kentucky    Fall  Report 8715: Motorist has nighttime sighting o...   \n",
       "...          ...     ...                                                ...   \n",
       "2681  Washington  Summer                Report 1393: Sighting by two hikers   \n",
       "2742   Wisconsin    Fall  Report 51419: Daylight sighting by a hunter on...   \n",
       "787   New Jersey  Summer  Report 48988: Possible daylight sighting by a ...   \n",
       "4285     Georgia  Summer  Report 22813: Cyclist hears loud wood knocks i...   \n",
       "3791    Colorado  Spring                                                NaN   \n",
       "\n",
       "      latitude  longitude       date   number  ... precip_intensity  \\\n",
       "4492  41.22850  -89.32110 1986-11-29  27374.0  ...              NaN   \n",
       "345   47.83334  -92.92708 2018-07-17  59346.0  ...           0.0000   \n",
       "2967  37.49993  -82.35300 1992-12-25   4624.0  ...              NaN   \n",
       "239        NaN        NaN        NaT    806.0  ...              NaN   \n",
       "3029  38.52800  -84.58800 2005-02-02   8715.0  ...           0.0019   \n",
       "...        ...        ...        ...      ...  ...              ...   \n",
       "2681  47.76130 -122.70630 1988-06-25   1393.0  ...           0.0000   \n",
       "2742  45.64585  -88.08960 2014-11-19  51419.0  ...           0.0000   \n",
       "787   41.27412  -74.64189 2016-03-05  48988.0  ...           0.0000   \n",
       "4285  34.48260  -85.10299 2005-08-15  22813.0  ...           0.0000   \n",
       "3791       NaN        NaN        NaT   1370.0  ...              NaN   \n",
       "\n",
       "     precip_probability  precip_type  pressure  \\\n",
       "4492                NaN          NaN       NaN   \n",
       "345                 0.0          NaN       NaN   \n",
       "2967                NaN          NaN       NaN   \n",
       "239                 NaN          NaN       NaN   \n",
       "3029                1.0         snow   1026.43   \n",
       "...                 ...          ...       ...   \n",
       "2681                0.0          NaN   1014.07   \n",
       "2742                0.0          NaN   1007.21   \n",
       "787                 0.0          NaN   1021.69   \n",
       "4285                0.0          NaN   1017.78   \n",
       "3791                NaN          NaN       NaN   \n",
       "\n",
       "                                                summary  uv_index  visibility  \\\n",
       "4492                                                NaN       NaN         NaN   \n",
       "345   Partly cloudy starting in the afternoon, conti...       7.0       10.00   \n",
       "2967                                                NaN       NaN         NaN   \n",
       "239                                                 NaN       NaN         NaN   \n",
       "3029  Mixed precipitation starting in the afternoon,...       3.0        6.27   \n",
       "...                                                 ...       ...         ...   \n",
       "2681                  Mostly cloudy throughout the day.       5.0       10.00   \n",
       "2742                             Foggy until afternoon.       1.0        6.62   \n",
       "787            Mostly cloudy starting in the afternoon.       5.0       10.00   \n",
       "4285                          Humid throughout the day.      10.0        7.27   \n",
       "3791                                                NaN       NaN         NaN   \n",
       "\n",
       "      wind_bearing  wind_speed                   location  \n",
       "4492           NaN         NaN    POINT(-89.3211 41.2285)  \n",
       "345          294.0        0.72  POINT(-92.92708 47.83334)  \n",
       "2967           NaN         NaN    POINT(-82.353 37.49993)  \n",
       "239            NaN         NaN                        NaN  \n",
       "3029          55.0        2.60      POINT(-84.588 38.528)  \n",
       "...            ...         ...                        ...  \n",
       "2681         187.0        7.33   POINT(-122.7063 47.7613)  \n",
       "2742         277.0        1.80   POINT(-88.0896 45.64585)  \n",
       "787            9.0        0.38  POINT(-74.64189 41.27412)  \n",
       "4285         353.0        0.98   POINT(-85.10299 34.4826)  \n",
       "3791           NaN         NaN                        NaN  \n",
       "\n",
       "[500 rows x 29 columns]"
      ]
     },
     "execution_count": 7,
     "metadata": {},
     "output_type": "execute_result"
    }
   ],
   "source": [
    "bfDS"
   ]
  },
  {
   "cell_type": "code",
   "execution_count": 9,
   "metadata": {},
   "outputs": [
    {
     "data": {
      "image/png": "[encoded data removed]",
      "text/plain": [
       "<Figure size 640x480 with 1 Axes>"
      ]
     },
     "metadata": {},
     "output_type": "display_data"
    }
   ],
   "source": [
    "# take a quick look\n",
    "import matplotlib.pyplot as plt\n",
    "plt.clf() # might need this to \"get rid\" of Michigan data\n",
    "plt.plot(bf['longitude'],bf['latitude'],'.')\n",
    "plt.show()"
   ]
  },
  {
   "cell_type": "code",
   "execution_count": 10,
   "metadata": {},
   "outputs": [
    {
     "data": {
      "image/png": "[encoded data removed]",
      "text/plain": [
       "<Figure size 640x480 with 1 Axes>"
      ]
     },
     "metadata": {},
     "output_type": "display_data"
    }
   ],
   "source": [
    "plt.clf() # might need this to \"get rid\" of Michigan data\n",
    "plt.plot(bfDS['longitude'],bfDS['latitude'],'.')\n",
    "plt.show()"
   ]
  },
  {
   "cell_type": "markdown",
   "metadata": {},
   "source": [
    "We can try with a scatter plot as well which allows us to add in another encoding with color:"
   ]
  },
  {
   "cell_type": "code",
   "execution_count": 11,
   "metadata": {},
   "outputs": [
    {
     "data": {
      "text/plain": [
       "Index(['observed', 'location_details', 'county', 'state', 'season', 'title',\n",
       "       'latitude', 'longitude', 'date', 'number', 'classification', 'geohash',\n",
       "       'temperature_high', 'temperature_mid', 'temperature_low', 'dew_point',\n",
       "       'humidity', 'cloud_cover', 'moon_phase', 'precip_intensity',\n",
       "       'precip_probability', 'precip_type', 'pressure', 'summary', 'uv_index',\n",
       "       'visibility', 'wind_bearing', 'wind_speed', 'location'],\n",
       "      dtype='object')"
      ]
     },
     "execution_count": 11,
     "metadata": {},
     "output_type": "execute_result"
    }
   ],
   "source": [
    "bf.columns"
   ]
  },
  {
   "cell_type": "code",
   "execution_count": 12,
   "metadata": {},
   "outputs": [
    {
     "data": {
      "image/png": "[encoded data removed]",
      "text/plain": [
       "<Figure size 640x480 with 1 Axes>"
      ]
     },
     "metadata": {},
     "output_type": "display_data"
    }
   ],
   "source": [
    "plt.clf()\n",
    "plt.scatter(bfDS['longitude'],bfDS['latitude'], \n",
    "            c=np.log10(bfDS['pressure']), cmap='rainbow')\n",
    "plt.show()"
   ]
  },
  {
   "cell_type": "markdown",
   "metadata": {},
   "source": [
    "Hint:"
   ]
  },
  {
   "cell_type": "code",
   "execution_count": 13,
   "metadata": {},
   "outputs": [
    {
     "data": {
      "text/plain": [
       "<Figure size 640x480 with 0 Axes>"
      ]
     },
     "metadata": {},
     "output_type": "display_data"
    },
    {
     "data": {
      "image/png": "[encoded data removed]",
      "text/plain": [
       "<Figure size 2000x1000 with 1 Axes>"
      ]
     },
     "metadata": {},
     "output_type": "display_data"
    }
   ],
   "source": [
    "plt.clf()\n",
    "fig, ax = plt.subplots(figsize=(20,10))\n",
    "bfDS.hist(column='longitude', ax=ax)\n",
    "plt.show()"
   ]
  },
  {
   "cell_type": "markdown",
   "metadata": {},
   "source": [
    "### A bit with traitlets"
   ]
  },
  {
   "cell_type": "markdown",
   "metadata": {},
   "source": [
    "Remember our color-picker that we linked:"
   ]
  },
  {
   "cell_type": "code",
   "execution_count": 14,
   "metadata": {},
   "outputs": [],
   "source": [
    "import ipywidgets"
   ]
  },
  {
   "cell_type": "code",
   "execution_count": 15,
   "metadata": {},
   "outputs": [
    {
     "data": {
      "application/vnd.jupyter.widget-view+json": {
       "model_id": "6754dbe2ac744c4abd5b52e51ad5857c",
       "version_major": 2,
       "version_minor": 0
      },
      "text/plain": [
       "IntSlider(value=0, max=10, orientation='vertical')"
      ]
     },
     "metadata": {},
     "output_type": "display_data"
    }
   ],
   "source": [
    "islider = ipywidgets.IntSlider(min = 0, max = 10, step = 1, orientation = 'vertical')\n",
    "islider"
   ]
  },
  {
   "cell_type": "code",
   "execution_count": 16,
   "metadata": {},
   "outputs": [
    {
     "data": {
      "application/vnd.jupyter.widget-view+json": {
       "model_id": "0a7bddb3b5834d039aacb9885b274c7b",
       "version_major": 2,
       "version_minor": 0
      },
      "text/plain": [
       "ColorPicker(value='black')"
      ]
     },
     "metadata": {},
     "output_type": "display_data"
    }
   ],
   "source": [
    "cp = ipywidgets.ColorPicker()\n",
    "cp"
   ]
  },
  {
   "cell_type": "markdown",
   "metadata": {},
   "source": [
    "Let's link them using .link this time:"
   ]
  },
  {
   "cell_type": "code",
   "execution_count": 17,
   "metadata": {},
   "outputs": [
    {
     "data": {
      "text/plain": [
       "<traitlets.traitlets.link at 0x14cfa6980>"
      ]
     },
     "execution_count": 17,
     "metadata": {},
     "output_type": "execute_result"
    }
   ],
   "source": [
    "ipywidgets.link( (cp, 'value'), (islider.style, 'handle_color') )"
   ]
  },
  {
   "cell_type": "markdown",
   "metadata": {},
   "source": [
    "We note what prints out now is a \"traitlets.traitlets\" link -- this is part of the python-backend traitlets library."
   ]
  },
  {
   "cell_type": "code",
   "execution_count": null,
   "metadata": {},
   "outputs": [],
   "source": []
  },
  {
   "cell_type": "markdown",
   "metadata": {},
   "source": [
    "Traitlets are a way to link the *change in a variable* to an action."
   ]
  },
  {
   "cell_type": "markdown",
   "metadata": {},
   "source": [
    "We'll start by making a class w/o using traitlets.  We've worked with classes before, just sort of \"under the radar\" like with Pandas objects.  Now we will define our own:"
   ]
  },
  {
   "cell_type": "code",
   "execution_count": 18,
   "metadata": {},
   "outputs": [],
   "source": [
    "class MyObject():\n",
    "    name = 'unnamed'\n",
    "    age = 0"
   ]
  },
  {
   "cell_type": "markdown",
   "metadata": {},
   "source": [
    "Let's define a new variable of this `class` type:"
   ]
  },
  {
   "cell_type": "code",
   "execution_count": 19,
   "metadata": {},
   "outputs": [],
   "source": [
    "my_obj = MyObject()"
   ]
  },
  {
   "cell_type": "code",
   "execution_count": 20,
   "metadata": {},
   "outputs": [
    {
     "data": {
      "text/plain": [
       "('unnamed', 0)"
      ]
     },
     "execution_count": 20,
     "metadata": {},
     "output_type": "execute_result"
    }
   ],
   "source": [
    "my_obj.name, my_obj.age"
   ]
  },
  {
   "cell_type": "markdown",
   "metadata": {},
   "source": [
    "We can update the values of these variables like we would any other object:"
   ]
  },
  {
   "cell_type": "code",
   "execution_count": 21,
   "metadata": {},
   "outputs": [],
   "source": [
    "my_obj.name = 'Bob'; my_obj.age = 47"
   ]
  },
  {
   "cell_type": "markdown",
   "metadata": {},
   "source": [
    "Now, let's check out our new values:"
   ]
  },
  {
   "cell_type": "code",
   "execution_count": 22,
   "metadata": {},
   "outputs": [
    {
     "name": "stdout",
     "output_type": "stream",
     "text": [
      "Hello, my name is: Bob and I am 47 years old\n"
     ]
    }
   ],
   "source": [
    "print('Hello, my name is:', my_obj.name, 'and I am', my_obj.age, 'years old')"
   ]
  },
  {
   "cell_type": "markdown",
   "metadata": {},
   "source": [
    "Now, let's say I wanted to re-set the values of the variables in my class -- to print out the above statement, I'd have to redo everything:"
   ]
  },
  {
   "cell_type": "code",
   "execution_count": 23,
   "metadata": {},
   "outputs": [],
   "source": [
    "my_obj.name = 'Linda'; my_obj.age = 45"
   ]
  },
  {
   "cell_type": "code",
   "execution_count": 24,
   "metadata": {},
   "outputs": [
    {
     "name": "stdout",
     "output_type": "stream",
     "text": [
      "Hello, my name is: Linda and I am 45 years old\n"
     ]
    }
   ],
   "source": [
    "print('Hello, my name is:', my_obj.name, 'and I am', my_obj.age, 'years old')"
   ]
  },
  {
   "cell_type": "markdown",
   "metadata": {},
   "source": [
    "The `traitlets` library allows us to \"track\" changes so that we can associate actions with updates to variables.  Let's try this example again:"
   ]
  },
  {
   "cell_type": "code",
   "execution_count": 25,
   "metadata": {},
   "outputs": [],
   "source": [
    "import traitlets"
   ]
  },
  {
   "cell_type": "code",
   "execution_count": 26,
   "metadata": {},
   "outputs": [],
   "source": [
    "class MyTraitletObject(traitlets.HasTraits):\n",
    "    # lets use the unicode trait to let our object have a name\n",
    "    name = traitlets.Unicode(\"unnamed\") \n",
    "    # lets also give our object an age\n",
    "    age = traitlets.Int(0)"
   ]
  },
  {
   "cell_type": "code",
   "execution_count": 27,
   "metadata": {},
   "outputs": [],
   "source": [
    "my_t_obj = MyTraitletObject()\n",
    "my_t_obj.age = 47\n",
    "my_t_obj.name = 'Bob'"
   ]
  },
  {
   "cell_type": "code",
   "execution_count": 28,
   "metadata": {},
   "outputs": [
    {
     "name": "stdout",
     "output_type": "stream",
     "text": [
      "Hello, my name is: Bob and I am 47 years old\n"
     ]
    }
   ],
   "source": [
    "print('Hello, my name is:', my_t_obj.name, 'and I am', my_t_obj.age, 'years old')"
   ]
  },
  {
   "cell_type": "markdown",
   "metadata": {},
   "source": [
    "So far this is not very exciting - we are back where we started!  However, there are options to \"observe\" changes in our traits:"
   ]
  },
  {
   "cell_type": "markdown",
   "metadata": {},
   "source": [
    "Let's create a function that can act on one of the variables of our variables, in particluar, its going to react to the name in my object:"
   ]
  },
  {
   "cell_type": "code",
   "execution_count": 29,
   "metadata": {},
   "outputs": [],
   "source": [
    "def name_changed(change):\n",
    "    print(change) # this is a format that is required of a traitlets class\n",
    "\n",
    "# lets tell traitlets that we are going to change something\n",
    "my_t_obj.observe(name_changed, ['name'])"
   ]
  },
  {
   "cell_type": "code",
   "execution_count": 30,
   "metadata": {},
   "outputs": [
    {
     "name": "stdout",
     "output_type": "stream",
     "text": [
      "{'name': 'name', 'old': 'Bob', 'new': 'Linda', 'owner': <__main__.MyTraitletObject object at 0x14d0703d0>, 'type': 'change'}\n"
     ]
    }
   ],
   "source": [
    "my_t_obj.name = 'Linda'"
   ]
  },
  {
   "cell_type": "markdown",
   "metadata": {},
   "source": [
    "We can see that there are these weird \"new\" and \"old\" names -- this is tracking how things change. The \"owner\" is just pointing to the memory location of `my_t_obj`."
   ]
  },
  {
   "cell_type": "markdown",
   "metadata": {},
   "source": [
    "Let's do something a little more exciting - have a default print-out of the introduction:"
   ]
  },
  {
   "cell_type": "code",
   "execution_count": 31,
   "metadata": {},
   "outputs": [],
   "source": [
    "def name_changed2(change):\n",
    "    print('Hello, my name is', change['new'], 'and I am', change['owner'].age, 'years old')\n",
    "\n",
    "# lets tell traitlets that we are going to change something\n",
    "my_t_obj.observe(name_changed2, ['name'])"
   ]
  },
  {
   "cell_type": "code",
   "execution_count": 32,
   "metadata": {},
   "outputs": [],
   "source": [
    "my_t_obj.name = 'Linda'"
   ]
  },
  {
   "cell_type": "markdown",
   "metadata": {},
   "source": [
    "Note that now, I've got *2* things associated with any changes -- let's take off the first one:"
   ]
  },
  {
   "cell_type": "code",
   "execution_count": 33,
   "metadata": {},
   "outputs": [],
   "source": [
    "my_t_obj.unobserve(name_changed, ['name'])"
   ]
  },
  {
   "cell_type": "code",
   "execution_count": 34,
   "metadata": {},
   "outputs": [
    {
     "name": "stdout",
     "output_type": "stream",
     "text": [
      "Hello, my name is Bob and I am 47 years old\n"
     ]
    }
   ],
   "source": [
    "my_t_obj.name = \"Bob\""
   ]
  },
  {
   "cell_type": "markdown",
   "metadata": {},
   "source": [
    "We can practice by making a \"watching for a change\" function for age as well:"
   ]
  },
  {
   "cell_type": "code",
   "execution_count": 35,
   "metadata": {},
   "outputs": [],
   "source": [
    "def age_changed(change):\n",
    "    print('Hello, my name is', change['owner'].name, 'and I am', change['new'], 'years old')\n",
    "\n",
    "my_t_obj.observe(age_changed, ['age'])"
   ]
  },
  {
   "cell_type": "code",
   "execution_count": 36,
   "metadata": {},
   "outputs": [
    {
     "name": "stdout",
     "output_type": "stream",
     "text": [
      "Hello, my name is Bob and I am 48 years old\n"
     ]
    }
   ],
   "source": [
    "my_t_obj.age = 48"
   ]
  },
  {
   "cell_type": "code",
   "execution_count": 37,
   "metadata": {},
   "outputs": [
    {
     "name": "stdout",
     "output_type": "stream",
     "text": [
      "Hello, my name is Louise and I am 48 years old\n",
      "Hello, my name is Louise and I am 8 years old\n"
     ]
    }
   ],
   "source": [
    "my_t_obj.name, my_t_obj.age = 'Louise', 8"
   ]
  },
  {
   "cell_type": "code",
   "execution_count": null,
   "metadata": {},
   "outputs": [],
   "source": []
  },
  {
   "cell_type": "markdown",
   "metadata": {},
   "source": [
    "## On to bqplot!"
   ]
  },
  {
   "cell_type": "markdown",
   "metadata": {},
   "source": [
    "Make sure you have installed this via the install script `test_imports_week01.ipynb` in week 1.  You may have to restart your jupyter or your browswer.\n",
    "\n",
    "We'll start by using `bqplot` in a Grammar of Graphics & *Declaritive* sort of way, and then, if we have time, spend a few moments looking at its `matplotlib`-like interface as well which is an *Imperative* method."
   ]
  },
  {
   "cell_type": "code",
   "execution_count": 38,
   "metadata": {},
   "outputs": [],
   "source": [
    "import bqplot\n",
    "import numpy as np\n",
    "import ipywidgets"
   ]
  },
  {
   "cell_type": "markdown",
   "metadata": {},
   "source": [
    "Now we are going to mess around with some of the declaritive programming type options that bqplot can use.  This will rely heavily on the \"Grammar of Graphics\" constructs."
   ]
  },
  {
   "cell_type": "markdown",
   "metadata": {},
   "source": [
    "## Random line plot with Pan/Zoom interaction\n",
    "\n",
    "We'll now go through the example I put up on the slides for this week. \n",
    "\n",
    "**Data:** Let's first start by creating *data* elements for our graphic just some random numbers:"
   ]
  },
  {
   "cell_type": "code",
   "execution_count": 39,
   "metadata": {},
   "outputs": [],
   "source": [
    "x = np.arange(100) # integers 0->999\n",
    "y = np.random.random(100) + 5 # random numbers with mean = 5"
   ]
  },
  {
   "cell_type": "code",
   "execution_count": 40,
   "metadata": {},
   "outputs": [
    {
     "data": {
      "text/plain": [
       "(array([ 0,  1,  2,  3,  4,  5,  6,  7,  8,  9, 10, 11, 12, 13, 14, 15, 16,\n",
       "        17, 18, 19, 20, 21, 22, 23, 24, 25, 26, 27, 28, 29, 30, 31, 32, 33,\n",
       "        34, 35, 36, 37, 38, 39, 40, 41, 42, 43, 44, 45, 46, 47, 48, 49, 50,\n",
       "        51, 52, 53, 54, 55, 56, 57, 58, 59, 60, 61, 62, 63, 64, 65, 66, 67,\n",
       "        68, 69, 70, 71, 72, 73, 74, 75, 76, 77, 78, 79, 80, 81, 82, 83, 84,\n",
       "        85, 86, 87, 88, 89, 90, 91, 92, 93, 94, 95, 96, 97, 98, 99]),\n",
       " array([5.73425149, 5.80983891, 5.27554492, 5.23895409, 5.43313527,\n",
       "        5.57511084, 5.73067353, 5.30355545, 5.51089579, 5.40806799,\n",
       "        5.7123796 , 5.70655363, 5.473186  , 5.54126398, 5.0488656 ,\n",
       "        5.43670384, 5.53166163, 5.28556204, 5.09944372, 5.17681518,\n",
       "        5.92606774, 5.61356733, 5.57888278, 5.32122873, 5.23287757,\n",
       "        5.12570239, 5.29231104, 5.06498775, 5.76008418, 5.48461537,\n",
       "        5.72892289, 5.9302526 , 5.28285599, 5.9945069 , 5.46932167,\n",
       "        5.59172845, 5.27106905, 5.74707967, 5.99197659, 5.29900954,\n",
       "        5.71542945, 5.82035838, 5.89369794, 5.14695868, 5.46727033,\n",
       "        5.73910092, 5.47869716, 5.89124486, 5.50440709, 5.59798109,\n",
       "        5.13785038, 5.42740366, 5.03984039, 5.40614289, 5.0919698 ,\n",
       "        5.47465852, 5.04923808, 5.20832803, 5.45473766, 5.46281928,\n",
       "        5.00059368, 5.1937316 , 5.94875268, 5.99050208, 5.99523084,\n",
       "        5.13243625, 5.05458502, 5.66869239, 5.07718993, 5.23069819,\n",
       "        5.09614386, 5.36901663, 5.34056975, 5.95185259, 5.67536906,\n",
       "        5.93417413, 5.08930133, 5.62192899, 5.62448328, 5.03847078,\n",
       "        5.05165803, 5.61498854, 5.92023984, 5.18036307, 5.07105078,\n",
       "        5.18404747, 5.71742767, 5.87159664, 5.72188518, 5.70330991,\n",
       "        5.85381108, 5.79686439, 5.66250191, 5.0699655 , 5.6080649 ,\n",
       "        5.6875134 , 5.87570858, 5.58776703, 5.37444731, 5.77083242]))"
      ]
     },
     "execution_count": 40,
     "metadata": {},
     "output_type": "execute_result"
    }
   ],
   "source": [
    "x, y"
   ]
  },
  {
   "cell_type": "markdown",
   "metadata": {},
   "source": [
    "**Scales:** Now we'll define some scale objects which will determine how lines will be drawn on our canvas:"
   ]
  },
  {
   "cell_type": "code",
   "execution_count": 41,
   "metadata": {},
   "outputs": [
    {
     "name": "stdout",
     "output_type": "stream",
     "text": [
      "\u001b[0;31mInit signature:\u001b[0m \u001b[0mbqplot\u001b[0m\u001b[0;34m.\u001b[0m\u001b[0mLinearScale\u001b[0m\u001b[0;34m(\u001b[0m\u001b[0;34m*\u001b[0m\u001b[0margs\u001b[0m\u001b[0;34m:\u001b[0m \u001b[0;34m't.Any'\u001b[0m\u001b[0;34m,\u001b[0m \u001b[0;34m**\u001b[0m\u001b[0mkwargs\u001b[0m\u001b[0;34m:\u001b[0m \u001b[0;34m't.Any'\u001b[0m\u001b[0;34m)\u001b[0m \u001b[0;34m->\u001b[0m \u001b[0;34m't.Any'\u001b[0m\u001b[0;34m\u001b[0m\u001b[0;34m\u001b[0m\u001b[0m\n",
      "\u001b[0;31mDocstring:\u001b[0m     \n",
      "A linear scale.\n",
      "\n",
      "An affine mapping from a numerical domain to a numerical range.\n",
      "\n",
      "Attributes\n",
      "----------\n",
      "min: float or None (default: None)\n",
      "    if not None, min is the minimal value of the domain\n",
      "max: float or None (default: None)\n",
      "    if not None, max is the maximal value of the domain\n",
      "rtype: string (class-level attribute)\n",
      "    This attribute should not be modified. The range type of a linear\n",
      "    scale is numerical.\n",
      "dtype: type (class-level attribute)\n",
      "    the associated data type / domain type\n",
      "precedence: int (class-level attribute, default_value=2)\n",
      "    attribute used to determine which scale takes precedence in cases when\n",
      "    two or more scales have the same rtype and dtype.\n",
      "    default_value is 2 because for the same range and domain types,\n",
      "    LinearScale should take precedence.\n",
      "stabilized: bool (default: False)\n",
      "    if set to False, the domain of the scale is tied to the data range\n",
      "    if set to True, the domain of the scale is updated only when\n",
      "    the data range is beyond certain thresholds, given by the attributes\n",
      "    mid_range and min_range.\n",
      "mid_range: float (default: 0.8)\n",
      "    Proportion of the range that is spanned initially.\n",
      "    Used only if stabilized is True.\n",
      "min_range: float (default: 0.6)\n",
      "    Minimum proportion of the range that should be spanned by the data.\n",
      "    If the data span falls beneath that level, the scale is reset.\n",
      "    min_range must be <= mid_range.\n",
      "    Used only if stabilized is True.\n",
      "\u001b[0;31mInit docstring:\u001b[0m Public constructor\n",
      "\u001b[0;31mFile:\u001b[0m           /opt/anaconda3/envs/DataViz2/lib/python3.10/site-packages/bqplot/scales.py\n",
      "\u001b[0;31mType:\u001b[0m           MetaHasTraits\n",
      "\u001b[0;31mSubclasses:\u001b[0m     "
     ]
    }
   ],
   "source": [
    "bqplot.LinearScale?"
   ]
  },
  {
   "cell_type": "code",
   "execution_count": 42,
   "metadata": {},
   "outputs": [],
   "source": [
    "x_sc = bqplot.LinearScale()\n",
    "y_sc = bqplot.LinearScale()"
   ]
  },
  {
   "cell_type": "markdown",
   "metadata": {},
   "source": [
    "**Marks:** Now we are going to use GoG type calls to define what lines to actually draw combining information about our data and our scales:"
   ]
  },
  {
   "cell_type": "code",
   "execution_count": 43,
   "metadata": {},
   "outputs": [
    {
     "name": "stdout",
     "output_type": "stream",
     "text": [
      "\u001b[0;31mInit signature:\u001b[0m \u001b[0mbqplot\u001b[0m\u001b[0;34m.\u001b[0m\u001b[0mLines\u001b[0m\u001b[0;34m(\u001b[0m\u001b[0;34m*\u001b[0m\u001b[0margs\u001b[0m\u001b[0;34m:\u001b[0m \u001b[0;34m't.Any'\u001b[0m\u001b[0;34m,\u001b[0m \u001b[0;34m**\u001b[0m\u001b[0mkwargs\u001b[0m\u001b[0;34m:\u001b[0m \u001b[0;34m't.Any'\u001b[0m\u001b[0;34m)\u001b[0m \u001b[0;34m->\u001b[0m \u001b[0;34m't.Any'\u001b[0m\u001b[0;34m\u001b[0m\u001b[0;34m\u001b[0m\u001b[0m\n",
      "\u001b[0;31mDocstring:\u001b[0m     \n",
      "Lines mark.\n",
      "\n",
      "In the case of the Lines mark, scales for 'x' and 'y' MUST be provided.\n",
      "\n",
      "Attributes\n",
      "----------\n",
      "icon: string (class-level attribute)\n",
      "    Font-awesome icon for the respective mark\n",
      "name: string (class-level attribute)\n",
      "    User-friendly name of the mark\n",
      "colors: list of colors (default: CATEGORY10)\n",
      "    List of colors of the Lines. If the list is shorter than the number\n",
      "    of lines, the colors are reused.\n",
      "close_path: bool (default: False)\n",
      "    Whether to close the paths or not.\n",
      "fill: {'none', 'bottom', 'top', 'inside', 'between'}\n",
      "    Fill in the area defined by the curves\n",
      "fill_colors: list of colors (default: [])\n",
      "    Fill colors for the areas. Defaults to stroke-colors when no\n",
      "    color provided\n",
      "opacities: list of floats (default: [])\n",
      "    Opacity for the  lines and patches. Defaults to 1 when the list is too\n",
      "    short, or the element of the list is set to None.\n",
      "fill_opacities: list of floats (default: [])\n",
      "    Opacity for the areas. Defaults to 1 when the list is too\n",
      "    short, or the element of the list is set to None.\n",
      "stroke_width: float (default: 2)\n",
      "    Stroke width of the Lines\n",
      "labels_visibility: {'none', 'label'}\n",
      "    Visibility of the curve labels\n",
      "curves_subset: list of integers or None (default: [])\n",
      "    If set to None, all the lines are displayed. Otherwise, only the items\n",
      "    in the list will have full opacity, while others will be faded.\n",
      "line_style: {'solid', 'dashed', 'dotted', 'dash_dotted'}\n",
      "    Line style.\n",
      "interpolation: {'linear', 'basis', 'cardinal', 'monotone'}\n",
      "    Interpolation scheme used for interpolation between the data points\n",
      "    provided. Please refer to the svg interpolate documentation for details\n",
      "    about the different interpolation schemes.\n",
      "marker: {'circle', 'cross', 'diamond', 'square', 'triangle-down', 'triangle-up', 'arrow', 'rectangle', 'ellipse'}\n",
      "    Marker shape\n",
      "marker_size: nonnegative int (default: 64)\n",
      "    Default marker size in pixels\n",
      "\n",
      "Data Attributes\n",
      "\n",
      "x: numpy.ndarray (default: [])\n",
      "    abscissas of the data points (1d or 2d array)\n",
      "y: numpy.ndarray (default: [])\n",
      "    ordinates of the data points (1d or 2d array)\n",
      "color: numpy.ndarray (default: None)\n",
      "    colors of the different lines based on data. If it is [], then the\n",
      "    colors from the colors attribute are used. Each line has a single color\n",
      "    and if the size of colors is less than the number of lines, the\n",
      "    remaining lines are given the default colors.\n",
      "\n",
      "Notes\n",
      "-----\n",
      "The fields which can be passed to the default tooltip are:\n",
      "    name: label of the line\n",
      "    index: index of the line being hovered on\n",
      "    color: data attribute for the color of the line\n",
      "The following are the events which can trigger interactions:\n",
      "    click: left click of the mouse\n",
      "    hover: mouse-over an element\n",
      "The following are the interactions which can be linked to the above events:\n",
      "    tooltip: display tooltip\n",
      "\u001b[0;31mInit docstring:\u001b[0m Public constructor\n",
      "\u001b[0;31mFile:\u001b[0m           /opt/anaconda3/envs/DataViz2/lib/python3.10/site-packages/bqplot/marks.py\n",
      "\u001b[0;31mType:\u001b[0m           MetaHasTraits\n",
      "\u001b[0;31mSubclasses:\u001b[0m     "
     ]
    }
   ],
   "source": [
    "bqplot.Lines?"
   ]
  },
  {
   "cell_type": "code",
   "execution_count": 44,
   "metadata": {},
   "outputs": [],
   "source": [
    "lines = bqplot.Lines(x = x, y = y, scales = {'x': x_sc, 'y': y_sc})"
   ]
  },
  {
   "cell_type": "markdown",
   "metadata": {},
   "source": [
    "**Axis:** Now, we are going to define what axis we want placed around the lines that we draw we'll draw both x & y axis."
   ]
  },
  {
   "cell_type": "code",
   "execution_count": 45,
   "metadata": {},
   "outputs": [
    {
     "name": "stdout",
     "output_type": "stream",
     "text": [
      "\u001b[0;31mInit signature:\u001b[0m \u001b[0mbqplot\u001b[0m\u001b[0;34m.\u001b[0m\u001b[0mAxis\u001b[0m\u001b[0;34m(\u001b[0m\u001b[0;34m*\u001b[0m\u001b[0margs\u001b[0m\u001b[0;34m:\u001b[0m \u001b[0;34m't.Any'\u001b[0m\u001b[0;34m,\u001b[0m \u001b[0;34m**\u001b[0m\u001b[0mkwargs\u001b[0m\u001b[0;34m:\u001b[0m \u001b[0;34m't.Any'\u001b[0m\u001b[0;34m)\u001b[0m \u001b[0;34m->\u001b[0m \u001b[0;34m't.Any'\u001b[0m\u001b[0;34m\u001b[0m\u001b[0;34m\u001b[0m\u001b[0m\n",
      "\u001b[0;31mDocstring:\u001b[0m     \n",
      "A line axis.\n",
      "\n",
      "A line axis is the visual representation of a numerical or date scale.\n",
      "\n",
      "Attributes\n",
      "----------\n",
      "icon: string (class-level attribute)\n",
      "    The font-awesome icon name for this object.\n",
      "axis_types: dict (class-level attribute)\n",
      "    A registry of existing axis types.\n",
      "orientation: {'horizontal', 'vertical'}\n",
      "    The orientation of the axis, either vertical or horizontal\n",
      "side: {'bottom', 'top', 'left', 'right'} or None (default: None)\n",
      "    The side of the axis, either bottom, top, left or right.\n",
      "label: string (default: '')\n",
      "    The axis label\n",
      "tick_format: string or None (default: '')\n",
      "    The tick format for the axis, for dates use d3 string formatting.\n",
      "scale: Scale\n",
      "    The scale represented by the axis\n",
      "num_ticks: int or None (default: None)\n",
      "    If tick_values is None, number of ticks\n",
      "tick_values: numpy.ndarray or None (default: None)\n",
      "    Tick values for the axis\n",
      "offset: dict (default: {})\n",
      "    Contains a scale and a value {'scale': scale or None,\n",
      "    'value': value of the offset}\n",
      "    If offset['scale'] is None, the corresponding figure scale is used\n",
      "    instead.\n",
      "label_location: {'middle', 'start', 'end'}\n",
      "    The location of the label along the axis, one of 'start', 'end' or\n",
      "    'middle'\n",
      "label_color: Color or None (default: None)\n",
      "    The color of the axis label\n",
      "grid_lines: {'none', 'solid', 'dashed'}\n",
      "    The display of the grid lines\n",
      "grid_color: Color or None (default: None)\n",
      "    The color of the grid lines\n",
      "color: Color or None (default: None)\n",
      "    The color of the line\n",
      "label_offset: string or None (default: None)\n",
      "    Label displacement from the axis line. Units allowed are 'em', 'px'\n",
      "    and 'ex'. Positive values are away from the figure and negative\n",
      "    values are towards the figure with respect to the axis line.\n",
      "visible: bool (default: True)\n",
      "    A visibility toggle for the axis\n",
      "tick_style: Dict (default: {})\n",
      "    Dictionary containing the CSS-style of the text for the ticks.\n",
      "    For example: font-size of the text can be changed by passing\n",
      "    `{'font-size': 14}`\n",
      "tick_rotate: int (default: 0)\n",
      "    Degrees to rotate tick labels by.\n",
      "\u001b[0;31mInit docstring:\u001b[0m Public constructor\n",
      "\u001b[0;31mFile:\u001b[0m           /opt/anaconda3/envs/DataViz2/lib/python3.10/site-packages/bqplot/axes.py\n",
      "\u001b[0;31mType:\u001b[0m           MetaHasTraits\n",
      "\u001b[0;31mSubclasses:\u001b[0m     ColorAxis"
     ]
    }
   ],
   "source": [
    "bqplot.Axis?"
   ]
  },
  {
   "cell_type": "code",
   "execution_count": 46,
   "metadata": {},
   "outputs": [],
   "source": [
    "ax_x = bqplot.Axis(scale = x_sc, label = 'X Value')\n",
    "ax_y = bqplot.Axis(scale = y_sc, label = 'Y Value', orientation = 'vertical')"
   ]
  },
  {
   "cell_type": "markdown",
   "metadata": {},
   "source": [
    "**Figure:** Finally, we combine all these things together into a bonified figure:"
   ]
  },
  {
   "cell_type": "code",
   "execution_count": 47,
   "metadata": {},
   "outputs": [
    {
     "name": "stdout",
     "output_type": "stream",
     "text": [
      "\u001b[0;31mInit signature:\u001b[0m \u001b[0mbqplot\u001b[0m\u001b[0;34m.\u001b[0m\u001b[0mFigure\u001b[0m\u001b[0;34m(\u001b[0m\u001b[0;34m*\u001b[0m\u001b[0margs\u001b[0m\u001b[0;34m:\u001b[0m \u001b[0;34m't.Any'\u001b[0m\u001b[0;34m,\u001b[0m \u001b[0;34m**\u001b[0m\u001b[0mkwargs\u001b[0m\u001b[0;34m:\u001b[0m \u001b[0;34m't.Any'\u001b[0m\u001b[0;34m)\u001b[0m \u001b[0;34m->\u001b[0m \u001b[0;34m't.Any'\u001b[0m\u001b[0;34m\u001b[0m\u001b[0;34m\u001b[0m\u001b[0m\n",
      "\u001b[0;31mDocstring:\u001b[0m     \n",
      "Main canvas for drawing a chart.\n",
      "\n",
      "The Figure object holds the list of Marks and Axes. It also holds an\n",
      "optional Interaction object that is responsible for figure-level mouse\n",
      "interactions, the \"interaction layer\".\n",
      "\n",
      "Besides, the Figure object has two reference scales, for positioning items\n",
      "in an absolute fashion in the figure canvas.\n",
      "\n",
      "Attributes\n",
      "----------\n",
      "title: string (default: '')\n",
      "    title of the figure\n",
      "axes: List of Axes (default: [])\n",
      "    list containing the instances of the axes for the figure\n",
      "marks: List of Marks (default: [])\n",
      "    list containing the marks which are to be appended to the figure\n",
      "interaction: Interaction or None (default: None)\n",
      "    optional interaction layer for the figure\n",
      "scale_x: Scale\n",
      "    Scale representing the x values of the figure\n",
      "scale_y: Scale\n",
      "    Scale representing the y values of the figure\n",
      "padding_x: Float (default: 0.0)\n",
      "    Padding to be applied in the horizontal direction of the figure\n",
      "    around the data points, proportion of the horizontal length\n",
      "padding_y: Float (default: 0.025)\n",
      "    Padding to be applied in the vertical direction of the figure\n",
      "    around the data points, proportion of the vertical length\n",
      "legend_location: {'top-right', 'top', 'top-left', 'left',\n",
      "    'bottom-left', 'bottom', 'bottom-right', 'right'}\n",
      "    location of the legend relative to the center of the figure\n",
      "background_style: Dict (default: {})\n",
      "    CSS style to be applied to the background of the figure\n",
      "legend_style: Dict (default: {})\n",
      "    CSS style to be applied to the SVG legend e.g, {'fill': 'white'}\n",
      "legend_text: Dict (default: {})\n",
      "    CSS style to be applied to the legend text e.g., {'font-size': 20}\n",
      "title_style: Dict (default: {})\n",
      "    CSS style to be applied to the title of the figure\n",
      "animation_duration: nonnegative int (default: 0)\n",
      "    Duration of transition on change of data attributes, in milliseconds.\n",
      "pixel_ratio:\n",
      "    Pixel ratio of the WebGL canvas (2 on retina screens). Set to 1 for better performance,\n",
      "    but less crisp edges. If set to None it will use the browser's window.devicePixelRatio.\n",
      "\n",
      "Layout Attributes\n",
      "\n",
      "fig_margin: dict (default: {top=60, bottom=60, left=60, right=60})\n",
      "    Dictionary containing the top, bottom, left and right margins. The user\n",
      "    is responsible for making sure that the width and height are greater\n",
      "    than the sum of the margins.\n",
      "min_aspect_ratio: float\n",
      "     minimum width / height ratio of the figure\n",
      "max_aspect_ratio: float\n",
      "     maximum width / height ratio of the figure\n",
      "\n",
      "Methods\n",
      "-------\n",
      "\n",
      "save_png:\n",
      "   Saves the figure as a PNG file\n",
      "save_svg:\n",
      "   Saves the figure as an SVG file\n",
      "\n",
      "Note\n",
      "----\n",
      "\n",
      "The aspect ratios stand for width / height ratios.\n",
      "\n",
      " - If the available space is within bounds in terms of min and max aspect\n",
      "   ratio, we use the entire available space.\n",
      " - If the available space is too oblong horizontally, we use the client\n",
      "   height and the width that corresponds max_aspect_ratio (maximize width\n",
      "   under the constraints).\n",
      " - If the available space is too oblong vertically, we use the client width\n",
      "   and the height that corresponds to min_aspect_ratio (maximize height\n",
      "   under the constraint).\n",
      "   This corresponds to maximizing the area under the constraints.\n",
      "\n",
      "Default min and max aspect ratio are both equal to 16 / 9.\n",
      "\u001b[0;31mInit docstring:\u001b[0m Public constructor\n",
      "\u001b[0;31mFile:\u001b[0m           /opt/anaconda3/envs/DataViz2/lib/python3.10/site-packages/bqplot/figure.py\n",
      "\u001b[0;31mType:\u001b[0m           MetaHasTraits\n",
      "\u001b[0;31mSubclasses:\u001b[0m     "
     ]
    }
   ],
   "source": [
    "bqplot.Figure?"
   ]
  },
  {
   "cell_type": "code",
   "execution_count": 48,
   "metadata": {},
   "outputs": [
    {
     "data": {
      "application/vnd.jupyter.widget-view+json": {
       "model_id": "97465898edca4f86945605ce8e8ecf1c",
       "version_major": 2,
       "version_minor": 0
      },
      "text/plain": [
       "Figure(axes=[Axis(label='X Value', scale=LinearScale(), side='bottom'), Axis(label='Y Value', orientation='ver…"
      ]
     },
     "metadata": {},
     "output_type": "display_data"
    }
   ],
   "source": [
    "fig = bqplot.Figure(marks = [lines], axes = [ax_x, ax_y])\n",
    "#display(fig) # you might also want to try \"display\"\n",
    "# if you don't see the following fig, here is where\n",
    "#  you might have to close and reopen your notebook\n",
    "fig # note: just \"fig\" instead of \"display(fig)\" may also be an option for you"
   ]
  },
  {
   "cell_type": "markdown",
   "metadata": {},
   "source": [
    "Ok, but this isn't interactive in anyway lets make it!!  There are a few \"interactions\" supported in `bqplot` but not all of them are supported for all types of plots.  The docs can be a little nebulous about what plot can use what type of interaction, so we'll just try a few and see what happens.  Here, let's add in an ability to pan/zoom in our plot:"
   ]
  },
  {
   "cell_type": "code",
   "execution_count": 49,
   "metadata": {},
   "outputs": [
    {
     "name": "stdout",
     "output_type": "stream",
     "text": [
      "\u001b[0;31mType:\u001b[0m        module\n",
      "\u001b[0;31mString form:\u001b[0m <module 'bqplot.interacts' from '/opt/anaconda3/envs/DataViz2/lib/python3.10/site-packages/bqplot/interacts.py'>\n",
      "\u001b[0;31mFile:\u001b[0m        /opt/anaconda3/envs/DataViz2/lib/python3.10/site-packages/bqplot/interacts.py\n",
      "\u001b[0;31mDocstring:\u001b[0m  \n",
      "=========\n",
      "Interacts\n",
      "=========\n",
      "\n",
      ".. currentmodule:: bqplot.interacts\n",
      "\n",
      ".. autosummary::\n",
      "   :toctree: _generate/\n",
      "\n",
      "   BrushIntervalSelector\n",
      "   BrushSelector\n",
      "   HandDraw\n",
      "   IndexSelector\n",
      "   FastIntervalSelector\n",
      "   MultiSelector\n",
      "   OneDSelector\n",
      "   Interaction\n",
      "   PanZoom\n",
      "   Selector\n",
      "   TwoDSelector"
     ]
    }
   ],
   "source": [
    "bqplot.interacts?"
   ]
  },
  {
   "cell_type": "code",
   "execution_count": 50,
   "metadata": {},
   "outputs": [
    {
     "name": "stdout",
     "output_type": "stream",
     "text": [
      "\u001b[0;31mInit signature:\u001b[0m \u001b[0mbqplot\u001b[0m\u001b[0;34m.\u001b[0m\u001b[0minteracts\u001b[0m\u001b[0;34m.\u001b[0m\u001b[0mPanZoom\u001b[0m\u001b[0;34m(\u001b[0m\u001b[0;34m*\u001b[0m\u001b[0margs\u001b[0m\u001b[0;34m:\u001b[0m \u001b[0;34m't.Any'\u001b[0m\u001b[0;34m,\u001b[0m \u001b[0;34m**\u001b[0m\u001b[0mkwargs\u001b[0m\u001b[0;34m:\u001b[0m \u001b[0;34m't.Any'\u001b[0m\u001b[0;34m)\u001b[0m \u001b[0;34m->\u001b[0m \u001b[0;34m't.Any'\u001b[0m\u001b[0;34m\u001b[0m\u001b[0;34m\u001b[0m\u001b[0m\n",
      "\u001b[0;31mDocstring:\u001b[0m     \n",
      "An interaction to pan and zoom wrt scales.\n",
      "\n",
      "Attributes\n",
      "----------\n",
      "allow_pan: bool (default: True)\n",
      "    Toggle the ability to pan.\n",
      "allow_zoom: bool (default: True)\n",
      "    Toggle the ability to zoom.\n",
      "scales: Dictionary of lists of Scales (default: {})\n",
      "    Dictionary with keys such as 'x' and 'y' and values being the scales in\n",
      "    the corresponding direction (dimensions) which should be panned or\n",
      "    zoomed.\n",
      "\u001b[0;31mInit docstring:\u001b[0m Public constructor\n",
      "\u001b[0;31mFile:\u001b[0m           /opt/anaconda3/envs/DataViz2/lib/python3.10/site-packages/bqplot/interacts.py\n",
      "\u001b[0;31mType:\u001b[0m           MetaHasTraits\n",
      "\u001b[0;31mSubclasses:\u001b[0m     "
     ]
    }
   ],
   "source": [
    "bqplot.interacts.PanZoom?"
   ]
  },
  {
   "cell_type": "code",
   "execution_count": 51,
   "metadata": {},
   "outputs": [],
   "source": [
    "pz = bqplot.interacts.PanZoom( scales = {'x': [x_sc], 'y': [y_sc]})"
   ]
  },
  {
   "cell_type": "code",
   "execution_count": 52,
   "metadata": {},
   "outputs": [
    {
     "data": {
      "application/vnd.jupyter.widget-view+json": {
       "model_id": "d101ec190ac248a1be843c05d2353608",
       "version_major": 2,
       "version_minor": 0
      },
      "text/plain": [
       "Figure(axes=[Axis(label='X Value', scale=LinearScale(), side='bottom'), Axis(label='Y Value', orientation='ver…"
      ]
     },
     "metadata": {},
     "output_type": "display_data"
    }
   ],
   "source": [
    "fig = bqplot.Figure(marks = [lines], axes = [ax_x, ax_y], interaction = pz)\n",
    "#display(fig)\n",
    "fig"
   ]
  },
  {
   "cell_type": "markdown",
   "metadata": {},
   "source": [
    "Note that if I pan and zoom, the figure updates. Ooooo. fancy.\n",
    "\n",
    "Note also, that the above figure also reacts as well this is because we are using the same lines & ax's objects -- recall back to last week that this was a feature of using ipywidgets and traitlets as well."
   ]
  },
  {
   "cell_type": "markdown",
   "metadata": {},
   "source": [
    "### ASIDE: where things can go wrong (SKIPPING generally):"
   ]
  },
  {
   "cell_type": "code",
   "execution_count": 53,
   "metadata": {},
   "outputs": [],
   "source": [
    "# lets see an example of where this can fail\n",
    "\n",
    "# first lets make an x from 0-10 in 100 steps\n",
    "x = np.mgrid[0.0:10.0:100j]\n",
    "# and 2 y variables\n",
    "y1 = x * 2\n",
    "y2 = x**2"
   ]
  },
  {
   "cell_type": "code",
   "execution_count": 54,
   "metadata": {},
   "outputs": [],
   "source": [
    "x_sc = bqplot.LinearScale(min = 1, max = 10)\n",
    "# lets do one y-scale over linear and 1 over log\n",
    "y_sc1 = bqplot.LinearScale(min = 1, max = 20)\n",
    "y_sc2 = bqplot.LogScale(min = 1, max = 100)"
   ]
  },
  {
   "cell_type": "code",
   "execution_count": 55,
   "metadata": {},
   "outputs": [],
   "source": [
    "# lets genrate lines for each y value\n",
    "lines1 = bqplot.Lines(x = x, y = y1, scales = {'x': x_sc, 'y': y_sc1})\n",
    "lines2 = bqplot.Lines(x = x, y = y2, scales = {'x': x_sc, 'y': y_sc2})"
   ]
  },
  {
   "cell_type": "code",
   "execution_count": 56,
   "metadata": {},
   "outputs": [],
   "source": [
    "# and lets plot an x axis like before\n",
    "ax_x = bqplot.Axis(scale = x_sc, label = 'X Value')\n",
    "# and one y axis on the left\n",
    "ax_y1 = bqplot.Axis(scale = y_sc1, label = 'Y1 Value', \n",
    "                    orientation = 'vertical')\n",
    "# and one y-axis on the right\n",
    "ax_y2 = bqplot.Axis(scale = y_sc2, label = 'Y2 Value', \n",
    "                    orientation = 'vertical', side = 'right')"
   ]
  },
  {
   "cell_type": "code",
   "execution_count": 57,
   "metadata": {
    "scrolled": false
   },
   "outputs": [
    {
     "data": {
      "application/vnd.jupyter.widget-view+json": {
       "model_id": "59355abf58c042cb98af9c650c9602f4",
       "version_major": 2,
       "version_minor": 0
      },
      "text/plain": [
       "Figure(axes=[Axis(label='X Value', scale=LinearScale(max=10.0, min=1.0), side='bottom'), Axis(label='Y1 Value'…"
      ]
     },
     "metadata": {},
     "output_type": "display_data"
    }
   ],
   "source": [
    "# lets allow pan and zoom\n",
    "pz = bqplot.interacts.PanZoom(scales = {'x': [x_sc], \n",
    "                                        'y': [y_sc1, y_sc2]})\n",
    "#bqplot.interacts.PanZoom?\n",
    "fig = bqplot.Figure(marks = [lines1, lines2], \n",
    "                    axes = [ax_x, ax_y1, ax_y2], interaction=pz)\n",
    "#display(fig)\n",
    "fig\n",
    "# now we note if we zoom out too far, or pan to too negative of the x-axis\n",
    "# we lose a line\n",
    "\n",
    "# why? because the line is log-scaled, and log(numbers < 0) is undefined\n",
    "\n",
    "# this is a way in which declaritive programming can fail because there\n",
    "#  aren't obvious options to inhibit pan&zoom to a positive range"
   ]
  },
  {
   "cell_type": "markdown",
   "metadata": {},
   "source": [
    "### END ASIDE/SKIP"
   ]
  },
  {
   "cell_type": "markdown",
   "metadata": {},
   "source": [
    "FYI lots of more fun notebooks here: https://github.com/dmadeka/PyGotham-2017\n",
    "\n",
    "From video tutorial here: https://www.youtube.com/watch?v=rraXF0EjRC8"
   ]
  },
  {
   "cell_type": "markdown",
   "metadata": {},
   "source": [
    "## Random Scatter plot\n",
    "Ok, lets do another quick interactive example using a scatter plot:"
   ]
  },
  {
   "cell_type": "code",
   "execution_count": 58,
   "metadata": {},
   "outputs": [],
   "source": [
    "# 1. Data\n",
    "x = np.random.random(100) # random points betweeon 0-1\n",
    "y = np.random.random(100) # random points betweeon 0-1"
   ]
  },
  {
   "cell_type": "code",
   "execution_count": 59,
   "metadata": {},
   "outputs": [
    {
     "data": {
      "text/plain": [
       "(array([0.3435055 , 0.76371727, 0.40744332, 0.96982709, 0.98634342,\n",
       "        0.12496998, 0.24231708, 0.12873311, 0.27967172, 0.82592252,\n",
       "        0.09501297, 0.38137037, 0.9515915 , 0.62138341, 0.26915436,\n",
       "        0.14562592, 0.55419754, 0.90623859, 0.89815364, 0.51751726,\n",
       "        0.07419093, 0.94814202, 0.90442011, 0.4000033 , 0.00578212,\n",
       "        0.5060723 , 0.94328686, 0.70359194, 0.94831105, 0.77787102,\n",
       "        0.01269121, 0.3451176 , 0.6057318 , 0.1559008 , 0.84754417,\n",
       "        0.73636787, 0.25698605, 0.77345274, 0.53704964, 0.11640579,\n",
       "        0.21074182, 0.54813691, 0.20863306, 0.38535064, 0.60341655,\n",
       "        0.06714227, 0.75206259, 0.58802088, 0.49392403, 0.40245213,\n",
       "        0.10339404, 0.48684799, 0.9276683 , 0.63327124, 0.32511625,\n",
       "        0.70907261, 0.7890314 , 0.3313958 , 0.01291257, 0.50633976,\n",
       "        0.30047141, 0.13946659, 0.19834728, 0.60078139, 0.89597683,\n",
       "        0.13849559, 0.37042304, 0.61286123, 0.08120269, 0.74202002,\n",
       "        0.412445  , 0.62006059, 0.0880647 , 0.97956794, 0.89972789,\n",
       "        0.94551597, 0.9555162 , 0.1302211 , 0.53714742, 0.40698455,\n",
       "        0.50214983, 0.21101398, 0.93408091, 0.75971516, 0.41382418,\n",
       "        0.5536015 , 0.30284548, 0.7835685 , 0.91094126, 0.25294276,\n",
       "        0.64857772, 0.90787148, 0.37357868, 0.02570787, 0.56185796,\n",
       "        0.56237718, 0.48178765, 0.25949369, 0.03325126, 0.89440572]),\n",
       " array([0.55339193, 0.00411245, 0.99025222, 0.20848649, 0.40344564,\n",
       "        0.76019541, 0.34593607, 0.21663173, 0.2542929 , 0.80978514,\n",
       "        0.93404663, 0.94231489, 0.99490498, 0.23407717, 0.06673304,\n",
       "        0.66963738, 0.72261352, 0.98516188, 0.06349932, 0.72545111,\n",
       "        0.174635  , 0.60803744, 0.79983438, 0.64760632, 0.63794048,\n",
       "        0.19312944, 0.76156306, 0.60511633, 0.58378065, 0.56592431,\n",
       "        0.74901001, 0.36246637, 0.5419876 , 0.72088437, 0.38345922,\n",
       "        0.24086524, 0.6750163 , 0.17430649, 0.93918672, 0.16676553,\n",
       "        0.87975429, 0.57997601, 0.48654043, 0.71310511, 0.15412865,\n",
       "        0.64478368, 0.40363455, 0.94236593, 0.10093919, 0.046239  ,\n",
       "        0.60291287, 0.00274582, 0.80238584, 0.05692085, 0.96400247,\n",
       "        0.93366903, 0.48561359, 0.14250506, 0.46255288, 0.16116064,\n",
       "        0.59488858, 0.80657319, 0.79992302, 0.5767332 , 0.73356725,\n",
       "        0.44489974, 0.10411241, 0.73461317, 0.86224465, 0.00146645,\n",
       "        0.24460884, 0.58604608, 0.88519797, 0.40881751, 0.5985214 ,\n",
       "        0.5727166 , 0.53067539, 0.65251656, 0.10847169, 0.4926742 ,\n",
       "        0.8454396 , 0.01245871, 0.34358987, 0.10984166, 0.32859091,\n",
       "        0.19282801, 0.73560367, 0.28536102, 0.16795675, 0.78323625,\n",
       "        0.07794957, 0.87587978, 0.98742467, 0.55499922, 0.48752317,\n",
       "        0.49048991, 0.97289468, 0.18239701, 0.76754169, 0.93726769]))"
      ]
     },
     "execution_count": 59,
     "metadata": {},
     "output_type": "execute_result"
    }
   ],
   "source": [
    "x, y"
   ]
  },
  {
   "cell_type": "markdown",
   "metadata": {},
   "source": [
    "Create scales and axis like we did before:"
   ]
  },
  {
   "cell_type": "code",
   "execution_count": 60,
   "metadata": {},
   "outputs": [],
   "source": [
    "# 2. scales\n",
    "x_sc = bqplot.LinearScale()\n",
    "y_sc = bqplot.LinearScale()\n",
    "\n",
    "# 3. axis\n",
    "x_ax = bqplot.Axis(scale = x_sc, label = 'X')\n",
    "y_ax = bqplot.Axis(scale = y_sc, label = 'Y', orientation = 'vertical')"
   ]
  },
  {
   "cell_type": "markdown",
   "metadata": {},
   "source": [
    "Create a scatter plot graphing object with these random x/y and scales:"
   ]
  },
  {
   "cell_type": "code",
   "execution_count": 61,
   "metadata": {},
   "outputs": [
    {
     "name": "stdout",
     "output_type": "stream",
     "text": [
      "\u001b[0;31mInit signature:\u001b[0m \u001b[0mbqplot\u001b[0m\u001b[0;34m.\u001b[0m\u001b[0mScatter\u001b[0m\u001b[0;34m(\u001b[0m\u001b[0;34m*\u001b[0m\u001b[0margs\u001b[0m\u001b[0;34m:\u001b[0m \u001b[0;34m't.Any'\u001b[0m\u001b[0;34m,\u001b[0m \u001b[0;34m**\u001b[0m\u001b[0mkwargs\u001b[0m\u001b[0;34m:\u001b[0m \u001b[0;34m't.Any'\u001b[0m\u001b[0;34m)\u001b[0m \u001b[0;34m->\u001b[0m \u001b[0;34m't.Any'\u001b[0m\u001b[0;34m\u001b[0m\u001b[0;34m\u001b[0m\u001b[0m\n",
      "\u001b[0;31mDocstring:\u001b[0m     \n",
      "Scatter mark.\n",
      "\n",
      "In the case of the Scatter mark, scales for 'x' and 'y' MUST be provided.\n",
      "The scales of other data attributes are optional. In the case where another\n",
      "data attribute than 'x' or 'y' is provided but the corresponding scale is\n",
      "missing, the data attribute is ignored.\n",
      "\n",
      "Attributes\n",
      "----------\n",
      "icon: string (class-level attribute)\n",
      "    Font-awesome icon for that mark\n",
      "name: string (class-level attribute)\n",
      "    User-friendly name of the mark\n",
      "marker: {'circle', 'cross', 'diamond', 'square', 'triangle-down', 'triangle-up', 'arrow', 'rectangle', 'ellipse'}\n",
      "    Marker shape\n",
      "colors: list of colors (default: ['steelblue'])\n",
      "    List of colors of the markers. If the list is shorter than the number\n",
      "    of points, the colors are reused.\n",
      "default_colors: Deprecated\n",
      "    Same as `colors`, deprecated as of version 0.8.4\n",
      "fill: Bool (default: True)\n",
      "    Whether to fill the markers or not\n",
      "stroke: Color or None (default: None)\n",
      "    Stroke color of the marker\n",
      "stroke_width: Float (default: 1.5)\n",
      "    Stroke width of the marker\n",
      "opacities: list of floats (default: [1.0])\n",
      "    Default opacities of the markers. If the list is shorter than\n",
      "    the number\n",
      "    of points, the opacities are reused.\n",
      "default_skew: float (default: 0.5)\n",
      "    Default skew of the marker.\n",
      "    This number is validated to be between 0 and 1.\n",
      "default_size: nonnegative int (default: 64)\n",
      "    Default marker size in pixel.\n",
      "    If size data is provided with a scale, default_size stands for the\n",
      "    maximal marker size (i.e. the maximum value for the 'size' scale range)\n",
      "drag_size: nonnegative float (default: 5.)\n",
      "    Ratio of the size of the dragged scatter size to the default\n",
      "    scatter size.\n",
      "names: numpy.ndarray (default: None)\n",
      "    Labels for the points of the chart\n",
      "display_names: bool (default: True)\n",
      "    Controls whether names are displayed for points in the scatter\n",
      "label_display_horizontal_offset: float (default: None)\n",
      "    Adds an offset, in pixels, to the horizontal positioning of the 'names'\n",
      "    label above each data point\n",
      "label_display_vertical_offset: float (default: None)\n",
      "    Adds an offset, in pixels, to the vertical positioning of the 'names'\n",
      "    label above each data point\n",
      "enable_move: bool (default: False)\n",
      "    Controls whether points can be moved by dragging. Refer to restrict_x,\n",
      "    restrict_y for more options.\n",
      "restrict_x: bool (default: False)\n",
      "    Restricts movement of the point to only along the x axis. This is valid\n",
      "    only when enable_move is set to True. If both restrict_x and restrict_y\n",
      "    are set to True, the point cannot be moved.\n",
      "restrict_y: bool (default: False)\n",
      "    Restricts movement of the point to only along the y axis. This is valid\n",
      "    only when enable_move is set to True. If both restrict_x and restrict_y\n",
      "    are set to True, the point cannot be moved.\n",
      "\n",
      "\n",
      "Data Attributes\n",
      "\n",
      "x: numpy.ndarray (default: [])\n",
      "    abscissas of the data points (1d array)\n",
      "y: numpy.ndarray (default: [])\n",
      "    ordinates of the data points (1d array)\n",
      "color: numpy.ndarray or None (default: None)\n",
      "    color of the data points (1d array). Defaults to default_color when not\n",
      "    provided or when a value is NaN\n",
      "opacity: numpy.ndarray or None (default: None)\n",
      "    opacity of the data points (1d array). Defaults to default_opacity when\n",
      "    not provided or when a value is NaN\n",
      "size: numpy.ndarray or None (default: None)\n",
      "    size of the data points. Defaults to default_size when not provided or\n",
      "    when a value is NaN\n",
      "skew: numpy.ndarray or None (default: None)\n",
      "    skewness of the markers representing the data points. Defaults to\n",
      "    default_skew when not provided or when a value is NaN\n",
      "rotation: numpy.ndarray or None (default: None)\n",
      "    orientation of the markers representing the data points.\n",
      "    The rotation scale's range is [0, 180]\n",
      "    Defaults to 0 when not provided or when a value is NaN.\n",
      "\n",
      "Notes\n",
      "-----\n",
      "The fields which can be passed to the default tooltip are:\n",
      "    All the data attributes\n",
      "    index: index of the marker being hovered on\n",
      "The following are the events which can trigger interactions:\n",
      "    click: left click of the mouse\n",
      "    hover: mouse-over an element\n",
      "The following are the interactions which can be linked to the above events:\n",
      "    tooltip: display tooltip\n",
      "    add: add new points to the scatter (can only linked to click)\n",
      "\u001b[0;31mInit docstring:\u001b[0m Public constructor\n",
      "\u001b[0;31mFile:\u001b[0m           /opt/anaconda3/envs/DataViz2/lib/python3.10/site-packages/bqplot/marks.py\n",
      "\u001b[0;31mType:\u001b[0m           MetaHasTraits\n",
      "\u001b[0;31mSubclasses:\u001b[0m     ScatterGL"
     ]
    }
   ],
   "source": [
    "bqplot.Scatter?"
   ]
  },
  {
   "cell_type": "code",
   "execution_count": 62,
   "metadata": {},
   "outputs": [],
   "source": [
    "# 4. marks\n",
    "scatters = bqplot.Scatter(x = x,\n",
    "                          y = y,\n",
    "                          scales = {'x': x_sc, 'y': y_sc})"
   ]
  },
  {
   "cell_type": "markdown",
   "metadata": {},
   "source": [
    "Now, lets create a selector to select points along the x-axis.  We will use the `bqplot` interaction called `FastIntervalSelector`:"
   ]
  },
  {
   "cell_type": "code",
   "execution_count": 63,
   "metadata": {},
   "outputs": [
    {
     "name": "stdout",
     "output_type": "stream",
     "text": [
      "\u001b[0;31mInit signature:\u001b[0m \u001b[0mbqplot\u001b[0m\u001b[0;34m.\u001b[0m\u001b[0minteracts\u001b[0m\u001b[0;34m.\u001b[0m\u001b[0mFastIntervalSelector\u001b[0m\u001b[0;34m(\u001b[0m\u001b[0;34m*\u001b[0m\u001b[0margs\u001b[0m\u001b[0;34m:\u001b[0m \u001b[0;34m't.Any'\u001b[0m\u001b[0;34m,\u001b[0m \u001b[0;34m**\u001b[0m\u001b[0mkwargs\u001b[0m\u001b[0;34m:\u001b[0m \u001b[0;34m't.Any'\u001b[0m\u001b[0;34m)\u001b[0m \u001b[0;34m->\u001b[0m \u001b[0;34m't.Any'\u001b[0m\u001b[0;34m\u001b[0m\u001b[0;34m\u001b[0m\u001b[0m\n",
      "\u001b[0;31mDocstring:\u001b[0m     \n",
      "Fast interval selector interaction.\n",
      "\n",
      "This 1-D selector is used to select an interval on the x-scale\n",
      "by just moving the mouse (without clicking or dragging). The\n",
      "x-coordinate of the mouse controls the mid point of the interval selected\n",
      "while the y-coordinate of the mouse controls the the width of the interval.\n",
      "The larger the y-coordinate, the wider the interval selected.\n",
      "\n",
      "Interval selector has three modes:\n",
      "    1. default mode: This is the default mode in which the mouse controls\n",
      "            the location and width of the interval.\n",
      "    2. fixed-width mode: In this mode the width of the interval is frozen\n",
      "            and only the location of the interval is controlled with the\n",
      "            mouse.\n",
      "            A single click from the default mode takes you to this mode.\n",
      "            Another single click takes you back to the default mode.\n",
      "    3. frozen mode: In this mode the selected interval is frozen and the\n",
      "            selector does not respond to mouse move.\n",
      "            A double click from the default mode takes you to this mode.\n",
      "            Another double click takes you back to the default mode.\n",
      "\n",
      "Attributes\n",
      "----------\n",
      "selected: numpy.ndarray\n",
      "    Two-element array containing the start and end of the interval selected\n",
      "    in terms of the scale of the selector.\n",
      "color: Color or None (default: None)\n",
      "    color of the rectangle representing the interval selector\n",
      "size: Float or None (default: None)\n",
      "    if not None, this is the fixed pixel-width of the interval selector\n",
      "\u001b[0;31mInit docstring:\u001b[0m Public constructor\n",
      "\u001b[0;31mFile:\u001b[0m           /opt/anaconda3/envs/DataViz2/lib/python3.10/site-packages/bqplot/interacts.py\n",
      "\u001b[0;31mType:\u001b[0m           MetaHasTraits\n",
      "\u001b[0;31mSubclasses:\u001b[0m     "
     ]
    }
   ],
   "source": [
    "bqplot.interacts.FastIntervalSelector?"
   ]
  },
  {
   "cell_type": "code",
   "execution_count": 64,
   "metadata": {},
   "outputs": [],
   "source": [
    "# 5. interactions\n",
    "selector = bqplot.interacts.FastIntervalSelector(\n",
    "            scale = x_sc, marks = [scatters]) "
   ]
  },
  {
   "cell_type": "markdown",
   "metadata": {},
   "source": [
    "Let's check out the full figure + interaction!"
   ]
  },
  {
   "cell_type": "code",
   "execution_count": 65,
   "metadata": {},
   "outputs": [
    {
     "data": {
      "application/vnd.jupyter.widget-view+json": {
       "model_id": "89429349a0bf4e27a7b516ed54358efb",
       "version_major": 2,
       "version_minor": 0
      },
      "text/plain": [
       "Figure(axes=[Axis(label='X', scale=LinearScale(), side='bottom'), Axis(label='Y', orientation='vertical', scal…"
      ]
     },
     "metadata": {},
     "output_type": "display_data"
    }
   ],
   "source": [
    "# Finally: fig\n",
    "fig = bqplot.Figure(marks = [scatters], axes = [x_ax, y_ax], interaction = selector)\n",
    "fig"
   ]
  },
  {
   "cell_type": "markdown",
   "metadata": {},
   "source": [
    "This might depend on what computer you are in, but on my mac, I click to start selecting and then double click to \"lock in\" my selected region.\n",
    "\n",
    "How do we tell what interval we have selected?"
   ]
  },
  {
   "cell_type": "code",
   "execution_count": 66,
   "metadata": {},
   "outputs": [
    {
     "data": {
      "text/plain": [
       "array([0.50258896, 0.77832084])"
      ]
     },
     "execution_count": 66,
     "metadata": {},
     "output_type": "execute_result"
    }
   ],
   "source": [
    "selector.selected"
   ]
  },
  {
   "cell_type": "markdown",
   "metadata": {},
   "source": [
    "So, its a little hard to see what points are selected.  There are some hidden tags within our scatter plot points that we can mess with to change our our plot looks.  These have CSS styling (how HTML is styled), so they'll look very un-Pythonic, because they are!  We'll get more into this sort of thing when we are doing Javascript later in the course:"
   ]
  },
  {
   "cell_type": "code",
   "execution_count": 67,
   "metadata": {},
   "outputs": [],
   "source": [
    "scatters.unselected_style={'opacity': 0.8} # when unselected, make the points a little see-through\n",
    "\n",
    "scatters.selected_style={'fill': 'red', 'stroke': 'yellow'} # fill with red, outline in yellow when selected"
   ]
  },
  {
   "cell_type": "markdown",
   "metadata": {},
   "source": [
    "Display updated figure (though, like with widgets, this change is \"backreactive\" and will show up above as well):"
   ]
  },
  {
   "cell_type": "code",
   "execution_count": 68,
   "metadata": {},
   "outputs": [
    {
     "data": {
      "application/vnd.jupyter.widget-view+json": {
       "model_id": "16be3e37d93b4ed3b376901f8e421f81",
       "version_major": 2,
       "version_minor": 0
      },
      "text/plain": [
       "Figure(axes=[Axis(label='X', scale=LinearScale(), side='bottom'), Axis(label='Y', orientation='vertical', scal…"
      ]
     },
     "metadata": {},
     "output_type": "display_data"
    }
   ],
   "source": [
    "fig = bqplot.Figure(marks = [scatters], axes = [x_ax, y_ax], interaction = selector)\n",
    "#display(fig)\n",
    "fig"
   ]
  },
  {
   "cell_type": "markdown",
   "metadata": {},
   "source": [
    "## Random Heatmap with 2D data"
   ]
  },
  {
   "cell_type": "markdown",
   "metadata": {},
   "source": [
    "Lets start thinking about heatmaps with some random data:"
   ]
  },
  {
   "cell_type": "code",
   "execution_count": 69,
   "metadata": {},
   "outputs": [
    {
     "data": {
      "text/plain": [
       "array([[0.14284753, 0.3380296 , 0.73463165, 0.63509897, 0.71019444,\n",
       "        0.74894827, 0.74914147, 0.07587777, 0.75921986, 0.65655436],\n",
       "       [0.29616338, 0.68277265, 0.21517136, 0.09876002, 0.48454085,\n",
       "        0.34799351, 0.86251608, 0.1368085 , 0.99257749, 0.79515285],\n",
       "       [0.81974292, 0.7146941 , 0.31752821, 0.82403985, 0.68091556,\n",
       "        0.23376115, 0.90606687, 0.13628151, 0.61290948, 0.90511471],\n",
       "       [0.88063726, 0.95907589, 0.09384309, 0.95964782, 0.25278208,\n",
       "        0.53517774, 0.62948673, 0.77508677, 0.80860543, 0.65787508],\n",
       "       [0.74088926, 0.63896199, 0.14373814, 0.71195645, 0.23010547,\n",
       "        0.36456378, 0.1781329 , 0.12067858, 0.33969262, 0.84033688],\n",
       "       [0.04083225, 0.24513688, 0.61656894, 0.02948847, 0.34685374,\n",
       "        0.84207837, 0.87978381, 0.36584584, 0.29818493, 0.47188003],\n",
       "       [0.53804911, 0.82707316, 0.73901657, 0.39588482, 0.10054385,\n",
       "        0.95397658, 0.85036869, 0.85717319, 0.36422885, 0.10371468],\n",
       "       [0.18118775, 0.57211779, 0.88227489, 0.93357733, 0.70799852,\n",
       "        0.66462165, 0.24593237, 0.86140739, 0.87335435, 0.22181375],\n",
       "       [0.31658879, 0.81117524, 0.5152646 , 0.80823036, 0.38427456,\n",
       "        0.62342032, 0.29618928, 0.91169646, 0.25069897, 0.98448014],\n",
       "       [0.69817092, 0.09351698, 0.77240092, 0.38773586, 0.42666405,\n",
       "        0.53492401, 0.70235503, 0.09603961, 0.53687729, 0.84879035]])"
      ]
     },
     "execution_count": 69,
     "metadata": {},
     "output_type": "execute_result"
    }
   ],
   "source": [
    "# 1. Data\n",
    "data = np.random.random((10, 10))\n",
    "data # your's may look different!"
   ]
  },
  {
   "cell_type": "markdown",
   "metadata": {},
   "source": [
    "So we just have a 10 x 10 array here.\n",
    "\n",
    "Lets start by generating a quick heat map with `bqplot`'s `GridHeatMap` marks function. We've been making plots with linear scales before, but now for a heatmap, we will want to make a color scale as well.  Let's start with just assigning a color scale, and going from there:"
   ]
  },
  {
   "cell_type": "code",
   "execution_count": 70,
   "metadata": {},
   "outputs": [
    {
     "name": "stdout",
     "output_type": "stream",
     "text": [
      "\u001b[0;31mInit signature:\u001b[0m \u001b[0mbqplot\u001b[0m\u001b[0;34m.\u001b[0m\u001b[0mColorScale\u001b[0m\u001b[0;34m(\u001b[0m\u001b[0;34m*\u001b[0m\u001b[0margs\u001b[0m\u001b[0;34m:\u001b[0m \u001b[0;34m't.Any'\u001b[0m\u001b[0;34m,\u001b[0m \u001b[0;34m**\u001b[0m\u001b[0mkwargs\u001b[0m\u001b[0;34m:\u001b[0m \u001b[0;34m't.Any'\u001b[0m\u001b[0;34m)\u001b[0m \u001b[0;34m->\u001b[0m \u001b[0;34m't.Any'\u001b[0m\u001b[0;34m\u001b[0m\u001b[0;34m\u001b[0m\u001b[0m\n",
      "\u001b[0;31mDocstring:\u001b[0m     \n",
      "A color scale.\n",
      "\n",
      "A mapping from numbers to colors. The relation is affine by part.\n",
      "\n",
      "Attributes\n",
      "----------\n",
      "scale_type: {'linear'}\n",
      "    scale type\n",
      "colors: list of colors (default: [])\n",
      "    list of colors\n",
      "min: float or None (default: None)\n",
      "    if not None, min is the minimal value of the domain\n",
      "max: float or None (default: None)\n",
      "    if not None, max is the maximal value of the domain\n",
      "mid: float or None (default: None)\n",
      "    if not None, mid is the value corresponding to the mid color.\n",
      "scheme: string (default: 'RdYlGn')\n",
      "    Colorbrewer color scheme of the color scale.\n",
      "extrapolation: {'constant', 'linear'} (default: 'constant')\n",
      "    How to extrapolate values outside the [min, max] domain.\n",
      "rtype: string (class-level attribute)\n",
      "    The range type of a color scale is 'Color'. This should not be modified.\n",
      "dtype: type (class-level attribute)\n",
      "    the associated data type / domain type\n",
      "\u001b[0;31mInit docstring:\u001b[0m Public constructor\n",
      "\u001b[0;31mFile:\u001b[0m           /opt/anaconda3/envs/DataViz2/lib/python3.10/site-packages/bqplot/scales.py\n",
      "\u001b[0;31mType:\u001b[0m           MetaHasTraits\n",
      "\u001b[0;31mSubclasses:\u001b[0m     DateColorScale, OrdinalColorScale"
     ]
    }
   ],
   "source": [
    "bqplot.ColorScale?"
   ]
  },
  {
   "cell_type": "code",
   "execution_count": 71,
   "metadata": {},
   "outputs": [
    {
     "data": {
      "application/vnd.jupyter.widget-view+json": {
       "model_id": "86afa1a19d5f4fae9ab584073a5d7cb9",
       "version_major": 2,
       "version_minor": 0
      },
      "text/plain": [
       "Figure(fig_margin={'top': 60, 'bottom': 60, 'left': 60, 'right': 60}, marks=[GridHeatMap(color=array([[0.14284…"
      ]
     },
     "metadata": {},
     "output_type": "display_data"
    }
   ],
   "source": [
    "# 2. Scales -- in this case, just a color scale\n",
    "col_sc = bqplot.ColorScale() # use bqplot to define a color scale\n",
    "\n",
    "# 3. Axis -- skipping for now\n",
    "\n",
    "# 4. Mark -- use colorscale to make make heatmap of our data:\n",
    "heat_map = bqplot.GridHeatMap(color = data, scales = {'color': col_sc})\n",
    "\n",
    "# 5. Skipping any interactions\n",
    "\n",
    "# Finally: figure\n",
    "fig = bqplot.Figure(marks = [heat_map])\n",
    "fig"
   ]
  },
  {
   "cell_type": "code",
   "execution_count": 72,
   "metadata": {},
   "outputs": [
    {
     "name": "stdout",
     "output_type": "stream",
     "text": [
      "\u001b[0;31mInit signature:\u001b[0m \u001b[0mbqplot\u001b[0m\u001b[0;34m.\u001b[0m\u001b[0mGridHeatMap\u001b[0m\u001b[0;34m(\u001b[0m\u001b[0;34m**\u001b[0m\u001b[0mkwargs\u001b[0m\u001b[0;34m)\u001b[0m\u001b[0;34m\u001b[0m\u001b[0;34m\u001b[0m\u001b[0m\n",
      "\u001b[0;31mDocstring:\u001b[0m     \n",
      "GridHeatMap mark.\n",
      "\n",
      "Alignment: The tiles can be aligned so that the data matches either the\n",
      "start, the end or the midpoints of the tiles. This is controlled by the\n",
      "align attribute.\n",
      "\n",
      "Suppose the data passed is a m-by-n matrix. If the scale for the rows is\n",
      "Ordinal, then alignment is by default the mid points. For a non-ordinal\n",
      "scale, the data cannot be aligned to the mid points of the rectangles.\n",
      "\n",
      "If it is not ordinal, then two cases arise. If the number of rows passed\n",
      "is m, then align attribute can be used. If the number of rows passed\n",
      "is m+1, then the data are the boundaries of the m rectangles.\n",
      "\n",
      "If rows and columns are not passed, and scales for them are also\n",
      "not passed, then ordinal scales are generated for the rows and columns.\n",
      "\n",
      "Attributes\n",
      "----------\n",
      "row_align: Enum(['start', 'end'])\n",
      "    This is only valid if the number of entries in `row` exactly match the\n",
      "    number of rows in `color` and the `row_scale` is not `OrdinalScale`.\n",
      "    `start` aligns the row values passed to be aligned with the start\n",
      "    of the tiles and `end` aligns the row values to the end of the tiles.\n",
      "column_align: Enum(['start', end'])\n",
      "    This is only valid if the number of entries in `column` exactly\n",
      "    match the number of columns in `color` and the `column_scale` is\n",
      "    not `OrdinalScale`. `start` aligns the column values passed to\n",
      "    be aligned with the start of the tiles and `end` aligns the\n",
      "    column values to the end of the tiles.\n",
      "anchor_style: dict (default: {})\n",
      "    Controls the style for the element which serves as the anchor during\n",
      "    selection.\n",
      "display_format: string (default: None)\n",
      "    format for displaying values. If None, then values are not displayed\n",
      "font_style: dict\n",
      "    CSS style for the text of each cell\n",
      "\n",
      "Data Attributes\n",
      "\n",
      "color: numpy.ndarray or None (default: None)\n",
      "    color of the data points (2d array). The number of elements in\n",
      "    this array correspond to the number of cells created in the heatmap.\n",
      "row: numpy.ndarray or None (default: None)\n",
      "    labels for the rows of the `color` array passed. The length of\n",
      "    this can be no more than 1 away from the number of rows in `color`.\n",
      "    This is a scaled attribute and can be used to affect the height of the\n",
      "    cells as the entries of `row` can indicate the start or the end points\n",
      "    of the cells. Refer to the property `row_align`.\n",
      "    If this property is None, then a uniformly spaced grid is generated in\n",
      "    the row direction.\n",
      "column: numpy.ndarray or None (default: None)\n",
      "    labels for the columns of the `color` array passed. The length of\n",
      "    this can be no more than 1 away from the number of columns in `color`\n",
      "    This is a scaled attribute and can be used to affect the width of the\n",
      "    cells as the entries of `column` can indicate the start or the\n",
      "    end points of the cells. Refer to the property `column_align`.\n",
      "    If this property is None, then a uniformly spaced grid is generated in\n",
      "    the column direction.\n",
      "\u001b[0;31mInit docstring:\u001b[0m Public constructor\n",
      "\u001b[0;31mFile:\u001b[0m           /opt/anaconda3/envs/DataViz2/lib/python3.10/site-packages/bqplot/marks.py\n",
      "\u001b[0;31mType:\u001b[0m           MetaHasTraits\n",
      "\u001b[0;31mSubclasses:\u001b[0m     "
     ]
    }
   ],
   "source": [
    "bqplot.GridHeatMap?"
   ]
  },
  {
   "cell_type": "markdown",
   "metadata": {},
   "source": [
    "There are some things we probably want to do here.  One of them being able to change the color scale -- we spent all this time thinking about color, let's put those thoughts to good use!"
   ]
  },
  {
   "cell_type": "code",
   "execution_count": 73,
   "metadata": {},
   "outputs": [
    {
     "data": {
      "application/vnd.jupyter.widget-view+json": {
       "model_id": "23b41dccaa08473b96ac5eb8391e87ea",
       "version_major": 2,
       "version_minor": 0
      },
      "text/plain": [
       "Figure(fig_margin={'top': 60, 'bottom': 60, 'left': 60, 'right': 60}, marks=[GridHeatMap(color=array([[0.14284…"
      ]
     },
     "metadata": {},
     "output_type": "display_data"
    }
   ],
   "source": [
    "# 1. Data -- same as above\n",
    "\n",
    "# 2. Scale -- color with new color scheme\n",
    "col_sc = bqplot.ColorScale(scheme = \"Reds\") # color scheme of reds\n",
    "\n",
    "# 3. skip Axis\n",
    "\n",
    "# 4. Marks -- use colorscale to make make heatmap of our data:\n",
    "heat_map = bqplot.GridHeatMap(color = data, scales = {'color': col_sc})\n",
    "\n",
    "# Figure\n",
    "fig = bqplot.Figure(marks = [heat_map])\n",
    "fig"
   ]
  },
  {
   "cell_type": "markdown",
   "metadata": {},
   "source": [
    "Let's build upon this plot by adding some axis so that we can think about how to label our data.  Currently, we *only* have a color scale for each color in our 10x10 grid, so we will label this color axis with a colorbar:"
   ]
  },
  {
   "cell_type": "code",
   "execution_count": 74,
   "metadata": {},
   "outputs": [
    {
     "name": "stdout",
     "output_type": "stream",
     "text": [
      "\u001b[0;31mInit signature:\u001b[0m \u001b[0mbqplot\u001b[0m\u001b[0;34m.\u001b[0m\u001b[0mColorAxis\u001b[0m\u001b[0;34m(\u001b[0m\u001b[0;34m*\u001b[0m\u001b[0margs\u001b[0m\u001b[0;34m:\u001b[0m \u001b[0;34m't.Any'\u001b[0m\u001b[0;34m,\u001b[0m \u001b[0;34m**\u001b[0m\u001b[0mkwargs\u001b[0m\u001b[0;34m:\u001b[0m \u001b[0;34m't.Any'\u001b[0m\u001b[0;34m)\u001b[0m \u001b[0;34m->\u001b[0m \u001b[0;34m't.Any'\u001b[0m\u001b[0;34m\u001b[0m\u001b[0;34m\u001b[0m\u001b[0m\n",
      "\u001b[0;31mDocstring:\u001b[0m     \n",
      "A colorbar axis.\n",
      "\n",
      "A color axis is the visual representation of a color scale.\n",
      "\n",
      "Attributes\n",
      "----------\n",
      "scale: ColorScale\n",
      "    The scale represented by the axis\n",
      "\u001b[0;31mInit docstring:\u001b[0m Public constructor\n",
      "\u001b[0;31mFile:\u001b[0m           /opt/anaconda3/envs/DataViz2/lib/python3.10/site-packages/bqplot/axes.py\n",
      "\u001b[0;31mType:\u001b[0m           MetaHasTraits\n",
      "\u001b[0;31mSubclasses:\u001b[0m     "
     ]
    }
   ],
   "source": [
    "bqplot.ColorAxis?"
   ]
  },
  {
   "cell_type": "code",
   "execution_count": 75,
   "metadata": {},
   "outputs": [
    {
     "data": {
      "application/vnd.jupyter.widget-view+json": {
       "model_id": "221612257ae440d1add88be1a6b02d3e",
       "version_major": 2,
       "version_minor": 0
      },
      "text/plain": [
       "Figure(axes=[ColorAxis(orientation='vertical', scale=ColorScale(scheme='Reds'), side='right')], fig_margin={'t…"
      ]
     },
     "metadata": {},
     "output_type": "display_data"
    }
   ],
   "source": [
    "# 1. Data -- same\n",
    "\n",
    "# 2. Scales -- color\n",
    "col_sc = bqplot.ColorScale(scheme = \"Reds\")\n",
    "# lets plot some axes on our plot as well, in this case\n",
    "#  our axis will be a color bar, vertically on the right\n",
    "#  of our heatmap\n",
    "\n",
    "# 3. Axis (finally) -- here a \"color axis\" is just a colorbar\n",
    "c_ax = bqplot.ColorAxis(scale = col_sc, \n",
    "                        orientation = 'vertical', \n",
    "                        side = 'right') \n",
    "\n",
    "# 4. Marks -- put it all together and lets take a look!\n",
    "heat_map = bqplot.GridHeatMap(color = data, \n",
    "                              scales = {'color': col_sc})\n",
    "\n",
    "# 5. no interactions\n",
    "\n",
    "# generate fig!\n",
    "fig = bqplot.Figure(marks = [heat_map], axes = [c_ax])\n",
    "fig"
   ]
  },
  {
   "cell_type": "markdown",
   "metadata": {},
   "source": [
    "While our x/y bins don't mean anything in particular in this case - we are dealing with just a randomly binned 10x10 dataset after all - we none-the-less probably want to put at least the bin labels on there.  So let's make some x/y scales and some x/y axis (note I'm doing Scales/Axis a bit out of order here to group by kind of axis):"
   ]
  },
  {
   "cell_type": "code",
   "execution_count": 76,
   "metadata": {},
   "outputs": [],
   "source": [
    "x_sc = bqplot.OrdinalScale()\n",
    "y_sc = bqplot.OrdinalScale()\n",
    "\n",
    "x_ax = bqplot.Axis(scale = x_sc)\n",
    "y_ax = bqplot.Axis(scale = y_sc, \n",
    "                   orientation = 'vertical')"
   ]
  },
  {
   "cell_type": "markdown",
   "metadata": {},
   "source": [
    "Why did I choose ordinal scales?  Well again - the bins, while numbered, don't actually mean anything, so in a sense they are \"categorical\" bins, and our scales should reflect that fact!"
   ]
  },
  {
   "cell_type": "markdown",
   "metadata": {},
   "source": [
    "Color scale & color axis like before:"
   ]
  },
  {
   "cell_type": "code",
   "execution_count": 77,
   "metadata": {},
   "outputs": [],
   "source": [
    "col_sc = bqplot.ColorScale(scheme = \"Reds\")\n",
    "\n",
    "c_ax = bqplot.ColorAxis(scale = col_sc, \n",
    "                        orientation = 'vertical', \n",
    "                        side = 'right')"
   ]
  },
  {
   "cell_type": "markdown",
   "metadata": {},
   "source": [
    "Combine all these scales, axis and the data into a heat map mark using `bqplot.GridHeatMap`:"
   ]
  },
  {
   "cell_type": "code",
   "execution_count": 78,
   "metadata": {},
   "outputs": [],
   "source": [
    "# Marks -- lets now re-do our heat map & add in some interactivity:\n",
    "heat_map = bqplot.GridHeatMap(color = data,\n",
    "                              scales = {'color': col_sc,\n",
    "                                        'row': y_sc,\n",
    "                                        'column': x_sc})"
   ]
  },
  {
   "cell_type": "markdown",
   "metadata": {},
   "source": [
    "... put these marks and axes on a figure canvas and plot it!"
   ]
  },
  {
   "cell_type": "code",
   "execution_count": 79,
   "metadata": {},
   "outputs": [
    {
     "data": {
      "application/vnd.jupyter.widget-view+json": {
       "model_id": "d47f31450ef24c01958cf84ad2e91777",
       "version_major": 2,
       "version_minor": 0
      },
      "text/plain": [
       "Figure(axes=[ColorAxis(orientation='vertical', scale=ColorScale(scheme='Reds'), side='right'), Axis(orientatio…"
      ]
     },
     "metadata": {},
     "output_type": "display_data"
    }
   ],
   "source": [
    "# stir and combine into 1 figure\n",
    "fig = bqplot.Figure(marks = [heat_map], \n",
    "                    axes = [c_ax, y_ax, x_ax])\n",
    "\n",
    "fig"
   ]
  },
  {
   "cell_type": "markdown",
   "metadata": {},
   "source": [
    "So, we are almost there -- we don't have any interactivity!  Let's get into it.  In this case, we can actually specify the interaction when we are constructing the `GridHeatMap` mark.  Let's do something when we click on each square.  We can do this with a `click-select` interaction.  "
   ]
  },
  {
   "cell_type": "code",
   "execution_count": 80,
   "metadata": {},
   "outputs": [
    {
     "data": {
      "application/vnd.jupyter.widget-view+json": {
       "model_id": "4a715465a0544552bc4091e4472ad001",
       "version_major": 2,
       "version_minor": 0
      },
      "text/plain": [
       "Figure(axes=[ColorAxis(orientation='vertical', scale=ColorScale(scheme='Reds'), side='right'), Axis(orientatio…"
      ]
     },
     "metadata": {},
     "output_type": "display_data"
    }
   ],
   "source": [
    "# 1. Data -- same\n",
    "\n",
    "# 2. Scales -- recopy our scales and axis for posterity:\n",
    "col_sc = bqplot.ColorScale(scheme = \"Reds\")\n",
    "x_sc = bqplot.OrdinalScale()\n",
    "y_sc = bqplot.OrdinalScale()\n",
    "\n",
    "# 3. Axis -- create axis - for colors, x & y\n",
    "c_ax = bqplot.ColorAxis(scale = col_sc, \n",
    "                        orientation = 'vertical', \n",
    "                        side = 'right')\n",
    "x_ax = bqplot.Axis(scale = x_sc)\n",
    "y_ax = bqplot.Axis(scale = y_sc, \n",
    "                   orientation = 'vertical')\n",
    "\n",
    "# 4. Marks -- lets now re-do our heat map & add in some interactivity:\n",
    "heat_map = bqplot.GridHeatMap(color = data,\n",
    "                              scales = {'color': col_sc,\n",
    "                                        'row': y_sc,\n",
    "                                        'column': x_sc},\n",
    "                              interactions = {'click': 'select'}, # make interactive on click of each box\n",
    "                              anchor_style = {'fill':'blue'}, # to make our selection blue\n",
    "                              selected_style = {'opacity': 1.0}, # make 100% opaque if box is selected\n",
    "                              unselected_style = {'opacity': 0.8}) # make a little see-through if not\n",
    "\n",
    "# 5. Note: I put interactions in my marks call here!\n",
    "\n",
    "# stir and combine into 1 figure\n",
    "fig = bqplot.Figure(marks = [heat_map], \n",
    "                    axes = [c_ax, y_ax, x_ax])\n",
    "\n",
    "fig"
   ]
  },
  {
   "cell_type": "markdown",
   "metadata": {},
   "source": [
    "Ok fine, but our selection isn't linked to anything! Lets check out what heat_map selected actually is before we decide to do something with it:"
   ]
  },
  {
   "cell_type": "code",
   "execution_count": 81,
   "metadata": {},
   "outputs": [
    {
     "data": {
      "text/plain": [
       "array([[4, 3]])"
      ]
     },
     "execution_count": 81,
     "metadata": {},
     "output_type": "execute_result"
    }
   ],
   "source": [
    "heat_map.selected\n",
    "#  note if I select a different box & re-run this cell,\n",
    "#  I get out different values"
   ]
  },
  {
   "cell_type": "markdown",
   "metadata": {},
   "source": [
    "So the *trait* of the heat_map that gets updated when we select a box is the x/y indicies.\n",
    "\n",
    "Let's start simple: write a little function that links the data value to the selected & lets print this in a little ipywidgets label:"
   ]
  },
  {
   "cell_type": "code",
   "execution_count": 82,
   "metadata": {},
   "outputs": [],
   "source": [
    "mySelectedLabel = ipywidgets.Label()"
   ]
  },
  {
   "cell_type": "markdown",
   "metadata": {},
   "source": [
    "Let's now define what happens to this label when our heatmap is selected.  If we recall back to when we started learning about ipywidgets and traitlets, this will be a change in the `mySelectedLabel` widget's *value* when a *trait* of our `GridHeatMap` object changes.\n",
    "\n",
    "First, let's define this action, starting simple: just print out whatever is selected:"
   ]
  },
  {
   "cell_type": "code",
   "execution_count": 83,
   "metadata": {},
   "outputs": [],
   "source": [
    "def on_selected(change):\n",
    "    print(change)"
   ]
  },
  {
   "cell_type": "markdown",
   "metadata": {},
   "source": [
    "Now, let's re-construct our heatmap and link this `on_selected` function to the *trait* of the selected heatmap:"
   ]
  },
  {
   "cell_type": "code",
   "execution_count": 84,
   "metadata": {},
   "outputs": [
    {
     "data": {
      "application/vnd.jupyter.widget-view+json": {
       "model_id": "d424a5cbc4184232a890c3f1ce38e469",
       "version_major": 2,
       "version_minor": 0
      },
      "text/plain": [
       "Figure(axes=[ColorAxis(orientation='vertical', scale=ColorScale(scheme='Reds'), side='right'), Axis(orientatio…"
      ]
     },
     "metadata": {},
     "output_type": "display_data"
    },
    {
     "name": "stdout",
     "output_type": "stream",
     "text": [
      "{'name': 'selected', 'old': None, 'new': array([[4, 4]]), 'owner': GridHeatMap(anchor_style={'fill': 'blue'}, color=array([[0.14284753, 0.3380296 , 0.73463165, 0.63509897, 0.71019444,\n",
      "        0.74894827, 0.74914147, 0.07587777, 0.75921986, 0.65655436],\n",
      "       [0.29616338, 0.68277265, 0.21517136, 0.09876002, 0.48454085,\n",
      "        0.34799351, 0.86251608, 0.1368085 , 0.99257749, 0.79515285],\n",
      "       [0.81974292, 0.7146941 , 0.31752821, 0.82403985, 0.68091556,\n",
      "        0.23376115, 0.90606687, 0.13628151, 0.61290948, 0.90511471],\n",
      "       [0.88063726, 0.95907589, 0.09384309, 0.95964782, 0.25278208,\n",
      "        0.53517774, 0.62948673, 0.77508677, 0.80860543, 0.65787508],\n",
      "       [0.74088926, 0.63896199, 0.14373814, 0.71195645, 0.23010547,\n",
      "        0.36456378, 0.1781329 , 0.12067858, 0.33969262, 0.84033688],\n",
      "       [0.04083225, 0.24513688, 0.61656894, 0.02948847, 0.34685374,\n",
      "        0.84207837, 0.87978381, 0.36584584, 0.29818493, 0.47188003],\n",
      "       [0.53804911, 0.82707316, 0.73901657, 0.39588482, 0.10054385,\n",
      "        0.95397658, 0.85036869, 0.85717319, 0.36422885, 0.10371468],\n",
      "       [0.18118775, 0.57211779, 0.88227489, 0.93357733, 0.70799852,\n",
      "        0.66462165, 0.24593237, 0.86140739, 0.87335435, 0.22181375],\n",
      "       [0.31658879, 0.81117524, 0.5152646 , 0.80823036, 0.38427456,\n",
      "        0.62342032, 0.29618928, 0.91169646, 0.25069897, 0.98448014],\n",
      "       [0.69817092, 0.09351698, 0.77240092, 0.38773586, 0.42666405,\n",
      "        0.53492401, 0.70235503, 0.09603961, 0.53687729, 0.84879035]]), interactions={'click': 'select'}, scales={'color': ColorScale(scheme='Reds'), 'row': OrdinalScale(), 'column': OrdinalScale()}, scales_metadata={'row': {'orientation': 'vertical', 'dimension': 'y'}, 'column': {'orientation': 'horizontal', 'dimension': 'x'}, 'color': {'dimension': 'color'}}, selected=array([[4, 4]]), selected_style={'opacity': 1.0}, tooltip_style={'opacity': 0.9}, unselected_style={'opacity': 0.8}), 'type': 'change'}\n"
     ]
    }
   ],
   "source": [
    "# 1. Data -- same\n",
    "\n",
    "# 2. Scales -- recopy our scales and axis for posterity:\n",
    "col_sc = bqplot.ColorScale(scheme = \"Reds\")\n",
    "x_sc = bqplot.OrdinalScale()\n",
    "y_sc = bqplot.OrdinalScale()\n",
    "\n",
    "# 3. Axis -- create axis - for colors, x & y\n",
    "c_ax = bqplot.ColorAxis(scale = col_sc, \n",
    "                        orientation = 'vertical', \n",
    "                        side = 'right')\n",
    "x_ax = bqplot.Axis(scale = x_sc)\n",
    "y_ax = bqplot.Axis(scale = y_sc, \n",
    "                   orientation = 'vertical')\n",
    "\n",
    "# 4. Marks -- lets now re-do our heat map & add in some interactivity:\n",
    "heat_map = bqplot.GridHeatMap(color = data,\n",
    "                              scales = {'color': col_sc,\n",
    "                                        'row': y_sc,\n",
    "                                        'column': x_sc},\n",
    "                              interactions = {'click': 'select'}, # make interactive on click of each box\n",
    "                              anchor_style = {'fill':'blue'}, # to make our selection blue\n",
    "                              selected_style = {'opacity': 1.0}, # make 100% opaque if box is selected\n",
    "                              unselected_style = {'opacity': 0.8}) # make a little see-through if not\n",
    "\n",
    "# 5. Note: I put interactions in my marks call here.  BUT now we want to actually DO something with our selection\n",
    "## THIS IS ALL WE HAVE ADDED!\n",
    "heat_map.observe(on_selected, 'selected')\n",
    "\n",
    "\n",
    "# stir and combine into 1 figure\n",
    "fig = bqplot.Figure(marks = [heat_map], \n",
    "                    axes = [c_ax, y_ax, x_ax])\n",
    "\n",
    "fig"
   ]
  },
  {
   "cell_type": "markdown",
   "metadata": {},
   "source": [
    "So, we can see that what gets printed out when we select is a dictionary -- this is like a \"change\" dictionary with an ipywidget that we played with last week and it has some familiar things in it like the `old` and `new` keys, the `owner` key, etc.  \n",
    "\n",
    "Check out the `selected=array...` in the above -- this is how we can grab the index of whatever grid we have selected.\n",
    "\n",
    "It also is storing a lot of information about our `GridHeatMap` plot!  \n",
    "\n",
    "Since the change \"owner\" is our heat_map marks, let's print these out so we can access the indicies.  Once we do this, we can then use these indicies to access the data in our plot.  \n",
    "\n",
    "One thing at a time though - let's just print out the selected indicies:"
   ]
  },
  {
   "cell_type": "code",
   "execution_count": 85,
   "metadata": {},
   "outputs": [],
   "source": [
    "def on_selected(change):\n",
    "    print(change['owner'].selected)"
   ]
  },
  {
   "cell_type": "code",
   "execution_count": 86,
   "metadata": {},
   "outputs": [
    {
     "data": {
      "application/vnd.jupyter.widget-view+json": {
       "model_id": "b9bd7c7453bc45aca81d17f1b57ce0e4",
       "version_major": 2,
       "version_minor": 0
      },
      "text/plain": [
       "Figure(axes=[ColorAxis(orientation='vertical', scale=ColorScale(scheme='Reds'), side='right'), Axis(orientatio…"
      ]
     },
     "metadata": {},
     "output_type": "display_data"
    },
    {
     "name": "stdout",
     "output_type": "stream",
     "text": [
      "[[1 2]]\n"
     ]
    }
   ],
   "source": [
    "# 1. Data -- same\n",
    "\n",
    "# 2. Scales -- recopy our scales and axis for posterity:\n",
    "col_sc = bqplot.ColorScale(scheme = \"Reds\")\n",
    "x_sc = bqplot.OrdinalScale()\n",
    "y_sc = bqplot.OrdinalScale()\n",
    "\n",
    "# 3. Axis -- create axis - for colors, x & y\n",
    "c_ax = bqplot.ColorAxis(scale = col_sc, \n",
    "                        orientation = 'vertical', \n",
    "                        side = 'right')\n",
    "x_ax = bqplot.Axis(scale = x_sc)\n",
    "y_ax = bqplot.Axis(scale = y_sc, \n",
    "                   orientation = 'vertical')\n",
    "\n",
    "# 4. Marks -- lets now re-do our heat map & add in some interactivity:\n",
    "heat_map = bqplot.GridHeatMap(color = data,\n",
    "                              scales = {'color': col_sc,\n",
    "                                        'row': y_sc,\n",
    "                                        'column': x_sc},\n",
    "                              interactions = {'click': 'select'}, # make interactive on click of each box\n",
    "                              anchor_style = {'fill':'blue'}, # to make our selection blue\n",
    "                              selected_style = {'opacity': 1.0}, # make 100% opaque if box is selected\n",
    "                              unselected_style = {'opacity': 0.8}) # make a little see-through if not\n",
    "\n",
    "# 5. Note: I put interactions in my marks call here.  BUT now we want to actually DO something with our selection\n",
    "## THIS IS ALL WE HAVE ADDED!\n",
    "heat_map.observe(on_selected, 'selected')\n",
    "\n",
    "\n",
    "# stir and combine into 1 figure\n",
    "fig = bqplot.Figure(marks = [heat_map], \n",
    "                    axes = [c_ax, y_ax, x_ax])\n",
    "\n",
    "fig"
   ]
  },
  {
   "cell_type": "markdown",
   "metadata": {},
   "source": [
    "It turns out we can actually `SHIFT-select` and select a selection of boxes at one time.  Depending on your browser/OS you can also use `CMD` or `CTRL`-select to select individual boxes.  However, this is a little bit dependent on how your browser/trackpad/mouse is set up.\n",
    "\n",
    "(`CMD`-select doesn't work in notebooks on my Mac, but it does in jupyter-lab.  Go fig.)\n",
    "\n",
    "**DEMONSTRATE**\n",
    "\n",
    "Because of this we actual `selected` set of indicies we want to access can be more than just x/y indicies - it can be an array of indicies representing all of the `SHIFT-select`ed points.\n",
    "\n",
    "For the sake of simplicity, let's *only* do things when we select one point.  So we will *only* take out the first element of this selected array.  Let's print this with our `on_selected` function:"
   ]
  },
  {
   "cell_type": "code",
   "execution_count": 87,
   "metadata": {},
   "outputs": [],
   "source": [
    "def on_selected(change):\n",
    "    if len(change['owner'].selected) == 1:\n",
    "        print(change['owner'].selected[0])\n",
    "    # else: don't update anything"
   ]
  },
  {
   "cell_type": "code",
   "execution_count": 88,
   "metadata": {},
   "outputs": [
    {
     "data": {
      "application/vnd.jupyter.widget-view+json": {
       "model_id": "572837e713ab4c82b7b4ec5de1d578a9",
       "version_major": 2,
       "version_minor": 0
      },
      "text/plain": [
       "Figure(axes=[ColorAxis(orientation='vertical', scale=ColorScale(scheme='Reds'), side='right'), Axis(orientatio…"
      ]
     },
     "metadata": {},
     "output_type": "display_data"
    },
    {
     "name": "stdout",
     "output_type": "stream",
     "text": [
      "[3 3]\n"
     ]
    }
   ],
   "source": [
    "# 1. Data -- same\n",
    "\n",
    "# 2. Scales -- recopy our scales and axis for posterity:\n",
    "col_sc = bqplot.ColorScale(scheme = \"Reds\")\n",
    "x_sc = bqplot.OrdinalScale()\n",
    "y_sc = bqplot.OrdinalScale()\n",
    "\n",
    "# 3. Axis -- create axis - for colors, x & y\n",
    "c_ax = bqplot.ColorAxis(scale = col_sc, \n",
    "                        orientation = 'vertical', \n",
    "                        side = 'right')\n",
    "x_ax = bqplot.Axis(scale = x_sc)\n",
    "y_ax = bqplot.Axis(scale = y_sc, \n",
    "                   orientation = 'vertical')\n",
    "\n",
    "# 4. Marks -- lets now re-do our heat map & add in some interactivity:\n",
    "heat_map = bqplot.GridHeatMap(color = data,\n",
    "                              scales = {'color': col_sc,\n",
    "                                        'row': y_sc,\n",
    "                                        'column': x_sc},\n",
    "                              interactions = {'click': 'select'}, # make interactive on click of each box\n",
    "                              anchor_style = {'fill':'blue'}, # to make our selection blue\n",
    "                              selected_style = {'opacity': 1.0}, # make 100% opaque if box is selected\n",
    "                              unselected_style = {'opacity': 0.8}) # make a little see-through if not\n",
    "\n",
    "# 5. Note: I put interactions in my marks call here.  BUT now we want to actually DO something with our selection\n",
    "## THIS IS ALL WE HAVE ADDED!\n",
    "heat_map.observe(on_selected, 'selected')\n",
    "\n",
    "\n",
    "# stir and combine into 1 figure\n",
    "fig = bqplot.Figure(marks = [heat_map], \n",
    "                    axes = [c_ax, y_ax, x_ax])\n",
    "\n",
    "fig"
   ]
  },
  {
   "cell_type": "markdown",
   "metadata": {},
   "source": [
    "Now you'll notice if I `SHIFT-select` I still only get the set of x/y indicies associated with the blue selected point.  Sweet.\n",
    "\n",
    "Now that we have these indicies in our plot, we can (finally) update our Label widget to print out what the data value is at this point:"
   ]
  },
  {
   "cell_type": "code",
   "execution_count": 89,
   "metadata": {},
   "outputs": [],
   "source": [
    "def on_selected(change):\n",
    "    if len(change['owner'].selected) == 1: #only 1 selected\n",
    "        i, j = change['owner'].selected[0] # grab the x/y coordinates\n",
    "        v = data[i,j] # grab data value\n",
    "        mySelectedLabel.value = 'Data Value = ' + str(v) # set our label"
   ]
  },
  {
   "cell_type": "markdown",
   "metadata": {},
   "source": [
    "Now we just have to make sure we show both of the figure and the label when we display:"
   ]
  },
  {
   "cell_type": "code",
   "execution_count": 90,
   "metadata": {},
   "outputs": [
    {
     "data": {
      "application/vnd.jupyter.widget-view+json": {
       "model_id": "49e7d22cacc642fa9c0f0fbb9e8c6f43",
       "version_major": 2,
       "version_minor": 0
      },
      "text/plain": [
       "VBox(children=(Label(value=''), Figure(axes=[ColorAxis(orientation='vertical', scale=ColorScale(scheme='Reds')…"
      ]
     },
     "metadata": {},
     "output_type": "display_data"
    }
   ],
   "source": [
    "# 1. Data -- same\n",
    "\n",
    "# 2. Scales -- recopy our scales and axis for posterity:\n",
    "col_sc = bqplot.ColorScale(scheme = \"Reds\")\n",
    "x_sc = bqplot.OrdinalScale()\n",
    "y_sc = bqplot.OrdinalScale()\n",
    "\n",
    "# 3. Axis -- create axis - for colors, x & y\n",
    "c_ax = bqplot.ColorAxis(scale = col_sc, \n",
    "                        orientation = 'vertical', \n",
    "                        side = 'right')\n",
    "x_ax = bqplot.Axis(scale = x_sc)\n",
    "y_ax = bqplot.Axis(scale = y_sc, \n",
    "                   orientation = 'vertical')\n",
    "\n",
    "# 4. Marks -- lets now re-do our heat map & add in some interactivity:\n",
    "heat_map = bqplot.GridHeatMap(color = data,\n",
    "                              scales = {'color': col_sc,\n",
    "                                        'row': y_sc,\n",
    "                                        'column': x_sc},\n",
    "                              interactions = {'click': 'select'}, # make interactive on click of each box\n",
    "                              anchor_style = {'fill':'blue'}, # to make our selection blue\n",
    "                              selected_style = {'opacity': 1.0}, # make 100% opaque if box is selected\n",
    "                              unselected_style = {'opacity': 0.8}) # make a little see-through if not\n",
    "\n",
    "# 5. Note: I put interactions in my marks call here.  BUT now we want to actually DO something with our selection\n",
    "## THIS IS ALL WE HAVE ADDED!\n",
    "heat_map.observe(on_selected, 'selected')\n",
    "\n",
    "\n",
    "# stir and combine into 1 figure\n",
    "fig = bqplot.Figure(marks = [heat_map], \n",
    "                    axes = [c_ax, y_ax, x_ax])\n",
    "\n",
    "\n",
    "# ADDED: putting widget and plot together\n",
    "myDashboard = ipywidgets.VBox([mySelectedLabel, fig]) # have label on top of fig\n",
    "myDashboard # show"
   ]
  },
  {
   "cell_type": "markdown",
   "metadata": {},
   "source": [
    "Hey neat!  So now when we do an action, in this case selecting, on one object (the heat map) we have updates *tied to* another object, in this case we are also updating our label widget's value.\n",
    "\n",
    "This is how we will build up dashboards that allow us to display different aspects of our data in linked views.\n",
    "\n",
    "Let's practice one of these linked views now by making a linked histogram of a 3D dataset instead of printing the value with a 2D dataset."
   ]
  },
  {
   "cell_type": "markdown",
   "metadata": {},
   "source": [
    "## Random heatmap + Histogram with 3D data"
   ]
  },
  {
   "cell_type": "markdown",
   "metadata": {},
   "source": [
    "Now let's move on to making a preliminary dashboard for multi-dimensional datasets. Let's first start with some randomly generated data again, this time in 3D:"
   ]
  },
  {
   "cell_type": "code",
   "execution_count": 91,
   "metadata": {
    "scrolled": true
   },
   "outputs": [
    {
     "data": {
      "text/plain": [
       "array([[[0.20839745, 0.05656519, 0.05452723, ..., 0.20246552,\n",
       "         0.03653982, 0.02856585],\n",
       "        [0.3075706 , 0.97911968, 0.27745423, ..., 0.68661977,\n",
       "         0.12838299, 0.37250473],\n",
       "        [0.37905927, 0.95978522, 0.14497447, ..., 0.22513639,\n",
       "         0.27685587, 0.92725913],\n",
       "        ...,\n",
       "        [0.78381126, 0.01574558, 0.10247296, ..., 0.27899025,\n",
       "         0.36285904, 0.65738112],\n",
       "        [0.97946477, 0.64369808, 0.2812343 , ..., 0.75975654,\n",
       "         0.5496779 , 0.30941392],\n",
       "        [0.16422874, 0.04022129, 0.82579274, ..., 0.17743916,\n",
       "         0.73526023, 0.93455809]],\n",
       "\n",
       "       [[0.21245077, 0.13852174, 0.24709633, ..., 0.99957549,\n",
       "         0.68135117, 0.13456627],\n",
       "        [0.19027549, 0.74391005, 0.78789125, ..., 0.97961767,\n",
       "         0.41895727, 0.92666144],\n",
       "        [0.84718441, 0.93180425, 0.87482394, ..., 0.57923216,\n",
       "         0.93040524, 0.24981458],\n",
       "        ...,\n",
       "        [0.06925724, 0.38768369, 0.41581523, ..., 0.65380612,\n",
       "         0.39250303, 0.37995476],\n",
       "        [0.22257734, 0.9708368 , 0.6468318 , ..., 0.88039936,\n",
       "         0.57524528, 0.26335216],\n",
       "        [0.16191646, 0.1886926 , 0.40613677, ..., 0.16788061,\n",
       "         0.87594714, 0.44580059]],\n",
       "\n",
       "       [[0.66498529, 0.99100554, 0.70416341, ..., 0.49417669,\n",
       "         0.97223038, 0.62251468],\n",
       "        [0.00517497, 0.12005638, 0.89586399, ..., 0.66793058,\n",
       "         0.98626408, 0.59587566],\n",
       "        [0.12205437, 0.55071132, 0.2836498 , ..., 0.42894583,\n",
       "         0.69398602, 0.26736468],\n",
       "        ...,\n",
       "        [0.34238073, 0.63658522, 0.83925968, ..., 0.84986392,\n",
       "         0.00112633, 0.43407567],\n",
       "        [0.82137142, 0.54020255, 0.664424  , ..., 0.98131282,\n",
       "         0.4161766 , 0.7739654 ],\n",
       "        [0.92632068, 0.69744763, 0.19913346, ..., 0.01195727,\n",
       "         0.34577941, 0.59435783]],\n",
       "\n",
       "       ...,\n",
       "\n",
       "       [[0.98489305, 0.32768683, 0.67553511, ..., 0.60721211,\n",
       "         0.26748695, 0.58850961],\n",
       "        [0.82933614, 0.33840828, 0.91770601, ..., 0.74800729,\n",
       "         0.0778428 , 0.40669981],\n",
       "        [0.66130039, 0.81000402, 0.58393881, ..., 0.66036405,\n",
       "         0.66632665, 0.52623413],\n",
       "        ...,\n",
       "        [0.41014622, 0.97012091, 0.21140687, ..., 0.01651799,\n",
       "         0.54097759, 0.58009787],\n",
       "        [0.32296838, 0.23469038, 0.76153328, ..., 0.03536765,\n",
       "         0.97845771, 0.06541837],\n",
       "        [0.457106  , 0.81514845, 0.74798809, ..., 0.44305803,\n",
       "         0.9352139 , 0.44814522]],\n",
       "\n",
       "       [[0.40211808, 0.80918265, 0.40786659, ..., 0.67817562,\n",
       "         0.33582677, 0.13045838],\n",
       "        [0.91065575, 0.64173865, 0.26202183, ..., 0.38017801,\n",
       "         0.40653675, 0.57640588],\n",
       "        [0.49269946, 0.22092694, 0.40410305, ..., 0.42563718,\n",
       "         0.86882546, 0.4881152 ],\n",
       "        ...,\n",
       "        [0.33640916, 0.20097263, 0.13277369, ..., 0.8979904 ,\n",
       "         0.21156274, 0.9746394 ],\n",
       "        [0.94492747, 0.79806641, 0.8233174 , ..., 0.84623074,\n",
       "         0.99087129, 0.10888821],\n",
       "        [0.03066272, 0.06271083, 0.10346125, ..., 0.50042705,\n",
       "         0.81222428, 0.30811636]],\n",
       "\n",
       "       [[0.74628819, 0.92473615, 0.77649587, ..., 0.01935957,\n",
       "         0.72995409, 0.33752134],\n",
       "        [0.92815592, 0.21363362, 0.74531152, ..., 0.44794056,\n",
       "         0.10320434, 0.8675112 ],\n",
       "        [0.22809656, 0.52121735, 0.48091181, ..., 0.34966295,\n",
       "         0.47769247, 0.9133561 ],\n",
       "        ...,\n",
       "        [0.13014716, 0.88253152, 0.32721467, ..., 0.10574428,\n",
       "         0.2718303 , 0.83362905],\n",
       "        [0.25275394, 0.52198697, 0.38025543, ..., 0.40968153,\n",
       "         0.34307534, 0.18524501],\n",
       "        [0.88998214, 0.4565188 , 0.19460985, ..., 0.12256277,\n",
       "         0.36822491, 0.18952976]]])"
      ]
     },
     "execution_count": 91,
     "metadata": {},
     "output_type": "execute_result"
    }
   ],
   "source": [
    "data = np.random.random((10, 10,20))\n",
    "data"
   ]
  },
  {
   "cell_type": "code",
   "execution_count": 92,
   "metadata": {},
   "outputs": [
    {
     "data": {
      "text/plain": [
       "(10, 10, 20)"
      ]
     },
     "execution_count": 92,
     "metadata": {},
     "output_type": "execute_result"
    }
   ],
   "source": [
    "data.shape"
   ]
  },
  {
   "cell_type": "code",
   "execution_count": 93,
   "metadata": {},
   "outputs": [
    {
     "data": {
      "text/plain": [
       "array([0.20839745, 0.05656519, 0.05452723, 0.32087035, 0.38180842,\n",
       "       0.33570676, 0.42846837, 0.43793525, 0.53246388, 0.05584211,\n",
       "       0.08300064, 0.03453802, 0.37140471, 0.90016435, 0.30622248,\n",
       "       0.94279224, 0.6446468 , 0.20246552, 0.03653982, 0.02856585])"
      ]
     },
     "execution_count": 93,
     "metadata": {},
     "output_type": "execute_result"
    }
   ],
   "source": [
    "data[0,0,:]\n",
    "# we can see that no instead of 1 value, each \"i,j\" component\n",
    "#  has an array of values"
   ]
  },
  {
   "cell_type": "markdown",
   "metadata": {},
   "source": [
    "Make the heatmap plot like before.\n",
    "\n",
    "First, scales and axis (x/y and color):"
   ]
  },
  {
   "cell_type": "code",
   "execution_count": 94,
   "metadata": {},
   "outputs": [],
   "source": [
    "# Scales: now add scales - colors, x & y\n",
    "col_sc = bqplot.ColorScale(scheme = \"Reds\")\n",
    "x_sc = bqplot.OrdinalScale()\n",
    "y_sc = bqplot.OrdinalScale()\n",
    "\n",
    "# Axis: create axis - for colors, x & y\n",
    "c_ax = bqplot.ColorAxis(scale = col_sc, \n",
    "                        orientation = 'vertical', \n",
    "                        side = 'right')\n",
    "x_ax = bqplot.Axis(scale = x_sc)\n",
    "y_ax = bqplot.Axis(scale = y_sc, \n",
    "                   orientation = 'vertical')"
   ]
  },
  {
   "cell_type": "markdown",
   "metadata": {},
   "source": [
    "Now, instead of feeding in `data` like we did in 2D for our heatmap, let's feed in the sum of data along the z-axis:"
   ]
  },
  {
   "cell_type": "code",
   "execution_count": 95,
   "metadata": {},
   "outputs": [],
   "source": [
    "# Marks: lets now re-do our heat map & add in some interactivity:\n",
    "heat_map = bqplot.GridHeatMap(color = np.sum(data, axis=2),\n",
    "                              scales = {'color': col_sc,\n",
    "                                        'row': y_sc,\n",
    "                                        'column': x_sc},\n",
    "                              interactions = {'click': 'select'}, # make interactive on click of each box\n",
    "                              anchor_style = {'fill':'blue'}, # to make our selection blue\n",
    "                              selected_style = {'opacity': 1.0}, # make 100% opaque if box is selected\n",
    "                              unselected_style = {'opacity': 0.8}) # make a little see-through if not"
   ]
  },
  {
   "cell_type": "markdown",
   "metadata": {},
   "source": [
    "Let's include our label in our dashboard:"
   ]
  },
  {
   "cell_type": "code",
   "execution_count": 96,
   "metadata": {},
   "outputs": [],
   "source": [
    "# create label again\n",
    "mySelectedLabel = ipywidgets.Label()"
   ]
  },
  {
   "cell_type": "markdown",
   "metadata": {},
   "source": [
    "This time, let's have the data print out the sum along the z-axis instead of just a data value at an x/y index position:"
   ]
  },
  {
   "cell_type": "code",
   "execution_count": 97,
   "metadata": {},
   "outputs": [],
   "source": [
    "def on_selected(change):\n",
    "    if len(change['owner'].selected) == 1: #only 1 selected\n",
    "        i, j = change['owner'].selected[0] # grab the x/y coordinates\n",
    "        v = data[i,j].sum() # grab data value at x/y index and sum along z\n",
    "        mySelectedLabel.value = 'Data Sum = ' + str(v) # set our label"
   ]
  },
  {
   "cell_type": "markdown",
   "metadata": {},
   "source": [
    "Observe change:"
   ]
  },
  {
   "cell_type": "code",
   "execution_count": 98,
   "metadata": {},
   "outputs": [],
   "source": [
    "heat_map.observe(on_selected, 'selected')"
   ]
  },
  {
   "cell_type": "markdown",
   "metadata": {},
   "source": [
    "Combine and display:"
   ]
  },
  {
   "cell_type": "code",
   "execution_count": 99,
   "metadata": {},
   "outputs": [
    {
     "data": {
      "application/vnd.jupyter.widget-view+json": {
       "model_id": "dc8b6fbcb673465084b7acb0f663e331",
       "version_major": 2,
       "version_minor": 0
      },
      "text/plain": [
       "VBox(children=(Label(value=''), Figure(axes=[ColorAxis(orientation='vertical', scale=ColorScale(scheme='Reds')…"
      ]
     },
     "metadata": {},
     "output_type": "display_data"
    }
   ],
   "source": [
    "fig = bqplot.Figure(marks = [heat_map], axes = [c_ax, y_ax, x_ax])\n",
    "\n",
    "myDashboard = ipywidgets.VBox([mySelectedLabel, fig])\n",
    "myDashboard"
   ]
  },
  {
   "cell_type": "markdown",
   "metadata": {},
   "source": [
    "Ultimately what we want to do is select an x/y grid and then \"expand\" our data along z into a histogram such that if we select a grid on our heatmap a new histogram is generated that shows the distribution of values along z.  \n",
    "\n",
    "Before we link these two things together, let's make a histogram of a single \"z\" value by fixing our x/y indicies:"
   ]
  },
  {
   "cell_type": "code",
   "execution_count": 100,
   "metadata": {},
   "outputs": [],
   "source": [
    "i,j = 0,0 # can be any combo"
   ]
  },
  {
   "cell_type": "code",
   "execution_count": 101,
   "metadata": {},
   "outputs": [
    {
     "data": {
      "text/plain": [
       "array([0.20839745, 0.05656519, 0.05452723, 0.32087035, 0.38180842,\n",
       "       0.33570676, 0.42846837, 0.43793525, 0.53246388, 0.05584211,\n",
       "       0.08300064, 0.03453802, 0.37140471, 0.90016435, 0.30622248,\n",
       "       0.94279224, 0.6446468 , 0.20246552, 0.03653982, 0.02856585])"
      ]
     },
     "execution_count": 101,
     "metadata": {},
     "output_type": "execute_result"
    }
   ],
   "source": [
    "data[i,j] # 20 elements"
   ]
  },
  {
   "cell_type": "markdown",
   "metadata": {},
   "source": [
    "Let's make a histogram.    \n",
    "\n",
    "Let's think about what our x/y scales will be: we want to show the distribution of values along z.  Intuitavely, we know this will go between $\\sim$0-1 since we have randomly generated values.\n",
    "\n",
    "So, our \"x\" axis for this plot should be a linear scale so it can go from 0-1, and our \"y\" axis should be linear and will show the frequency of values in each bin.\n",
    "\n",
    "Scales:"
   ]
  },
  {
   "cell_type": "code",
   "execution_count": 102,
   "metadata": {},
   "outputs": [],
   "source": [
    "x_sch = bqplot.LinearScale()\n",
    "y_sch = bqplot.LinearScale()"
   ]
  },
  {
   "cell_type": "markdown",
   "metadata": {},
   "source": [
    "Let's make axis with these scales:"
   ]
  },
  {
   "cell_type": "code",
   "execution_count": 103,
   "metadata": {},
   "outputs": [],
   "source": [
    "x_axh = bqplot.Axis(scale = x_sch, label = 'Value of 3rd axis')\n",
    "y_axh = bqplot.Axis(scale = y_sch, \n",
    "                    orientation = 'vertical', \n",
    "                    label='Frequency')"
   ]
  },
  {
   "cell_type": "markdown",
   "metadata": {},
   "source": [
    "Now we will use `bqplot.Hist` to make this histogram:"
   ]
  },
  {
   "cell_type": "code",
   "execution_count": 104,
   "metadata": {},
   "outputs": [],
   "source": [
    "hist = bqplot.Hist(sample = data[i,j,:],\n",
    "                   normalized = False, # normalized=False means we get counts in each bin\n",
    "                   scales = {'sample': x_sch, 'count': y_sch}, # sample is data values, count is frequency\n",
    "                   bins = 5) # number of bins"
   ]
  },
  {
   "cell_type": "markdown",
   "metadata": {},
   "source": [
    "Note here that we specified this plot in a different way than the `GridHeatMap` and `Scatter` -- each type of `bqplot` plot has different parameters associated with the type of plot we are using."
   ]
  },
  {
   "cell_type": "code",
   "execution_count": 105,
   "metadata": {},
   "outputs": [
    {
     "data": {
      "application/vnd.jupyter.widget-view+json": {
       "model_id": "9713a0ed671d4c83b6f7113c422dfe94",
       "version_major": 2,
       "version_minor": 0
      },
      "text/plain": [
       "Figure(axes=[Axis(label='Value of 3rd axis', scale=LinearScale(), side='bottom'), Axis(label='Frequency', orie…"
      ]
     },
     "metadata": {},
     "output_type": "display_data"
    }
   ],
   "source": [
    "figh = bqplot.Figure(marks = [hist], axes = [x_axh, y_axh])\n",
    "figh"
   ]
  },
  {
   "cell_type": "markdown",
   "metadata": {},
   "source": [
    "Let's pause here and think about how to link up our histogram i,j with our selections on the heatmap.  First, what values of the histogram can we update?  Let's check:"
   ]
  },
  {
   "cell_type": "code",
   "execution_count": 106,
   "metadata": {},
   "outputs": [
    {
     "data": {
      "text/plain": [
       "['_model_module',\n",
       " '_model_module_version',\n",
       " '_model_name',\n",
       " '_view_count',\n",
       " '_view_module',\n",
       " '_view_module_version',\n",
       " '_view_name',\n",
       " 'apply_clip',\n",
       " 'bins',\n",
       " 'colors',\n",
       " 'count',\n",
       " 'display_legend',\n",
       " 'enable_hover',\n",
       " 'interactions',\n",
       " 'labels',\n",
       " 'midpoints',\n",
       " 'normalized',\n",
       " 'opacities',\n",
       " 'preserve_domain',\n",
       " 'sample',\n",
       " 'scales',\n",
       " 'scales_metadata',\n",
       " 'selected',\n",
       " 'selected_style',\n",
       " 'stroke',\n",
       " 'tooltip',\n",
       " 'tooltip_location',\n",
       " 'tooltip_style',\n",
       " 'unselected_style',\n",
       " 'visible']"
      ]
     },
     "execution_count": 106,
     "metadata": {},
     "output_type": "execute_result"
    }
   ],
   "source": [
    "hist.keys"
   ]
  },
  {
   "cell_type": "code",
   "execution_count": 107,
   "metadata": {},
   "outputs": [
    {
     "data": {
      "text/plain": [
       "array([0.20839745, 0.05656519, 0.05452723, 0.32087035, 0.38180842,\n",
       "       0.33570676, 0.42846837, 0.43793525, 0.53246388, 0.05584211,\n",
       "       0.08300064, 0.03453802, 0.37140471, 0.90016435, 0.30622248,\n",
       "       0.94279224, 0.6446468 , 0.20246552, 0.03653982, 0.02856585])"
      ]
     },
     "execution_count": 107,
     "metadata": {},
     "output_type": "execute_result"
    }
   ],
   "source": [
    "hist.sample"
   ]
  },
  {
   "cell_type": "markdown",
   "metadata": {},
   "source": [
    "Hey!  Here is where our data values are stored!  Like with when we observe changes in our heat map and update the values of our ipywidget's value we want to also update this sample's data!  \n",
    "\n",
    "Let's update our `on_selected` function to reflect this:"
   ]
  },
  {
   "cell_type": "code",
   "execution_count": 108,
   "metadata": {},
   "outputs": [],
   "source": [
    "def on_selected(change):\n",
    "    if len(change['owner'].selected) == 1: #only 1 selected\n",
    "        i, j = change['owner'].selected[0] # grab the x/y coordinates\n",
    "        v = data[i,j].sum() # grab data value at x/y index and sum along z\n",
    "        mySelectedLabel.value = 'Data Sum = ' + str(v) # set our label\n",
    "        # NOW ALSO: update our histogram\n",
    "        hist.sample = data[i,j,:]"
   ]
  },
  {
   "cell_type": "markdown",
   "metadata": {},
   "source": [
    "We don't have to go through the exersise of rebuilding our heatmap and histogram in general, but let's just do it for the sake of completeness and not accidentally re-linking thinks we shouldn't:"
   ]
  },
  {
   "cell_type": "markdown",
   "metadata": {},
   "source": [
    "#1 heatmap:"
   ]
  },
  {
   "cell_type": "code",
   "execution_count": 109,
   "metadata": {},
   "outputs": [],
   "source": [
    "# (1) Scales: x/y, colors\n",
    "col_sc = bqplot.ColorScale(scheme = \"Reds\")\n",
    "x_sc = bqplot.OrdinalScale()\n",
    "y_sc = bqplot.OrdinalScale()\n",
    "\n",
    "# (2) Axis: x/y, colors\n",
    "c_ax = bqplot.ColorAxis(scale = col_sc, \n",
    "                        orientation = 'vertical', \n",
    "                        side = 'right')\n",
    "x_ax = bqplot.Axis(scale = x_sc)\n",
    "y_ax = bqplot.Axis(scale = y_sc, \n",
    "                   orientation = 'vertical')\n",
    "\n",
    "# (3) Marks: heatmap\n",
    "heat_map = bqplot.GridHeatMap(color = np.sum(data, axis=2),\n",
    "                              scales = {'color': col_sc,\n",
    "                                        'row': y_sc,\n",
    "                                        'column': x_sc},\n",
    "                              interactions = {'click': 'select'}, # make interactive on click of each box\n",
    "                              anchor_style = {'fill':'blue'}, # to make our selection blue\n",
    "                              selected_style = {'opacity': 1.0}, # make 100% opaque if box is selected\n",
    "                              unselected_style = {'opacity': 0.8}) # make a little see-through if not\n",
    "\n",
    "# (4) Link selection on heatmap to other things\n",
    "heat_map.observe(on_selected, 'selected')\n",
    "\n",
    "# (5) Paint heatmap canvas, don't display yet:\n",
    "fig_heatmap = bqplot.Figure(marks = [heat_map], axes = [c_ax, y_ax, x_ax])"
   ]
  },
  {
   "cell_type": "markdown",
   "metadata": {},
   "source": [
    "#2 histogram:"
   ]
  },
  {
   "cell_type": "code",
   "execution_count": 110,
   "metadata": {},
   "outputs": [],
   "source": [
    "# (1) scales: x/y, linear\n",
    "x_sch = bqplot.LinearScale() # range of z-axis data\n",
    "y_sch = bqplot.LinearScale() # frequency of z-axis data in bins\n",
    "\n",
    "# (2) axis: x/y\n",
    "x_axh = bqplot.Axis(scale = x_sch, label = 'Value of 3rd axis')\n",
    "y_axh = bqplot.Axis(scale = y_sch, \n",
    "                    orientation = 'vertical', \n",
    "                    label='Frequency')\n",
    "\n",
    "# (3) Marks: histogram - start with just 0,0 in i/j -- can do other place holders\n",
    "hist = bqplot.Hist(sample = data[0,0,:],\n",
    "                   normalized = False, # normalized=False means we get counts in each bin\n",
    "                   scales = {'sample': x_sch, 'count': y_sch}, # sample is data values, count is frequency\n",
    "                   bins = 5) # number of bins\n",
    "\n",
    "# (4) NO LINKING ON HISTOGRAM SIDE\n",
    "\n",
    "# (5) Paint histogram canvas, don't display yet\n",
    "fig_hist = bqplot.Figure(marks = [hist], axes = [x_axh, y_axh])"
   ]
  },
  {
   "cell_type": "markdown",
   "metadata": {},
   "source": [
    "Create dashboard layout and display:"
   ]
  },
  {
   "cell_type": "code",
   "execution_count": 111,
   "metadata": {},
   "outputs": [
    {
     "data": {
      "application/vnd.jupyter.widget-view+json": {
       "model_id": "befd215a331948a3b459168a269d0b45",
       "version_major": 2,
       "version_minor": 0
      },
      "text/plain": [
       "VBox(children=(Label(value='Data Sum = 9.561142460291283'), HBox(children=(Figure(axes=[ColorAxis(orientation=…"
      ]
     },
     "metadata": {},
     "output_type": "display_data"
    }
   ],
   "source": [
    "# side by side figures\n",
    "figures = ipywidgets.HBox([fig_heatmap, fig_hist])\n",
    "\n",
    "# label on top\n",
    "myDashboard = ipywidgets.VBox([mySelectedLabel, figures])\n",
    "myDashboard"
   ]
  },
  {
   "cell_type": "markdown",
   "metadata": {},
   "source": [
    "Ok close, but its all smooshed!  We can play with the layout of our plots before we display.  To do this we use some more CSS-like styling options, in particular, `layout`:"
   ]
  },
  {
   "cell_type": "code",
   "execution_count": 112,
   "metadata": {},
   "outputs": [
    {
     "data": {
      "application/vnd.jupyter.widget-view+json": {
       "model_id": "56137838e1ef41beb2f1989601407a90",
       "version_major": 2,
       "version_minor": 0
      },
      "text/plain": [
       "VBox(children=(Label(value='Data Sum = 9.920827112180254'), HBox(children=(Figure(axes=[ColorAxis(orientation=…"
      ]
     },
     "metadata": {},
     "output_type": "display_data"
    }
   ],
   "source": [
    "# mess with figure layout:\n",
    "fig_heatmap.layout.min_width = '500px' # feel free to change for your screen\n",
    "fig_hist.layout.min_width = '500px'\n",
    "\n",
    "# side by side figures\n",
    "figures = ipywidgets.HBox([fig_heatmap, fig_hist])\n",
    "\n",
    "# label on top\n",
    "myDashboard = ipywidgets.VBox([mySelectedLabel, figures])\n",
    "myDashboard"
   ]
  },
  {
   "cell_type": "markdown",
   "metadata": {},
   "source": [
    "Note that update was \"back-reactive\" in that it changed the figure layout above as well!  Super sweet!"
   ]
  },
  {
   "cell_type": "markdown",
   "metadata": {},
   "source": [
    "#### Further complications: linking in different directions\n",
    "\n",
    "We can also apply some other links to further enhance our dashboard.  One that we've messed with before is allowing the user to select the number of bins of a histogram.\n",
    "\n",
    "There are a few ways to do this, but one \"easier\" way is to just link the histogram \"bins\" with the value of a bins-slider.  \n",
    "\n",
    "If we recall: `bins` was another key that was listed in hist:"
   ]
  },
  {
   "cell_type": "code",
   "execution_count": 113,
   "metadata": {},
   "outputs": [
    {
     "data": {
      "text/plain": [
       "['_model_module',\n",
       " '_model_module_version',\n",
       " '_model_name',\n",
       " '_view_count',\n",
       " '_view_module',\n",
       " '_view_module_version',\n",
       " '_view_name',\n",
       " 'apply_clip',\n",
       " 'bins',\n",
       " 'colors',\n",
       " 'count',\n",
       " 'display_legend',\n",
       " 'enable_hover',\n",
       " 'interactions',\n",
       " 'labels',\n",
       " 'midpoints',\n",
       " 'normalized',\n",
       " 'opacities',\n",
       " 'preserve_domain',\n",
       " 'sample',\n",
       " 'scales',\n",
       " 'scales_metadata',\n",
       " 'selected',\n",
       " 'selected_style',\n",
       " 'stroke',\n",
       " 'tooltip',\n",
       " 'tooltip_location',\n",
       " 'tooltip_style',\n",
       " 'unselected_style',\n",
       " 'visible']"
      ]
     },
     "execution_count": 113,
     "metadata": {},
     "output_type": "execute_result"
    }
   ],
   "source": [
    "hist.keys"
   ]
  },
  {
   "cell_type": "code",
   "execution_count": 114,
   "metadata": {},
   "outputs": [],
   "source": [
    "hist.bins = 5 # this changes the bins of our histogram above in a back-reactive way -- traitlets magic!"
   ]
  },
  {
   "cell_type": "markdown",
   "metadata": {},
   "source": [
    "Let's add a little integer slider to allow our user to select the number of bins for the histogram:"
   ]
  },
  {
   "cell_type": "code",
   "execution_count": 115,
   "metadata": {},
   "outputs": [],
   "source": [
    "bins_slider = ipywidgets.IntSlider(value=5, min=1, max=data.shape[2]) # don't make more bins than data points!"
   ]
  },
  {
   "cell_type": "markdown",
   "metadata": {},
   "source": [
    "A reminder of what this looks like:"
   ]
  },
  {
   "cell_type": "code",
   "execution_count": 116,
   "metadata": {},
   "outputs": [
    {
     "data": {
      "application/vnd.jupyter.widget-view+json": {
       "model_id": "f34d6dbd20b44283b830f6fe5f6e2f89",
       "version_major": 2,
       "version_minor": 0
      },
      "text/plain": [
       "IntSlider(value=5, max=20, min=1)"
      ]
     },
     "metadata": {},
     "output_type": "display_data"
    }
   ],
   "source": [
    "bins_slider"
   ]
  },
  {
   "cell_type": "markdown",
   "metadata": {},
   "source": [
    "We can use `link` or `jslink` to link the value of this slider to our histogram's number of bins:"
   ]
  },
  {
   "cell_type": "code",
   "execution_count": 117,
   "metadata": {},
   "outputs": [
    {
     "data": {
      "text/plain": [
       "Link(source=(IntSlider(value=5, max=20, min=1), 'value'), target=(Hist(bins=5, colors=['steelblue'], count=arr…"
      ]
     },
     "metadata": {},
     "output_type": "display_data"
    }
   ],
   "source": [
    "ipywidgets.jslink((bins_slider, 'value'), (hist, 'bins'))"
   ]
  },
  {
   "cell_type": "markdown",
   "metadata": {},
   "source": [
    "While this change is \"backreactive\", let's redo our figure layout so we can see everything a bit better:"
   ]
  },
  {
   "cell_type": "code",
   "execution_count": 118,
   "metadata": {},
   "outputs": [
    {
     "data": {
      "application/vnd.jupyter.widget-view+json": {
       "model_id": "e4b256142857467f8b7a5bc90e7f76cf",
       "version_major": 2,
       "version_minor": 0
      },
      "text/plain": [
       "VBox(children=(HBox(children=(Label(value='Data Sum = 9.920827112180254'), IntSlider(value=5, max=20, min=1)))…"
      ]
     },
     "metadata": {},
     "output_type": "display_data"
    }
   ],
   "source": [
    "# mess with figure layout:\n",
    "fig_heatmap.layout.min_width = '500px' # feel free to change for your screen\n",
    "fig_hist.layout.min_width = '500px'\n",
    "\n",
    "# side by side figures\n",
    "figures = ipywidgets.HBox([fig_heatmap, fig_hist])\n",
    "\n",
    "# label on top to the left, bins slider to the right\n",
    "controls = ipywidgets.HBox([mySelectedLabel, bins_slider])\n",
    "\n",
    "# combined\n",
    "myDashboard = ipywidgets.VBox([controls, figures])\n",
    "myDashboard"
   ]
  },
  {
   "cell_type": "markdown",
   "metadata": {},
   "source": [
    "## Interactive plots with bqplot's matplotlib-like interface\n",
    "\n",
    "There is a `matplotlib`-like interface in `bqplot` that we can also use to make interactive figures."
   ]
  },
  {
   "cell_type": "code",
   "execution_count": 119,
   "metadata": {},
   "outputs": [],
   "source": [
    "import bqplot.pyplot as bplt"
   ]
  },
  {
   "cell_type": "markdown",
   "metadata": {},
   "source": [
    "We can start with our gridded heatmap:"
   ]
  },
  {
   "cell_type": "code",
   "execution_count": 120,
   "metadata": {},
   "outputs": [
    {
     "data": {
      "application/vnd.jupyter.widget-view+json": {
       "model_id": "a4c6612482e54617bab7312769118ec1",
       "version_major": 2,
       "version_minor": 0
      },
      "text/plain": [
       "Figure(axes=[ColorAxis(scale=ColorScale()), Axis(orientation='vertical', scale=OrdinalScale(reverse=True)), Ax…"
      ]
     },
     "metadata": {},
     "output_type": "display_data"
    }
   ],
   "source": [
    "# first let's set up a figure object - the call is a little different for bqplot\n",
    "fig = bplt.figure(padding_y=0.0)\n",
    "\n",
    "# we'll call plt's gridheatmap function\n",
    "heat_map = bplt.gridheatmap(data[:,:,0]) # just take bottom part of data\n",
    "fig"
   ]
  },
  {
   "cell_type": "markdown",
   "metadata": {},
   "source": [
    "We can make our plots interactive in much the same way as before:"
   ]
  },
  {
   "cell_type": "code",
   "execution_count": 121,
   "metadata": {},
   "outputs": [],
   "source": [
    "# same function as before:\n",
    "def on_selected_bplt(change):\n",
    "    if len(change['owner'].selected) == 1: #only 1 selected\n",
    "        i, j = change['owner'].selected[0] # grab the x/y coordinates\n",
    "        v = data[i,j].sum() # grab data value at x/y index and sum along z\n",
    "        mySelectedLabel.value = 'Data Sum = ' + str(v) # set our label\n",
    "        # NOW ALSO: update our histogram\n",
    "        hist.sample = data[i,j,:]"
   ]
  },
  {
   "cell_type": "code",
   "execution_count": 122,
   "metadata": {},
   "outputs": [],
   "source": [
    "mySelectedLabel = ipywidgets.Label()"
   ]
  },
  {
   "cell_type": "code",
   "execution_count": 123,
   "metadata": {},
   "outputs": [
    {
     "data": {
      "application/vnd.jupyter.widget-view+json": {
       "model_id": "b32e9e51cd2841b8901c038c5e0d3f4b",
       "version_major": 2,
       "version_minor": 0
      },
      "text/plain": [
       "VBox(children=(Label(value=''), Figure(axes=[ColorAxis(scale=ColorScale(scheme='Reds'), side='top'), Axis(labe…"
      ]
     },
     "metadata": {},
     "output_type": "display_data"
    }
   ],
   "source": [
    "fig = bplt.figure(padding_y=0.0) # set up a figure object\n",
    "bplt.scales(scales={'color':bqplot.ColorScale(scheme='Reds')})\n",
    "\n",
    "# use bqplot's plt interface to plot:\n",
    "heat_map = bplt.gridheatmap(np.sum(data, axis=2),\n",
    "                            interactions={'click':'select'}, \n",
    "                            anchor_style = {'fill':'blue'})\n",
    "\n",
    "# hook heat_maps selected value to the label \n",
    "heat_map.observe(on_selected_bplt, 'selected')\n",
    "\n",
    "# change labels\n",
    "fig.axes[2].label = 'X' # xaxes label\n",
    "fig.axes[1].label = 'Y' # yaxes label\n",
    "\n",
    "# 0 is the colorbar axis\n",
    "fig.axes[0].orientation = 'horizontal'\n",
    "fig.axes[0].side = 'top' # vertical and side=right don't work rightnow?\n",
    "\n",
    "# show both the fig and label in a vertical box\n",
    "ipywidgets.VBox([mySelectedLabel,fig])"
   ]
  },
  {
   "cell_type": "code",
   "execution_count": 124,
   "metadata": {},
   "outputs": [
    {
     "data": {
      "application/vnd.jupyter.widget-view+json": {
       "model_id": "2b39ec4fb53f4f1087c7fd325a136a57",
       "version_major": 2,
       "version_minor": 0
      },
      "text/plain": [
       "Figure(axes=[Axis(label='Frequency', orientation='vertical', scale=LinearScale()), Axis(label='Z values', scal…"
      ]
     },
     "metadata": {},
     "output_type": "display_data"
    }
   ],
   "source": [
    "fig_hist = bplt.figure(padding_y=0.0) # set up a figure object\n",
    "\n",
    "# use bqplot's plt interface to plot:\n",
    "hist = bplt.hist(sample = data[0,0,:],\n",
    "                   normalized = False, # normalized=False means we get counts in each bin\n",
    "                   bins = 5) \n",
    "\n",
    "# change labels\n",
    "fig_hist.axes[1].label = 'Z values' # xaxes label\n",
    "fig_hist.axes[0].label = 'Frequency' # yaxes label\n",
    "\n",
    "fig_hist # empty plot of x/y"
   ]
  },
  {
   "cell_type": "code",
   "execution_count": 125,
   "metadata": {},
   "outputs": [
    {
     "data": {
      "application/vnd.jupyter.widget-view+json": {
       "model_id": "445cb4d8059c4375853563521b82f6ae",
       "version_major": 2,
       "version_minor": 0
      },
      "text/plain": [
       "VBox(children=(Label(value=''), HBox(children=(Figure(axes=[ColorAxis(scale=ColorScale(scheme='Reds'), side='t…"
      ]
     },
     "metadata": {},
     "output_type": "display_data"
    }
   ],
   "source": [
    "fig.layout.min_width='500px'\n",
    "fig_hist.layout.min_width='500px'\n",
    "\n",
    "ipywidgets.VBox([mySelectedLabel,\n",
    "                 ipywidgets.HBox([fig,fig_hist])])"
   ]
  },
  {
   "cell_type": "markdown",
   "metadata": {},
   "source": [
    "## Extras: Interactive histogramming with bqplot\n",
    "\n",
    "Now, lets try some interactive histogramming of our buildings data:"
   ]
  },
  {
   "cell_type": "code",
   "execution_count": 126,
   "metadata": {},
   "outputs": [],
   "source": [
    "import pandas as pd\n",
    "buildings = pd.read_csv(\"https://uiuc-ischool-dataviz.github.io/is445_AOUAOG_fall2021/week02/data/building_inventory.csv\",\n",
    "                        na_values = {'Year Acquired': 0, \n",
    "                                     'Year Constructed': 0, \n",
    "                                     'Square Footage': 0})"
   ]
  },
  {
   "cell_type": "markdown",
   "metadata": {},
   "source": [
    "Let's create some linear scales and attach axis like before:"
   ]
  },
  {
   "cell_type": "code",
   "execution_count": 127,
   "metadata": {},
   "outputs": [
    {
     "data": {
      "application/vnd.jupyter.widget-view+json": {
       "model_id": "9c48837a10b94fcfbc2edbb596c1dd3e",
       "version_major": 2,
       "version_minor": 0
      },
      "text/plain": [
       "VBox(children=(Figure(axes=[Axis(scale=LinearScale()), Axis(orientation='vertical', scale=LinearScale())], fig…"
      ]
     },
     "metadata": {},
     "output_type": "display_data"
    }
   ],
   "source": [
    "# since buildings is our data, we don't have to do anything\n",
    "#  with that, but we do need to create our scales and \n",
    "# axes like we've been doing before:\n",
    "# (1)\n",
    "x_sc = bqplot.LinearScale()\n",
    "y_sc = bqplot.LinearScale()\n",
    "x_ax = bqplot.Axis(scale = x_sc)\n",
    "y_ax = bqplot.Axis(scale = y_sc, orientation = 'vertical')\n",
    "\n",
    "# (2) now, lets do an interactive rebinning, but lets\n",
    "# use bqplot and a slider widget to do it\n",
    "hist = bqplot.Hist(sample = buildings[\"Year Acquired\"],\n",
    "            scales = {'sample': x_sc, 'count': y_sc},\n",
    "                   bins = 128, normalized = True,\n",
    "                   colors = [\"#FFFFFF\"])\n",
    "\n",
    "# lets also create a slider like we've done before\n",
    "islider = ipywidgets.IntSlider(min = 8, max = 128, step = 1)\n",
    "# and lets link our sider and our bins of our histogram\n",
    "ipywidgets.link((islider, 'value'), (hist, 'bins'))\n",
    "# construct a fig\n",
    "#fig = bqplot.Figure(marks = [hist], axes = [x_ax, y_ax])\n",
    "# ***RUN NEXT CELL BEFORE ADDING 2ND HIST\n",
    "\n",
    "# (3) ok, but maybe we want to see our original histogram\n",
    "#  underneath, lets add this to our figure\n",
    "hist2 = bqplot.Hist(sample = buildings[\"Year Acquired\"],\n",
    "                   opacity = 0.1, normalized = True,\n",
    "            scales = {'sample': x_sc, 'count': y_sc},\n",
    "                  bins = 128)\n",
    "fig = bqplot.Figure(marks = [hist, hist2], axes = [x_ax, y_ax])\n",
    "\n",
    "# for 2 & 3\n",
    "#display(ipywidgets.VBox([fig, islider]))\n",
    "ipywidgets.VBox([fig, islider])"
   ]
  },
  {
   "cell_type": "markdown",
   "metadata": {},
   "source": [
    "## Extras: Wealth of Nations plot\n",
    "\n",
    "See full github repo for all of this data/libraries needed!\n",
    "\n",
    "* originially from the TedTalk: https://www.ted.com/talks/hans_rosling_shows_the_best_stats_you_ve_ever_seen\n",
    "* found on Rosling's website: https://www.ted.com/talks/hans_rosling_shows_the_best_stats_you_ve_ever_seen\n",
    "* We're going to make a tool similar to GapMinders:https://www.gapminder.org/world/\n",
    "* Much of this is, in more detail, in the PyGothum-2017 github: https://github.com/dmadeka/PyGotham-2017 \n",
    "* This will talk to javascript on the backend to mimic the output of another plotting package d3.js, but we don't have to learn about d3.js (just now) and can instead rely on our current Python knowledge"
   ]
  },
  {
   "cell_type": "code",
   "execution_count": 128,
   "metadata": {},
   "outputs": [],
   "source": [
    "# import pandas if we have not\n",
    "import pandas as pd\n",
    "\n",
    "# lets start off our plot at the initial year of 1800\n",
    "initial_year = 1800"
   ]
  },
  {
   "cell_type": "code",
   "execution_count": 129,
   "metadata": {},
   "outputs": [
    {
     "data": {
      "text/html": [
       "<div>\n",
       "<style scoped>\n",
       "    .dataframe tbody tr th:only-of-type {\n",
       "        vertical-align: middle;\n",
       "    }\n",
       "\n",
       "    .dataframe tbody tr th {\n",
       "        vertical-align: top;\n",
       "    }\n",
       "\n",
       "    .dataframe thead th {\n",
       "        text-align: right;\n",
       "    }\n",
       "</style>\n",
       "<table border=\"1\" class=\"dataframe\">\n",
       "  <thead>\n",
       "    <tr style=\"text-align: right;\">\n",
       "      <th></th>\n",
       "      <th>name</th>\n",
       "      <th>region</th>\n",
       "      <th>income</th>\n",
       "      <th>population</th>\n",
       "      <th>lifeExpectancy</th>\n",
       "    </tr>\n",
       "  </thead>\n",
       "  <tbody>\n",
       "    <tr>\n",
       "      <th>0</th>\n",
       "      <td>Angola</td>\n",
       "      <td>Sub-Saharan Africa</td>\n",
       "      <td>[359.93, 359.93, 359.93, 359.93, 359.93, 359.9...</td>\n",
       "      <td>[1567028.0, 1567028.0, 1567028.0, 1567028.0, 1...</td>\n",
       "      <td>[26.98, 26.98, 26.98, 26.98, 26.98, 26.98, 26....</td>\n",
       "    </tr>\n",
       "    <tr>\n",
       "      <th>1</th>\n",
       "      <td>Benin</td>\n",
       "      <td>Sub-Saharan Africa</td>\n",
       "      <td>[553.72, 553.72, 553.72, 553.72, 553.72, 553.7...</td>\n",
       "      <td>[636559.0, 636559.0, 636559.0, 636559.0, 63655...</td>\n",
       "      <td>[31.0, 31.0, 31.0, 31.0, 31.0, 31.0, 31.0, 31....</td>\n",
       "    </tr>\n",
       "    <tr>\n",
       "      <th>2</th>\n",
       "      <td>Botswana</td>\n",
       "      <td>Sub-Saharan Africa</td>\n",
       "      <td>[407.36, 407.36, 407.36, 407.36, 407.36, 407.3...</td>\n",
       "      <td>[121000.0, 121000.0, 121000.0, 121000.0, 12100...</td>\n",
       "      <td>[33.6, 33.6, 33.6, 33.6, 33.6, 33.6, 33.6, 33....</td>\n",
       "    </tr>\n",
       "    <tr>\n",
       "      <th>3</th>\n",
       "      <td>Burkina Faso</td>\n",
       "      <td>Sub-Saharan Africa</td>\n",
       "      <td>[454.33, 454.33, 454.33, 454.33, 454.33, 454.3...</td>\n",
       "      <td>[1665421.0, 1665421.0, 1665421.0, 1665421.0, 1...</td>\n",
       "      <td>[29.2, 29.2, 29.2, 29.2, 29.2, 29.2, 29.2, 29....</td>\n",
       "    </tr>\n",
       "    <tr>\n",
       "      <th>4</th>\n",
       "      <td>Burundi</td>\n",
       "      <td>Sub-Saharan Africa</td>\n",
       "      <td>[447.59, 447.59, 447.59, 447.59, 447.59, 447.5...</td>\n",
       "      <td>[899097.0, 899097.0, 899097.0, 899097.0, 89909...</td>\n",
       "      <td>[31.5, 31.5, 31.5, 31.5, 31.5, 31.5, 31.5, 31....</td>\n",
       "    </tr>\n",
       "    <tr>\n",
       "      <th>...</th>\n",
       "      <td>...</td>\n",
       "      <td>...</td>\n",
       "      <td>...</td>\n",
       "      <td>...</td>\n",
       "      <td>...</td>\n",
       "    </tr>\n",
       "    <tr>\n",
       "      <th>174</th>\n",
       "      <td>Thailand</td>\n",
       "      <td>East Asia &amp; Pacific</td>\n",
       "      <td>[496.98, 496.98, 496.98, 496.98, 496.98, 496.9...</td>\n",
       "      <td>[4665000.0, 4665000.0, 4665000.0, 4665000.0, 4...</td>\n",
       "      <td>[30.4, 30.4, 30.4, 30.4, 30.4, 30.4, 30.4, 30....</td>\n",
       "    </tr>\n",
       "    <tr>\n",
       "      <th>175</th>\n",
       "      <td>Timor-Leste</td>\n",
       "      <td>East Asia &amp; Pacific</td>\n",
       "      <td>[514.12, 514.3505, 514.581, 514.8115, 515.042,...</td>\n",
       "      <td>[137262.0, 137262.0, 137262.0, 137262.0, 13726...</td>\n",
       "      <td>[28.97, 28.97, 28.97, 28.97, 28.97, 28.97, 28....</td>\n",
       "    </tr>\n",
       "    <tr>\n",
       "      <th>177</th>\n",
       "      <td>Tonga</td>\n",
       "      <td>East Asia &amp; Pacific</td>\n",
       "      <td>[667.71, 667.71, 667.71, 667.71, 667.71, 667.7...</td>\n",
       "      <td>[18658.0, 18654.325581395347, 18650.6511627907...</td>\n",
       "      <td>[57.91, 57.91, 57.91, 57.91, 57.91, 57.91, 57....</td>\n",
       "    </tr>\n",
       "    <tr>\n",
       "      <th>178</th>\n",
       "      <td>Vietnam</td>\n",
       "      <td>East Asia &amp; Pacific</td>\n",
       "      <td>[459.71, 459.71, 459.71, 459.71, 459.71, 459.7...</td>\n",
       "      <td>[6551000.0, 6551000.0, 6551000.0, 6551000.0, 6...</td>\n",
       "      <td>[32.0, 32.0, 32.0, 32.0, 32.0, 32.0, 32.0, 32....</td>\n",
       "    </tr>\n",
       "    <tr>\n",
       "      <th>179</th>\n",
       "      <td>Vanuatu</td>\n",
       "      <td>East Asia &amp; Pacific</td>\n",
       "      <td>[829.58, 829.58, 829.58, 829.58, 829.58, 829.5...</td>\n",
       "      <td>[27791.0, 27791.0, 27791.0, 27791.0, 27791.0, ...</td>\n",
       "      <td>[40.8, 40.8, 40.8, 40.8, 40.8, 40.8, 40.8, 40....</td>\n",
       "    </tr>\n",
       "  </tbody>\n",
       "</table>\n",
       "<p>178 rows × 5 columns</p>\n",
       "</div>"
      ],
      "text/plain": [
       "             name               region  \\\n",
       "0          Angola   Sub-Saharan Africa   \n",
       "1           Benin   Sub-Saharan Africa   \n",
       "2        Botswana   Sub-Saharan Africa   \n",
       "3    Burkina Faso   Sub-Saharan Africa   \n",
       "4         Burundi   Sub-Saharan Africa   \n",
       "..            ...                  ...   \n",
       "174      Thailand  East Asia & Pacific   \n",
       "175   Timor-Leste  East Asia & Pacific   \n",
       "177         Tonga  East Asia & Pacific   \n",
       "178       Vietnam  East Asia & Pacific   \n",
       "179       Vanuatu  East Asia & Pacific   \n",
       "\n",
       "                                                income  \\\n",
       "0    [359.93, 359.93, 359.93, 359.93, 359.93, 359.9...   \n",
       "1    [553.72, 553.72, 553.72, 553.72, 553.72, 553.7...   \n",
       "2    [407.36, 407.36, 407.36, 407.36, 407.36, 407.3...   \n",
       "3    [454.33, 454.33, 454.33, 454.33, 454.33, 454.3...   \n",
       "4    [447.59, 447.59, 447.59, 447.59, 447.59, 447.5...   \n",
       "..                                                 ...   \n",
       "174  [496.98, 496.98, 496.98, 496.98, 496.98, 496.9...   \n",
       "175  [514.12, 514.3505, 514.581, 514.8115, 515.042,...   \n",
       "177  [667.71, 667.71, 667.71, 667.71, 667.71, 667.7...   \n",
       "178  [459.71, 459.71, 459.71, 459.71, 459.71, 459.7...   \n",
       "179  [829.58, 829.58, 829.58, 829.58, 829.58, 829.5...   \n",
       "\n",
       "                                            population  \\\n",
       "0    [1567028.0, 1567028.0, 1567028.0, 1567028.0, 1...   \n",
       "1    [636559.0, 636559.0, 636559.0, 636559.0, 63655...   \n",
       "2    [121000.0, 121000.0, 121000.0, 121000.0, 12100...   \n",
       "3    [1665421.0, 1665421.0, 1665421.0, 1665421.0, 1...   \n",
       "4    [899097.0, 899097.0, 899097.0, 899097.0, 89909...   \n",
       "..                                                 ...   \n",
       "174  [4665000.0, 4665000.0, 4665000.0, 4665000.0, 4...   \n",
       "175  [137262.0, 137262.0, 137262.0, 137262.0, 13726...   \n",
       "177  [18658.0, 18654.325581395347, 18650.6511627907...   \n",
       "178  [6551000.0, 6551000.0, 6551000.0, 6551000.0, 6...   \n",
       "179  [27791.0, 27791.0, 27791.0, 27791.0, 27791.0, ...   \n",
       "\n",
       "                                        lifeExpectancy  \n",
       "0    [26.98, 26.98, 26.98, 26.98, 26.98, 26.98, 26....  \n",
       "1    [31.0, 31.0, 31.0, 31.0, 31.0, 31.0, 31.0, 31....  \n",
       "2    [33.6, 33.6, 33.6, 33.6, 33.6, 33.6, 33.6, 33....  \n",
       "3    [29.2, 29.2, 29.2, 29.2, 29.2, 29.2, 29.2, 29....  \n",
       "4    [31.5, 31.5, 31.5, 31.5, 31.5, 31.5, 31.5, 31....  \n",
       "..                                                 ...  \n",
       "174  [30.4, 30.4, 30.4, 30.4, 30.4, 30.4, 30.4, 30....  \n",
       "175  [28.97, 28.97, 28.97, 28.97, 28.97, 28.97, 28....  \n",
       "177  [57.91, 57.91, 57.91, 57.91, 57.91, 57.91, 57....  \n",
       "178  [32.0, 32.0, 32.0, 32.0, 32.0, 32.0, 32.0, 32....  \n",
       "179  [40.8, 40.8, 40.8, 40.8, 40.8, 40.8, 40.8, 40....  \n",
       "\n",
       "[178 rows x 5 columns]"
      ]
     },
     "execution_count": 129,
     "metadata": {},
     "output_type": "execute_result"
    }
   ],
   "source": [
    "# we'll read in our datafile and apply \n",
    "# some pre-written cleaning routines \n",
    "# get out the data we want for our plotting\n",
    "# put this file in the same directory as the notebook, or link it in your path:\n",
    "from sys import path\n",
    "path.append('./library') # this is the subdirectory where wealth_of_nations.py is\n",
    "from wealth_of_nations import process_data, get_min_max, get_data\n",
    "\n",
    "# grab data\n",
    "data = process_data('./library/nations.json')\n",
    "\n",
    "data"
   ]
  },
  {
   "cell_type": "code",
   "execution_count": 130,
   "metadata": {},
   "outputs": [],
   "source": [
    "# grab min & max values of our variables of interest\n",
    "income_min, income_max, life_exp_min, life_exp_max, pop_min, pop_max = get_min_max(data)"
   ]
  },
  {
   "cell_type": "code",
   "execution_count": 131,
   "metadata": {},
   "outputs": [],
   "source": [
    "# lets allow for a mouse-over interaction\n",
    "# for silly:\n",
    "import bqplot\n",
    "tt = bqplot.Tooltip(fields=['name', 'x', 'y'], \n",
    "                    labels=['Country Name', \n",
    "                            'Income per Capita', 'Life Expectancy'])\n",
    "#bqplot.Tooltip?"
   ]
  },
  {
   "cell_type": "code",
   "execution_count": 132,
   "metadata": {},
   "outputs": [],
   "source": [
    "# we will label what year is being plotted, just like in the Gabminder plot\n",
    "year_label = bqplot.Label(x=[0.75], y=[0.10], \n",
    "                   font_size=52, font_weight='bolder', \n",
    "                   colors=['orange'],\n",
    "                   text=[str(initial_year)], enable_move=True)"
   ]
  },
  {
   "cell_type": "code",
   "execution_count": 133,
   "metadata": {},
   "outputs": [],
   "source": [
    "# we'll define our scales like before\n",
    "# here we scale our x & y axis to the scales of the min and max of our data\n",
    "x_sc = bqplot.LogScale(min=income_min, max=income_max)\n",
    "y_sc = bqplot.LinearScale(min=life_exp_min, max=life_exp_max)\n",
    "\n",
    "# this is just something to color-code each circle by the region it corresponds to\n",
    "#  (for example, asia, south america, africa, etc)\n",
    "# the colors call is just mapping each catagorical variable to a color\n",
    "c_sc = bqplot.OrdinalColorScale(domain=data['region'].unique().tolist(), \n",
    "                                colors=bqplot.CATEGORY10[:6])\n",
    "\n",
    "# finally, we want the size of each of our dots to correspond to the population of \n",
    "# each country\n",
    "#size_sc = bqplot.LinearScale(min=pop_min, max=pop_max)#, mid_range=0.1)\n",
    "size_sc = bqplot.LinearScale(max=1326856173.0, min=2128.0)\n",
    "#bqplot.LinearScale?"
   ]
  },
  {
   "cell_type": "code",
   "execution_count": 134,
   "metadata": {},
   "outputs": [],
   "source": [
    "# create and label our x & y axis\n",
    "ax_y = bqplot.Axis(label='Life Expectancy', scale=y_sc, \n",
    "                   orientation='vertical', side='left', \n",
    "                   grid_lines='solid')\n",
    "ax_x = bqplot.Axis(label='Income per Capita', scale=x_sc, \n",
    "                   grid_lines='solid')"
   ]
  },
  {
   "cell_type": "code",
   "execution_count": 135,
   "metadata": {},
   "outputs": [],
   "source": [
    "# now we'll use another little function from our library above to grab\n",
    "# data for our initial setup (year = 1800)\n",
    "# Start with the first year's data\n",
    "cap_income, life_exp, pop = get_data(data,initial_year,initial_year)"
   ]
  },
  {
   "cell_type": "code",
   "execution_count": 136,
   "metadata": {},
   "outputs": [
    {
     "ename": "KeyError",
     "evalue": "27",
     "output_type": "error",
     "traceback": [
      "\u001b[0;31m---------------------------------------------------------------------------\u001b[0m",
      "\u001b[0;31mKeyError\u001b[0m                                  Traceback (most recent call last)",
      "File \u001b[0;32m/opt/anaconda3/envs/DataViz2/lib/python3.10/site-packages/pandas/core/indexes/base.py:3805\u001b[0m, in \u001b[0;36mIndex.get_loc\u001b[0;34m(self, key)\u001b[0m\n\u001b[1;32m   3804\u001b[0m \u001b[38;5;28;01mtry\u001b[39;00m:\n\u001b[0;32m-> 3805\u001b[0m     \u001b[38;5;28;01mreturn\u001b[39;00m \u001b[38;5;28;43mself\u001b[39;49m\u001b[38;5;241;43m.\u001b[39;49m\u001b[43m_engine\u001b[49m\u001b[38;5;241;43m.\u001b[39;49m\u001b[43mget_loc\u001b[49m\u001b[43m(\u001b[49m\u001b[43mcasted_key\u001b[49m\u001b[43m)\u001b[49m\n\u001b[1;32m   3806\u001b[0m \u001b[38;5;28;01mexcept\u001b[39;00m \u001b[38;5;167;01mKeyError\u001b[39;00m \u001b[38;5;28;01mas\u001b[39;00m err:\n",
      "File \u001b[0;32mindex.pyx:167\u001b[0m, in \u001b[0;36mpandas._libs.index.IndexEngine.get_loc\u001b[0;34m()\u001b[0m\n",
      "File \u001b[0;32mindex.pyx:196\u001b[0m, in \u001b[0;36mpandas._libs.index.IndexEngine.get_loc\u001b[0;34m()\u001b[0m\n",
      "File \u001b[0;32mpandas/_libs/hashtable_class_helper.pxi:2606\u001b[0m, in \u001b[0;36mpandas._libs.hashtable.Int64HashTable.get_item\u001b[0;34m()\u001b[0m\n",
      "File \u001b[0;32mpandas/_libs/hashtable_class_helper.pxi:2630\u001b[0m, in \u001b[0;36mpandas._libs.hashtable.Int64HashTable.get_item\u001b[0;34m()\u001b[0m\n",
      "\u001b[0;31mKeyError\u001b[0m: 27",
      "\nThe above exception was the direct cause of the following exception:\n",
      "\u001b[0;31mKeyError\u001b[0m                                  Traceback (most recent call last)",
      "File \u001b[0;32m/opt/anaconda3/envs/DataViz2/lib/python3.10/site-packages/ipywidgets/widgets/widget.py:757\u001b[0m, in \u001b[0;36mWidget._handle_msg\u001b[0;34m(self, msg)\u001b[0m\n\u001b[1;32m    755\u001b[0m         \u001b[38;5;28;01mif\u001b[39;00m \u001b[38;5;124m'\u001b[39m\u001b[38;5;124mbuffer_paths\u001b[39m\u001b[38;5;124m'\u001b[39m \u001b[38;5;129;01min\u001b[39;00m data:\n\u001b[1;32m    756\u001b[0m             _put_buffers(state, data[\u001b[38;5;124m'\u001b[39m\u001b[38;5;124mbuffer_paths\u001b[39m\u001b[38;5;124m'\u001b[39m], msg[\u001b[38;5;124m'\u001b[39m\u001b[38;5;124mbuffers\u001b[39m\u001b[38;5;124m'\u001b[39m])\n\u001b[0;32m--> 757\u001b[0m         \u001b[38;5;28;43mself\u001b[39;49m\u001b[38;5;241;43m.\u001b[39;49m\u001b[43mset_state\u001b[49m\u001b[43m(\u001b[49m\u001b[43mstate\u001b[49m\u001b[43m)\u001b[49m\n\u001b[1;32m    759\u001b[0m \u001b[38;5;66;03m# Handle a state request.\u001b[39;00m\n\u001b[1;32m    760\u001b[0m \u001b[38;5;28;01melif\u001b[39;00m method \u001b[38;5;241m==\u001b[39m \u001b[38;5;124m'\u001b[39m\u001b[38;5;124mrequest_state\u001b[39m\u001b[38;5;124m'\u001b[39m:\n",
      "File \u001b[0;32m/opt/anaconda3/envs/DataViz2/lib/python3.10/site-packages/ipywidgets/widgets/widget.py:621\u001b[0m, in \u001b[0;36mWidget.set_state\u001b[0;34m(self, sync_data)\u001b[0m\n\u001b[1;32m    616\u001b[0m         \u001b[38;5;28mself\u001b[39m\u001b[38;5;241m.\u001b[39m_send(msg, buffers\u001b[38;5;241m=\u001b[39mecho_buffers)\n\u001b[1;32m    618\u001b[0m \u001b[38;5;66;03m# The order of these context managers is important. Properties must\u001b[39;00m\n\u001b[1;32m    619\u001b[0m \u001b[38;5;66;03m# be locked when the hold_trait_notification context manager is\u001b[39;00m\n\u001b[1;32m    620\u001b[0m \u001b[38;5;66;03m# released and notifications are fired.\u001b[39;00m\n\u001b[0;32m--> 621\u001b[0m \u001b[38;5;28;01mwith\u001b[39;00m \u001b[38;5;28mself\u001b[39m\u001b[38;5;241m.\u001b[39m_lock_property(\u001b[38;5;241m*\u001b[39m\u001b[38;5;241m*\u001b[39msync_data), \u001b[38;5;28mself\u001b[39m\u001b[38;5;241m.\u001b[39mhold_trait_notifications():\n\u001b[1;32m    622\u001b[0m     \u001b[38;5;28;01mfor\u001b[39;00m name \u001b[38;5;129;01min\u001b[39;00m sync_data:\n\u001b[1;32m    623\u001b[0m         \u001b[38;5;28;01mif\u001b[39;00m name \u001b[38;5;129;01min\u001b[39;00m \u001b[38;5;28mself\u001b[39m\u001b[38;5;241m.\u001b[39mkeys:\n",
      "File \u001b[0;32m/opt/anaconda3/envs/DataViz2/lib/python3.10/contextlib.py:142\u001b[0m, in \u001b[0;36m_GeneratorContextManager.__exit__\u001b[0;34m(self, typ, value, traceback)\u001b[0m\n\u001b[1;32m    140\u001b[0m \u001b[38;5;28;01mif\u001b[39;00m typ \u001b[38;5;129;01mis\u001b[39;00m \u001b[38;5;28;01mNone\u001b[39;00m:\n\u001b[1;32m    141\u001b[0m     \u001b[38;5;28;01mtry\u001b[39;00m:\n\u001b[0;32m--> 142\u001b[0m         \u001b[38;5;28;43mnext\u001b[39;49m\u001b[43m(\u001b[49m\u001b[38;5;28;43mself\u001b[39;49m\u001b[38;5;241;43m.\u001b[39;49m\u001b[43mgen\u001b[49m\u001b[43m)\u001b[49m\n\u001b[1;32m    143\u001b[0m     \u001b[38;5;28;01mexcept\u001b[39;00m \u001b[38;5;167;01mStopIteration\u001b[39;00m:\n\u001b[1;32m    144\u001b[0m         \u001b[38;5;28;01mreturn\u001b[39;00m \u001b[38;5;28;01mFalse\u001b[39;00m\n",
      "File \u001b[0;32m/opt/anaconda3/envs/DataViz2/lib/python3.10/site-packages/traitlets/traitlets.py:1510\u001b[0m, in \u001b[0;36mHasTraits.hold_trait_notifications\u001b[0;34m(self)\u001b[0m\n\u001b[1;32m   1508\u001b[0m \u001b[38;5;28;01mfor\u001b[39;00m changes \u001b[38;5;129;01min\u001b[39;00m cache\u001b[38;5;241m.\u001b[39mvalues():\n\u001b[1;32m   1509\u001b[0m     \u001b[38;5;28;01mfor\u001b[39;00m change \u001b[38;5;129;01min\u001b[39;00m changes:\n\u001b[0;32m-> 1510\u001b[0m         \u001b[38;5;28;43mself\u001b[39;49m\u001b[38;5;241;43m.\u001b[39;49m\u001b[43mnotify_change\u001b[49m\u001b[43m(\u001b[49m\u001b[43mchange\u001b[49m\u001b[43m)\u001b[49m\n",
      "File \u001b[0;32m/opt/anaconda3/envs/DataViz2/lib/python3.10/site-packages/ipywidgets/widgets/widget.py:687\u001b[0m, in \u001b[0;36mWidget.notify_change\u001b[0;34m(self, change)\u001b[0m\n\u001b[1;32m    684\u001b[0m     \u001b[38;5;28;01mif\u001b[39;00m name \u001b[38;5;129;01min\u001b[39;00m \u001b[38;5;28mself\u001b[39m\u001b[38;5;241m.\u001b[39mkeys \u001b[38;5;129;01mand\u001b[39;00m \u001b[38;5;28mself\u001b[39m\u001b[38;5;241m.\u001b[39m_should_send_property(name, \u001b[38;5;28mgetattr\u001b[39m(\u001b[38;5;28mself\u001b[39m, name)):\n\u001b[1;32m    685\u001b[0m         \u001b[38;5;66;03m# Send new state to front-end\u001b[39;00m\n\u001b[1;32m    686\u001b[0m         \u001b[38;5;28mself\u001b[39m\u001b[38;5;241m.\u001b[39msend_state(key\u001b[38;5;241m=\u001b[39mname)\n\u001b[0;32m--> 687\u001b[0m \u001b[38;5;28;43msuper\u001b[39;49m\u001b[43m(\u001b[49m\u001b[43mWidget\u001b[49m\u001b[43m,\u001b[49m\u001b[43m \u001b[49m\u001b[38;5;28;43mself\u001b[39;49m\u001b[43m)\u001b[49m\u001b[38;5;241;43m.\u001b[39;49m\u001b[43mnotify_change\u001b[49m\u001b[43m(\u001b[49m\u001b[43mchange\u001b[49m\u001b[43m)\u001b[49m\n",
      "File \u001b[0;32m/opt/anaconda3/envs/DataViz2/lib/python3.10/site-packages/traitlets/traitlets.py:1525\u001b[0m, in \u001b[0;36mHasTraits.notify_change\u001b[0;34m(self, change)\u001b[0m\n\u001b[1;32m   1523\u001b[0m \u001b[38;5;28;01mdef\u001b[39;00m \u001b[38;5;21mnotify_change\u001b[39m(\u001b[38;5;28mself\u001b[39m, change: Bunch) \u001b[38;5;241m-\u001b[39m\u001b[38;5;241m>\u001b[39m \u001b[38;5;28;01mNone\u001b[39;00m:\n\u001b[1;32m   1524\u001b[0m \u001b[38;5;250m    \u001b[39m\u001b[38;5;124;03m\"\"\"Notify observers of a change event\"\"\"\u001b[39;00m\n\u001b[0;32m-> 1525\u001b[0m     \u001b[38;5;28;01mreturn\u001b[39;00m \u001b[38;5;28;43mself\u001b[39;49m\u001b[38;5;241;43m.\u001b[39;49m\u001b[43m_notify_observers\u001b[49m\u001b[43m(\u001b[49m\u001b[43mchange\u001b[49m\u001b[43m)\u001b[49m\n",
      "File \u001b[0;32m/opt/anaconda3/envs/DataViz2/lib/python3.10/site-packages/traitlets/traitlets.py:1568\u001b[0m, in \u001b[0;36mHasTraits._notify_observers\u001b[0;34m(self, event)\u001b[0m\n\u001b[1;32m   1565\u001b[0m \u001b[38;5;28;01melif\u001b[39;00m \u001b[38;5;28misinstance\u001b[39m(c, EventHandler) \u001b[38;5;129;01mand\u001b[39;00m c\u001b[38;5;241m.\u001b[39mname \u001b[38;5;129;01mis\u001b[39;00m \u001b[38;5;129;01mnot\u001b[39;00m \u001b[38;5;28;01mNone\u001b[39;00m:\n\u001b[1;32m   1566\u001b[0m     c \u001b[38;5;241m=\u001b[39m \u001b[38;5;28mgetattr\u001b[39m(\u001b[38;5;28mself\u001b[39m, c\u001b[38;5;241m.\u001b[39mname)\n\u001b[0;32m-> 1568\u001b[0m \u001b[43mc\u001b[49m\u001b[43m(\u001b[49m\u001b[43mevent\u001b[49m\u001b[43m)\u001b[49m\n",
      "Cell \u001b[0;32mIn[142], line 7\u001b[0m, in \u001b[0;36mhover_changed\u001b[0;34m(change)\u001b[0m\n\u001b[1;32m      5\u001b[0m \u001b[38;5;28;01mdef\u001b[39;00m \u001b[38;5;21mhover_changed\u001b[39m(change):\n\u001b[1;32m      6\u001b[0m     \u001b[38;5;28;01mif\u001b[39;00m change\u001b[38;5;241m.\u001b[39mnew \u001b[38;5;129;01mis\u001b[39;00m \u001b[38;5;129;01mnot\u001b[39;00m \u001b[38;5;28;01mNone\u001b[39;00m:\n\u001b[0;32m----> 7\u001b[0m         nation_line\u001b[38;5;241m.\u001b[39mx \u001b[38;5;241m=\u001b[39m \u001b[43mdata\u001b[49m\u001b[43m[\u001b[49m\u001b[38;5;124;43m'\u001b[39;49m\u001b[38;5;124;43mincome\u001b[39;49m\u001b[38;5;124;43m'\u001b[39;49m\u001b[43m]\u001b[49m\u001b[43m[\u001b[49m\u001b[43mchange\u001b[49m\u001b[38;5;241;43m.\u001b[39;49m\u001b[43mnew\u001b[49m\u001b[43m \u001b[49m\u001b[38;5;241;43m+\u001b[39;49m\u001b[43m \u001b[49m\u001b[38;5;241;43m1\u001b[39;49m\u001b[43m]\u001b[49m\n\u001b[1;32m      8\u001b[0m         nation_line\u001b[38;5;241m.\u001b[39my \u001b[38;5;241m=\u001b[39m data[\u001b[38;5;124m'\u001b[39m\u001b[38;5;124mlifeExpectancy\u001b[39m\u001b[38;5;124m'\u001b[39m][change\u001b[38;5;241m.\u001b[39mnew \u001b[38;5;241m+\u001b[39m \u001b[38;5;241m1\u001b[39m]\n\u001b[1;32m      9\u001b[0m         nation_line\u001b[38;5;241m.\u001b[39mvisible \u001b[38;5;241m=\u001b[39m \u001b[38;5;28;01mTrue\u001b[39;00m\n",
      "File \u001b[0;32m/opt/anaconda3/envs/DataViz2/lib/python3.10/site-packages/pandas/core/series.py:1121\u001b[0m, in \u001b[0;36mSeries.__getitem__\u001b[0;34m(self, key)\u001b[0m\n\u001b[1;32m   1118\u001b[0m     \u001b[38;5;28;01mreturn\u001b[39;00m \u001b[38;5;28mself\u001b[39m\u001b[38;5;241m.\u001b[39m_values[key]\n\u001b[1;32m   1120\u001b[0m \u001b[38;5;28;01melif\u001b[39;00m key_is_scalar:\n\u001b[0;32m-> 1121\u001b[0m     \u001b[38;5;28;01mreturn\u001b[39;00m \u001b[38;5;28;43mself\u001b[39;49m\u001b[38;5;241;43m.\u001b[39;49m\u001b[43m_get_value\u001b[49m\u001b[43m(\u001b[49m\u001b[43mkey\u001b[49m\u001b[43m)\u001b[49m\n\u001b[1;32m   1123\u001b[0m \u001b[38;5;66;03m# Convert generator to list before going through hashable part\u001b[39;00m\n\u001b[1;32m   1124\u001b[0m \u001b[38;5;66;03m# (We will iterate through the generator there to check for slices)\u001b[39;00m\n\u001b[1;32m   1125\u001b[0m \u001b[38;5;28;01mif\u001b[39;00m is_iterator(key):\n",
      "File \u001b[0;32m/opt/anaconda3/envs/DataViz2/lib/python3.10/site-packages/pandas/core/series.py:1237\u001b[0m, in \u001b[0;36mSeries._get_value\u001b[0;34m(self, label, takeable)\u001b[0m\n\u001b[1;32m   1234\u001b[0m     \u001b[38;5;28;01mreturn\u001b[39;00m \u001b[38;5;28mself\u001b[39m\u001b[38;5;241m.\u001b[39m_values[label]\n\u001b[1;32m   1236\u001b[0m \u001b[38;5;66;03m# Similar to Index.get_value, but we do not fall back to positional\u001b[39;00m\n\u001b[0;32m-> 1237\u001b[0m loc \u001b[38;5;241m=\u001b[39m \u001b[38;5;28;43mself\u001b[39;49m\u001b[38;5;241;43m.\u001b[39;49m\u001b[43mindex\u001b[49m\u001b[38;5;241;43m.\u001b[39;49m\u001b[43mget_loc\u001b[49m\u001b[43m(\u001b[49m\u001b[43mlabel\u001b[49m\u001b[43m)\u001b[49m\n\u001b[1;32m   1239\u001b[0m \u001b[38;5;28;01mif\u001b[39;00m is_integer(loc):\n\u001b[1;32m   1240\u001b[0m     \u001b[38;5;28;01mreturn\u001b[39;00m \u001b[38;5;28mself\u001b[39m\u001b[38;5;241m.\u001b[39m_values[loc]\n",
      "File \u001b[0;32m/opt/anaconda3/envs/DataViz2/lib/python3.10/site-packages/pandas/core/indexes/base.py:3812\u001b[0m, in \u001b[0;36mIndex.get_loc\u001b[0;34m(self, key)\u001b[0m\n\u001b[1;32m   3807\u001b[0m     \u001b[38;5;28;01mif\u001b[39;00m \u001b[38;5;28misinstance\u001b[39m(casted_key, \u001b[38;5;28mslice\u001b[39m) \u001b[38;5;129;01mor\u001b[39;00m (\n\u001b[1;32m   3808\u001b[0m         \u001b[38;5;28misinstance\u001b[39m(casted_key, abc\u001b[38;5;241m.\u001b[39mIterable)\n\u001b[1;32m   3809\u001b[0m         \u001b[38;5;129;01mand\u001b[39;00m \u001b[38;5;28many\u001b[39m(\u001b[38;5;28misinstance\u001b[39m(x, \u001b[38;5;28mslice\u001b[39m) \u001b[38;5;28;01mfor\u001b[39;00m x \u001b[38;5;129;01min\u001b[39;00m casted_key)\n\u001b[1;32m   3810\u001b[0m     ):\n\u001b[1;32m   3811\u001b[0m         \u001b[38;5;28;01mraise\u001b[39;00m InvalidIndexError(key)\n\u001b[0;32m-> 3812\u001b[0m     \u001b[38;5;28;01mraise\u001b[39;00m \u001b[38;5;167;01mKeyError\u001b[39;00m(key) \u001b[38;5;28;01mfrom\u001b[39;00m \u001b[38;5;21;01merr\u001b[39;00m\n\u001b[1;32m   3813\u001b[0m \u001b[38;5;28;01mexcept\u001b[39;00m \u001b[38;5;167;01mTypeError\u001b[39;00m:\n\u001b[1;32m   3814\u001b[0m     \u001b[38;5;66;03m# If we have a listlike key, _check_indexing_error will raise\u001b[39;00m\n\u001b[1;32m   3815\u001b[0m     \u001b[38;5;66;03m#  InvalidIndexError. Otherwise we fall through and re-raise\u001b[39;00m\n\u001b[1;32m   3816\u001b[0m     \u001b[38;5;66;03m#  the TypeError.\u001b[39;00m\n\u001b[1;32m   3817\u001b[0m     \u001b[38;5;28mself\u001b[39m\u001b[38;5;241m.\u001b[39m_check_indexing_error(key)\n",
      "\u001b[0;31mKeyError\u001b[0m: 27"
     ]
    }
   ],
   "source": [
    "# now lets make our scatter plot!\n",
    "wealth_scat = bqplot.Scatter(x=cap_income, y=life_exp, \n",
    "                             color=data['region'], size=pop,\n",
    "                      names=data['name'], display_names=False,\n",
    "                      scales={'x': x_sc, 'y': y_sc, 'color': c_sc, \n",
    "                              'size': size_sc},\n",
    "                      default_size=4112, tooltip=tt, \n",
    "                             animate=True, stroke='Black',\n",
    "                      unhovered_style={'opacity': 0.5})\n",
    "# much of these calls are things we've seen before, others will allow fun things \n",
    "#  like animation and also the ability to click on our plot and interact with it"
   ]
  },
  {
   "cell_type": "code",
   "execution_count": 137,
   "metadata": {},
   "outputs": [],
   "source": [
    "# for our initial, 1800 view, we'll just allow the first \"line\" of the evolution of the \n",
    "# each nation's track to be displayed... this is essentially a place holder (visible = false)\n",
    "nation_line = bqplot.Lines(x=data['income'][0], \n",
    "                           y=data['lifeExpectancy'][0], \n",
    "                           colors=['Gray'],\n",
    "                       scales={'x': x_sc, 'y': y_sc}, visible=False)"
   ]
  },
  {
   "cell_type": "code",
   "execution_count": 138,
   "metadata": {},
   "outputs": [],
   "source": [
    "# milliseconds of time between changes we make\n",
    "time_interval = 10"
   ]
  },
  {
   "cell_type": "code",
   "execution_count": 139,
   "metadata": {},
   "outputs": [],
   "source": [
    "# create the figure & \n",
    "fig = bqplot.Figure(marks=[wealth_scat, year_label, nation_line], \n",
    "                    axes=[ax_x, ax_y],\n",
    "             title='Health and Wealth of Nations', \n",
    "                    animation_duration=time_interval)\n",
    "\n",
    "# lets control the size in pixels too\n",
    "fig.layout.min_width = '960px'\n",
    "fig.layout.min_height = '640px'"
   ]
  },
  {
   "cell_type": "code",
   "execution_count": 140,
   "metadata": {},
   "outputs": [],
   "source": [
    "# we'll use our friend the int slider to slide through years\n",
    "# for silly:\n",
    "import ipywidgets\n",
    "year_slider = ipywidgets.IntSlider(min=1800, max=2008, step=1, description='Year', value=initial_year)"
   ]
  },
  {
   "cell_type": "code",
   "execution_count": 141,
   "metadata": {},
   "outputs": [],
   "source": [
    "# make sure we define what happens when we change the year on our slider\n",
    "def year_changed(change):\n",
    "    wealth_scat.x, wealth_scat.y, wealth_scat.size = get_data(data,year_slider.value,initial_year)\n",
    "    #wealth_scat.size+=1000\n",
    "    year_label.text = [str(year_slider.value)]\n",
    "\n",
    "year_slider.observe(year_changed, 'value')"
   ]
  },
  {
   "cell_type": "code",
   "execution_count": 142,
   "metadata": {},
   "outputs": [],
   "source": [
    "# now we'll say what happens when we hover over an object\n",
    "# we'll use \"change\" again to make it such that if a \n",
    "# user hovers over a country, the countries \"life line\" \n",
    "#  is visible\n",
    "def hover_changed(change):\n",
    "    if change.new is not None:\n",
    "        nation_line.x = data['income'][change.new + 1]\n",
    "        nation_line.y = data['lifeExpectancy'][change.new + 1]\n",
    "        nation_line.visible = True\n",
    "    else:\n",
    "        nation_line.visible = False\n",
    "        \n",
    "wealth_scat.observe(hover_changed, 'hovered_point')"
   ]
  },
  {
   "cell_type": "code",
   "execution_count": 143,
   "metadata": {},
   "outputs": [
    {
     "data": {
      "text/plain": [
       "Link(source=(Play(value=1800, interval=10, max=2008, min=1800), 'value'), target=(IntSlider(value=1800, descri…"
      ]
     },
     "metadata": {},
     "output_type": "display_data"
    }
   ],
   "source": [
    "# finally, lets add a little play button so we can animate\n",
    "#  what happens in time, just like on the d3.js plot\n",
    "play_button = ipywidgets.Play(min=1800, max=2008, interval=time_interval)\n",
    "# note, we use \"jslink\" because the \"backend\" here is javascript\n",
    "#  bqplot is just interacting with javascript\n",
    "ipywidgets.jslink((play_button, 'value'), (year_slider, 'value'))"
   ]
  },
  {
   "cell_type": "code",
   "execution_count": 144,
   "metadata": {},
   "outputs": [
    {
     "data": {
      "application/vnd.jupyter.widget-view+json": {
       "model_id": "cca05e75c66a488f95350cb0a90f39aa",
       "version_major": 2,
       "version_minor": 0
      },
      "text/plain": [
       "VBox(children=(HBox(children=(Play(value=1800, interval=10, max=2008, min=1800), IntSlider(value=1800, descrip…"
      ]
     },
     "metadata": {},
     "output_type": "display_data"
    }
   ],
   "source": [
    "# finally, lets put it all together!!\n",
    "\n",
    "ipywidgets.VBox([ipywidgets.HBox([play_button, year_slider]), fig])"
   ]
  },
  {
   "cell_type": "code",
   "execution_count": null,
   "metadata": {},
   "outputs": [],
   "source": []
  },
  {
   "cell_type": "code",
   "execution_count": null,
   "metadata": {},
   "outputs": [],
   "source": []
  },
  {
   "cell_type": "code",
   "execution_count": null,
   "metadata": {},
   "outputs": [],
   "source": []
  },
  {
   "cell_type": "code",
   "execution_count": null,
   "metadata": {},
   "outputs": [],
   "source": []
  },
  {
   "cell_type": "code",
   "execution_count": null,
   "metadata": {},
   "outputs": [],
   "source": []
  },
  {
   "cell_type": "code",
   "execution_count": null,
   "metadata": {},
   "outputs": [],
   "source": []
  }
 ],
 "metadata": {
  "kernelspec": {
   "display_name": "Python 3 (ipykernel)",
   "language": "python",
   "name": "python3"
  },
  "language_info": {
   "codemirror_mode": {
    "name": "ipython",
    "version": 3
   },
   "file_extension": ".py",
   "mimetype": "text/x-python",
   "name": "python",
   "nbconvert_exporter": "python",
   "pygments_lexer": "ipython3",
   "version": "3.10.14"
  }
 },
 "nbformat": 4,
 "nbformat_minor": 2
}
