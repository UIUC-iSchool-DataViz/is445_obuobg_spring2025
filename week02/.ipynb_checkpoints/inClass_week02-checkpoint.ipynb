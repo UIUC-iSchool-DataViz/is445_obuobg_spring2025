{
 "cells": [
  {
   "cell_type": "markdown",
   "id": "respective-store",
   "metadata": {},
   "source": [
    "# In Class Notebook, Week 02"
   ]
  },
  {
   "cell_type": "markdown",
   "id": "2a597611",
   "metadata": {},
   "source": [
    "You can access this notebook in near-real time by going here:\n",
    "\n",
    "https://github.com/UIUC-iSchool-DataViz/is445_obuobg_spring2025/blob/master/week02/inClass_week02.ipynb \n",
    "\n",
    "Or by pasting that URL into the nbviewer interface for a plain-text rendering:\n",
    "\n",
    "https://kokes.github.io/nbviewer.js/viewer.html"
   ]
  },
  {
   "cell_type": "code",
   "execution_count": 2,
   "id": "158f746d",
   "metadata": {},
   "outputs": [
    {
     "name": "stdout",
     "output_type": "stream",
     "text": [
      "hi there!\n"
     ]
    }
   ],
   "source": [
    "print(\"hi there!\") # I hit SHIFT+RETURN as the hot key to run this"
   ]
  },
  {
   "cell_type": "code",
   "execution_count": 3,
   "id": "54da189e",
   "metadata": {},
   "outputs": [
    {
     "data": {
      "text/plain": [
       "'hi there, again!'"
      ]
     },
     "execution_count": 3,
     "metadata": {},
     "output_type": "execute_result"
    }
   ],
   "source": [
    "\"hi there, again!\""
   ]
  },
  {
   "cell_type": "markdown",
   "id": "ad25082d-7fa1-4df6-8420-92bfdba77176",
   "metadata": {},
   "source": [
    "I hit `ESC+m` to make this a Markdown cell that I can write notes in."
   ]
  },
  {
   "cell_type": "code",
   "execution_count": null,
   "id": "663826be-23f6-427e-9a93-74e7acb27a0b",
   "metadata": {},
   "outputs": [],
   "source": []
  }
 ],
 "metadata": {
  "kernelspec": {
   "display_name": "Python 3 (ipykernel)",
   "language": "python",
   "name": "python3"
  },
  "language_info": {
   "codemirror_mode": {
    "name": "ipython",
    "version": 3
   },
   "file_extension": ".py",
   "mimetype": "text/x-python",
   "name": "python",
   "nbconvert_exporter": "python",
   "pygments_lexer": "ipython3",
   "version": "3.10.14"
  }
 },
 "nbformat": 4,
 "nbformat_minor": 5
}
