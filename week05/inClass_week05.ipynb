{
 "cells": [
  {
   "cell_type": "markdown",
   "id": "respective-store",
   "metadata": {},
   "source": [
    "# In Class Notebook, Week 05"
   ]
  },
  {
   "cell_type": "markdown",
   "id": "2a597611",
   "metadata": {},
   "source": [
    "You can click on the GitHub URL of this notebook to access the file in near-real time: https://github.com/UIUC-iSchool-DataViz/is445_obuobg_spring2025/blob/master/week05/inClass_week05.ipynb \n",
    "\n",
    "Or you can copy-paste into the nbviewer interface for a plain-text rendering:\n",
    "\n",
    "https://kokes.github.io/nbviewer.js/viewer.html"
   ]
  },
  {
   "cell_type": "code",
   "execution_count": 1,
   "id": "3bce0935-9907-4b6a-a4a2-6f74ececed9f",
   "metadata": {},
   "outputs": [],
   "source": [
    "import ipywidgets"
   ]
  },
  {
   "cell_type": "code",
   "execution_count": 2,
   "id": "78352e77",
   "metadata": {},
   "outputs": [],
   "source": [
    "islider = ipywidgets.IntSlider(min=0,max=10,step=1, orientation='vertical')"
   ]
  },
  {
   "cell_type": "code",
   "execution_count": 3,
   "id": "5be1ef4d",
   "metadata": {},
   "outputs": [
    {
     "data": {
      "application/vnd.jupyter.widget-view+json": {
       "model_id": "f75fe665e79542f8a22ad775accc105d",
       "version_major": 2,
       "version_minor": 0
      },
      "text/plain": [
       "IntSlider(value=0, max=10, orientation='vertical')"
      ]
     },
     "execution_count": 3,
     "metadata": {},
     "output_type": "execute_result"
    }
   ],
   "source": [
    "islider"
   ]
  },
  {
   "cell_type": "code",
   "execution_count": 4,
   "id": "726f4169-e9f1-45d4-8ec7-917ac8a5de48",
   "metadata": {},
   "outputs": [],
   "source": [
    "cp = ipywidgets.ColorPicker()"
   ]
  },
  {
   "cell_type": "code",
   "execution_count": 5,
   "id": "71105f0d-31fe-4214-a184-e3b81ac7b109",
   "metadata": {},
   "outputs": [
    {
     "data": {
      "application/vnd.jupyter.widget-view+json": {
       "model_id": "09978e358c7044678319033e8ba94c4d",
       "version_major": 2,
       "version_minor": 0
      },
      "text/plain": [
       "ColorPicker(value='black')"
      ]
     },
     "execution_count": 5,
     "metadata": {},
     "output_type": "execute_result"
    }
   ],
   "source": [
    "cp"
   ]
  },
  {
   "cell_type": "code",
   "execution_count": 6,
   "id": "fbb7bf46-d614-4dfe-8063-a4851419fea7",
   "metadata": {},
   "outputs": [
    {
     "data": {
      "text/plain": [
       "<traitlets.traitlets.link at 0x111d442c0>"
      ]
     },
     "execution_count": 6,
     "metadata": {},
     "output_type": "execute_result"
    }
   ],
   "source": [
    "ipywidgets.link( (cp,'value'), (islider.style, 'handle_color') )"
   ]
  },
  {
   "cell_type": "code",
   "execution_count": 7,
   "id": "0e4faf71-0e45-4eb3-b9fd-688f55b0aa5c",
   "metadata": {},
   "outputs": [],
   "source": [
    "class MyObject():\n",
    "    name = 'unnamed'\n",
    "    age = 0"
   ]
  },
  {
   "cell_type": "code",
   "execution_count": 8,
   "id": "23638e5a-9dc0-459b-a054-4ec55b1f09d7",
   "metadata": {},
   "outputs": [],
   "source": [
    "my_obj = MyObject()"
   ]
  },
  {
   "cell_type": "code",
   "execution_count": 9,
   "id": "73219403-7f19-4c3c-919f-4682f67b413e",
   "metadata": {},
   "outputs": [
    {
     "data": {
      "text/plain": [
       "('unnamed', 0)"
      ]
     },
     "execution_count": 9,
     "metadata": {},
     "output_type": "execute_result"
    }
   ],
   "source": [
    "my_obj.name, my_obj.age"
   ]
  },
  {
   "cell_type": "code",
   "execution_count": 10,
   "id": "fe0256bb-e74d-4327-95fb-163b2beffe70",
   "metadata": {},
   "outputs": [],
   "source": [
    "my_obj.name = \"Bob\"\n",
    "my_obj.age = 47"
   ]
  },
  {
   "cell_type": "code",
   "execution_count": 11,
   "id": "b251fd65-20f9-49b3-9da7-aec630fd0257",
   "metadata": {},
   "outputs": [
    {
     "data": {
      "text/plain": [
       "('Bob', 47)"
      ]
     },
     "execution_count": 11,
     "metadata": {},
     "output_type": "execute_result"
    }
   ],
   "source": [
    "my_obj.name, my_obj.age"
   ]
  },
  {
   "cell_type": "code",
   "execution_count": 12,
   "id": "2c925cb0-f5e3-4cd9-b1b3-0098734cb93b",
   "metadata": {},
   "outputs": [],
   "source": [
    "import traitlets"
   ]
  },
  {
   "cell_type": "code",
   "execution_count": 14,
   "id": "958d31a7-8241-4fd8-a0e6-de03a0e99e05",
   "metadata": {},
   "outputs": [],
   "source": [
    "# class MyObject():\n",
    "#     name = 'unnamed'\n",
    "#     age = 0\n",
    "\n",
    "class MyTraitletsObject(traitlets.HasTraits):\n",
    "    name = traitlets.Unicode('unnamed') # traitlets-specific way of saying \"string\"\n",
    "    age = traitlets.Int(0) # traitlets-specific way of saying \"int\""
   ]
  },
  {
   "cell_type": "code",
   "execution_count": 15,
   "id": "f55959b4-b3e3-4377-a859-e5a7fcf86b7a",
   "metadata": {},
   "outputs": [],
   "source": [
    "my_t_obj = MyTraitletsObject()"
   ]
  },
  {
   "cell_type": "code",
   "execution_count": 16,
   "id": "c83f03c4-c427-421b-bab2-44d9ffc9fa4b",
   "metadata": {},
   "outputs": [
    {
     "data": {
      "text/plain": [
       "('unnamed', 0)"
      ]
     },
     "execution_count": 16,
     "metadata": {},
     "output_type": "execute_result"
    }
   ],
   "source": [
    "my_t_obj.name, my_t_obj.age"
   ]
  },
  {
   "cell_type": "code",
   "execution_count": 17,
   "id": "62cd5da5-2e14-4014-98e9-ff4202859799",
   "metadata": {},
   "outputs": [],
   "source": [
    "my_t_obj.name = 'Bob'\n",
    "my_t_obj.age = 47"
   ]
  },
  {
   "cell_type": "code",
   "execution_count": 18,
   "id": "0062faad-8b17-4c64-91e2-d3623baa111d",
   "metadata": {},
   "outputs": [
    {
     "data": {
      "text/plain": [
       "('Bob', 47)"
      ]
     },
     "execution_count": 18,
     "metadata": {},
     "output_type": "execute_result"
    }
   ],
   "source": [
    "my_t_obj.name, my_t_obj.age"
   ]
  },
  {
   "cell_type": "code",
   "execution_count": 19,
   "id": "5649e74d-ae5d-4f47-adae-fc4c3805e8ca",
   "metadata": {},
   "outputs": [],
   "source": [
    "def name_changed(change):\n",
    "    print(change)\n",
    "\n",
    "my_t_obj.observe(name_changed, ['name']) # run function whenever name changes"
   ]
  },
  {
   "cell_type": "code",
   "execution_count": 20,
   "id": "af1fa32d-86a1-494d-9f2c-9e545e177d2e",
   "metadata": {},
   "outputs": [
    {
     "name": "stdout",
     "output_type": "stream",
     "text": [
      "{'name': 'name', 'old': 'Bob', 'new': 'Linda', 'owner': <__main__.MyTraitletsObject object at 0x11701c9e0>, 'type': 'change'}\n"
     ]
    }
   ],
   "source": [
    "my_t_obj.name = 'Linda'"
   ]
  },
  {
   "cell_type": "code",
   "execution_count": null,
   "id": "d7aa359a-7d72-4228-a965-d932645cb34c",
   "metadata": {},
   "outputs": [],
   "source": []
  }
 ],
 "metadata": {
  "kernelspec": {
   "display_name": "Python 3 (ipykernel)",
   "language": "python",
   "name": "python3"
  },
  "language_info": {
   "codemirror_mode": {
    "name": "ipython",
    "version": 3
   },
   "file_extension": ".py",
   "mimetype": "text/x-python",
   "name": "python",
   "nbconvert_exporter": "python",
   "pygments_lexer": "ipython3",
   "version": "3.12.2"
  }
 },
 "nbformat": 4,
 "nbformat_minor": 5
}
