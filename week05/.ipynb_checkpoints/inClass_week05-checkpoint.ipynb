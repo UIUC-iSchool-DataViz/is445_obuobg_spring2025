{
 "cells": [
  {
   "cell_type": "markdown",
   "id": "respective-store",
   "metadata": {},
   "source": [
    "# In Class Notebook, Week 05"
   ]
  },
  {
   "cell_type": "markdown",
   "id": "2a597611",
   "metadata": {},
   "source": [
    "You can click on the GitHub URL of this notebook to access the file in near-real time: https://github.com/UIUC-iSchool-DataViz/is445_obuobg_spring2025/blob/master/week05/inClass_week05.ipynb \n",
    "\n",
    "Or you can copy-paste into the nbviewer interface for a plain-text rendering:\n",
    "\n",
    "https://kokes.github.io/nbviewer.js/viewer.html"
   ]
  },
  {
   "cell_type": "code",
   "execution_count": 1,
   "id": "3bce0935-9907-4b6a-a4a2-6f74ececed9f",
   "metadata": {},
   "outputs": [],
   "source": [
    "import ipywidgets"
   ]
  },
  {
   "cell_type": "code",
   "execution_count": 2,
   "id": "78352e77",
   "metadata": {},
   "outputs": [],
   "source": [
    "islider = ipywidgets.IntSlider(min=0,max=10,step=1, orientation='vertical')"
   ]
  },
  {
   "cell_type": "code",
   "execution_count": 3,
   "id": "5be1ef4d",
   "metadata": {},
   "outputs": [
    {
     "data": {
      "application/vnd.jupyter.widget-view+json": {
       "model_id": "f75fe665e79542f8a22ad775accc105d",
       "version_major": 2,
       "version_minor": 0
      },
      "text/plain": [
       "IntSlider(value=0, max=10, orientation='vertical')"
      ]
     },
     "execution_count": 3,
     "metadata": {},
     "output_type": "execute_result"
    }
   ],
   "source": [
    "islider"
   ]
  },
  {
   "cell_type": "code",
   "execution_count": 4,
   "id": "726f4169-e9f1-45d4-8ec7-917ac8a5de48",
   "metadata": {},
   "outputs": [],
   "source": [
    "cp = ipywidgets.ColorPicker()"
   ]
  },
  {
   "cell_type": "code",
   "execution_count": 5,
   "id": "71105f0d-31fe-4214-a184-e3b81ac7b109",
   "metadata": {},
   "outputs": [
    {
     "data": {
      "application/vnd.jupyter.widget-view+json": {
       "model_id": "09978e358c7044678319033e8ba94c4d",
       "version_major": 2,
       "version_minor": 0
      },
      "text/plain": [
       "ColorPicker(value='black')"
      ]
     },
     "execution_count": 5,
     "metadata": {},
     "output_type": "execute_result"
    }
   ],
   "source": [
    "cp"
   ]
  },
  {
   "cell_type": "code",
   "execution_count": 6,
   "id": "fbb7bf46-d614-4dfe-8063-a4851419fea7",
   "metadata": {},
   "outputs": [
    {
     "data": {
      "text/plain": [
       "<traitlets.traitlets.link at 0x111d442c0>"
      ]
     },
     "execution_count": 6,
     "metadata": {},
     "output_type": "execute_result"
    }
   ],
   "source": [
    "ipywidgets.link( (cp,'value'), (islider.style, 'handle_color') )"
   ]
  },
  {
   "cell_type": "code",
   "execution_count": 7,
   "id": "0e4faf71-0e45-4eb3-b9fd-688f55b0aa5c",
   "metadata": {},
   "outputs": [],
   "source": [
    "class MyObject():\n",
    "    name = 'unnamed'\n",
    "    age = 0"
   ]
  },
  {
   "cell_type": "code",
   "execution_count": 8,
   "id": "23638e5a-9dc0-459b-a054-4ec55b1f09d7",
   "metadata": {},
   "outputs": [],
   "source": [
    "my_obj = MyObject()"
   ]
  },
  {
   "cell_type": "code",
   "execution_count": 9,
   "id": "73219403-7f19-4c3c-919f-4682f67b413e",
   "metadata": {},
   "outputs": [
    {
     "data": {
      "text/plain": [
       "('unnamed', 0)"
      ]
     },
     "execution_count": 9,
     "metadata": {},
     "output_type": "execute_result"
    }
   ],
   "source": [
    "my_obj.name, my_obj.age"
   ]
  },
  {
   "cell_type": "code",
   "execution_count": 10,
   "id": "fe0256bb-e74d-4327-95fb-163b2beffe70",
   "metadata": {},
   "outputs": [],
   "source": [
    "my_obj.name = \"Bob\"\n",
    "my_obj.age = 47"
   ]
  },
  {
   "cell_type": "code",
   "execution_count": 11,
   "id": "b251fd65-20f9-49b3-9da7-aec630fd0257",
   "metadata": {},
   "outputs": [
    {
     "data": {
      "text/plain": [
       "('Bob', 47)"
      ]
     },
     "execution_count": 11,
     "metadata": {},
     "output_type": "execute_result"
    }
   ],
   "source": [
    "my_obj.name, my_obj.age"
   ]
  },
  {
   "cell_type": "code",
   "execution_count": 12,
   "id": "2c925cb0-f5e3-4cd9-b1b3-0098734cb93b",
   "metadata": {},
   "outputs": [],
   "source": [
    "import traitlets"
   ]
  },
  {
   "cell_type": "code",
   "execution_count": 14,
   "id": "958d31a7-8241-4fd8-a0e6-de03a0e99e05",
   "metadata": {},
   "outputs": [],
   "source": [
    "# class MyObject():\n",
    "#     name = 'unnamed'\n",
    "#     age = 0\n",
    "\n",
    "class MyTraitletsObject(traitlets.HasTraits):\n",
    "    name = traitlets.Unicode('unnamed') # traitlets-specific way of saying \"string\"\n",
    "    age = traitlets.Int(0) # traitlets-specific way of saying \"int\""
   ]
  },
  {
   "cell_type": "code",
   "execution_count": 15,
   "id": "f55959b4-b3e3-4377-a859-e5a7fcf86b7a",
   "metadata": {},
   "outputs": [],
   "source": [
    "my_t_obj = MyTraitletsObject()"
   ]
  },
  {
   "cell_type": "code",
   "execution_count": 16,
   "id": "c83f03c4-c427-421b-bab2-44d9ffc9fa4b",
   "metadata": {},
   "outputs": [
    {
     "data": {
      "text/plain": [
       "('unnamed', 0)"
      ]
     },
     "execution_count": 16,
     "metadata": {},
     "output_type": "execute_result"
    }
   ],
   "source": [
    "my_t_obj.name, my_t_obj.age"
   ]
  },
  {
   "cell_type": "code",
   "execution_count": 17,
   "id": "62cd5da5-2e14-4014-98e9-ff4202859799",
   "metadata": {},
   "outputs": [],
   "source": [
    "my_t_obj.name = 'Bob'\n",
    "my_t_obj.age = 47"
   ]
  },
  {
   "cell_type": "code",
   "execution_count": 18,
   "id": "0062faad-8b17-4c64-91e2-d3623baa111d",
   "metadata": {},
   "outputs": [
    {
     "data": {
      "text/plain": [
       "('Bob', 47)"
      ]
     },
     "execution_count": 18,
     "metadata": {},
     "output_type": "execute_result"
    }
   ],
   "source": [
    "my_t_obj.name, my_t_obj.age"
   ]
  },
  {
   "cell_type": "code",
   "execution_count": 19,
   "id": "5649e74d-ae5d-4f47-adae-fc4c3805e8ca",
   "metadata": {},
   "outputs": [],
   "source": [
    "def name_changed(change):\n",
    "    print(change)\n",
    "\n",
    "my_t_obj.observe(name_changed, ['name']) # run function whenever name changes"
   ]
  },
  {
   "cell_type": "code",
   "execution_count": 20,
   "id": "af1fa32d-86a1-494d-9f2c-9e545e177d2e",
   "metadata": {},
   "outputs": [
    {
     "name": "stdout",
     "output_type": "stream",
     "text": [
      "{'name': 'name', 'old': 'Bob', 'new': 'Linda', 'owner': <__main__.MyTraitletsObject object at 0x11701c9e0>, 'type': 'change'}\n"
     ]
    }
   ],
   "source": [
    "my_t_obj.name = 'Linda'"
   ]
  },
  {
   "cell_type": "code",
   "execution_count": 21,
   "id": "d7aa359a-7d72-4228-a965-d932645cb34c",
   "metadata": {},
   "outputs": [],
   "source": [
    "def name_changed2(change):\n",
    "    #print(change)\n",
    "    print(\"Hello, my name is\", change['new'], 'and I am', change['owner'].age, 'years old.')\n",
    "\n",
    "my_t_obj.observe(name_changed2, ['name']) # run function whenever name changes"
   ]
  },
  {
   "cell_type": "code",
   "execution_count": 22,
   "id": "f6165fdc-56b1-4951-815c-66b74b369beb",
   "metadata": {},
   "outputs": [
    {
     "name": "stdout",
     "output_type": "stream",
     "text": [
      "{'name': 'name', 'old': 'Linda', 'new': 'Bob', 'owner': <__main__.MyTraitletsObject object at 0x11701c9e0>, 'type': 'change'}\n",
      "Hello, my name is Bob and I am 47 years old.\n"
     ]
    }
   ],
   "source": [
    "my_t_obj.name = 'Bob'"
   ]
  },
  {
   "cell_type": "code",
   "execution_count": 23,
   "id": "98bb0125-9faa-419b-8882-8df64d604af0",
   "metadata": {},
   "outputs": [],
   "source": [
    "my_t_obj.unobserve(name_changed, ['name'])"
   ]
  },
  {
   "cell_type": "code",
   "execution_count": 24,
   "id": "47004df0-de5d-4876-bab8-09e91fa16b12",
   "metadata": {},
   "outputs": [
    {
     "name": "stdout",
     "output_type": "stream",
     "text": [
      "Hello, my name is Linda and I am 47 years old.\n"
     ]
    }
   ],
   "source": [
    "my_t_obj.name = 'Linda'"
   ]
  },
  {
   "cell_type": "code",
   "execution_count": 26,
   "id": "0712aeb6-2e19-4e9b-a15f-34bd161776b3",
   "metadata": {},
   "outputs": [],
   "source": [
    "# include a print statement for changing the age\n",
    "def age_changed(change):\n",
    "    #print(\"Hello, my name is\", change['new'], 'and I am', change['owner'].age, 'years old.')\n",
    "    print(\"Hello, my name is\", change['owner'].name, 'and I am', change['new'], 'years old.')\n",
    "\n",
    "my_t_obj.observe(age_changed, ['age'])    "
   ]
  },
  {
   "cell_type": "code",
   "execution_count": 27,
   "id": "04f863c6-e127-4c98-acf2-cf58c88c344d",
   "metadata": {},
   "outputs": [
    {
     "name": "stdout",
     "output_type": "stream",
     "text": [
      "Hello, my name is Linda and I am 45 years old.\n"
     ]
    }
   ],
   "source": [
    "my_t_obj.age = 45"
   ]
  },
  {
   "cell_type": "code",
   "execution_count": 30,
   "id": "246b3d82-f757-40ee-98de-7a74c7c9fac7",
   "metadata": {},
   "outputs": [
    {
     "name": "stdout",
     "output_type": "stream",
     "text": [
      "Hello, my name is Louise and I am 8 years old.\n"
     ]
    }
   ],
   "source": [
    "my_t_obj.name = 'Louise'; my_t_obj.age = 8"
   ]
  },
  {
   "cell_type": "code",
   "execution_count": 31,
   "id": "3cf823b9-dcae-48f1-82c5-c31af286f267",
   "metadata": {},
   "outputs": [
    {
     "name": "stdout",
     "output_type": "stream",
     "text": [
      "Hello, my name is Linda and I am 8 years old.\n",
      "Hello, my name is Linda and I am 45 years old.\n"
     ]
    }
   ],
   "source": [
    "my_t_obj.name, my_t_obj.age = 'Linda', 45"
   ]
  },
  {
   "cell_type": "markdown",
   "id": "e0b610bf-61a7-4572-85bc-30579832ee03",
   "metadata": {},
   "source": [
    "## Intro to bqplot"
   ]
  },
  {
   "cell_type": "code",
   "execution_count": 1,
   "id": "6f4934fa-02dc-421c-8916-0e7ae8d77f36",
   "metadata": {},
   "outputs": [],
   "source": [
    "import bqplot"
   ]
  },
  {
   "cell_type": "code",
   "execution_count": 2,
   "id": "cebd3f73-faf1-4769-a947-d1dfa54005ff",
   "metadata": {},
   "outputs": [],
   "source": [
    "import numpy as np"
   ]
  },
  {
   "cell_type": "code",
   "execution_count": 3,
   "id": "4d8c1924-1442-4944-a4f3-2e0d8730311d",
   "metadata": {},
   "outputs": [],
   "source": [
    "# 1. Make/read in data\n",
    "x = np.arange(100) \n",
    "y = np.random.random(100)"
   ]
  },
  {
   "cell_type": "code",
   "execution_count": 6,
   "id": "008f1f60-fa21-40a2-a62c-b2b910d3e144",
   "metadata": {},
   "outputs": [],
   "source": [
    "#x"
   ]
  },
  {
   "cell_type": "code",
   "execution_count": 7,
   "id": "3285188e-1bfb-48d2-8672-ff8b48b09dc7",
   "metadata": {},
   "outputs": [],
   "source": [
    "#y"
   ]
  },
  {
   "cell_type": "code",
   "execution_count": 8,
   "id": "f76c1821-1bc4-430d-9548-9a37a3419fae",
   "metadata": {},
   "outputs": [
    {
     "data": {
      "text/plain": [
       "\u001b[0;31mInit signature:\u001b[0m \u001b[0mbqplot\u001b[0m\u001b[0;34m.\u001b[0m\u001b[0mLinearScale\u001b[0m\u001b[0;34m(\u001b[0m\u001b[0;34m*\u001b[0m\u001b[0margs\u001b[0m\u001b[0;34m:\u001b[0m \u001b[0;34m't.Any'\u001b[0m\u001b[0;34m,\u001b[0m \u001b[0;34m**\u001b[0m\u001b[0mkwargs\u001b[0m\u001b[0;34m:\u001b[0m \u001b[0;34m't.Any'\u001b[0m\u001b[0;34m)\u001b[0m \u001b[0;34m->\u001b[0m \u001b[0;34m't.Any'\u001b[0m\u001b[0;34m\u001b[0m\u001b[0;34m\u001b[0m\u001b[0m\n",
       "\u001b[0;31mDocstring:\u001b[0m     \n",
       "A linear scale.\n",
       "\n",
       "An affine mapping from a numerical domain to a numerical range.\n",
       "\n",
       "Attributes\n",
       "----------\n",
       "min: float or None (default: None)\n",
       "    if not None, min is the minimal value of the domain\n",
       "max: float or None (default: None)\n",
       "    if not None, max is the maximal value of the domain\n",
       "rtype: string (class-level attribute)\n",
       "    This attribute should not be modified. The range type of a linear\n",
       "    scale is numerical.\n",
       "dtype: type (class-level attribute)\n",
       "    the associated data type / domain type\n",
       "precedence: int (class-level attribute, default_value=2)\n",
       "    attribute used to determine which scale takes precedence in cases when\n",
       "    two or more scales have the same rtype and dtype.\n",
       "    default_value is 2 because for the same range and domain types,\n",
       "    LinearScale should take precedence.\n",
       "stabilized: bool (default: False)\n",
       "    if set to False, the domain of the scale is tied to the data range\n",
       "    if set to True, the domain of the scale is updated only when\n",
       "    the data range is beyond certain thresholds, given by the attributes\n",
       "    mid_range and min_range.\n",
       "mid_range: float (default: 0.8)\n",
       "    Proportion of the range that is spanned initially.\n",
       "    Used only if stabilized is True.\n",
       "min_range: float (default: 0.6)\n",
       "    Minimum proportion of the range that should be spanned by the data.\n",
       "    If the data span falls beneath that level, the scale is reset.\n",
       "    min_range must be <= mid_range.\n",
       "    Used only if stabilized is True.\n",
       "\u001b[0;31mInit docstring:\u001b[0m Public constructor\n",
       "\u001b[0;31mFile:\u001b[0m           /opt/anaconda3/envs/DataViz2/lib/python3.10/site-packages/bqplot/scales.py\n",
       "\u001b[0;31mType:\u001b[0m           MetaHasTraits\n",
       "\u001b[0;31mSubclasses:\u001b[0m     "
      ]
     },
     "metadata": {},
     "output_type": "display_data"
    }
   ],
   "source": [
    "# 2. Scales\n",
    "bqplot.LinearScale?"
   ]
  },
  {
   "cell_type": "code",
   "execution_count": 9,
   "id": "0d8215d9-3f81-471b-b685-56ff55026318",
   "metadata": {},
   "outputs": [],
   "source": [
    "x_sc = bqplot.LinearScale()\n",
    "y_sc = bqplot.LinearScale()"
   ]
  },
  {
   "cell_type": "code",
   "execution_count": 10,
   "id": "d5c8d232-758b-485d-9fbd-027e8c54cc38",
   "metadata": {},
   "outputs": [
    {
     "data": {
      "text/plain": [
       "\u001b[0;31mInit signature:\u001b[0m \u001b[0mbqplot\u001b[0m\u001b[0;34m.\u001b[0m\u001b[0mAxis\u001b[0m\u001b[0;34m(\u001b[0m\u001b[0;34m*\u001b[0m\u001b[0margs\u001b[0m\u001b[0;34m:\u001b[0m \u001b[0;34m't.Any'\u001b[0m\u001b[0;34m,\u001b[0m \u001b[0;34m**\u001b[0m\u001b[0mkwargs\u001b[0m\u001b[0;34m:\u001b[0m \u001b[0;34m't.Any'\u001b[0m\u001b[0;34m)\u001b[0m \u001b[0;34m->\u001b[0m \u001b[0;34m't.Any'\u001b[0m\u001b[0;34m\u001b[0m\u001b[0;34m\u001b[0m\u001b[0m\n",
       "\u001b[0;31mDocstring:\u001b[0m     \n",
       "A line axis.\n",
       "\n",
       "A line axis is the visual representation of a numerical or date scale.\n",
       "\n",
       "Attributes\n",
       "----------\n",
       "icon: string (class-level attribute)\n",
       "    The font-awesome icon name for this object.\n",
       "axis_types: dict (class-level attribute)\n",
       "    A registry of existing axis types.\n",
       "orientation: {'horizontal', 'vertical'}\n",
       "    The orientation of the axis, either vertical or horizontal\n",
       "side: {'bottom', 'top', 'left', 'right'} or None (default: None)\n",
       "    The side of the axis, either bottom, top, left or right.\n",
       "label: string (default: '')\n",
       "    The axis label\n",
       "tick_format: string or None (default: '')\n",
       "    The tick format for the axis, for dates use d3 string formatting.\n",
       "scale: Scale\n",
       "    The scale represented by the axis\n",
       "num_ticks: int or None (default: None)\n",
       "    If tick_values is None, number of ticks\n",
       "tick_values: numpy.ndarray or None (default: None)\n",
       "    Tick values for the axis\n",
       "offset: dict (default: {})\n",
       "    Contains a scale and a value {'scale': scale or None,\n",
       "    'value': value of the offset}\n",
       "    If offset['scale'] is None, the corresponding figure scale is used\n",
       "    instead.\n",
       "label_location: {'middle', 'start', 'end'}\n",
       "    The location of the label along the axis, one of 'start', 'end' or\n",
       "    'middle'\n",
       "label_color: Color or None (default: None)\n",
       "    The color of the axis label\n",
       "grid_lines: {'none', 'solid', 'dashed'}\n",
       "    The display of the grid lines\n",
       "grid_color: Color or None (default: None)\n",
       "    The color of the grid lines\n",
       "color: Color or None (default: None)\n",
       "    The color of the line\n",
       "label_offset: string or None (default: None)\n",
       "    Label displacement from the axis line. Units allowed are 'em', 'px'\n",
       "    and 'ex'. Positive values are away from the figure and negative\n",
       "    values are towards the figure with respect to the axis line.\n",
       "visible: bool (default: True)\n",
       "    A visibility toggle for the axis\n",
       "tick_style: Dict (default: {})\n",
       "    Dictionary containing the CSS-style of the text for the ticks.\n",
       "    For example: font-size of the text can be changed by passing\n",
       "    `{'font-size': 14}`\n",
       "tick_rotate: int (default: 0)\n",
       "    Degrees to rotate tick labels by.\n",
       "\u001b[0;31mInit docstring:\u001b[0m Public constructor\n",
       "\u001b[0;31mFile:\u001b[0m           /opt/anaconda3/envs/DataViz2/lib/python3.10/site-packages/bqplot/axes.py\n",
       "\u001b[0;31mType:\u001b[0m           MetaHasTraits\n",
       "\u001b[0;31mSubclasses:\u001b[0m     ColorAxis"
      ]
     },
     "metadata": {},
     "output_type": "display_data"
    }
   ],
   "source": [
    "# 3. Axis \n",
    "bqplot.Axis?"
   ]
  },
  {
   "cell_type": "code",
   "execution_count": 11,
   "id": "81afb847-9972-4116-85f3-ef412ea19aa4",
   "metadata": {},
   "outputs": [],
   "source": [
    "ax_x = bqplot.Axis(scale=x_sc, label='X Value')\n",
    "ax_y = bqplot.Axis(scale=y_sc, label='Y Value', orientation='vertical')"
   ]
  },
  {
   "cell_type": "code",
   "execution_count": 12,
   "id": "90fd2cc7-7716-4d9d-a402-5d3e9f87566b",
   "metadata": {},
   "outputs": [
    {
     "data": {
      "text/plain": [
       "\u001b[0;31mInit signature:\u001b[0m \u001b[0mbqplot\u001b[0m\u001b[0;34m.\u001b[0m\u001b[0mLines\u001b[0m\u001b[0;34m(\u001b[0m\u001b[0;34m*\u001b[0m\u001b[0margs\u001b[0m\u001b[0;34m:\u001b[0m \u001b[0;34m't.Any'\u001b[0m\u001b[0;34m,\u001b[0m \u001b[0;34m**\u001b[0m\u001b[0mkwargs\u001b[0m\u001b[0;34m:\u001b[0m \u001b[0;34m't.Any'\u001b[0m\u001b[0;34m)\u001b[0m \u001b[0;34m->\u001b[0m \u001b[0;34m't.Any'\u001b[0m\u001b[0;34m\u001b[0m\u001b[0;34m\u001b[0m\u001b[0m\n",
       "\u001b[0;31mDocstring:\u001b[0m     \n",
       "Lines mark.\n",
       "\n",
       "In the case of the Lines mark, scales for 'x' and 'y' MUST be provided.\n",
       "\n",
       "Attributes\n",
       "----------\n",
       "icon: string (class-level attribute)\n",
       "    Font-awesome icon for the respective mark\n",
       "name: string (class-level attribute)\n",
       "    User-friendly name of the mark\n",
       "colors: list of colors (default: CATEGORY10)\n",
       "    List of colors of the Lines. If the list is shorter than the number\n",
       "    of lines, the colors are reused.\n",
       "close_path: bool (default: False)\n",
       "    Whether to close the paths or not.\n",
       "fill: {'none', 'bottom', 'top', 'inside', 'between'}\n",
       "    Fill in the area defined by the curves\n",
       "fill_colors: list of colors (default: [])\n",
       "    Fill colors for the areas. Defaults to stroke-colors when no\n",
       "    color provided\n",
       "opacities: list of floats (default: [])\n",
       "    Opacity for the  lines and patches. Defaults to 1 when the list is too\n",
       "    short, or the element of the list is set to None.\n",
       "fill_opacities: list of floats (default: [])\n",
       "    Opacity for the areas. Defaults to 1 when the list is too\n",
       "    short, or the element of the list is set to None.\n",
       "stroke_width: float (default: 2)\n",
       "    Stroke width of the Lines\n",
       "labels_visibility: {'none', 'label'}\n",
       "    Visibility of the curve labels\n",
       "curves_subset: list of integers or None (default: [])\n",
       "    If set to None, all the lines are displayed. Otherwise, only the items\n",
       "    in the list will have full opacity, while others will be faded.\n",
       "line_style: {'solid', 'dashed', 'dotted', 'dash_dotted'}\n",
       "    Line style.\n",
       "interpolation: {'linear', 'basis', 'cardinal', 'monotone'}\n",
       "    Interpolation scheme used for interpolation between the data points\n",
       "    provided. Please refer to the svg interpolate documentation for details\n",
       "    about the different interpolation schemes.\n",
       "marker: {'circle', 'cross', 'diamond', 'square', 'triangle-down', 'triangle-up', 'arrow', 'rectangle', 'ellipse'}\n",
       "    Marker shape\n",
       "marker_size: nonnegative int (default: 64)\n",
       "    Default marker size in pixels\n",
       "\n",
       "Data Attributes\n",
       "\n",
       "x: numpy.ndarray (default: [])\n",
       "    abscissas of the data points (1d or 2d array)\n",
       "y: numpy.ndarray (default: [])\n",
       "    ordinates of the data points (1d or 2d array)\n",
       "color: numpy.ndarray (default: None)\n",
       "    colors of the different lines based on data. If it is [], then the\n",
       "    colors from the colors attribute are used. Each line has a single color\n",
       "    and if the size of colors is less than the number of lines, the\n",
       "    remaining lines are given the default colors.\n",
       "\n",
       "Notes\n",
       "-----\n",
       "The fields which can be passed to the default tooltip are:\n",
       "    name: label of the line\n",
       "    index: index of the line being hovered on\n",
       "    color: data attribute for the color of the line\n",
       "The following are the events which can trigger interactions:\n",
       "    click: left click of the mouse\n",
       "    hover: mouse-over an element\n",
       "The following are the interactions which can be linked to the above events:\n",
       "    tooltip: display tooltip\n",
       "\u001b[0;31mInit docstring:\u001b[0m Public constructor\n",
       "\u001b[0;31mFile:\u001b[0m           /opt/anaconda3/envs/DataViz2/lib/python3.10/site-packages/bqplot/marks.py\n",
       "\u001b[0;31mType:\u001b[0m           MetaHasTraits\n",
       "\u001b[0;31mSubclasses:\u001b[0m     "
      ]
     },
     "metadata": {},
     "output_type": "display_data"
    }
   ],
   "source": [
    "# 4. Marks (sometimes this swaps with Axis)\n",
    "bqplot.Lines?"
   ]
  },
  {
   "cell_type": "code",
   "execution_count": 13,
   "id": "c83a65df-5a8b-4d19-bec3-57dea88ad0f6",
   "metadata": {},
   "outputs": [],
   "source": [
    "lines = bqplot.Lines(x=x,y=y, scales = {'x':x_sc, 'y':y_sc})"
   ]
  },
  {
   "cell_type": "code",
   "execution_count": 14,
   "id": "2888139f-5543-4ecd-91ba-16d6fcd213ab",
   "metadata": {},
   "outputs": [],
   "source": [
    "# 5. interactivity would happen around here"
   ]
  },
  {
   "cell_type": "code",
   "execution_count": 15,
   "id": "72e51b13-d067-497e-998d-62dceefaf488",
   "metadata": {},
   "outputs": [],
   "source": [
    "# 6. put it all together into a figure\n",
    "fig = bqplot.Figure(marks=[lines], axes=[ax_x, ax_y])"
   ]
  },
  {
   "cell_type": "code",
   "execution_count": 16,
   "id": "e3db23b3-2c51-4387-9dfe-47a47f366384",
   "metadata": {},
   "outputs": [
    {
     "data": {
      "application/vnd.jupyter.widget-view+json": {
       "model_id": "88c2c7ca65f1458389c3028d49a0169d",
       "version_major": 2,
       "version_minor": 0
      },
      "text/plain": [
       "Figure(axes=[Axis(label='X Value', scale=LinearScale(), side='bottom'), Axis(label='Y Value', orientation='ver…"
      ]
     },
     "metadata": {},
     "output_type": "display_data"
    }
   ],
   "source": [
    "fig"
   ]
  },
  {
   "cell_type": "code",
   "execution_count": null,
   "id": "be98c9cb-15a6-4f29-b1c4-ab815c3fc7eb",
   "metadata": {},
   "outputs": [],
   "source": []
  }
 ],
 "metadata": {
  "kernelspec": {
   "display_name": "Python 3 (ipykernel)",
   "language": "python",
   "name": "python3"
  },
  "language_info": {
   "codemirror_mode": {
    "name": "ipython",
    "version": 3
   },
   "file_extension": ".py",
   "mimetype": "text/x-python",
   "name": "python",
   "nbconvert_exporter": "python",
   "pygments_lexer": "ipython3",
   "version": "3.10.14"
  }
 },
 "nbformat": 4,
 "nbformat_minor": 5
}
