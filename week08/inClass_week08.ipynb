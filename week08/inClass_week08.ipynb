{
 "cells": [
  {
   "cell_type": "markdown",
   "id": "respective-store",
   "metadata": {},
   "source": [
    "# In Class Notebook, Week 08"
   ]
  },
  {
   "cell_type": "markdown",
   "id": "patent-merit",
   "metadata": {},
   "source": [
    "To access this in near-real time try: https://github.com/UIUC-iSchool-DataViz/is445_obuobg_spring2025/blob/master/week08/inClass_week08.ipynb\n",
    "\n",
    "Or paste this URL into the nbviewer interface for a plain-text rendering:\n",
    "\n",
    "https://kokes.github.io/nbviewer.js/viewer.html"
   ]
  },
  {
   "cell_type": "markdown",
   "id": "8b4b605c-5467-42c2-b0ea-2a956a607347",
   "metadata": {},
   "source": [
    "First we will start with the vega-editor and then come back here!"
   ]
  },
  {
   "cell_type": "markdown",
   "id": "79a74cac-d6f4-4593-bfca-99dba89578cf",
   "metadata": {},
   "source": [
    "## Copying from Vega-Editor (but using Altair)\n",
    "\n",
    "```javascript\n",
    "{\n",
    "  \"$schema\": \"https://vega.github.io/schema/vega-lite/v5.json\",\n",
    "  \"width\": 300, \"height\": 200,\n",
    "  \"data\": {\"url\": \"data/unemployment-across-industries.json\"},\n",
    "  \"mark\": \"area\",\n",
    "  \"encoding\": {\n",
    "    \"x\": {\n",
    "      \"timeUnit\": \"yearmonth\", \"field\": \"date\",\n",
    "      \"axis\": {\"format\": \"%Y\"}\n",
    "    },\n",
    "    \"y\": {\n",
    "      \"aggregate\": \"sum\", \"field\": \"count\"\n",
    "    },\n",
    "    \"color\": {\n",
    "      \"field\": \"series\",\n",
    "      \"scale\": {\"scheme\": \"category20b\"}\n",
    "    }\n",
    "  }\n",
    "}\n",
    "```"
   ]
  },
  {
   "cell_type": "code",
   "execution_count": 1,
   "id": "b0aa79ad",
   "metadata": {},
   "outputs": [],
   "source": [
    "import altair as alt"
   ]
  },
  {
   "cell_type": "code",
   "execution_count": 4,
   "id": "169116fc",
   "metadata": {},
   "outputs": [
    {
     "data": {
      "text/html": [
       "\n",
       "<style>\n",
       "  #altair-viz-ab7e9b7edbde42118a6751e1b853b4f1.vega-embed {\n",
       "    width: 100%;\n",
       "    display: flex;\n",
       "  }\n",
       "\n",
       "  #altair-viz-ab7e9b7edbde42118a6751e1b853b4f1.vega-embed details,\n",
       "  #altair-viz-ab7e9b7edbde42118a6751e1b853b4f1.vega-embed details summary {\n",
       "    position: relative;\n",
       "  }\n",
       "</style>\n",
       "<div id=\"altair-viz-ab7e9b7edbde42118a6751e1b853b4f1\"></div>\n",
       "<script type=\"text/javascript\">\n",
       "  var VEGA_DEBUG = (typeof VEGA_DEBUG == \"undefined\") ? {} : VEGA_DEBUG;\n",
       "  (function(spec, embedOpt){\n",
       "    let outputDiv = document.currentScript.previousElementSibling;\n",
       "    if (outputDiv.id !== \"altair-viz-ab7e9b7edbde42118a6751e1b853b4f1\") {\n",
       "      outputDiv = document.getElementById(\"altair-viz-ab7e9b7edbde42118a6751e1b853b4f1\");\n",
       "    }\n",
       "    const paths = {\n",
       "      \"vega\": \"https://cdn.jsdelivr.net/npm/vega@5?noext\",\n",
       "      \"vega-lib\": \"https://cdn.jsdelivr.net/npm/vega-lib?noext\",\n",
       "      \"vega-lite\": \"https://cdn.jsdelivr.net/npm/vega-lite@5.20.1?noext\",\n",
       "      \"vega-embed\": \"https://cdn.jsdelivr.net/npm/vega-embed@6?noext\",\n",
       "    };\n",
       "\n",
       "    function maybeLoadScript(lib, version) {\n",
       "      var key = `${lib.replace(\"-\", \"\")}_version`;\n",
       "      return (VEGA_DEBUG[key] == version) ?\n",
       "        Promise.resolve(paths[lib]) :\n",
       "        new Promise(function(resolve, reject) {\n",
       "          var s = document.createElement('script');\n",
       "          document.getElementsByTagName(\"head\")[0].appendChild(s);\n",
       "          s.async = true;\n",
       "          s.onload = () => {\n",
       "            VEGA_DEBUG[key] = version;\n",
       "            return resolve(paths[lib]);\n",
       "          };\n",
       "          s.onerror = () => reject(`Error loading script: ${paths[lib]}`);\n",
       "          s.src = paths[lib];\n",
       "        });\n",
       "    }\n",
       "\n",
       "    function showError(err) {\n",
       "      outputDiv.innerHTML = `<div class=\"error\" style=\"color:red;\">${err}</div>`;\n",
       "      throw err;\n",
       "    }\n",
       "\n",
       "    function displayChart(vegaEmbed) {\n",
       "      vegaEmbed(outputDiv, spec, embedOpt)\n",
       "        .catch(err => showError(`Javascript Error: ${err.message}<br>This usually means there's a typo in your chart specification. See the javascript console for the full traceback.`));\n",
       "    }\n",
       "\n",
       "    if(typeof define === \"function\" && define.amd) {\n",
       "      requirejs.config({paths});\n",
       "      require([\"vega-embed\"], displayChart, err => showError(`Error loading script: ${err.message}`));\n",
       "    } else {\n",
       "      maybeLoadScript(\"vega\", \"5\")\n",
       "        .then(() => maybeLoadScript(\"vega-lite\", \"5.20.1\"))\n",
       "        .then(() => maybeLoadScript(\"vega-embed\", \"6\"))\n",
       "        .catch(showError)\n",
       "        .then(() => displayChart(vegaEmbed));\n",
       "    }\n",
       "  })({\"config\": {\"view\": {\"continuousWidth\": 300, \"continuousHeight\": 300}}, \"data\": {\"url\": \"https://raw.githubusercontent.com/vega/vega-datasets/refs/heads/master/data/unemployment-across-industries.json\"}, \"mark\": \"area\", \"encoding\": {\"color\": {\"field\": \"series\", \"scale\": {\"scheme\": \"category20b\"}}, \"x\": {\"axis\": {\"format\": \"%Y\"}, \"field\": \"date\", \"timeUnit\": \"yearmonth\"}, \"y\": {\"aggregate\": \"sum\", \"field\": \"count\"}}, \"height\": 200, \"width\": 300, \"$schema\": \"https://vega.github.io/schema/vega-lite/v5.20.1.json\"}, {\"mode\": \"vega-lite\"});\n",
       "</script>"
      ],
      "text/plain": [
       "alt.Chart(...)"
      ]
     },
     "execution_count": 4,
     "metadata": {},
     "output_type": "execute_result"
    }
   ],
   "source": [
    "chart1 = alt.Chart.from_dict({\n",
    "  #\"$schema\": \"https://vega.github.io/schema/vega-lite/v5.json\",\n",
    "  \"width\": 300, \"height\": 200,\n",
    "  \"data\": {\"url\": \"https://raw.githubusercontent.com/vega/vega-datasets/refs/heads/master/data/unemployment-across-industries.json\"},\n",
    "  \"mark\": \"area\",\n",
    "  \"encoding\": {\n",
    "    \"x\": {\n",
    "      \"timeUnit\": \"yearmonth\", \"field\": \"date\",\n",
    "      \"axis\": {\"format\": \"%Y\"}\n",
    "    },\n",
    "    \"y\": {\n",
    "      \"aggregate\": \"sum\", \"field\": \"count\"\n",
    "    },\n",
    "    \"color\": {\n",
    "      \"field\": \"series\",\n",
    "      \"scale\": {\"scheme\": \"category20b\"}\n",
    "    }\n",
    "  }\n",
    "})\n",
    "\n",
    "chart1"
   ]
  },
  {
   "cell_type": "code",
   "execution_count": null,
   "id": "f1cc44cc-e0d5-4e36-93f7-f3ba19e48687",
   "metadata": {},
   "outputs": [],
   "source": []
  }
 ],
 "metadata": {
  "kernelspec": {
   "display_name": "Python 3 (ipykernel)",
   "language": "python",
   "name": "python3"
  },
  "language_info": {
   "codemirror_mode": {
    "name": "ipython",
    "version": 3
   },
   "file_extension": ".py",
   "mimetype": "text/x-python",
   "name": "python",
   "nbconvert_exporter": "python",
   "pygments_lexer": "ipython3",
   "version": "3.10.14"
  }
 },
 "nbformat": 4,
 "nbformat_minor": 5
}
