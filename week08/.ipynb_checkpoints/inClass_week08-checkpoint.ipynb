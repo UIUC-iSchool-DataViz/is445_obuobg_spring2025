{
 "cells": [
  {
   "cell_type": "markdown",
   "id": "respective-store",
   "metadata": {},
   "source": [
    "# In Class Notebook, Week 08"
   ]
  },
  {
   "cell_type": "markdown",
   "id": "patent-merit",
   "metadata": {},
   "source": [
    "To access this in near-real time try: https://github.com/UIUC-iSchool-DataViz/is445_obuobg_spring2025/blob/master/week08/inClass_week08.ipynb\n",
    "\n",
    "Or paste this URL into the nbviewer interface for a plain-text rendering:\n",
    "\n",
    "https://kokes.github.io/nbviewer.js/viewer.html"
   ]
  },
  {
   "cell_type": "markdown",
   "id": "8b4b605c-5467-42c2-b0ea-2a956a607347",
   "metadata": {},
   "source": [
    "First we will start with the vega-editor and then come back here!"
   ]
  },
  {
   "cell_type": "markdown",
   "id": "79a74cac-d6f4-4593-bfca-99dba89578cf",
   "metadata": {},
   "source": [
    "## Copying from Vega-Editor (but using Altair)\n",
    "\n",
    "```javascript\n",
    "{\n",
    "  \"$schema\": \"https://vega.github.io/schema/vega-lite/v5.json\",\n",
    "  \"width\": 300, \"height\": 200,\n",
    "  \"data\": {\"url\": \"data/unemployment-across-industries.json\"},\n",
    "  \"mark\": \"area\",\n",
    "  \"encoding\": {\n",
    "    \"x\": {\n",
    "      \"timeUnit\": \"yearmonth\", \"field\": \"date\",\n",
    "      \"axis\": {\"format\": \"%Y\"}\n",
    "    },\n",
    "    \"y\": {\n",
    "      \"aggregate\": \"sum\", \"field\": \"count\"\n",
    "    },\n",
    "    \"color\": {\n",
    "      \"field\": \"series\",\n",
    "      \"scale\": {\"scheme\": \"category20b\"}\n",
    "    }\n",
    "  }\n",
    "}\n",
    "```"
   ]
  },
  {
   "cell_type": "code",
   "execution_count": 1,
   "id": "b0aa79ad",
   "metadata": {},
   "outputs": [],
   "source": [
    "import altair as alt"
   ]
  },
  {
   "cell_type": "code",
   "execution_count": 4,
   "id": "169116fc",
   "metadata": {},
   "outputs": [
    {
     "data": {
      "text/html": [
       "\n",
       "<style>\n",
       "  #altair-viz-ab7e9b7edbde42118a6751e1b853b4f1.vega-embed {\n",
       "    width: 100%;\n",
       "    display: flex;\n",
       "  }\n",
       "\n",
       "  #altair-viz-ab7e9b7edbde42118a6751e1b853b4f1.vega-embed details,\n",
       "  #altair-viz-ab7e9b7edbde42118a6751e1b853b4f1.vega-embed details summary {\n",
       "    position: relative;\n",
       "  }\n",
       "</style>\n",
       "<div id=\"altair-viz-ab7e9b7edbde42118a6751e1b853b4f1\"></div>\n",
       "<script type=\"text/javascript\">\n",
       "  var VEGA_DEBUG = (typeof VEGA_DEBUG == \"undefined\") ? {} : VEGA_DEBUG;\n",
       "  (function(spec, embedOpt){\n",
       "    let outputDiv = document.currentScript.previousElementSibling;\n",
       "    if (outputDiv.id !== \"altair-viz-ab7e9b7edbde42118a6751e1b853b4f1\") {\n",
       "      outputDiv = document.getElementById(\"altair-viz-ab7e9b7edbde42118a6751e1b853b4f1\");\n",
       "    }\n",
       "    const paths = {\n",
       "      \"vega\": \"https://cdn.jsdelivr.net/npm/vega@5?noext\",\n",
       "      \"vega-lib\": \"https://cdn.jsdelivr.net/npm/vega-lib?noext\",\n",
       "      \"vega-lite\": \"https://cdn.jsdelivr.net/npm/vega-lite@5.20.1?noext\",\n",
       "      \"vega-embed\": \"https://cdn.jsdelivr.net/npm/vega-embed@6?noext\",\n",
       "    };\n",
       "\n",
       "    function maybeLoadScript(lib, version) {\n",
       "      var key = `${lib.replace(\"-\", \"\")}_version`;\n",
       "      return (VEGA_DEBUG[key] == version) ?\n",
       "        Promise.resolve(paths[lib]) :\n",
       "        new Promise(function(resolve, reject) {\n",
       "          var s = document.createElement('script');\n",
       "          document.getElementsByTagName(\"head\")[0].appendChild(s);\n",
       "          s.async = true;\n",
       "          s.onload = () => {\n",
       "            VEGA_DEBUG[key] = version;\n",
       "            return resolve(paths[lib]);\n",
       "          };\n",
       "          s.onerror = () => reject(`Error loading script: ${paths[lib]}`);\n",
       "          s.src = paths[lib];\n",
       "        });\n",
       "    }\n",
       "\n",
       "    function showError(err) {\n",
       "      outputDiv.innerHTML = `<div class=\"error\" style=\"color:red;\">${err}</div>`;\n",
       "      throw err;\n",
       "    }\n",
       "\n",
       "    function displayChart(vegaEmbed) {\n",
       "      vegaEmbed(outputDiv, spec, embedOpt)\n",
       "        .catch(err => showError(`Javascript Error: ${err.message}<br>This usually means there's a typo in your chart specification. See the javascript console for the full traceback.`));\n",
       "    }\n",
       "\n",
       "    if(typeof define === \"function\" && define.amd) {\n",
       "      requirejs.config({paths});\n",
       "      require([\"vega-embed\"], displayChart, err => showError(`Error loading script: ${err.message}`));\n",
       "    } else {\n",
       "      maybeLoadScript(\"vega\", \"5\")\n",
       "        .then(() => maybeLoadScript(\"vega-lite\", \"5.20.1\"))\n",
       "        .then(() => maybeLoadScript(\"vega-embed\", \"6\"))\n",
       "        .catch(showError)\n",
       "        .then(() => displayChart(vegaEmbed));\n",
       "    }\n",
       "  })({\"config\": {\"view\": {\"continuousWidth\": 300, \"continuousHeight\": 300}}, \"data\": {\"url\": \"https://raw.githubusercontent.com/vega/vega-datasets/refs/heads/master/data/unemployment-across-industries.json\"}, \"mark\": \"area\", \"encoding\": {\"color\": {\"field\": \"series\", \"scale\": {\"scheme\": \"category20b\"}}, \"x\": {\"axis\": {\"format\": \"%Y\"}, \"field\": \"date\", \"timeUnit\": \"yearmonth\"}, \"y\": {\"aggregate\": \"sum\", \"field\": \"count\"}}, \"height\": 200, \"width\": 300, \"$schema\": \"https://vega.github.io/schema/vega-lite/v5.20.1.json\"}, {\"mode\": \"vega-lite\"});\n",
       "</script>"
      ],
      "text/plain": [
       "alt.Chart(...)"
      ]
     },
     "execution_count": 4,
     "metadata": {},
     "output_type": "execute_result"
    }
   ],
   "source": [
    "chart1 = alt.Chart.from_dict({\n",
    "  #\"$schema\": \"https://vega.github.io/schema/vega-lite/v5.json\",\n",
    "  \"width\": 300, \"height\": 200,\n",
    "  \"data\": {\"url\": \"https://raw.githubusercontent.com/vega/vega-datasets/refs/heads/master/data/unemployment-across-industries.json\"},\n",
    "  \"mark\": \"area\",\n",
    "  \"encoding\": {\n",
    "    \"x\": {\n",
    "      \"timeUnit\": \"yearmonth\", \"field\": \"date\",\n",
    "      \"axis\": {\"format\": \"%Y\"}\n",
    "    },\n",
    "    \"y\": {\n",
    "      \"aggregate\": \"sum\", \"field\": \"count\"\n",
    "    },\n",
    "    \"color\": {\n",
    "      \"field\": \"series\",\n",
    "      \"scale\": {\"scheme\": \"category20b\"}\n",
    "    }\n",
    "  }\n",
    "})\n",
    "\n",
    "chart1"
   ]
  },
  {
   "cell_type": "markdown",
   "id": "00bbf411-77ed-4a00-88f5-7fd179c01244",
   "metadata": {},
   "source": [
    "## Dashboards in Altair (through vega-lite)"
   ]
  },
  {
   "cell_type": "code",
   "execution_count": 5,
   "id": "ed04d033-4201-4e9e-a725-70f3a8b0c3cd",
   "metadata": {},
   "outputs": [],
   "source": [
    "import pandas as pd"
   ]
  },
  {
   "cell_type": "code",
   "execution_count": 6,
   "id": "23247e3c-9073-47f4-82fe-1916278256de",
   "metadata": {},
   "outputs": [],
   "source": [
    "df = pd.read_csv('https://raw.githubusercontent.com/UIUC-iSchool-DataViz/is445_data/main/mobility.csv')"
   ]
  },
  {
   "cell_type": "code",
   "execution_count": 7,
   "id": "394625b9-2c1d-469d-bf0c-c816b09ed85f",
   "metadata": {},
   "outputs": [
    {
     "data": {
      "text/html": [
       "<div>\n",
       "<style scoped>\n",
       "    .dataframe tbody tr th:only-of-type {\n",
       "        vertical-align: middle;\n",
       "    }\n",
       "\n",
       "    .dataframe tbody tr th {\n",
       "        vertical-align: top;\n",
       "    }\n",
       "\n",
       "    .dataframe thead th {\n",
       "        text-align: right;\n",
       "    }\n",
       "</style>\n",
       "<table border=\"1\" class=\"dataframe\">\n",
       "  <thead>\n",
       "    <tr style=\"text-align: right;\">\n",
       "      <th></th>\n",
       "      <th>ID</th>\n",
       "      <th>Name</th>\n",
       "      <th>Mobility</th>\n",
       "      <th>State</th>\n",
       "      <th>Population</th>\n",
       "      <th>Urban</th>\n",
       "      <th>Black</th>\n",
       "      <th>Seg_racial</th>\n",
       "      <th>Seg_income</th>\n",
       "      <th>Seg_poverty</th>\n",
       "      <th>...</th>\n",
       "      <th>Migration_out</th>\n",
       "      <th>Foreign_born</th>\n",
       "      <th>Social_capital</th>\n",
       "      <th>Religious</th>\n",
       "      <th>Violent_crime</th>\n",
       "      <th>Single_mothers</th>\n",
       "      <th>Divorced</th>\n",
       "      <th>Married</th>\n",
       "      <th>Longitude</th>\n",
       "      <th>Latitude</th>\n",
       "    </tr>\n",
       "  </thead>\n",
       "  <tbody>\n",
       "    <tr>\n",
       "      <th>0</th>\n",
       "      <td>100</td>\n",
       "      <td>Johnson City</td>\n",
       "      <td>0.062199</td>\n",
       "      <td>TN</td>\n",
       "      <td>576081</td>\n",
       "      <td>1</td>\n",
       "      <td>0.021</td>\n",
       "      <td>0.090</td>\n",
       "      <td>0.035</td>\n",
       "      <td>0.030</td>\n",
       "      <td>...</td>\n",
       "      <td>0.005</td>\n",
       "      <td>0.012</td>\n",
       "      <td>-0.298</td>\n",
       "      <td>0.514</td>\n",
       "      <td>0.001</td>\n",
       "      <td>0.190</td>\n",
       "      <td>0.110</td>\n",
       "      <td>0.601</td>\n",
       "      <td>-82.436386</td>\n",
       "      <td>36.470371</td>\n",
       "    </tr>\n",
       "    <tr>\n",
       "      <th>1</th>\n",
       "      <td>200</td>\n",
       "      <td>Morristown</td>\n",
       "      <td>0.053652</td>\n",
       "      <td>TN</td>\n",
       "      <td>227816</td>\n",
       "      <td>1</td>\n",
       "      <td>0.020</td>\n",
       "      <td>0.093</td>\n",
       "      <td>0.026</td>\n",
       "      <td>0.028</td>\n",
       "      <td>...</td>\n",
       "      <td>0.014</td>\n",
       "      <td>0.023</td>\n",
       "      <td>-0.767</td>\n",
       "      <td>0.544</td>\n",
       "      <td>0.002</td>\n",
       "      <td>0.185</td>\n",
       "      <td>0.116</td>\n",
       "      <td>0.613</td>\n",
       "      <td>-83.407249</td>\n",
       "      <td>36.096539</td>\n",
       "    </tr>\n",
       "    <tr>\n",
       "      <th>2</th>\n",
       "      <td>301</td>\n",
       "      <td>Middlesborough</td>\n",
       "      <td>0.072635</td>\n",
       "      <td>TN</td>\n",
       "      <td>66708</td>\n",
       "      <td>0</td>\n",
       "      <td>0.015</td>\n",
       "      <td>0.064</td>\n",
       "      <td>0.024</td>\n",
       "      <td>0.015</td>\n",
       "      <td>...</td>\n",
       "      <td>0.012</td>\n",
       "      <td>0.007</td>\n",
       "      <td>-1.270</td>\n",
       "      <td>0.668</td>\n",
       "      <td>0.001</td>\n",
       "      <td>0.211</td>\n",
       "      <td>0.113</td>\n",
       "      <td>0.590</td>\n",
       "      <td>-83.535332</td>\n",
       "      <td>36.551540</td>\n",
       "    </tr>\n",
       "    <tr>\n",
       "      <th>3</th>\n",
       "      <td>302</td>\n",
       "      <td>Knoxville</td>\n",
       "      <td>0.056281</td>\n",
       "      <td>TN</td>\n",
       "      <td>727600</td>\n",
       "      <td>1</td>\n",
       "      <td>0.056</td>\n",
       "      <td>0.210</td>\n",
       "      <td>0.092</td>\n",
       "      <td>0.084</td>\n",
       "      <td>...</td>\n",
       "      <td>0.014</td>\n",
       "      <td>0.020</td>\n",
       "      <td>-0.222</td>\n",
       "      <td>0.602</td>\n",
       "      <td>0.001</td>\n",
       "      <td>0.206</td>\n",
       "      <td>0.114</td>\n",
       "      <td>0.575</td>\n",
       "      <td>-84.242790</td>\n",
       "      <td>35.952259</td>\n",
       "    </tr>\n",
       "    <tr>\n",
       "      <th>4</th>\n",
       "      <td>401</td>\n",
       "      <td>Winston-Salem</td>\n",
       "      <td>0.044801</td>\n",
       "      <td>NC</td>\n",
       "      <td>493180</td>\n",
       "      <td>1</td>\n",
       "      <td>0.174</td>\n",
       "      <td>0.262</td>\n",
       "      <td>0.072</td>\n",
       "      <td>0.061</td>\n",
       "      <td>...</td>\n",
       "      <td>0.019</td>\n",
       "      <td>0.053</td>\n",
       "      <td>-0.018</td>\n",
       "      <td>0.488</td>\n",
       "      <td>0.003</td>\n",
       "      <td>0.220</td>\n",
       "      <td>0.092</td>\n",
       "      <td>0.586</td>\n",
       "      <td>-80.505333</td>\n",
       "      <td>36.081276</td>\n",
       "    </tr>\n",
       "  </tbody>\n",
       "</table>\n",
       "<p>5 rows × 43 columns</p>\n",
       "</div>"
      ],
      "text/plain": [
       "    ID            Name  Mobility State  Population  Urban  Black  Seg_racial  \\\n",
       "0  100    Johnson City  0.062199    TN      576081      1  0.021       0.090   \n",
       "1  200      Morristown  0.053652    TN      227816      1  0.020       0.093   \n",
       "2  301  Middlesborough  0.072635    TN       66708      0  0.015       0.064   \n",
       "3  302       Knoxville  0.056281    TN      727600      1  0.056       0.210   \n",
       "4  401   Winston-Salem  0.044801    NC      493180      1  0.174       0.262   \n",
       "\n",
       "   Seg_income  Seg_poverty  ...  Migration_out  Foreign_born  Social_capital  \\\n",
       "0       0.035        0.030  ...          0.005         0.012          -0.298   \n",
       "1       0.026        0.028  ...          0.014         0.023          -0.767   \n",
       "2       0.024        0.015  ...          0.012         0.007          -1.270   \n",
       "3       0.092        0.084  ...          0.014         0.020          -0.222   \n",
       "4       0.072        0.061  ...          0.019         0.053          -0.018   \n",
       "\n",
       "   Religious  Violent_crime  Single_mothers  Divorced  Married  Longitude  \\\n",
       "0      0.514          0.001           0.190     0.110    0.601 -82.436386   \n",
       "1      0.544          0.002           0.185     0.116    0.613 -83.407249   \n",
       "2      0.668          0.001           0.211     0.113    0.590 -83.535332   \n",
       "3      0.602          0.001           0.206     0.114    0.575 -84.242790   \n",
       "4      0.488          0.003           0.220     0.092    0.586 -80.505333   \n",
       "\n",
       "    Latitude  \n",
       "0  36.470371  \n",
       "1  36.096539  \n",
       "2  36.551540  \n",
       "3  35.952259  \n",
       "4  36.081276  \n",
       "\n",
       "[5 rows x 43 columns]"
      ]
     },
     "execution_count": 7,
     "metadata": {},
     "output_type": "execute_result"
    }
   ],
   "source": [
    "df.head()"
   ]
  },
  {
   "cell_type": "code",
   "execution_count": 8,
   "id": "ed0b3254-0c11-498e-ad40-f5e901f0a646",
   "metadata": {},
   "outputs": [
    {
     "data": {
      "text/plain": [
       "Index(['ID', 'Name', 'Mobility', 'State', 'Population', 'Urban', 'Black',\n",
       "       'Seg_racial', 'Seg_income', 'Seg_poverty', 'Seg_affluence', 'Commute',\n",
       "       'Income', 'Gini', 'Share01', 'Gini_99', 'Middle_class',\n",
       "       'Local_tax_rate', 'Local_gov_spending', 'Progressivity', 'EITC',\n",
       "       'School_spending', 'Student_teacher_ratio', 'Test_scores', 'HS_dropout',\n",
       "       'Colleges', 'Tuition', 'Graduation', 'Labor_force_participation',\n",
       "       'Manufacturing', 'Chinese_imports', 'Teenage_labor', 'Migration_in',\n",
       "       'Migration_out', 'Foreign_born', 'Social_capital', 'Religious',\n",
       "       'Violent_crime', 'Single_mothers', 'Divorced', 'Married', 'Longitude',\n",
       "       'Latitude'],\n",
       "      dtype='object')"
      ]
     },
     "execution_count": 8,
     "metadata": {},
     "output_type": "execute_result"
    }
   ],
   "source": [
    "df.columns"
   ]
  },
  {
   "cell_type": "markdown",
   "id": "4a5b2367-622e-446b-aa84-e07669fb6161",
   "metadata": {},
   "source": [
    "What we want is a dashboard with:\n",
    "1. On the \"driver\" left side plot a heatmap of State (y-axis) and Student-to-teacher ratio (x-axis)\n",
    "2. On the responder right side plot we want a histogram of Mobility score"
   ]
  },
  {
   "cell_type": "code",
   "execution_count": 9,
   "id": "ce035afa-3db1-4168-b684-d5fbfc577adf",
   "metadata": {},
   "outputs": [
    {
     "data": {
      "text/plain": [
       "<AxesSubplot:ylabel='Frequency'>"
      ]
     },
     "execution_count": 9,
     "metadata": {},
     "output_type": "execute_result"
    },
    {
     "data": {
      "image/png": "[encoded data removed]",
      "text/plain": [
       "<Figure size 640x480 with 1 Axes>"
      ]
     },
     "metadata": {},
     "output_type": "display_data"
    }
   ],
   "source": [
    "df['Mobility'].plot(kind='hist')"
   ]
  },
  {
   "cell_type": "code",
   "execution_count": null,
   "id": "75e3b0e6-8d9c-4a65-a55e-3e4aed8e261e",
   "metadata": {},
   "outputs": [],
   "source": []
  }
 ],
 "metadata": {
  "kernelspec": {
   "display_name": "Python 3 (ipykernel)",
   "language": "python",
   "name": "python3"
  },
  "language_info": {
   "codemirror_mode": {
    "name": "ipython",
    "version": 3
   },
   "file_extension": ".py",
   "mimetype": "text/x-python",
   "name": "python",
   "nbconvert_exporter": "python",
   "pygments_lexer": "ipython3",
   "version": "3.10.14"
  }
 },
 "nbformat": 4,
 "nbformat_minor": 5
}
