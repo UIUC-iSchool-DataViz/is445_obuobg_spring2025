{
 "cells": [
  {
   "cell_type": "markdown",
   "id": "respective-store",
   "metadata": {},
   "source": [
    "# In Class Notebook, Week 03"
   ]
  },
  {
   "cell_type": "markdown",
   "id": "patent-merit",
   "metadata": {},
   "source": [
    "To access this in near-real time try: https://github.com/UIUC-iSchool-DataViz/is445_obuobg_spring2025/blob/master/week03/inClass_week03.ipynb\n",
    "\n",
    "Or paste this URL into the nbviewer interface for a plain-text rendering:\n",
    "\n",
    "https://kokes.github.io/nbviewer.js/viewer.html"
   ]
  },
  {
   "cell_type": "code",
   "execution_count": 1,
   "id": "70c483d7",
   "metadata": {},
   "outputs": [],
   "source": [
    "import matplotlib.pyplot as plt"
   ]
  },
  {
   "cell_type": "code",
   "execution_count": 2,
   "id": "f1e75efd",
   "metadata": {},
   "outputs": [],
   "source": [
    "import PIL.Image as Image # only use the Image function"
   ]
  },
  {
   "cell_type": "markdown",
   "id": "9276bad2-b2ef-4994-baee-77e4fa45635c",
   "metadata": {},
   "source": [
    "The below should work if you are working on the notebooks on PL.\n",
    "\n",
    "Added this cell with `ESC+a` and then turned it into Markdown with `ESC+m`"
   ]
  },
  {
   "cell_type": "code",
   "execution_count": 5,
   "id": "ba6db112",
   "metadata": {},
   "outputs": [],
   "source": [
    "#!wget https://github.com/UIUC-iSchool-DataViz/is445_data/raw/main/stitch_reworked.png"
   ]
  },
  {
   "cell_type": "code",
   "execution_count": 9,
   "id": "de389f45-6dd6-46d5-b2f5-1141f6645a78",
   "metadata": {},
   "outputs": [],
   "source": [
    "#!ls"
   ]
  },
  {
   "cell_type": "code",
   "execution_count": 7,
   "id": "87dc71f1-5292-4dec-8706-533d2e6db3f6",
   "metadata": {},
   "outputs": [],
   "source": [
    "#!mv ~/Downloads/stitch_reworked.png ."
   ]
  },
  {
   "cell_type": "code",
   "execution_count": 10,
   "id": "37fc5f3f-d599-4eae-b4c0-f5cdfd225dff",
   "metadata": {},
   "outputs": [],
   "source": [
    "im = Image.open('stitch_reworked.png')"
   ]
  },
  {
   "cell_type": "code",
   "execution_count": 12,
   "id": "651521c6-718d-4f87-b6ad-5531e3d1402a",
   "metadata": {},
   "outputs": [
    {
     "data": {
      "image/png": "[encoded data removed]",
      "text/plain": [
       "<PIL.PngImagePlugin.PngImageFile image mode=RGBA size=430x483>"
      ]
     },
     "execution_count": 12,
     "metadata": {},
     "output_type": "execute_result"
    }
   ],
   "source": [
    "im"
   ]
  },
  {
   "cell_type": "code",
   "execution_count": 13,
   "id": "f38a0c84-7305-4496-ae3e-f9ac75be1a3c",
   "metadata": {},
   "outputs": [
    {
     "data": {
      "text/plain": [
       "PIL.PngImagePlugin.PngImageFile"
      ]
     },
     "execution_count": 13,
     "metadata": {},
     "output_type": "execute_result"
    }
   ],
   "source": [
    "type(im)"
   ]
  },
  {
   "cell_type": "code",
   "execution_count": 14,
   "id": "2f05a981-63ed-4357-8471-08cefb81915e",
   "metadata": {},
   "outputs": [],
   "source": [
    "# turn the image from the PIL format into a \"data\" format\n",
    "# do this with the numpy package\n",
    "import numpy as np"
   ]
  },
  {
   "cell_type": "code",
   "execution_count": 15,
   "id": "f0da760c-2ff2-47fb-8bfe-e982afa152ce",
   "metadata": {},
   "outputs": [],
   "source": [
    "im_data = np.array(im)"
   ]
  },
  {
   "cell_type": "code",
   "execution_count": 17,
   "id": "e2802eac-df5e-498d-bd07-46d347a1b635",
   "metadata": {},
   "outputs": [
    {
     "data": {
      "text/plain": [
       "(483, 430, 4)"
      ]
     },
     "execution_count": 17,
     "metadata": {},
     "output_type": "execute_result"
    }
   ],
   "source": [
    "#im_data # prints out a long list of numbers\n",
    "im_data.shape"
   ]
  },
  {
   "cell_type": "code",
   "execution_count": null,
   "id": "aad07fd5-8b81-4ffd-b511-428c341265c6",
   "metadata": {},
   "outputs": [],
   "source": []
  }
 ],
 "metadata": {
  "kernelspec": {
   "display_name": "Python 3 (ipykernel)",
   "language": "python",
   "name": "python3"
  },
  "language_info": {
   "codemirror_mode": {
    "name": "ipython",
    "version": 3
   },
   "file_extension": ".py",
   "mimetype": "text/x-python",
   "name": "python",
   "nbconvert_exporter": "python",
   "pygments_lexer": "ipython3",
   "version": "3.10.14"
  }
 },
 "nbformat": 4,
 "nbformat_minor": 5
}
